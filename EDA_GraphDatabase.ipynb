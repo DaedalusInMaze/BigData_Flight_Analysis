{
 "cells": [
  {
   "cell_type": "code",
   "execution_count": 1,
   "metadata": {},
   "outputs": [],
   "source": [
    "from pyspark.sql import SparkSession\n",
    "from pyspark.sql import functions as F\n",
    "\n",
    "import matplotlib.pyplot as plt\n",
    "%matplotlib inline"
   ]
  },
  {
   "cell_type": "code",
   "execution_count": 2,
   "metadata": {},
   "outputs": [],
   "source": [
    "#create Spark session\n",
    "spark = SparkSession.builder.appName('eda').getOrCreate()\n"
   ]
  },
  {
   "cell_type": "code",
   "execution_count": 3,
   "metadata": {},
   "outputs": [],
   "source": [
    "df = spark.read.csv(\"/user/shengyan/project/air.csv\",inferSchema=True, header=True )"
   ]
  },
  {
   "cell_type": "markdown",
   "metadata": {},
   "source": [
    "### Data Overview"
   ]
  },
  {
   "cell_type": "code",
   "execution_count": 4,
   "metadata": {
    "scrolled": true
   },
   "outputs": [
    {
     "name": "stdout",
     "output_type": "stream",
     "text": [
      "+----+-----+----------+---------+-------+----------+-------+----------+-------------+---------+-------+-----------------+--------------+-------+--------+--------+------+----+--------+------+-------+---------+----------------+--------+------------+------------+--------+-------------+-----------------+\n",
      "|Year|Month|DayofMonth|DayOfWeek|DepTime|CRSDepTime|ArrTime|CRSArrTime|UniqueCarrier|FlightNum|TailNum|ActualElapsedTime|CRSElapsedTime|AirTime|ArrDelay|DepDelay|Origin|Dest|Distance|TaxiIn|TaxiOut|Cancelled|CancellationCode|Diverted|CarrierDelay|WeatherDelay|NASDelay|SecurityDelay|LateAircraftDelay|\n",
      "+----+-----+----------+---------+-------+----------+-------+----------+-------------+---------+-------+-----------------+--------------+-------+--------+--------+------+----+--------+------+-------+---------+----------------+--------+------------+------------+--------+-------------+-----------------+\n",
      "|1987|   10|        14|        3|  741.0|       730|  912.0|       849|           PS|     1451|   null|             91.0|          79.0|   null|    23.0|    11.0|   SAN| SFO|   447.0|  null|   null|      0.0|            null|     0.0|        null|        null|    null|         null|             null|\n",
      "|1987|   10|        15|        4|  729.0|       730|  903.0|       849|           PS|     1451|   null|             94.0|          79.0|   null|    14.0|    -1.0|   SAN| SFO|   447.0|  null|   null|      0.0|            null|     0.0|        null|        null|    null|         null|             null|\n",
      "|1987|   10|        17|        6|  741.0|       730|  918.0|       849|           PS|     1451|   null|             97.0|          79.0|   null|    29.0|    11.0|   SAN| SFO|   447.0|  null|   null|      0.0|            null|     0.0|        null|        null|    null|         null|             null|\n",
      "|1987|   10|        18|        7|  729.0|       730|  847.0|       849|           PS|     1451|   null|             78.0|          79.0|   null|    -2.0|    -1.0|   SAN| SFO|   447.0|  null|   null|      0.0|            null|     0.0|        null|        null|    null|         null|             null|\n",
      "|1987|   10|        19|        1|  749.0|       730|  922.0|       849|           PS|     1451|   null|             93.0|          79.0|   null|    33.0|    19.0|   SAN| SFO|   447.0|  null|   null|      0.0|            null|     0.0|        null|        null|    null|         null|             null|\n",
      "|1987|   10|        21|        3|  728.0|       730|  848.0|       849|           PS|     1451|   null|             80.0|          79.0|   null|    -1.0|    -2.0|   SAN| SFO|   447.0|  null|   null|      0.0|            null|     0.0|        null|        null|    null|         null|             null|\n",
      "|1987|   10|        22|        4|  728.0|       730|  852.0|       849|           PS|     1451|   null|             84.0|          79.0|   null|     3.0|    -2.0|   SAN| SFO|   447.0|  null|   null|      0.0|            null|     0.0|        null|        null|    null|         null|             null|\n",
      "|1987|   10|        23|        5|  731.0|       730|  902.0|       849|           PS|     1451|   null|             91.0|          79.0|   null|    13.0|     1.0|   SAN| SFO|   447.0|  null|   null|      0.0|            null|     0.0|        null|        null|    null|         null|             null|\n",
      "|1987|   10|        24|        6|  744.0|       730|  908.0|       849|           PS|     1451|   null|             84.0|          79.0|   null|    19.0|    14.0|   SAN| SFO|   447.0|  null|   null|      0.0|            null|     0.0|        null|        null|    null|         null|             null|\n",
      "|1987|   10|        25|        7|  729.0|       730|  851.0|       849|           PS|     1451|   null|             82.0|          79.0|   null|     2.0|    -1.0|   SAN| SFO|   447.0|  null|   null|      0.0|            null|     0.0|        null|        null|    null|         null|             null|\n",
      "+----+-----+----------+---------+-------+----------+-------+----------+-------------+---------+-------+-----------------+--------------+-------+--------+--------+------+----+--------+------+-------+---------+----------------+--------+------------+------------+--------+-------------+-----------------+\n",
      "only showing top 10 rows\n",
      "\n"
     ]
    }
   ],
   "source": [
    "df.show(10)\n"
   ]
  },
  {
   "cell_type": "code",
   "execution_count": 5,
   "metadata": {},
   "outputs": [
    {
     "data": {
      "text/plain": [
       "DataFrame[summary: string, Year: string, Month: string, DayofMonth: string, DayOfWeek: string, DepTime: string, CRSDepTime: string, ArrTime: string, CRSArrTime: string, UniqueCarrier: string, FlightNum: string, TailNum: string, ActualElapsedTime: string, CRSElapsedTime: string, AirTime: string, ArrDelay: string, DepDelay: string, Origin: string, Dest: string, Distance: string, TaxiIn: string, TaxiOut: string, Cancelled: string, CancellationCode: string, Diverted: string, CarrierDelay: string, WeatherDelay: string, NASDelay: string, SecurityDelay: string, LateAircraftDelay: string]"
      ]
     },
     "execution_count": 5,
     "metadata": {},
     "output_type": "execute_result"
    }
   ],
   "source": [
    "df.summary()"
   ]
  },
  {
   "cell_type": "code",
   "execution_count": 6,
   "metadata": {},
   "outputs": [
    {
     "data": {
      "text/plain": [
       "[('Year', 'int'),\n",
       " ('Month', 'int'),\n",
       " ('DayofMonth', 'int'),\n",
       " ('DayOfWeek', 'int'),\n",
       " ('DepTime', 'double'),\n",
       " ('CRSDepTime', 'int'),\n",
       " ('ArrTime', 'double'),\n",
       " ('CRSArrTime', 'int'),\n",
       " ('UniqueCarrier', 'string'),\n",
       " ('FlightNum', 'int'),\n",
       " ('TailNum', 'string'),\n",
       " ('ActualElapsedTime', 'double'),\n",
       " ('CRSElapsedTime', 'double'),\n",
       " ('AirTime', 'double'),\n",
       " ('ArrDelay', 'double'),\n",
       " ('DepDelay', 'string'),\n",
       " ('Origin', 'string'),\n",
       " ('Dest', 'string'),\n",
       " ('Distance', 'double'),\n",
       " ('TaxiIn', 'double'),\n",
       " ('TaxiOut', 'double'),\n",
       " ('Cancelled', 'double'),\n",
       " ('CancellationCode', 'string'),\n",
       " ('Diverted', 'double'),\n",
       " ('CarrierDelay', 'double'),\n",
       " ('WeatherDelay', 'double'),\n",
       " ('NASDelay', 'double'),\n",
       " ('SecurityDelay', 'double'),\n",
       " ('LateAircraftDelay', 'double')]"
      ]
     },
     "execution_count": 6,
     "metadata": {},
     "output_type": "execute_result"
    }
   ],
   "source": [
    "df.dtypes\n"
   ]
  },
  {
   "cell_type": "markdown",
   "metadata": {},
   "source": [
    "### Data Manipulation"
   ]
  },
  {
   "cell_type": "code",
   "execution_count": 7,
   "metadata": {},
   "outputs": [],
   "source": [
    "df2=df.filter(F.col(\"Origin\").cast(\"int\").isNull())"
   ]
  },
  {
   "cell_type": "code",
   "execution_count": 8,
   "metadata": {},
   "outputs": [
    {
     "name": "stdout",
     "output_type": "stream",
     "text": [
      "+------+-------+\n",
      "|Origin|  count|\n",
      "+------+-------+\n",
      "|   ORD|6598724|\n",
      "|   ATL|6100880|\n",
      "|   DFW|5711959|\n",
      "|   LAX|4089229|\n",
      "|   PHX|3491232|\n",
      "|   DEN|3320115|\n",
      "|   DTW|2979146|\n",
      "|   IAH|2884647|\n",
      "|   MSP|2754884|\n",
      "|   SFO|2734052|\n",
      "|   STL|2709179|\n",
      "|   EWR|2706895|\n",
      "|   LAS|2630917|\n",
      "|   CLT|2546154|\n",
      "|   LGA|2296746|\n",
      "|   BOS|2291010|\n",
      "|   PHL|2165067|\n",
      "|   PIT|2072518|\n",
      "|   SLC|2003182|\n",
      "|   SEA|1983870|\n",
      "|   MCO|1967351|\n",
      "|   CVG|1923279|\n",
      "|   DCA|1832692|\n",
      "|   BWI|1717311|\n",
      "|   SAN|1546648|\n",
      "|   MIA|1448340|\n",
      "|   CLE|1415858|\n",
      "|   IAD|1336890|\n",
      "|   JFK|1327863|\n",
      "|   TPA|1321595|\n",
      "|   MEM|1206781|\n",
      "|   HOU|1205835|\n",
      "|   BNA|1175095|\n",
      "|   MCI|1174398|\n",
      "|   MDW|1170329|\n",
      "|   OAK|1160765|\n",
      "|   SJC|1108090|\n",
      "|   PDX|1054643|\n",
      "|   RDU|1036676|\n",
      "|   FLL|1013176|\n",
      "|   MSY| 955329|\n",
      "|   DAL| 952359|\n",
      "|   IND| 824800|\n",
      "|   SNA| 822058|\n",
      "|   SMF| 813826|\n",
      "|   SAT| 809777|\n",
      "|   AUS| 803545|\n",
      "|   ONT| 774645|\n",
      "|   ABQ| 760298|\n",
      "|   CMH| 759315|\n",
      "|   BDL| 650889|\n",
      "|   BUR| 580987|\n",
      "|   PBI| 532339|\n",
      "|   JAX| 520304|\n",
      "|   ELP| 513665|\n",
      "|   HNL| 510805|\n",
      "|   RNO| 510008|\n",
      "|   BUF| 489572|\n",
      "|   OKC| 483418|\n",
      "|   TUL| 471064|\n",
      "|   SDF| 461615|\n",
      "|   SJU| 460964|\n",
      "|   MKE| 446661|\n",
      "|   PVD| 442440|\n",
      "|   ORF| 433216|\n",
      "|   TUS| 413981|\n",
      "|   OMA| 407131|\n",
      "|   BHM| 406542|\n",
      "|   RSW| 398172|\n",
      "|   ANC| 395392|\n",
      "|   GSO| 386396|\n",
      "|   DAY| 380431|\n",
      "|   ROC| 368046|\n",
      "|   RIC| 358639|\n",
      "|   SYR| 337096|\n",
      "|   LIT| 330119|\n",
      "|   ALB| 292770|\n",
      "|   COS| 268424|\n",
      "|   GEG| 263176|\n",
      "|   GRR| 242279|\n",
      "|   MHT| 240223|\n",
      "|   BOI| 237588|\n",
      "|   DSM| 224014|\n",
      "|   CHS| 222491|\n",
      "|   ICT| 210172|\n",
      "|   GSP| 200133|\n",
      "|   TYS| 199813|\n",
      "|   JAN| 190024|\n",
      "|   SAV| 185839|\n",
      "|   LBB| 173338|\n",
      "|   CAE| 167814|\n",
      "|   MDT| 167277|\n",
      "|   SRQ| 167055|\n",
      "|   OGG| 164458|\n",
      "|   PWM| 161570|\n",
      "|   HSV| 158723|\n",
      "|   ISP| 158577|\n",
      "|   MAF| 157268|\n",
      "|   LGB| 156141|\n",
      "|   PNS| 156105|\n",
      "+------+-------+\n",
      "only showing top 100 rows\n",
      "\n"
     ]
    }
   ],
   "source": [
    "df2.groupby(\"Origin\").count().sort(\"count\").orderBy([\"count\"], ascending=[0]).show(100)\n"
   ]
  },
  {
   "cell_type": "code",
   "execution_count": 9,
   "metadata": {},
   "outputs": [],
   "source": [
    "df2=df2.filter(F.col(\"Dest\").cast(\"int\").isNull())"
   ]
  },
  {
   "cell_type": "code",
   "execution_count": 10,
   "metadata": {},
   "outputs": [
    {
     "name": "stdout",
     "output_type": "stream",
     "text": [
      "+----+-----+\n",
      "|Dest|count|\n",
      "+----+-----+\n",
      "| BFI|    1|\n",
      "| CBM|    1|\n",
      "| LBF|    1|\n",
      "| RCA|    1|\n",
      "| SKA|    1|\n",
      "| LAR|    2|\n",
      "| MKC|    2|\n",
      "| GLH|    2|\n",
      "| BFF|    2|\n",
      "| FMN|    5|\n",
      "| CKB|    6|\n",
      "| PIR|    9|\n",
      "| PVU|   11|\n",
      "| CYS|   12|\n",
      "| OGD|   19|\n",
      "| RDR|   35|\n",
      "| FOE|   57|\n",
      "| MAZ|   84|\n",
      "| MIB|   89|\n",
      "| MTH|  127|\n",
      "| BJI|  202|\n",
      "| MKK|  288|\n",
      "| INL|  290|\n",
      "| LNY|  290|\n",
      "| SOP|  317|\n",
      "| MKG|  392|\n",
      "| RHI|  444|\n",
      "| KSM|  464|\n",
      "| ANI|  472|\n",
      "| OTH|  517|\n",
      "| LMT|  567|\n",
      "| ADK|  589|\n",
      "| CMX|  628|\n",
      "| TEX|  683|\n",
      "| YAP|  692|\n",
      "| HKY|  696|\n",
      "| PLN|  775|\n",
      "| ILG|  828|\n",
      "| SLE|  880|\n",
      "| RKS|  953|\n",
      "| GCC| 1046|\n",
      "| ROW| 1199|\n",
      "| EWN| 1392|\n",
      "| ALO| 1568|\n",
      "| RFD| 1582|\n",
      "| WYS| 1617|\n",
      "| TTN| 1671|\n",
      "| LWB| 1692|\n",
      "| GST| 1787|\n",
      "| ACK| 1825|\n",
      "| HHH| 1833|\n",
      "| YKM| 1846|\n",
      "| ROP| 1919|\n",
      "| VIS| 1982|\n",
      "| TUP| 1983|\n",
      "| EAU| 2113|\n",
      "| ROR| 2368|\n",
      "| VCT| 2434|\n",
      "| LWS| 2753|\n",
      "| PSE| 2929|\n",
      "| TVL| 3306|\n",
      "| PMD| 3352|\n",
      "| EFD| 3646|\n",
      "| SCK| 3664|\n",
      "| CDC| 3878|\n",
      "| APF| 3931|\n",
      "| CCR| 4421|\n",
      "| DLG| 4650|\n",
      "| UCA| 4689|\n",
      "| FLO| 5011|\n",
      "| DUT| 5593|\n",
      "| IPL| 5650|\n",
      "| AKN| 5691|\n",
      "| MQT| 5749|\n",
      "| ISO| 5906|\n",
      "| SPI| 5942|\n",
      "| GCN| 6000|\n",
      "| IYK| 6068|\n",
      "| MEI| 6334|\n",
      "| CEC| 6344|\n",
      "| PIE| 6460|\n",
      "| SCE| 6576|\n",
      "| PUB| 6703|\n",
      "| COD| 6749|\n",
      "| BLI| 7040|\n",
      "| BQK| 7066|\n",
      "| MCN| 7200|\n",
      "| HVN| 7241|\n",
      "| CIC| 7278|\n",
      "| VLD| 7370|\n",
      "| GUC| 7549|\n",
      "| GTR| 7656|\n",
      "| CWA| 7810|\n",
      "| ABY| 7969|\n",
      "| LCH| 8028|\n",
      "| SPN| 8357|\n",
      "| BPT| 8408|\n",
      "| ACY| 8705|\n",
      "| BQN| 8716|\n",
      "| OXR| 9458|\n",
      "+----+-----+\n",
      "only showing top 100 rows\n",
      "\n"
     ]
    }
   ],
   "source": [
    "df2.groupby(\"Dest\").count().sort(\"count\").orderBy([\"count\"], ascending=[1]).show(100)\n"
   ]
  },
  {
   "cell_type": "code",
   "execution_count": 11,
   "metadata": {},
   "outputs": [
    {
     "name": "stdout",
     "output_type": "stream",
     "text": [
      "+----+-----+----------+---------+-------+----------+-------+----------+-------------+---------+--------+-----------------+--------------+--------+--------+--------+------+----+--------+--------+--------+---------+----------------+--------+------------+------------+--------+-------------+-----------------+\n",
      "|Year|Month|DayofMonth|DayOfWeek|DepTime|CRSDepTime|ArrTime|CRSArrTime|UniqueCarrier|FlightNum| TailNum|ActualElapsedTime|CRSElapsedTime| AirTime|ArrDelay|DepDelay|Origin|Dest|Distance|  TaxiIn| TaxiOut|Cancelled|CancellationCode|Diverted|CarrierDelay|WeatherDelay|NASDelay|SecurityDelay|LateAircraftDelay|\n",
      "+----+-----+----------+---------+-------+----------+-------+----------+-------------+---------+--------+-----------------+--------------+--------+--------+--------+------+----+--------+--------+--------+---------+----------------+--------+------------+------------+--------+-------------+-----------------+\n",
      "|   0|    0|         0|        0|2104357|         0|2384266|         0|            0|        0|37385420|          2387317|         26234|39066186| 2387317| 2104357|     0|   0|  202000|37397295|37382704|        0|       121645011|       0|    88174181|    88174181|88174181|     88174181|         88174181|\n",
      "+----+-----+----------+---------+-------+----------+-------+----------+-------------+---------+--------+-----------------+--------------+--------+--------+--------+------+----+--------+--------+--------+---------+----------------+--------+------------+------------+--------+-------------+-----------------+\n",
      "\n"
     ]
    }
   ],
   "source": [
    "#Find the number of missing values for each column\n",
    "from pyspark.sql.functions import isnan, when, count, col\n",
    "df2.select([count(when(df2[c].isNull(), c)).alias(c) for c in df2.columns]).show()\n"
   ]
  },
  {
   "cell_type": "code",
   "execution_count": 12,
   "metadata": {},
   "outputs": [],
   "source": [
    "# missing value percentage\n",
    "from pyspark.sql.functions import *\n",
    "\n",
    "amount_missing_df = df2.select([(count(when(isnan(c) | col(c).isNull(), c))/count(lit(1))).alias(c) for c in df2.columns])\n",
    "# amount_missing_df.show()"
   ]
  },
  {
   "cell_type": "code",
   "execution_count": 13,
   "metadata": {},
   "outputs": [],
   "source": [
    "df3 = df2.drop('CRSDepTime', 'CRSArrTime', 'CRSElapsedTime','TailNum', 'UniqueCarrier')"
   ]
  },
  {
   "cell_type": "code",
   "execution_count": 14,
   "metadata": {},
   "outputs": [],
   "source": [
    "df3 = df3.dropna(subset=('DepTime','ArrTime','ActualElapsedTime','ArrDelay','Distance'))"
   ]
  },
  {
   "cell_type": "code",
   "execution_count": 15,
   "metadata": {},
   "outputs": [],
   "source": [
    "import pandas as pd"
   ]
  },
  {
   "cell_type": "code",
   "execution_count": 16,
   "metadata": {},
   "outputs": [],
   "source": [
    "pd.set_option('display.max_columns', None)"
   ]
  },
  {
   "cell_type": "code",
   "execution_count": 17,
   "metadata": {},
   "outputs": [
    {
     "data": {
      "text/html": [
       "<div>\n",
       "<style scoped>\n",
       "    .dataframe tbody tr th:only-of-type {\n",
       "        vertical-align: middle;\n",
       "    }\n",
       "\n",
       "    .dataframe tbody tr th {\n",
       "        vertical-align: top;\n",
       "    }\n",
       "\n",
       "    .dataframe thead th {\n",
       "        text-align: right;\n",
       "    }\n",
       "</style>\n",
       "<table border=\"1\" class=\"dataframe\">\n",
       "  <thead>\n",
       "    <tr style=\"text-align: right;\">\n",
       "      <th></th>\n",
       "      <th>Year</th>\n",
       "      <th>Month</th>\n",
       "      <th>DayofMonth</th>\n",
       "      <th>DayOfWeek</th>\n",
       "      <th>DepTime</th>\n",
       "      <th>ArrTime</th>\n",
       "      <th>FlightNum</th>\n",
       "      <th>ActualElapsedTime</th>\n",
       "      <th>AirTime</th>\n",
       "      <th>ArrDelay</th>\n",
       "      <th>DepDelay</th>\n",
       "      <th>Origin</th>\n",
       "      <th>Dest</th>\n",
       "      <th>Distance</th>\n",
       "      <th>TaxiIn</th>\n",
       "      <th>TaxiOut</th>\n",
       "      <th>Cancelled</th>\n",
       "      <th>CancellationCode</th>\n",
       "      <th>Diverted</th>\n",
       "      <th>CarrierDelay</th>\n",
       "      <th>WeatherDelay</th>\n",
       "      <th>NASDelay</th>\n",
       "      <th>SecurityDelay</th>\n",
       "      <th>LateAircraftDelay</th>\n",
       "    </tr>\n",
       "  </thead>\n",
       "  <tbody>\n",
       "    <tr>\n",
       "      <th>0</th>\n",
       "      <td>0.0</td>\n",
       "      <td>0.0</td>\n",
       "      <td>0.0</td>\n",
       "      <td>0.0</td>\n",
       "      <td>0.0</td>\n",
       "      <td>0.0</td>\n",
       "      <td>0.0</td>\n",
       "      <td>0.0</td>\n",
       "      <td>0.305006</td>\n",
       "      <td>0.0</td>\n",
       "      <td>0.0</td>\n",
       "      <td>0.0</td>\n",
       "      <td>0.0</td>\n",
       "      <td>0.0</td>\n",
       "      <td>0.305005</td>\n",
       "      <td>0.305005</td>\n",
       "      <td>0.0</td>\n",
       "      <td>1.0</td>\n",
       "      <td>0.0</td>\n",
       "      <td>0.720016</td>\n",
       "      <td>0.720016</td>\n",
       "      <td>0.720016</td>\n",
       "      <td>0.720016</td>\n",
       "      <td>0.720016</td>\n",
       "    </tr>\n",
       "  </tbody>\n",
       "</table>\n",
       "</div>"
      ],
      "text/plain": [
       "   Year  Month  DayofMonth  DayOfWeek  DepTime  ArrTime  FlightNum  \\\n",
       "0   0.0    0.0         0.0        0.0      0.0      0.0        0.0   \n",
       "\n",
       "   ActualElapsedTime   AirTime  ArrDelay  DepDelay  Origin  Dest  Distance  \\\n",
       "0                0.0  0.305006       0.0       0.0     0.0   0.0       0.0   \n",
       "\n",
       "     TaxiIn   TaxiOut  Cancelled  CancellationCode  Diverted  CarrierDelay  \\\n",
       "0  0.305005  0.305005        0.0               1.0       0.0      0.720016   \n",
       "\n",
       "   WeatherDelay  NASDelay  SecurityDelay  LateAircraftDelay  \n",
       "0      0.720016  0.720016       0.720016           0.720016  "
      ]
     },
     "execution_count": 17,
     "metadata": {},
     "output_type": "execute_result"
    }
   ],
   "source": [
    "amount_missing_df = df3.select([(count(when(isnan(c) | col(c).isNull(), c))/count(lit(1))).alias(c) for c in df3.columns])\n",
    "amount_missing_df.toPandas()"
   ]
  },
  {
   "cell_type": "code",
   "execution_count": 18,
   "metadata": {},
   "outputs": [
    {
     "name": "stdout",
     "output_type": "stream",
     "text": [
      "+----+-----+----------+---------+-------+-------+---------+-----------------+-------+--------+--------+------+----+--------+-------+-------+---------+----------------+--------+------------+------------+--------+-------------+-----------------+\n",
      "|Year|Month|DayofMonth|DayOfWeek|DepTime|ArrTime|FlightNum|ActualElapsedTime|AirTime|ArrDelay|DepDelay|Origin|Dest|Distance| TaxiIn|TaxiOut|Cancelled|CancellationCode|Diverted|CarrierDelay|WeatherDelay|NASDelay|SecurityDelay|LateAircraftDelay|\n",
      "+----+-----+----------+---------+-------+-------+---------+-----------------+-------+--------+--------+------+----+--------+-------+-------+---------+----------------+--------+------------+------------+--------+-------------+-----------------+\n",
      "|1990|    0|         0|        0|      0|      0|        0|                0|5110527|       0|       0|     0|   0|       0|5110527|5110527|        0|         5110527|       0|     5110527|     5110527| 5110527|      5110527|          5110527|\n",
      "|2003|    0|         0|        0|      0|      0|        0|                0|      0|       0|       0|     0|   0|       0|      0|      0|        0|         6375688|       0|     2619866|     2619866| 2619866|      2619866|          2619866|\n",
      "|2007|    0|         0|        0|      0|      0|        0|                0|      0|       0|       0|     0|   0|       0|      0|      0|        0|         7275287|       0|           0|           0|       0|            0|                0|\n",
      "|2006|    0|         0|        0|      0|      0|        0|                0|      0|       0|       0|     0|   0|       0|      0|      0|        0|         7003802|       0|           0|           0|       0|            0|                0|\n",
      "|1997|    0|         0|        0|      0|      0|        0|                0|      0|       0|       0|     0|   0|       0|      0|      0|        0|         5301999|       0|     5301999|     5301999| 5301999|      5301999|          5301999|\n",
      "|1988|    0|         0|        0|      0|      0|        0|                0|5126498|       0|       0|     0|   0|       0|5126498|5126498|        0|         5126498|       0|     5126498|     5126498| 5126498|      5126498|          5126498|\n",
      "|1994|    0|         0|        0|      0|      0|        0|                0|5078411|       0|       0|     0|   0|       0|5078411|5078411|        0|         5078411|       0|     5078411|     5078411| 5078411|      5078411|          5078411|\n",
      "|2004|    0|         0|        0|      0|      0|        0|                0|      0|       0|       0|     0|   0|       0|      0|      0|        0|         6987722|       0|           0|           0|       0|            0|                0|\n",
      "|1991|    0|         0|        0|      0|      0|        0|                0|4995005|       0|       0|     0|   0|       0|4995005|4995005|        0|         4995005|       0|     4995005|     4995005| 4995005|      4995005|          4995005|\n",
      "|1989|    0|         0|        0|      0|      0|        0|                0|4925482|       0|       0|     0|   0|       0|4925482|4925482|        0|         4925482|       0|     4925482|     4925482| 4925482|      4925482|          4925482|\n",
      "|1996|    0|         0|        0|      0|      0|        0|                0|      0|       0|       0|     0|   0|       0|      0|      0|        0|         5209326|       0|     5209326|     5209326| 5209326|      5209326|          5209326|\n",
      "|1998|    0|         0|        0|      0|      0|        0|                0|      0|       0|       0|     0|   0|       0|      0|      0|        0|         5227051|       0|     5227051|     5227051| 5227051|      5227051|          5227051|\n",
      "|1987|    0|         0|        0|      0|      0|        0|                0|1287333|       0|       0|     0|   0|       0|1287333|1287333|        0|         1287333|       0|     1287333|     1287333| 1287333|      1287333|          1287333|\n",
      "|1995|    0|         0|        0|      0|      0|        0|                0|      0|       0|       0|     0|   0|       0|      0|      0|        0|         5219140|       0|     5219140|     5219140| 5219140|      5219140|          5219140|\n",
      "|2001|    0|         0|        0|      0|      0|        0|                0|      0|       0|       0|     0|   0|       0|      0|      0|        0|         4873031|       0|     4873031|     4873031| 4873031|      4873031|          4873031|\n",
      "|1992|    0|         0|        0|      0|      0|        0|                0|5020651|       0|       0|     0|   0|       0|5020651|5020651|        0|         5020651|       0|     5020651|     5020651| 5020651|      5020651|          5020651|\n",
      "|2005|    0|         0|        0|      0|      0|        0|                0|      0|       0|       0|     0|   0|       0|      0|      0|        0|         6992837|       0|           0|           0|       0|            0|                0|\n",
      "|2000|    0|         0|        0|      0|      0|        0|                0|      0|       0|       0|     0|   0|       0|      0|      0|        0|         5481303|       0|     5481303|     5481303| 5481303|      5481303|          5481303|\n",
      "|2008|    0|         0|        0|      0|      0|        0|                0|      0|       0|       0|     0|   0|       0|      0|      0|        0|         6855029|       0|     5330294|     5330294| 5330294|      5330294|          5330294|\n",
      "|1999|    0|         0|        0|      0|      0|        0|                0|      0|       0|       0|     0|   0|       0|      0|      0|        0|         5360018|       0|     5360018|     5360018| 5360018|      5360018|          5360018|\n",
      "+----+-----+----------+---------+-------+-------+---------+-----------------+-------+--------+--------+------+----+--------+-------+-------+---------+----------------+--------+------------+------------+--------+-------------+-----------------+\n",
      "only showing top 20 rows\n",
      "\n"
     ]
    }
   ],
   "source": [
    "columns = filter(lambda x: x != \"Year\", df3.columns)\n",
    "df3.groupBy(\"Year\").agg( * (sum(col(c).isNull().cast(\"int\")).alias(c) for c in columns)).show()"
   ]
  },
  {
   "cell_type": "markdown",
   "metadata": {},
   "source": [
    "## 1987~1994 has no airtime/taxi in /taxi out values. so we only focus on 1995~"
   ]
  },
  {
   "cell_type": "code",
   "execution_count": 19,
   "metadata": {},
   "outputs": [
    {
     "data": {
      "text/plain": [
       "DataFrame[Year: int, Month: int, DayofMonth: int, DayOfWeek: int, DepTime: double, CRSDepTime: int, ArrTime: double, CRSArrTime: int, UniqueCarrier: string, FlightNum: int, TailNum: string, ActualElapsedTime: double, CRSElapsedTime: double, AirTime: double, ArrDelay: double, DepDelay: string, Origin: string, Dest: string, Distance: double, TaxiIn: double, TaxiOut: double, Cancelled: double, CancellationCode: string, Diverted: double, CarrierDelay: double, WeatherDelay: double, NASDelay: double, SecurityDelay: double, LateAircraftDelay: double]"
      ]
     },
     "execution_count": 19,
     "metadata": {},
     "output_type": "execute_result"
    }
   ],
   "source": [
    "df1995 = df3.filter(df3.Year.cast(\"int\") >=1995)\n",
    "df"
   ]
  },
  {
   "cell_type": "code",
   "execution_count": 20,
   "metadata": {},
   "outputs": [],
   "source": [
    "pdf2 =df1995.groupBy(\"Year\").agg( * (sum(col(c).isNull().cast(\"int\")).alias(c) for c in filter(lambda x: x != \"Year\", df1995.columns)))"
   ]
  },
  {
   "cell_type": "code",
   "execution_count": 21,
   "metadata": {},
   "outputs": [],
   "source": [
    "pd1995 =pdf2.toPandas()"
   ]
  },
  {
   "cell_type": "code",
   "execution_count": 22,
   "metadata": {},
   "outputs": [
    {
     "data": {
      "text/html": [
       "<div>\n",
       "<style scoped>\n",
       "    .dataframe tbody tr th:only-of-type {\n",
       "        vertical-align: middle;\n",
       "    }\n",
       "\n",
       "    .dataframe tbody tr th {\n",
       "        vertical-align: top;\n",
       "    }\n",
       "\n",
       "    .dataframe thead th {\n",
       "        text-align: right;\n",
       "    }\n",
       "</style>\n",
       "<table border=\"1\" class=\"dataframe\">\n",
       "  <thead>\n",
       "    <tr style=\"text-align: right;\">\n",
       "      <th></th>\n",
       "      <th>Year</th>\n",
       "      <th>Month</th>\n",
       "      <th>DayofMonth</th>\n",
       "      <th>DayOfWeek</th>\n",
       "      <th>DepTime</th>\n",
       "      <th>ArrTime</th>\n",
       "      <th>FlightNum</th>\n",
       "      <th>ActualElapsedTime</th>\n",
       "      <th>AirTime</th>\n",
       "      <th>ArrDelay</th>\n",
       "      <th>DepDelay</th>\n",
       "      <th>Origin</th>\n",
       "      <th>Dest</th>\n",
       "      <th>Distance</th>\n",
       "      <th>TaxiIn</th>\n",
       "      <th>TaxiOut</th>\n",
       "      <th>Cancelled</th>\n",
       "      <th>CancellationCode</th>\n",
       "      <th>Diverted</th>\n",
       "      <th>CarrierDelay</th>\n",
       "      <th>WeatherDelay</th>\n",
       "      <th>NASDelay</th>\n",
       "      <th>SecurityDelay</th>\n",
       "      <th>LateAircraftDelay</th>\n",
       "    </tr>\n",
       "  </thead>\n",
       "  <tbody>\n",
       "    <tr>\n",
       "      <th>7</th>\n",
       "      <td>1995</td>\n",
       "      <td>0</td>\n",
       "      <td>0</td>\n",
       "      <td>0</td>\n",
       "      <td>0</td>\n",
       "      <td>0</td>\n",
       "      <td>0</td>\n",
       "      <td>0</td>\n",
       "      <td>0</td>\n",
       "      <td>0</td>\n",
       "      <td>0</td>\n",
       "      <td>0</td>\n",
       "      <td>0</td>\n",
       "      <td>0</td>\n",
       "      <td>0</td>\n",
       "      <td>0</td>\n",
       "      <td>0</td>\n",
       "      <td>5219140</td>\n",
       "      <td>0</td>\n",
       "      <td>5219140</td>\n",
       "      <td>5219140</td>\n",
       "      <td>5219140</td>\n",
       "      <td>5219140</td>\n",
       "      <td>5219140</td>\n",
       "    </tr>\n",
       "    <tr>\n",
       "      <th>5</th>\n",
       "      <td>1996</td>\n",
       "      <td>0</td>\n",
       "      <td>0</td>\n",
       "      <td>0</td>\n",
       "      <td>0</td>\n",
       "      <td>0</td>\n",
       "      <td>0</td>\n",
       "      <td>0</td>\n",
       "      <td>0</td>\n",
       "      <td>0</td>\n",
       "      <td>0</td>\n",
       "      <td>0</td>\n",
       "      <td>0</td>\n",
       "      <td>0</td>\n",
       "      <td>0</td>\n",
       "      <td>0</td>\n",
       "      <td>0</td>\n",
       "      <td>5209326</td>\n",
       "      <td>0</td>\n",
       "      <td>5209326</td>\n",
       "      <td>5209326</td>\n",
       "      <td>5209326</td>\n",
       "      <td>5209326</td>\n",
       "      <td>5209326</td>\n",
       "    </tr>\n",
       "    <tr>\n",
       "      <th>3</th>\n",
       "      <td>1997</td>\n",
       "      <td>0</td>\n",
       "      <td>0</td>\n",
       "      <td>0</td>\n",
       "      <td>0</td>\n",
       "      <td>0</td>\n",
       "      <td>0</td>\n",
       "      <td>0</td>\n",
       "      <td>0</td>\n",
       "      <td>0</td>\n",
       "      <td>0</td>\n",
       "      <td>0</td>\n",
       "      <td>0</td>\n",
       "      <td>0</td>\n",
       "      <td>0</td>\n",
       "      <td>0</td>\n",
       "      <td>0</td>\n",
       "      <td>5301999</td>\n",
       "      <td>0</td>\n",
       "      <td>5301999</td>\n",
       "      <td>5301999</td>\n",
       "      <td>5301999</td>\n",
       "      <td>5301999</td>\n",
       "      <td>5301999</td>\n",
       "    </tr>\n",
       "    <tr>\n",
       "      <th>6</th>\n",
       "      <td>1998</td>\n",
       "      <td>0</td>\n",
       "      <td>0</td>\n",
       "      <td>0</td>\n",
       "      <td>0</td>\n",
       "      <td>0</td>\n",
       "      <td>0</td>\n",
       "      <td>0</td>\n",
       "      <td>0</td>\n",
       "      <td>0</td>\n",
       "      <td>0</td>\n",
       "      <td>0</td>\n",
       "      <td>0</td>\n",
       "      <td>0</td>\n",
       "      <td>0</td>\n",
       "      <td>0</td>\n",
       "      <td>0</td>\n",
       "      <td>5227051</td>\n",
       "      <td>0</td>\n",
       "      <td>5227051</td>\n",
       "      <td>5227051</td>\n",
       "      <td>5227051</td>\n",
       "      <td>5227051</td>\n",
       "      <td>5227051</td>\n",
       "    </tr>\n",
       "    <tr>\n",
       "      <th>12</th>\n",
       "      <td>1999</td>\n",
       "      <td>0</td>\n",
       "      <td>0</td>\n",
       "      <td>0</td>\n",
       "      <td>0</td>\n",
       "      <td>0</td>\n",
       "      <td>0</td>\n",
       "      <td>0</td>\n",
       "      <td>0</td>\n",
       "      <td>0</td>\n",
       "      <td>0</td>\n",
       "      <td>0</td>\n",
       "      <td>0</td>\n",
       "      <td>0</td>\n",
       "      <td>0</td>\n",
       "      <td>0</td>\n",
       "      <td>0</td>\n",
       "      <td>5360018</td>\n",
       "      <td>0</td>\n",
       "      <td>5360018</td>\n",
       "      <td>5360018</td>\n",
       "      <td>5360018</td>\n",
       "      <td>5360018</td>\n",
       "      <td>5360018</td>\n",
       "    </tr>\n",
       "    <tr>\n",
       "      <th>10</th>\n",
       "      <td>2000</td>\n",
       "      <td>0</td>\n",
       "      <td>0</td>\n",
       "      <td>0</td>\n",
       "      <td>0</td>\n",
       "      <td>0</td>\n",
       "      <td>0</td>\n",
       "      <td>0</td>\n",
       "      <td>0</td>\n",
       "      <td>0</td>\n",
       "      <td>0</td>\n",
       "      <td>0</td>\n",
       "      <td>0</td>\n",
       "      <td>0</td>\n",
       "      <td>0</td>\n",
       "      <td>0</td>\n",
       "      <td>0</td>\n",
       "      <td>5481303</td>\n",
       "      <td>0</td>\n",
       "      <td>5481303</td>\n",
       "      <td>5481303</td>\n",
       "      <td>5481303</td>\n",
       "      <td>5481303</td>\n",
       "      <td>5481303</td>\n",
       "    </tr>\n",
       "    <tr>\n",
       "      <th>8</th>\n",
       "      <td>2001</td>\n",
       "      <td>0</td>\n",
       "      <td>0</td>\n",
       "      <td>0</td>\n",
       "      <td>0</td>\n",
       "      <td>0</td>\n",
       "      <td>0</td>\n",
       "      <td>0</td>\n",
       "      <td>0</td>\n",
       "      <td>0</td>\n",
       "      <td>0</td>\n",
       "      <td>0</td>\n",
       "      <td>0</td>\n",
       "      <td>0</td>\n",
       "      <td>0</td>\n",
       "      <td>0</td>\n",
       "      <td>0</td>\n",
       "      <td>4873031</td>\n",
       "      <td>0</td>\n",
       "      <td>4873031</td>\n",
       "      <td>4873031</td>\n",
       "      <td>4873031</td>\n",
       "      <td>4873031</td>\n",
       "      <td>4873031</td>\n",
       "    </tr>\n",
       "    <tr>\n",
       "      <th>13</th>\n",
       "      <td>2002</td>\n",
       "      <td>0</td>\n",
       "      <td>0</td>\n",
       "      <td>0</td>\n",
       "      <td>0</td>\n",
       "      <td>0</td>\n",
       "      <td>0</td>\n",
       "      <td>0</td>\n",
       "      <td>121</td>\n",
       "      <td>0</td>\n",
       "      <td>0</td>\n",
       "      <td>0</td>\n",
       "      <td>0</td>\n",
       "      <td>0</td>\n",
       "      <td>0</td>\n",
       "      <td>0</td>\n",
       "      <td>0</td>\n",
       "      <td>5093462</td>\n",
       "      <td>0</td>\n",
       "      <td>5093462</td>\n",
       "      <td>5093462</td>\n",
       "      <td>5093462</td>\n",
       "      <td>5093462</td>\n",
       "      <td>5093462</td>\n",
       "    </tr>\n",
       "    <tr>\n",
       "      <th>0</th>\n",
       "      <td>2003</td>\n",
       "      <td>0</td>\n",
       "      <td>0</td>\n",
       "      <td>0</td>\n",
       "      <td>0</td>\n",
       "      <td>0</td>\n",
       "      <td>0</td>\n",
       "      <td>0</td>\n",
       "      <td>0</td>\n",
       "      <td>0</td>\n",
       "      <td>0</td>\n",
       "      <td>0</td>\n",
       "      <td>0</td>\n",
       "      <td>0</td>\n",
       "      <td>0</td>\n",
       "      <td>0</td>\n",
       "      <td>0</td>\n",
       "      <td>6375688</td>\n",
       "      <td>0</td>\n",
       "      <td>2619866</td>\n",
       "      <td>2619866</td>\n",
       "      <td>2619866</td>\n",
       "      <td>2619866</td>\n",
       "      <td>2619866</td>\n",
       "    </tr>\n",
       "    <tr>\n",
       "      <th>4</th>\n",
       "      <td>2004</td>\n",
       "      <td>0</td>\n",
       "      <td>0</td>\n",
       "      <td>0</td>\n",
       "      <td>0</td>\n",
       "      <td>0</td>\n",
       "      <td>0</td>\n",
       "      <td>0</td>\n",
       "      <td>0</td>\n",
       "      <td>0</td>\n",
       "      <td>0</td>\n",
       "      <td>0</td>\n",
       "      <td>0</td>\n",
       "      <td>0</td>\n",
       "      <td>0</td>\n",
       "      <td>0</td>\n",
       "      <td>0</td>\n",
       "      <td>6987722</td>\n",
       "      <td>0</td>\n",
       "      <td>0</td>\n",
       "      <td>0</td>\n",
       "      <td>0</td>\n",
       "      <td>0</td>\n",
       "      <td>0</td>\n",
       "    </tr>\n",
       "    <tr>\n",
       "      <th>9</th>\n",
       "      <td>2005</td>\n",
       "      <td>0</td>\n",
       "      <td>0</td>\n",
       "      <td>0</td>\n",
       "      <td>0</td>\n",
       "      <td>0</td>\n",
       "      <td>0</td>\n",
       "      <td>0</td>\n",
       "      <td>0</td>\n",
       "      <td>0</td>\n",
       "      <td>0</td>\n",
       "      <td>0</td>\n",
       "      <td>0</td>\n",
       "      <td>0</td>\n",
       "      <td>0</td>\n",
       "      <td>0</td>\n",
       "      <td>0</td>\n",
       "      <td>6992837</td>\n",
       "      <td>0</td>\n",
       "      <td>0</td>\n",
       "      <td>0</td>\n",
       "      <td>0</td>\n",
       "      <td>0</td>\n",
       "      <td>0</td>\n",
       "    </tr>\n",
       "    <tr>\n",
       "      <th>2</th>\n",
       "      <td>2006</td>\n",
       "      <td>0</td>\n",
       "      <td>0</td>\n",
       "      <td>0</td>\n",
       "      <td>0</td>\n",
       "      <td>0</td>\n",
       "      <td>0</td>\n",
       "      <td>0</td>\n",
       "      <td>0</td>\n",
       "      <td>0</td>\n",
       "      <td>0</td>\n",
       "      <td>0</td>\n",
       "      <td>0</td>\n",
       "      <td>0</td>\n",
       "      <td>0</td>\n",
       "      <td>0</td>\n",
       "      <td>0</td>\n",
       "      <td>7003802</td>\n",
       "      <td>0</td>\n",
       "      <td>0</td>\n",
       "      <td>0</td>\n",
       "      <td>0</td>\n",
       "      <td>0</td>\n",
       "      <td>0</td>\n",
       "    </tr>\n",
       "    <tr>\n",
       "      <th>1</th>\n",
       "      <td>2007</td>\n",
       "      <td>0</td>\n",
       "      <td>0</td>\n",
       "      <td>0</td>\n",
       "      <td>0</td>\n",
       "      <td>0</td>\n",
       "      <td>0</td>\n",
       "      <td>0</td>\n",
       "      <td>0</td>\n",
       "      <td>0</td>\n",
       "      <td>0</td>\n",
       "      <td>0</td>\n",
       "      <td>0</td>\n",
       "      <td>0</td>\n",
       "      <td>0</td>\n",
       "      <td>0</td>\n",
       "      <td>0</td>\n",
       "      <td>7275287</td>\n",
       "      <td>0</td>\n",
       "      <td>0</td>\n",
       "      <td>0</td>\n",
       "      <td>0</td>\n",
       "      <td>0</td>\n",
       "      <td>0</td>\n",
       "    </tr>\n",
       "    <tr>\n",
       "      <th>11</th>\n",
       "      <td>2008</td>\n",
       "      <td>0</td>\n",
       "      <td>0</td>\n",
       "      <td>0</td>\n",
       "      <td>0</td>\n",
       "      <td>0</td>\n",
       "      <td>0</td>\n",
       "      <td>0</td>\n",
       "      <td>0</td>\n",
       "      <td>0</td>\n",
       "      <td>0</td>\n",
       "      <td>0</td>\n",
       "      <td>0</td>\n",
       "      <td>0</td>\n",
       "      <td>0</td>\n",
       "      <td>0</td>\n",
       "      <td>0</td>\n",
       "      <td>6855029</td>\n",
       "      <td>0</td>\n",
       "      <td>5330294</td>\n",
       "      <td>5330294</td>\n",
       "      <td>5330294</td>\n",
       "      <td>5330294</td>\n",
       "      <td>5330294</td>\n",
       "    </tr>\n",
       "  </tbody>\n",
       "</table>\n",
       "</div>"
      ],
      "text/plain": [
       "    Year  Month  DayofMonth  DayOfWeek  DepTime  ArrTime  FlightNum  \\\n",
       "7   1995      0           0          0        0        0          0   \n",
       "5   1996      0           0          0        0        0          0   \n",
       "3   1997      0           0          0        0        0          0   \n",
       "6   1998      0           0          0        0        0          0   \n",
       "12  1999      0           0          0        0        0          0   \n",
       "10  2000      0           0          0        0        0          0   \n",
       "8   2001      0           0          0        0        0          0   \n",
       "13  2002      0           0          0        0        0          0   \n",
       "0   2003      0           0          0        0        0          0   \n",
       "4   2004      0           0          0        0        0          0   \n",
       "9   2005      0           0          0        0        0          0   \n",
       "2   2006      0           0          0        0        0          0   \n",
       "1   2007      0           0          0        0        0          0   \n",
       "11  2008      0           0          0        0        0          0   \n",
       "\n",
       "    ActualElapsedTime  AirTime  ArrDelay  DepDelay  Origin  Dest  Distance  \\\n",
       "7                   0        0         0         0       0     0         0   \n",
       "5                   0        0         0         0       0     0         0   \n",
       "3                   0        0         0         0       0     0         0   \n",
       "6                   0        0         0         0       0     0         0   \n",
       "12                  0        0         0         0       0     0         0   \n",
       "10                  0        0         0         0       0     0         0   \n",
       "8                   0        0         0         0       0     0         0   \n",
       "13                  0      121         0         0       0     0         0   \n",
       "0                   0        0         0         0       0     0         0   \n",
       "4                   0        0         0         0       0     0         0   \n",
       "9                   0        0         0         0       0     0         0   \n",
       "2                   0        0         0         0       0     0         0   \n",
       "1                   0        0         0         0       0     0         0   \n",
       "11                  0        0         0         0       0     0         0   \n",
       "\n",
       "    TaxiIn  TaxiOut  Cancelled  CancellationCode  Diverted  CarrierDelay  \\\n",
       "7        0        0          0           5219140         0       5219140   \n",
       "5        0        0          0           5209326         0       5209326   \n",
       "3        0        0          0           5301999         0       5301999   \n",
       "6        0        0          0           5227051         0       5227051   \n",
       "12       0        0          0           5360018         0       5360018   \n",
       "10       0        0          0           5481303         0       5481303   \n",
       "8        0        0          0           4873031         0       4873031   \n",
       "13       0        0          0           5093462         0       5093462   \n",
       "0        0        0          0           6375688         0       2619866   \n",
       "4        0        0          0           6987722         0             0   \n",
       "9        0        0          0           6992837         0             0   \n",
       "2        0        0          0           7003802         0             0   \n",
       "1        0        0          0           7275287         0             0   \n",
       "11       0        0          0           6855029         0       5330294   \n",
       "\n",
       "    WeatherDelay  NASDelay  SecurityDelay  LateAircraftDelay  \n",
       "7        5219140   5219140        5219140            5219140  \n",
       "5        5209326   5209326        5209326            5209326  \n",
       "3        5301999   5301999        5301999            5301999  \n",
       "6        5227051   5227051        5227051            5227051  \n",
       "12       5360018   5360018        5360018            5360018  \n",
       "10       5481303   5481303        5481303            5481303  \n",
       "8        4873031   4873031        4873031            4873031  \n",
       "13       5093462   5093462        5093462            5093462  \n",
       "0        2619866   2619866        2619866            2619866  \n",
       "4              0         0              0                  0  \n",
       "9              0         0              0                  0  \n",
       "2              0         0              0                  0  \n",
       "1              0         0              0                  0  \n",
       "11       5330294   5330294        5330294            5330294  "
      ]
     },
     "execution_count": 22,
     "metadata": {},
     "output_type": "execute_result"
    }
   ],
   "source": [
    "pd1995.sort_values(by=['Year'])"
   ]
  },
  {
   "cell_type": "code",
   "execution_count": 23,
   "metadata": {},
   "outputs": [],
   "source": [
    "df1995 = df1995.dropna(subset=('AirTime'))"
   ]
  },
  {
   "cell_type": "markdown",
   "metadata": {},
   "source": [
    "## two parts of analysis direction:\n",
    "* use 1995~2008, analysis without delay reason (flight frequency,.... )\n",
    "* use 2004~2007, analysis of delay reason"
   ]
  },
  {
   "cell_type": "code",
   "execution_count": 24,
   "metadata": {},
   "outputs": [],
   "source": [
    "df_final = df1995.drop('CancellationCode') # the huge dataset"
   ]
  },
  {
   "cell_type": "markdown",
   "metadata": {},
   "source": [
    "#### Select Departure hour time, Arrival Hour time"
   ]
  },
  {
   "cell_type": "code",
   "execution_count": 25,
   "metadata": {},
   "outputs": [],
   "source": [
    "# DepDelay to double\n",
    "df_final=df_final.withColumn(\"DepDelay\",df_final.DepDelay.cast('double'))"
   ]
  },
  {
   "cell_type": "code",
   "execution_count": 26,
   "metadata": {
    "scrolled": false
   },
   "outputs": [],
   "source": [
    "from pyspark.sql.functions import substring, length, col, expr\n",
    "df_final_ed = df_final.withColumn(\"arr_hour\",expr(\"substring(ArrTime, 1, length(ArrTime)-4)\"))"
   ]
  },
  {
   "cell_type": "code",
   "execution_count": 27,
   "metadata": {},
   "outputs": [],
   "source": [
    "df_final_ed = df_final_ed.withColumn(\"arr_min\",expr(\"substring(ArrTime, length(ArrTime)-3, 2)\"))"
   ]
  },
  {
   "cell_type": "code",
   "execution_count": 28,
   "metadata": {},
   "outputs": [],
   "source": [
    "df_final_ed = df_final_ed.withColumn(\"dep_hour\",expr(\"substring(DepTime, 1, length(DepTime)-4)\"))"
   ]
  },
  {
   "cell_type": "code",
   "execution_count": 29,
   "metadata": {},
   "outputs": [
    {
     "name": "stdout",
     "output_type": "stream",
     "text": [
      "+----+-----+----------+---------+-------+-------+---------+-----------------+-------+--------+--------+------+----+--------+------+-------+---------+--------+------------+------------+--------+-------------+-----------------+--------+-------+--------+-------+\n",
      "|Year|Month|DayofMonth|DayOfWeek|DepTime|ArrTime|FlightNum|ActualElapsedTime|AirTime|ArrDelay|DepDelay|Origin|Dest|Distance|TaxiIn|TaxiOut|Cancelled|Diverted|CarrierDelay|WeatherDelay|NASDelay|SecurityDelay|LateAircraftDelay|arr_hour|arr_min|dep_hour|dep_min|\n",
      "+----+-----+----------+---------+-------+-------+---------+-----------------+-------+--------+--------+------+----+--------+------+-------+---------+--------+------------+------------+--------+-------------+-----------------+--------+-------+--------+-------+\n",
      "|1995|    1|         6|        5|  657.0|  952.0|      482|            115.0|   83.0|    15.0|    12.0|   ORD| PHL|   678.0|   7.0|   25.0|      0.0|     0.0|        null|        null|    null|         null|             null|       9|     52|       6|     57|\n",
      "|1995|    1|         7|        6|  648.0|  938.0|      482|            110.0|   88.0|     1.0|     3.0|   ORD| PHL|   678.0|   5.0|   17.0|      0.0|     0.0|        null|        null|    null|         null|             null|       9|     38|       6|     48|\n",
      "|1995|    1|         8|        7|  649.0|  932.0|      482|            103.0|   83.0|    -5.0|     4.0|   ORD| PHL|   678.0|   3.0|   17.0|      0.0|     0.0|        null|        null|    null|         null|             null|       9|     32|       6|     49|\n",
      "|1995|    1|         9|        1|  645.0|  928.0|      482|            103.0|   84.0|    -9.0|     0.0|   ORD| PHL|   678.0|   3.0|   16.0|      0.0|     0.0|        null|        null|    null|         null|             null|       9|     28|       6|     45|\n",
      "|1995|    1|        10|        2|  645.0|  931.0|      482|            106.0|   82.0|    -6.0|     0.0|   ORD| PHL|   678.0|   6.0|   18.0|      0.0|     0.0|        null|        null|    null|         null|             null|       9|     31|       6|     45|\n",
      "|1995|    1|        11|        3|  646.0|  929.0|      482|            103.0|   85.0|    -8.0|     1.0|   ORD| PHL|   678.0|   5.0|   13.0|      0.0|     0.0|        null|        null|    null|         null|             null|       9|     29|       6|     46|\n",
      "|1995|    1|        13|        5|  644.0|  953.0|      482|            129.0|  110.0|    16.0|    -1.0|   ORD| PHL|   678.0|   5.0|   14.0|      0.0|     0.0|        null|        null|    null|         null|             null|       9|     53|       6|     44|\n",
      "|1995|    1|        14|        6|  644.0|  938.0|      482|            114.0|   94.0|     1.0|    -1.0|   ORD| PHL|   678.0|   5.0|   15.0|      0.0|     0.0|        null|        null|    null|         null|             null|       9|     38|       6|     44|\n",
      "|1995|    1|        15|        7|  643.0|  940.0|      482|            117.0|   99.0|     3.0|    -2.0|   ORD| PHL|   678.0|   3.0|   15.0|      0.0|     0.0|        null|        null|    null|         null|             null|       9|     40|       6|     43|\n",
      "|1995|    1|        16|        1|  642.0|  935.0|      482|            113.0|   93.0|    -2.0|    -3.0|   ORD| PHL|   678.0|   7.0|   13.0|      0.0|     0.0|        null|        null|    null|         null|             null|       9|     35|       6|     42|\n",
      "+----+-----+----------+---------+-------+-------+---------+-----------------+-------+--------+--------+------+----+--------+------+-------+---------+--------+------------+------------+--------+-------------+-----------------+--------+-------+--------+-------+\n",
      "only showing top 10 rows\n",
      "\n"
     ]
    }
   ],
   "source": [
    "df_final_ed = df_final_ed.withColumn(\"dep_min\",expr(\"substring(DepTime, length(ArrTime)-3, 2)\"))\n",
    "df_final_ed.show(10)"
   ]
  },
  {
   "cell_type": "markdown",
   "metadata": {},
   "source": [
    "### Cancel Exploration"
   ]
  },
  {
   "cell_type": "markdown",
   "metadata": {},
   "source": [
    "#### Drop unused cols and filter out cancelled flights"
   ]
  },
  {
   "cell_type": "code",
   "execution_count": 86,
   "metadata": {},
   "outputs": [],
   "source": [
    "cancelled = df2.drop('CRSDepTime', 'CRSArrTime', 'CRSElapsedTime','TailNum', 'UniqueCarrier')"
   ]
  },
  {
   "cell_type": "code",
   "execution_count": 87,
   "metadata": {},
   "outputs": [],
   "source": [
    "cancelled = cancelled.filter(cancelled.Cancelled == 1)"
   ]
  },
  {
   "cell_type": "code",
   "execution_count": 88,
   "metadata": {},
   "outputs": [],
   "source": [
    "cancelled_ed = cancelled.drop('ArrTime', 'DepTime', 'AirTime', 'ArrDelay', 'TaxiOut', 'TaxiIn', \n",
    "                                 'WeatherDelay', 'NASDelay', 'SecurityDelay', 'LateAircraftDelay', 'diverted',\n",
    "                                 'ActualElapsedTime', 'DepDelay', 'CancellationCode', \"CarrierDelay\" , 'Cancelled')"
   ]
  },
  {
   "cell_type": "code",
   "execution_count": 89,
   "metadata": {},
   "outputs": [
    {
     "name": "stdout",
     "output_type": "stream",
     "text": [
      "+----+-----+----------+---------+---------+------+----+--------+\n",
      "|Year|Month|DayofMonth|DayOfWeek|FlightNum|Origin|Dest|Distance|\n",
      "+----+-----+----------+---------+---------+------+----+--------+\n",
      "|1987|   10|        12|        1|     1453|   BUR| OAK|   325.0|\n",
      "|1987|   10|        12|        1|     1454|   OAK| BUR|   325.0|\n",
      "|1987|   10|         6|        2|     1457|   LAX| SFO|   337.0|\n",
      "|1987|   10|        29|        4|     1459|   LAX| SFO|   337.0|\n",
      "|1987|   10|        22|        4|     1465|   BUR| OAK|   325.0|\n",
      "|1987|   10|         5|        1|     1480|   SFO| SAN|   447.0|\n",
      "|1987|   10|        28|        3|     1502|   SMF| LAX|   373.0|\n",
      "|1987|   10|        11|        7|     1517|   LAX| SFO|   337.0|\n",
      "|1987|   10|         1|        4|     1522|   SFO| LAX|   337.0|\n",
      "|1987|   10|        23|        5|     1522|   SFO| LAX|   337.0|\n",
      "|1987|   10|         2|        5|     1525|   LAX| SFO|   337.0|\n",
      "|1987|   10|         1|        4|     1532|   MRY| LAX|   267.0|\n",
      "|1987|   10|        25|        7|     1532|   MRY| LAX|   267.0|\n",
      "|1987|   10|         1|        4|     1546|   BUR| LAS|   223.0|\n",
      "|1987|   10|         7|        3|     1546|   BUR| LAS|   223.0|\n",
      "|1987|   10|        16|        5|     1547|   LAX| SFO|   337.0|\n",
      "|1987|   10|         1|        4|     1548|   SMF| BUR|   358.0|\n",
      "|1987|   10|         6|        2|     1549|   LAS| LAX|   236.0|\n",
      "|1987|   10|         1|        4|     1550|   SJC| BUR|   296.0|\n",
      "|1987|   10|        29|        4|     1550|   SJC| BUR|   296.0|\n",
      "+----+-----+----------+---------+---------+------+----+--------+\n",
      "only showing top 20 rows\n",
      "\n"
     ]
    }
   ],
   "source": [
    "cancelled_ed.show()"
   ]
  },
  {
   "cell_type": "code",
   "execution_count": 91,
   "metadata": {},
   "outputs": [],
   "source": [
    "#cancelled_ed.toPandas().to_csv('cancel.csv')"
   ]
  },
  {
   "cell_type": "markdown",
   "metadata": {},
   "source": [
    "### Graph Database for Cancellation"
   ]
  },
  {
   "cell_type": "code",
   "execution_count": 43,
   "metadata": {},
   "outputs": [],
   "source": [
    "from graphframes import *"
   ]
  },
  {
   "cell_type": "code",
   "execution_count": 44,
   "metadata": {},
   "outputs": [
    {
     "name": "stdout",
     "output_type": "stream",
     "text": [
      "+----------+-----------+-------------+----+---+--------+----+------------+-----------+--------------------+--------+-----------------+\n",
      "|Airport ID|       City|      Country|DBTZ|DST|IATA/FAA|ICAO|    Latitude|  Longitude|                Name|Timezone|     destinations|\n",
      "+----------+-----------+-------------+----+---+--------+----+------------+-----------+--------------------+--------+-----------------+\n",
      "|      7252|  Postville|       Canada|   A| -4|     YSO|CCD4|   54.910278| -59.785278|   Postville Airport|     223|[5492, 188, 5502]|\n",
      "|      6972|      Osubi|      Nigeria|   U|  1|     QRW|DNSU|        5.31|       5.45|       Warri Airport|      50|       [260, 273]|\n",
      "|      4026|   Rockland|United States|   A| -5|     RKD|KRKD|  44.0601111|-69.0992303|Knox County Regio...|      56|           [3448]|\n",
      "|      4027|Jacksn Hole|United States|   A| -7|     JAC|KJAC|43.607333333| -110.73775|Jackson Hole Airport|    6451|     [3536, 3751]|\n",
      "|      4024|     Flores|    Guatemala|   U| -6|     FRS|MGTK|   16.913819| -89.866383|Mundo Maya Intern...|     427|     [1957, 1767]|\n",
      "+----------+-----------+-------------+----+---+--------+----+------------+-----------+--------------------+--------+-----------------+\n",
      "only showing top 5 rows\n",
      "\n"
     ]
    }
   ],
   "source": [
    "dataDir = \"/user/shengyan/project\"\n",
    "airports = spark.read.json(dataDir+\"/airport.json\", multiLine=True)\n",
    "airports.show(5)"
   ]
  },
  {
   "cell_type": "code",
   "execution_count": 45,
   "metadata": {},
   "outputs": [
    {
     "name": "stdout",
     "output_type": "stream",
     "text": [
      "+-----------+-------------+--------------------+--------+\n",
      "|       City|      Country|                Name|IATA/FAA|\n",
      "+-----------+-------------+--------------------+--------+\n",
      "|  Postville|       Canada|   Postville Airport|     YSO|\n",
      "|      Osubi|      Nigeria|       Warri Airport|     QRW|\n",
      "|   Rockland|United States|Knox County Regio...|     RKD|\n",
      "|Jacksn Hole|United States|Jackson Hole Airport|     JAC|\n",
      "|     Flores|    Guatemala|Mundo Maya Intern...|     FRS|\n",
      "+-----------+-------------+--------------------+--------+\n",
      "only showing top 5 rows\n",
      "\n"
     ]
    }
   ],
   "source": [
    "airports = airports.select(\"City\", \"Country\", \"Name\", \"IATA/FAA\")\n",
    "airports.show(5)"
   ]
  },
  {
   "cell_type": "markdown",
   "metadata": {},
   "source": [
    "#### Create graph database"
   ]
  },
  {
   "cell_type": "code",
   "execution_count": 46,
   "metadata": {},
   "outputs": [
    {
     "ename": "NameError",
     "evalue": "name 'cancelled_ed' is not defined",
     "output_type": "error",
     "traceback": [
      "\u001b[0;31m---------------------------------------------------------------------------\u001b[0m",
      "\u001b[0;31mNameError\u001b[0m                                 Traceback (most recent call last)",
      "\u001b[0;32m<ipython-input-46-549d1378a8c5>\u001b[0m in \u001b[0;36m<module>\u001b[0;34m()\u001b[0m\n\u001b[1;32m      1\u001b[0m \u001b[0mairports\u001b[0m \u001b[0;34m=\u001b[0m \u001b[0mairports\u001b[0m\u001b[0;34m.\u001b[0m\u001b[0mwithColumn\u001b[0m\u001b[0;34m(\u001b[0m\u001b[0;34m\"id\"\u001b[0m\u001b[0;34m,\u001b[0m\u001b[0mairports\u001b[0m\u001b[0;34m[\u001b[0m\u001b[0;34m\"IATA/FAA\"\u001b[0m\u001b[0;34m]\u001b[0m\u001b[0;34m)\u001b[0m\u001b[0;34m\u001b[0m\u001b[0;34m\u001b[0m\u001b[0m\n\u001b[1;32m      2\u001b[0m \u001b[0;34m\u001b[0m\u001b[0m\n\u001b[0;32m----> 3\u001b[0;31m \u001b[0mcancelled_ed\u001b[0m \u001b[0;34m=\u001b[0m \u001b[0mcancelled_ed\u001b[0m\u001b[0;34m.\u001b[0m\u001b[0mwithColumn\u001b[0m\u001b[0;34m(\u001b[0m\u001b[0;34m\"src\"\u001b[0m\u001b[0;34m,\u001b[0m \u001b[0mcancelled_ed\u001b[0m\u001b[0;34m[\u001b[0m\u001b[0;34m\"Origin\"\u001b[0m\u001b[0;34m]\u001b[0m\u001b[0;34m)\u001b[0m\u001b[0;34m\u001b[0m\u001b[0;34m\u001b[0m\u001b[0m\n\u001b[0m\u001b[1;32m      4\u001b[0m \u001b[0mcancelled_ed\u001b[0m \u001b[0;34m=\u001b[0m \u001b[0mcancelled_ed\u001b[0m\u001b[0;34m.\u001b[0m\u001b[0mwithColumn\u001b[0m\u001b[0;34m(\u001b[0m\u001b[0;34m\"dst\"\u001b[0m\u001b[0;34m,\u001b[0m \u001b[0mcancelled_ed\u001b[0m\u001b[0;34m[\u001b[0m\u001b[0;34m\"Dest\"\u001b[0m\u001b[0;34m]\u001b[0m\u001b[0;34m)\u001b[0m\u001b[0;34m\u001b[0m\u001b[0;34m\u001b[0m\u001b[0m\n",
      "\u001b[0;31mNameError\u001b[0m: name 'cancelled_ed' is not defined"
     ]
    }
   ],
   "source": [
    "airports = airports.withColumn(\"id\",airports[\"IATA/FAA\"])\n",
    "\n",
    "cancelled_ed = cancelled_ed.withColumn(\"src\", cancelled_ed[\"Origin\"])\n",
    "cancelled_ed = cancelled_ed.withColumn(\"dst\", cancelled_ed[\"Dest\"])"
   ]
  },
  {
   "cell_type": "code",
   "execution_count": 43,
   "metadata": {},
   "outputs": [],
   "source": [
    "graph_cc = GraphFrame(airports, cancelled_ed)"
   ]
  },
  {
   "cell_type": "markdown",
   "metadata": {},
   "source": [
    "#### Top cancel airports"
   ]
  },
  {
   "cell_type": "code",
   "execution_count": 44,
   "metadata": {},
   "outputs": [
    {
     "name": "stdout",
     "output_type": "stream",
     "text": [
      "+---+------+\n",
      "| id|degree|\n",
      "+---+------+\n",
      "|ORD|376120|\n",
      "|ATL|219681|\n",
      "|DFW|188762|\n",
      "|EWR|151413|\n",
      "|LGA|148231|\n",
      "|BOS|138702|\n",
      "|DTW|133044|\n",
      "|LAX|124380|\n",
      "|MSP|111678|\n",
      "|SFO|100366|\n",
      "+---+------+\n",
      "only showing top 10 rows\n",
      "\n"
     ]
    }
   ],
   "source": [
    "graph_cc.degrees.orderBy(\"degree\", ascending=False).show(10)"
   ]
  },
  {
   "cell_type": "code",
   "execution_count": 45,
   "metadata": {},
   "outputs": [
    {
     "name": "stdout",
     "output_type": "stream",
     "text": [
      "+----+-----+----------+---------+---------+------+----+--------+---+---+\n",
      "|Year|Month|DayofMonth|DayOfWeek|FlightNum|Origin|Dest|Distance|src|dst|\n",
      "+----+-----+----------+---------+---------+------+----+--------+---+---+\n",
      "|1987|   10|        13|        2|      579|   ORD| STL|   258.0|ORD|STL|\n",
      "|1987|   10|        10|        6|      610|   ORD| STL|   258.0|ORD|STL|\n",
      "|1987|   10|        13|        2|      657|   ORD| STL|   258.0|ORD|STL|\n",
      "|1987|   10|        30|        5|       33|   ORD| SEA|  1721.0|ORD|SEA|\n",
      "|1987|   10|         4|        7|       74|   ORD| LGA|   733.0|ORD|LGA|\n",
      "|1987|   10|        30|        5|      101|   ORD| LAX|  1745.0|ORD|LAX|\n",
      "|1987|   10|        30|        5|      105|   ORD| LAX|  1745.0|ORD|LAX|\n",
      "|1987|   10|        12|        1|      115|   ORD| LAX|  1745.0|ORD|LAX|\n",
      "|1987|   10|         6|        2|      137|   ORD| SFO|  1846.0|ORD|SFO|\n",
      "|1987|   10|        12|        1|      141|   ORD| PDX|  1739.0|ORD|PDX|\n",
      "|1987|   10|        29|        4|      222|   ORD| ISP|   773.0|ORD|ISP|\n",
      "|1987|   10|        16|        5|      258|   ORD| EWR|   719.0|ORD|EWR|\n",
      "|1987|   10|         3|        6|      266|   ORD| BWI|   622.0|ORD|BWI|\n",
      "|1987|   10|        27|        2|      266|   ORD| BWI|   622.0|ORD|BWI|\n",
      "|1987|   10|         5|        1|      269|   ORD| SAN|  1723.0|ORD|SAN|\n",
      "|1987|   10|        25|        7|      312|   ORD| CVG|   264.0|ORD|CVG|\n",
      "|1987|   10|        12|        1|      376|   ORD| MIA|  1197.0|ORD|MIA|\n",
      "|1987|   10|        25|        7|      381|   ORD| OMA|   416.0|ORD|OMA|\n",
      "|1987|   10|        12|        1|      420|   ORD| FLL|  1182.0|ORD|FLL|\n",
      "|1987|   10|        24|        6|      443|   ORD| LAX|  1745.0|ORD|LAX|\n",
      "+----+-----+----------+---------+---------+------+----+--------+---+---+\n",
      "only showing top 20 rows\n",
      "\n"
     ]
    }
   ],
   "source": [
    "graph_cc.edges.filter(\"Origin='ORD'\").show()"
   ]
  },
  {
   "cell_type": "code",
   "execution_count": 46,
   "metadata": {},
   "outputs": [
    {
     "name": "stdout",
     "output_type": "stream",
     "text": [
      "+---+---+-----+\n",
      "|src|dst|count|\n",
      "+---+---+-----+\n",
      "|LAX|SFO|13135|\n",
      "|SFO|LAX|12869|\n",
      "|ORD|MSP|11085|\n",
      "|MSP|ORD|11076|\n",
      "|LGA|ORD|10690|\n",
      "|EWR|ORD|10648|\n",
      "|ORD|EWR|10240|\n",
      "|ORD|LGA|10181|\n",
      "|BOS|ORD| 8592|\n",
      "|HOU|DAL| 8442|\n",
      "+---+---+-----+\n",
      "only showing top 10 rows\n",
      "\n"
     ]
    }
   ],
   "source": [
    "#### Most cancelled flights\n",
    "cancelRouteCount = graph_cc.edges.groupBy(\"src\", \"dst\").count().orderBy(\"count\", ascending = False)\n",
    "\n",
    "cancelRouteCount.show(10)"
   ]
  },
  {
   "cell_type": "code",
   "execution_count": 47,
   "metadata": {},
   "outputs": [
    {
     "name": "stdout",
     "output_type": "stream",
     "text": [
      "+----+-----+-----+\n",
      "|Year|Month|count|\n",
      "+----+-----+-----+\n",
      "|1998|    9|32893|\n",
      "|1996|    1|29595|\n",
      "|2000|   12|28600|\n",
      "|1999|    1|26543|\n",
      "|2007|    2|25465|\n",
      "|2005|    1|25084|\n",
      "|2000|    1|24515|\n",
      "|1989|    3|22858|\n",
      "|2007|   12|21493|\n",
      "|2008|    2|20596|\n",
      "+----+-----+-----+\n",
      "only showing top 10 rows\n",
      "\n"
     ]
    }
   ],
   "source": [
    "#### Cancelled flights by time\n",
    "cancelYearCount = graph_cc.edges.groupBy(\"Year\", 'Month').count().orderBy(\"count\", ascending = False)\n",
    "\n",
    "cancelYearCount.show(10)"
   ]
  },
  {
   "cell_type": "code",
   "execution_count": 48,
   "metadata": {},
   "outputs": [
    {
     "name": "stdout",
     "output_type": "stream",
     "text": [
      "+---------+------+\n",
      "|DayofWeek| count|\n",
      "+---------+------+\n",
      "|        2|340536|\n",
      "|        3|326892|\n",
      "|        4|323270|\n",
      "|        1|320027|\n",
      "|        5|312707|\n",
      "|        6|243039|\n",
      "|        7|239074|\n",
      "+---------+------+\n",
      "\n"
     ]
    }
   ],
   "source": [
    "#### Cancelled flights by day\n",
    "cancelDayCount = graph_cc.edges.groupBy(\"DayofWeek\").count().orderBy(\"count\", ascending = False)\n",
    "\n",
    "cancelDayCount.show(10)"
   ]
  },
  {
   "cell_type": "code",
   "execution_count": null,
   "metadata": {},
   "outputs": [],
   "source": [
    "#### Cancelled flights by month\n",
    "cancelMonthCount = graph_cc.edges.groupBy(\"Month\").count().orderBy(\"count\", ascending = False)\n",
    "\n",
    "cancelMonthCount.show(10)"
   ]
  },
  {
   "cell_type": "code",
   "execution_count": 51,
   "metadata": {},
   "outputs": [],
   "source": [
    "#### Cancelled by distance\n",
    "\n",
    "\n"
   ]
  },
  {
   "cell_type": "code",
   "execution_count": 52,
   "metadata": {},
   "outputs": [
    {
     "name": "stdout",
     "output_type": "stream",
     "text": [
      "+-----+-----------------+-------------+--------------------+--------+---+\n",
      "|count|             City|      Country|                Name|IATA/FAA| id|\n",
      "+-----+-----------------+-------------+--------------------+--------+---+\n",
      "| 2768|          Atlanta|United States|Hartsfield Jackso...|     ATL|ATL|\n",
      "| 2727|          Chicago|United States|  Chicago Ohare Intl|     ORD|ORD|\n",
      "| 2486|Dallas-Fort Worth|United States|Dallas Fort Worth...|     DFW|DFW|\n",
      "| 2442|       Cincinnati|United States|Cincinnati Northe...|     CVG|CVG|\n",
      "| 2247|      Minneapolis|United States|Minneapolis St Pa...|     MSP|MSP|\n",
      "| 2236|          Detroit|United States|Detroit Metro Way...|     DTW|DTW|\n",
      "| 2188|          Houston|United States|George Bush Inter...|     IAH|IAH|\n",
      "| 2080|           Newark|United States| Newark Liberty Intl|     EWR|EWR|\n",
      "| 2005|           Denver|United States|         Denver Intl|     DEN|DEN|\n",
      "| 1939|       Washington|United States|Washington Dulles...|     IAD|IAD|\n",
      "| 1935|       Pittsburgh|United States|     Pittsburgh Intl|     PIT|PIT|\n",
      "| 1928|        Charlotte|United States|Charlotte Douglas...|     CLT|CLT|\n",
      "| 1902|        St. Louis|United States|Lambert St Louis ...|     STL|STL|\n",
      "| 1891|          Orlando|United States|        Orlando Intl|     MCO|MCO|\n",
      "| 1843|        Las Vegas|United States|      Mc Carran Intl|     LAS|LAS|\n",
      "| 1770|        Cleveland|United States|Cleveland Hopkins...|     CLE|CLE|\n",
      "| 1767|        Baltimore|United States|Baltimore Washing...|     BWI|BWI|\n",
      "| 1735|     Philadelphia|United States|   Philadelphia Intl|     PHL|PHL|\n",
      "| 1724|          Phoenix|United States|Phoenix Sky Harbo...|     PHX|PHX|\n",
      "| 1668|         New York|United States|          La Guardia|     LGA|LGA|\n",
      "+-----+-----------------+-------------+--------------------+--------+---+\n",
      "only showing top 20 rows\n",
      "\n"
     ]
    }
   ],
   "source": [
    "graph_cc.triangleCount().orderBy(\"count\", ascending=False).show()"
   ]
  },
  {
   "cell_type": "code",
   "execution_count": 59,
   "metadata": {},
   "outputs": [],
   "source": [
    "#### Page Rank\n",
    "# results = graph.pageRank(resetProbability=0.15, maxIter= 10)\n",
    "# results.vertices.orderBy('pagerank',ascending=False).show()"
   ]
  },
  {
   "cell_type": "markdown",
   "metadata": {},
   "source": [
    "### See DataBricks"
   ]
  },
  {
   "cell_type": "markdown",
   "metadata": {},
   "source": [
    "### Delay Exploration"
   ]
  },
  {
   "cell_type": "code",
   "execution_count": 30,
   "metadata": {},
   "outputs": [],
   "source": [
    "delayed = df_final_ed.filter((df_final_ed.ArrDelay != 0) | (df_final_ed.DepDelay != 0))"
   ]
  },
  {
   "cell_type": "code",
   "execution_count": 31,
   "metadata": {},
   "outputs": [
    {
     "data": {
      "text/plain": [
       "81932087"
      ]
     },
     "execution_count": 31,
     "metadata": {},
     "output_type": "execute_result"
    }
   ],
   "source": [
    "delayed.count()"
   ]
  },
  {
   "cell_type": "code",
   "execution_count": 32,
   "metadata": {},
   "outputs": [],
   "source": [
    "delayed = delayed.drop('Cancelled', 'DepTime', 'ArrTime')"
   ]
  },
  {
   "cell_type": "code",
   "execution_count": 33,
   "metadata": {},
   "outputs": [],
   "source": [
    "delayed_nr = delayed.drop('CarrierDelay', 'WeatherDelay', 'NASDelay', 'SecurityDelay', 'LateAircraftDelay')"
   ]
  },
  {
   "cell_type": "code",
   "execution_count": 34,
   "metadata": {},
   "outputs": [
    {
     "data": {
      "text/html": [
       "<div>\n",
       "<style scoped>\n",
       "    .dataframe tbody tr th:only-of-type {\n",
       "        vertical-align: middle;\n",
       "    }\n",
       "\n",
       "    .dataframe tbody tr th {\n",
       "        vertical-align: top;\n",
       "    }\n",
       "\n",
       "    .dataframe thead th {\n",
       "        text-align: right;\n",
       "    }\n",
       "</style>\n",
       "<table border=\"1\" class=\"dataframe\">\n",
       "  <thead>\n",
       "    <tr style=\"text-align: right;\">\n",
       "      <th></th>\n",
       "      <th>Year</th>\n",
       "      <th>Month</th>\n",
       "      <th>DayofMonth</th>\n",
       "      <th>DayOfWeek</th>\n",
       "      <th>FlightNum</th>\n",
       "      <th>ActualElapsedTime</th>\n",
       "      <th>AirTime</th>\n",
       "      <th>ArrDelay</th>\n",
       "      <th>DepDelay</th>\n",
       "      <th>Origin</th>\n",
       "      <th>Dest</th>\n",
       "      <th>Distance</th>\n",
       "      <th>TaxiIn</th>\n",
       "      <th>TaxiOut</th>\n",
       "      <th>Diverted</th>\n",
       "      <th>arr_hour</th>\n",
       "      <th>arr_min</th>\n",
       "      <th>dep_hour</th>\n",
       "      <th>dep_min</th>\n",
       "    </tr>\n",
       "  </thead>\n",
       "  <tbody>\n",
       "    <tr>\n",
       "      <th>0</th>\n",
       "      <td>0.0</td>\n",
       "      <td>0.0</td>\n",
       "      <td>0.0</td>\n",
       "      <td>0.0</td>\n",
       "      <td>0.0</td>\n",
       "      <td>0.0</td>\n",
       "      <td>0.0</td>\n",
       "      <td>0.0</td>\n",
       "      <td>0.0</td>\n",
       "      <td>0.0</td>\n",
       "      <td>0.0</td>\n",
       "      <td>0.0</td>\n",
       "      <td>0.0</td>\n",
       "      <td>0.0</td>\n",
       "      <td>0.0</td>\n",
       "      <td>0.0</td>\n",
       "      <td>0.0</td>\n",
       "      <td>0.0</td>\n",
       "      <td>0.0</td>\n",
       "    </tr>\n",
       "  </tbody>\n",
       "</table>\n",
       "</div>"
      ],
      "text/plain": [
       "   Year  Month  DayofMonth  DayOfWeek  FlightNum  ActualElapsedTime  AirTime  \\\n",
       "0   0.0    0.0         0.0        0.0        0.0                0.0      0.0   \n",
       "\n",
       "   ArrDelay  DepDelay  Origin  Dest  Distance  TaxiIn  TaxiOut  Diverted  \\\n",
       "0       0.0       0.0     0.0   0.0       0.0     0.0      0.0       0.0   \n",
       "\n",
       "   arr_hour  arr_min  dep_hour  dep_min  \n",
       "0       0.0      0.0       0.0      0.0  "
      ]
     },
     "execution_count": 34,
     "metadata": {},
     "output_type": "execute_result"
    }
   ],
   "source": [
    "delay_missing = delayed_nr.select([(count(when(isnan(c) | col(c).isNull(), c))/count(lit(1))).alias(c) for c in delayed_nr.columns])\n",
    "delay_missing.toPandas()"
   ]
  },
  {
   "cell_type": "markdown",
   "metadata": {},
   "source": [
    "#### Convert time to int"
   ]
  },
  {
   "cell_type": "code",
   "execution_count": 35,
   "metadata": {},
   "outputs": [],
   "source": [
    "delayed_nr = delayed_nr.withColumn(\"arr_hour\",delayed_nr.arr_hour.cast('int'))\n",
    "delayed_nr = delayed_nr.withColumn(\"arr_min\",delayed_nr.arr_min.cast('int'))\n",
    "delayed_nr = delayed_nr.withColumn(\"dep_hour\",delayed_nr.dep_hour.cast('int'))\n",
    "delayed_nr = delayed_nr.withColumn(\"dep_min\",delayed_nr.dep_min.cast('int'))"
   ]
  },
  {
   "cell_type": "markdown",
   "metadata": {},
   "source": [
    "### Delay Graph"
   ]
  },
  {
   "cell_type": "code",
   "execution_count": 48,
   "metadata": {},
   "outputs": [],
   "source": [
    "delayed_nr = delayed_nr.withColumn(\"src\", delayed_nr[\"Origin\"])\n",
    "delayed_nr = delayed_nr.withColumn(\"dst\", delayed_nr[\"Dest\"])"
   ]
  },
  {
   "cell_type": "code",
   "execution_count": 49,
   "metadata": {},
   "outputs": [],
   "source": [
    "graph_dl = GraphFrame(airports, delayed_nr)"
   ]
  },
  {
   "cell_type": "markdown",
   "metadata": {},
   "source": [
    "#### Top delay airports"
   ]
  },
  {
   "cell_type": "code",
   "execution_count": 50,
   "metadata": {},
   "outputs": [
    {
     "name": "stdout",
     "output_type": "stream",
     "text": [
      "+---+-------+\n",
      "| id| degree|\n",
      "+---+-------+\n",
      "|ORD|8793480|\n",
      "|ATL|8580341|\n",
      "|DFW|7658324|\n",
      "|LAX|5558201|\n",
      "|PHX|4639921|\n",
      "|DEN|4357881|\n",
      "|IAH|4315402|\n",
      "|DTW|3969188|\n",
      "|LAS|3775613|\n",
      "|MSP|3733255|\n",
      "+---+-------+\n",
      "only showing top 10 rows\n",
      "\n"
     ]
    }
   ],
   "source": [
    "graph_dl.degrees.orderBy(\"degree\", ascending=False).show(10)"
   ]
  },
  {
   "cell_type": "code",
   "execution_count": 56,
   "metadata": {},
   "outputs": [],
   "source": [
    "delayAirCount = graph_dl.degrees.orderBy(\"degree\", ascending=False)"
   ]
  },
  {
   "cell_type": "code",
   "execution_count": 51,
   "metadata": {},
   "outputs": [
    {
     "name": "stdout",
     "output_type": "stream",
     "text": [
      "+---+---+------+\n",
      "|src|dst| count|\n",
      "+---+---+------+\n",
      "|LAX|LAS|191489|\n",
      "|LAS|LAX|190543|\n",
      "|SFO|LAX|172388|\n",
      "|LAX|SFO|170938|\n",
      "|PHX|LAX|167547|\n",
      "|LAX|PHX|165125|\n",
      "|ORD|MSP|158188|\n",
      "|MSP|ORD|157033|\n",
      "|PHX|LAS|148253|\n",
      "|LAS|PHX|146740|\n",
      "+---+---+------+\n",
      "only showing top 10 rows\n",
      "\n"
     ]
    }
   ],
   "source": [
    "#### Most delayed flights\n",
    "delayRouteCount = graph_dl.edges.groupBy(\"src\", \"dst\").count().orderBy(\"count\", ascending = False)\n",
    "\n",
    "delayRouteCount.show(10)"
   ]
  },
  {
   "cell_type": "code",
   "execution_count": 52,
   "metadata": {},
   "outputs": [
    {
     "name": "stdout",
     "output_type": "stream",
     "text": [
      "+---------+--------+\n",
      "|DayofWeek|   count|\n",
      "+---------+--------+\n",
      "|        5|12044990|\n",
      "|        1|12027889|\n",
      "|        4|11995209|\n",
      "|        3|11967916|\n",
      "|        2|11915167|\n",
      "|        7|11479331|\n",
      "|        6|10501585|\n",
      "+---------+--------+\n",
      "\n"
     ]
    }
   ],
   "source": [
    "#### Delayed flights by day\n",
    "delayDayCount = graph_dl.edges.groupBy(\"DayofWeek\").count().orderBy(\"count\", ascending = False)\n",
    "\n",
    "delayDayCount.show(10)"
   ]
  },
  {
   "cell_type": "code",
   "execution_count": 53,
   "metadata": {},
   "outputs": [
    {
     "name": "stdout",
     "output_type": "stream",
     "text": [
      "+-----+-------+\n",
      "|Month|  count|\n",
      "+-----+-------+\n",
      "|    8|7184289|\n",
      "|    7|7140436|\n",
      "|    3|7027267|\n",
      "|    5|6988913|\n",
      "|   10|6940299|\n",
      "|    6|6896222|\n",
      "|    4|6826139|\n",
      "|   12|6759602|\n",
      "|    1|6730842|\n",
      "|   11|6615829|\n",
      "+-----+-------+\n",
      "only showing top 10 rows\n",
      "\n"
     ]
    }
   ],
   "source": [
    "#### Delayed flights by month\n",
    "delayMonthCount = graph_dl.edges.groupBy(\"Month\").count().orderBy(\"count\", ascending = False)\n",
    "\n",
    "delayMonthCount.show(10)"
   ]
  },
  {
   "cell_type": "code",
   "execution_count": 54,
   "metadata": {
    "scrolled": true
   },
   "outputs": [
    {
     "name": "stdout",
     "output_type": "stream",
     "text": [
      "+--------+-------+\n",
      "|dep_hour|  count|\n",
      "+--------+-------+\n",
      "|       8|5547762|\n",
      "|      17|5512042|\n",
      "|       7|5311855|\n",
      "|      13|5243648|\n",
      "|      12|5219319|\n",
      "|       9|5193573|\n",
      "|      11|5135110|\n",
      "|      15|5080681|\n",
      "|       6|4998156|\n",
      "|      18|4977982|\n",
      "+--------+-------+\n",
      "only showing top 10 rows\n",
      "\n"
     ]
    }
   ],
   "source": [
    "#### Delayed flights by dep_time\n",
    "delayDepCount = graph_dl.edges.groupBy(\"dep_hour\").count().orderBy(\"count\", ascending = False)\n",
    "\n",
    "delayDepCount.show(10)"
   ]
  },
  {
   "cell_type": "markdown",
   "metadata": {},
   "source": [
    "### Plot the delay"
   ]
  },
  {
   "cell_type": "code",
   "execution_count": 69,
   "metadata": {},
   "outputs": [],
   "source": [
    "import seaborn as sns\n",
    "import matplotlib.pyplot as plt"
   ]
  },
  {
   "cell_type": "code",
   "execution_count": 57,
   "metadata": {},
   "outputs": [],
   "source": [
    "delayRouteCount = delayRouteCount.toPandas()\n",
    "delayDayCount = delayDayCount.toPandas()\n",
    "delayMonthCount = delayMonthCount.toPandas()\n",
    "delayDepCount = delayDepCount.toPandas()\n",
    "delayAirCount = delayAirCount.toPandas()"
   ]
  },
  {
   "cell_type": "code",
   "execution_count": 96,
   "metadata": {},
   "outputs": [
    {
     "data": {
      "image/png": "[encoded data removed]",
      "text/plain": [
       "<Figure size 640x480 with 1 Axes>"
      ]
     },
     "metadata": {},
     "output_type": "display_data"
    }
   ],
   "source": [
    "### Plot day\n",
    "plt.figure(figsize=(8, 6), dpi=80)\n",
    "sns.barplot(x='DayofWeek', y = 'count', data=delayDayCount)\n",
    "plt.title('Most Delayed by Day')\n",
    "plt.xlabel('Day of Week')\n",
    "plt.ylabel('Count')\n",
    "plt.show()"
   ]
  },
  {
   "cell_type": "code",
   "execution_count": 138,
   "metadata": {},
   "outputs": [
    {
     "data": {
      "image/png": "[encoded data removed]",
      "text/plain": [
       "<Figure size 640x480 with 1 Axes>"
      ]
     },
     "metadata": {},
     "output_type": "display_data"
    }
   ],
   "source": [
    "plt.figure(figsize=(8, 6), dpi=80)\n",
    "ax2 = sns.barplot(x='Month', y = 'count', data=delayMonthCount)\n",
    "plt.title('Most Delayed by Month')\n",
    "plt.xlabel('Month')\n",
    "plt.ylabel('Count')\n",
    "plt.show()"
   ]
  },
  {
   "cell_type": "code",
   "execution_count": 134,
   "metadata": {},
   "outputs": [
    {
     "data": {
      "image/png": "[encoded data removed]",
      "text/plain": [
       "<Figure size 800x480 with 1 Axes>"
      ]
     },
     "metadata": {},
     "output_type": "display_data"
    }
   ],
   "source": [
    "plt.figure(figsize=(10, 6), dpi=80)\n",
    "delayAirCount_20 = delayAirCount[0:20]\n",
    "ax3 = sns.barplot(x='id', y = 'degree', data=delayAirCount_20)\n",
    "plt.title('Most Delayed Airports')\n",
    "plt.xlabel('Airports')\n",
    "plt.ylabel('Degree')\n",
    "plt.show()"
   ]
  },
  {
   "cell_type": "code",
   "execution_count": 79,
   "metadata": {},
   "outputs": [],
   "source": [
    "delayRouteCount['Flight Route'] = delayRouteCount['src'] + '-->' + delayRouteCount['dst']"
   ]
  },
  {
   "cell_type": "code",
   "execution_count": 90,
   "metadata": {},
   "outputs": [
    {
     "data": {
      "image/png": "[encoded data removed]",
      "text/plain": [
       "<Figure size 800x480 with 1 Axes>"
      ]
     },
     "metadata": {},
     "output_type": "display_data"
    }
   ],
   "source": [
    "plt.figure(figsize=(10, 6), dpi=80)\n",
    "delayRouteCount_20 = delayRouteCount[0:20]\n",
    "ax4 = sns.barplot(x='Flight Route', y = 'count', data=delayRouteCount_20)\n",
    "plt.xticks(rotation=40)\n",
    "plt.title('Most Delayed Air Routes')\n",
    "plt.xlabel('Air Routes')\n",
    "plt.ylabel('Count')\n",
    "plt.show()"
   ]
  },
  {
   "cell_type": "code",
   "execution_count": 99,
   "metadata": {},
   "outputs": [],
   "source": [
    "delayBCount = graph_dl.edges.groupBy(\"Origin\", 'DayofWeek').count().orderBy(\"count\", ascending = False)"
   ]
  },
  {
   "cell_type": "markdown",
   "metadata": {},
   "source": [
    "## 2004-2007"
   ]
  },
  {
   "cell_type": "code",
   "execution_count": 104,
   "metadata": {},
   "outputs": [],
   "source": [
    "df_04 = df2.drop('CRSDepTime', 'CRSArrTime', 'CRSElapsedTime','TailNum', 'UniqueCarrier', 'CancellationCode')"
   ]
  },
  {
   "cell_type": "code",
   "execution_count": 105,
   "metadata": {},
   "outputs": [],
   "source": [
    "df_04 = df_04.filter((df_04.Year >= 2004) & (df_04.Year <= 2007))"
   ]
  },
  {
   "cell_type": "code",
   "execution_count": 106,
   "metadata": {},
   "outputs": [],
   "source": [
    "df_04 = df_04.drop('CancellationCode')"
   ]
  },
  {
   "cell_type": "markdown",
   "metadata": {},
   "source": [
    "#### For all the flights taken off"
   ]
  },
  {
   "cell_type": "code",
   "execution_count": 107,
   "metadata": {},
   "outputs": [],
   "source": [
    "df_04_fl = df_04.dropna(subset = ('ArrTime'))"
   ]
  },
  {
   "cell_type": "code",
   "execution_count": 108,
   "metadata": {},
   "outputs": [],
   "source": [
    "df_04_fl = df_04_fl.where(df_04_fl.Cancelled == 0)"
   ]
  },
  {
   "cell_type": "code",
   "execution_count": 109,
   "metadata": {},
   "outputs": [],
   "source": [
    "df_04_fl = df_04_fl.withColumn(\"arr_hour\",expr(\"substring(ArrTime, 1, length(ArrTime)-4)\"))\n",
    "df_04_fl = df_04_fl.withColumn(\"arr_min\",expr(\"substring(ArrTime, length(ArrTime)-3, 2)\"))\n",
    "df_04_fl = df_04_fl.withColumn(\"dep_hour\",expr(\"substring(DepTime, 1, length(DepTime)-4)\"))\n",
    "df_04_fl = df_04_fl.withColumn(\"dep_min\",expr(\"substring(DepTime, length(DepTime)-3, 2)\"))"
   ]
  },
  {
   "cell_type": "code",
   "execution_count": 110,
   "metadata": {},
   "outputs": [],
   "source": [
    "df_04_fl = df_04_fl.withColumn(\"arr_hour\",df_04_fl.arr_hour.cast('int'))\n",
    "df_04_fl = df_04_fl.withColumn(\"arr_min\",df_04_fl.arr_min.cast('int'))\n",
    "df_04_fl = df_04_fl.withColumn(\"dep_hour\",df_04_fl.dep_hour.cast('int'))\n",
    "df_04_fl = df_04_fl.withColumn(\"dep_min\",df_04_fl.dep_min.cast('int'))"
   ]
  },
  {
   "cell_type": "markdown",
   "metadata": {},
   "source": [
    "#### See if there is missing value"
   ]
  },
  {
   "cell_type": "code",
   "execution_count": 113,
   "metadata": {},
   "outputs": [],
   "source": [
    "##missing_04 = df_04_fl.select([(count(when(isnan(c) | col(c).isNull(), c))/count(lit(1))).alias(c) for c in df_04_fl.columns])\n",
    "##missing_04.toPandas()"
   ]
  },
  {
   "cell_type": "markdown",
   "metadata": {},
   "source": [
    "#### Group by missing reason and see if taxi time, and Delay time differs"
   ]
  },
  {
   "cell_type": "code",
   "execution_count": 114,
   "metadata": {},
   "outputs": [],
   "source": [
    "df_04_wd = df_04.filter(df_04.WeatherDelay == 1)\n",
    "df_04_cd = df_04.filter(df_04.CarrierDelay == 1)\n",
    "df_04_nd = df_04.filter(df_04.NASDelay == 1)\n",
    "df_04_sd = df_04.filter(df_04.SecurityDelay == 1)\n",
    "df_04_ld = df_04.filter(df_04.LateAircraftDelay == 1)\n",
    "df_04_nod = df_04.filter((df_04.WeatherDelay == 0) & (df_04.CarrierDelay == 0) & (df_04.NASDelay == 0) & \n",
    "                         (df_04.SecurityDelay == 0) & (df_04.LateAircraftDelay == 0))"
   ]
  },
  {
   "cell_type": "code",
   "execution_count": 115,
   "metadata": {},
   "outputs": [
    {
     "name": "stdout",
     "output_type": "stream",
     "text": [
      "+-----------------+----------------+-----------------+------------------+\n",
      "|    avg(DepDelay)|     avg(TaxiIn)|    avg(ArrDelay)|      avg(TaxiOut)|\n",
      "+-----------------+----------------+-----------------+------------------+\n",
      "|57.06498800959233|7.35431654676259|63.93657074340528|24.305875299760192|\n",
      "+-----------------+----------------+-----------------+------------------+\n",
      "\n"
     ]
    }
   ],
   "source": [
    "## Weather\n",
    "wd_p = df_04_wd.agg({'DepDelay': 'mean',\n",
    "              'ArrDelay': 'mean',\n",
    "              'TaxiIn':'mean',\n",
    "              'TaxiOut':'mean'})\n",
    "wd_p.show()"
   ]
  },
  {
   "cell_type": "code",
   "execution_count": 116,
   "metadata": {},
   "outputs": [
    {
     "name": "stdout",
     "output_type": "stream",
     "text": [
      "+------------------+----------------+----------------+----------------+\n",
      "|     avg(DepDelay)|     avg(TaxiIn)|   avg(ArrDelay)|    avg(TaxiOut)|\n",
      "+------------------+----------------+----------------+----------------+\n",
      "|39.888633058652445|6.70769207464857|42.2494546776539|17.6923170140572|\n",
      "+------------------+----------------+----------------+----------------+\n",
      "\n"
     ]
    }
   ],
   "source": [
    "## Carrier\n",
    "cd_p = df_04_cd.agg({'DepDelay': 'mean',\n",
    "              'ArrDelay': 'mean',\n",
    "              'TaxiIn':'mean',\n",
    "              'TaxiOut':'mean'})\n",
    "cd_p.show()"
   ]
  },
  {
   "cell_type": "code",
   "execution_count": 117,
   "metadata": {},
   "outputs": [
    {
     "name": "stdout",
     "output_type": "stream",
     "text": [
      "+------------------+----------------+-----------------+------------------+\n",
      "|     avg(DepDelay)|     avg(TaxiIn)|    avg(ArrDelay)|      avg(TaxiOut)|\n",
      "+------------------+----------------+-----------------+------------------+\n",
      "|49.861431719503415|8.92202852384381|50.14927381290046|16.403210205165127|\n",
      "+------------------+----------------+-----------------+------------------+\n",
      "\n"
     ]
    }
   ],
   "source": [
    "## NAS\n",
    "nd_p = df_04_nd.agg({'DepDelay': 'mean',\n",
    "              'ArrDelay': 'mean',\n",
    "              'TaxiIn':'mean',\n",
    "              'TaxiOut':'mean'})\n",
    "nd_p.show()"
   ]
  },
  {
   "cell_type": "code",
   "execution_count": 118,
   "metadata": {},
   "outputs": [
    {
     "name": "stdout",
     "output_type": "stream",
     "text": [
      "+-----------------+-----------------+-----------------+------------------+\n",
      "|    avg(DepDelay)|      avg(TaxiIn)|    avg(ArrDelay)|      avg(TaxiOut)|\n",
      "+-----------------+-----------------+-----------------+------------------+\n",
      "|37.10671936758893|6.709486166007905|40.16897233201581|17.599802371541504|\n",
      "+-----------------+-----------------+-----------------+------------------+\n",
      "\n"
     ]
    }
   ],
   "source": [
    "## Security\n",
    "sd_p = df_04_sd.agg({'DepDelay': 'mean',\n",
    "              'ArrDelay': 'mean',\n",
    "              'TaxiIn':'mean',\n",
    "              'TaxiOut':'mean'})\n",
    "sd_p.show()"
   ]
  },
  {
   "cell_type": "code",
   "execution_count": 119,
   "metadata": {},
   "outputs": [
    {
     "name": "stdout",
     "output_type": "stream",
     "text": [
      "+-----------------+-----------------+-----------------+------------------+\n",
      "|    avg(DepDelay)|      avg(TaxiIn)|    avg(ArrDelay)|      avg(TaxiOut)|\n",
      "+-----------------+-----------------+-----------------+------------------+\n",
      "|35.80901302030628|7.178270255683735|43.11583350199015|22.094245429400257|\n",
      "+-----------------+-----------------+-----------------+------------------+\n",
      "\n"
     ]
    }
   ],
   "source": [
    "## LateAircraft\n",
    "ld_p = df_04_ld.agg({'DepDelay': 'mean',\n",
    "              'ArrDelay': 'mean',\n",
    "              'TaxiIn':'mean',\n",
    "              'TaxiOut':'mean'})\n",
    "ld_p.show()"
   ]
  },
  {
   "cell_type": "code",
   "execution_count": 120,
   "metadata": {},
   "outputs": [
    {
     "name": "stdout",
     "output_type": "stream",
     "text": [
      "+-------------------+-----------------+------------------+------------------+\n",
      "|      avg(DepDelay)|      avg(TaxiIn)|     avg(ArrDelay)|      avg(TaxiOut)|\n",
      "+-------------------+-----------------+------------------+------------------+\n",
      "|-0.5984602617517774|6.511174939679565|-4.876161144288542|13.897128689653522|\n",
      "+-------------------+-----------------+------------------+------------------+\n",
      "\n"
     ]
    }
   ],
   "source": [
    "## No Delay\n",
    "nod_p = df_04_nod.agg({'DepDelay': 'mean',\n",
    "              'ArrDelay': 'mean',\n",
    "              'TaxiIn':'mean',\n",
    "              'TaxiOut':'mean'})\n",
    "nod_p.show()"
   ]
  },
  {
   "cell_type": "markdown",
   "metadata": {},
   "source": [
    "#### Rename Dataframes"
   ]
  },
  {
   "cell_type": "code",
   "execution_count": 145,
   "metadata": {},
   "outputs": [],
   "source": [
    "from functools import reduce\n",
    "\n",
    "oldColumns = nod_p.schema.names\n",
    "newColumns = [\"Dep\", \"TaxiIn\", \"Arr\", \"TaxiOut\"]"
   ]
  },
  {
   "cell_type": "code",
   "execution_count": 146,
   "metadata": {},
   "outputs": [
    {
     "name": "stdout",
     "output_type": "stream",
     "text": [
      "root\n",
      " |-- Dep: double (nullable = true)\n",
      " |-- TaxiIn: double (nullable = true)\n",
      " |-- Arr: double (nullable = true)\n",
      " |-- TaxiOut: double (nullable = true)\n",
      "\n"
     ]
    }
   ],
   "source": [
    "nod = reduce(lambda nod_p, idx: nod_p.withColumnRenamed(oldColumns[idx], newColumns[idx]), range(len(oldColumns)), nod_p)\n",
    "nod.printSchema()\n",
    "nod = nod.toPandas()"
   ]
  },
  {
   "cell_type": "code",
   "execution_count": 147,
   "metadata": {},
   "outputs": [
    {
     "name": "stdout",
     "output_type": "stream",
     "text": [
      "root\n",
      " |-- Dep: double (nullable = true)\n",
      " |-- TaxiIn: double (nullable = true)\n",
      " |-- Arr: double (nullable = true)\n",
      " |-- TaxiOut: double (nullable = true)\n",
      "\n"
     ]
    }
   ],
   "source": [
    "nd = reduce(lambda nd_p, idx: nd_p.withColumnRenamed(oldColumns[idx], newColumns[idx]), range(len(oldColumns)), nd_p)\n",
    "nd.printSchema()\n",
    "nd = nd.toPandas()"
   ]
  },
  {
   "cell_type": "code",
   "execution_count": 148,
   "metadata": {},
   "outputs": [
    {
     "name": "stdout",
     "output_type": "stream",
     "text": [
      "root\n",
      " |-- Dep: double (nullable = true)\n",
      " |-- TaxiIn: double (nullable = true)\n",
      " |-- Arr: double (nullable = true)\n",
      " |-- TaxiOut: double (nullable = true)\n",
      "\n"
     ]
    }
   ],
   "source": [
    "wd = reduce(lambda wd_p, idx: wd_p.withColumnRenamed(oldColumns[idx], newColumns[idx]), range(len(oldColumns)), wd_p)\n",
    "wd.printSchema()\n",
    "wd = wd.toPandas()"
   ]
  },
  {
   "cell_type": "code",
   "execution_count": 149,
   "metadata": {},
   "outputs": [
    {
     "name": "stdout",
     "output_type": "stream",
     "text": [
      "root\n",
      " |-- Dep: double (nullable = true)\n",
      " |-- TaxiIn: double (nullable = true)\n",
      " |-- Arr: double (nullable = true)\n",
      " |-- TaxiOut: double (nullable = true)\n",
      "\n"
     ]
    }
   ],
   "source": [
    "ld = reduce(lambda ld_p, idx: ld_p.withColumnRenamed(oldColumns[idx], newColumns[idx]), range(len(oldColumns)), ld_p)\n",
    "ld.printSchema()\n",
    "ld = ld.toPandas()"
   ]
  },
  {
   "cell_type": "code",
   "execution_count": 150,
   "metadata": {},
   "outputs": [
    {
     "name": "stdout",
     "output_type": "stream",
     "text": [
      "root\n",
      " |-- Dep: double (nullable = true)\n",
      " |-- TaxiIn: double (nullable = true)\n",
      " |-- Arr: double (nullable = true)\n",
      " |-- TaxiOut: double (nullable = true)\n",
      "\n"
     ]
    }
   ],
   "source": [
    "sd = reduce(lambda sd_p, idx: sd_p.withColumnRenamed(oldColumns[idx], newColumns[idx]), range(len(oldColumns)), sd_p)\n",
    "sd.printSchema()\n",
    "sd = sd.toPandas()"
   ]
  },
  {
   "cell_type": "code",
   "execution_count": 151,
   "metadata": {},
   "outputs": [
    {
     "name": "stdout",
     "output_type": "stream",
     "text": [
      "root\n",
      " |-- Dep: double (nullable = true)\n",
      " |-- TaxiIn: double (nullable = true)\n",
      " |-- Arr: double (nullable = true)\n",
      " |-- TaxiOut: double (nullable = true)\n",
      "\n"
     ]
    }
   ],
   "source": [
    "cd = reduce(lambda cd_p, idx: cd_p.withColumnRenamed(oldColumns[idx], newColumns[idx]), range(len(oldColumns)), cd_p)\n",
    "cd.printSchema()\n",
    "cd = cd.toPandas()"
   ]
  },
  {
   "cell_type": "code",
   "execution_count": 152,
   "metadata": {},
   "outputs": [],
   "source": [
    "summ = pd.concat([cd, wd, sd, ld, nd, nod], axis = 0)"
   ]
  },
  {
   "cell_type": "code",
   "execution_count": 153,
   "metadata": {},
   "outputs": [],
   "source": [
    "summ.insert(4, \"DelayReason\", ['Carrier Delay', 'Weather Delay', 'Security Delay', 'Late Aircraft Delay', \n",
    "                               'NAS Delay', 'No Delay'], True)"
   ]
  },
  {
   "cell_type": "code",
   "execution_count": 154,
   "metadata": {},
   "outputs": [],
   "source": [
    "summ_mt = summ.reset_index()\n",
    "summ_mt = summ_mt.melt(id_vars='DelayReason')"
   ]
  },
  {
   "cell_type": "code",
   "execution_count": 155,
   "metadata": {},
   "outputs": [],
   "source": [
    "summ_mt = summ_mt.loc[summ_mt['value'] != 0]"
   ]
  },
  {
   "cell_type": "code",
   "execution_count": 156,
   "metadata": {},
   "outputs": [
    {
     "data": {
      "text/html": [
       "<div>\n",
       "<style scoped>\n",
       "    .dataframe tbody tr th:only-of-type {\n",
       "        vertical-align: middle;\n",
       "    }\n",
       "\n",
       "    .dataframe tbody tr th {\n",
       "        vertical-align: top;\n",
       "    }\n",
       "\n",
       "    .dataframe thead th {\n",
       "        text-align: right;\n",
       "    }\n",
       "</style>\n",
       "<table border=\"1\" class=\"dataframe\">\n",
       "  <thead>\n",
       "    <tr style=\"text-align: right;\">\n",
       "      <th></th>\n",
       "      <th>DelayReason</th>\n",
       "      <th>variable</th>\n",
       "      <th>value</th>\n",
       "    </tr>\n",
       "  </thead>\n",
       "  <tbody>\n",
       "    <tr>\n",
       "      <th>6</th>\n",
       "      <td>Carrier Delay</td>\n",
       "      <td>Dep</td>\n",
       "      <td>39.888633</td>\n",
       "    </tr>\n",
       "    <tr>\n",
       "      <th>7</th>\n",
       "      <td>Weather Delay</td>\n",
       "      <td>Dep</td>\n",
       "      <td>57.064988</td>\n",
       "    </tr>\n",
       "    <tr>\n",
       "      <th>8</th>\n",
       "      <td>Security Delay</td>\n",
       "      <td>Dep</td>\n",
       "      <td>37.106719</td>\n",
       "    </tr>\n",
       "    <tr>\n",
       "      <th>9</th>\n",
       "      <td>Late Aircraft Delay</td>\n",
       "      <td>Dep</td>\n",
       "      <td>35.809013</td>\n",
       "    </tr>\n",
       "    <tr>\n",
       "      <th>10</th>\n",
       "      <td>NAS Delay</td>\n",
       "      <td>Dep</td>\n",
       "      <td>49.861432</td>\n",
       "    </tr>\n",
       "    <tr>\n",
       "      <th>11</th>\n",
       "      <td>No Delay</td>\n",
       "      <td>Dep</td>\n",
       "      <td>-0.598460</td>\n",
       "    </tr>\n",
       "    <tr>\n",
       "      <th>12</th>\n",
       "      <td>Carrier Delay</td>\n",
       "      <td>TaxiIn</td>\n",
       "      <td>6.707692</td>\n",
       "    </tr>\n",
       "    <tr>\n",
       "      <th>13</th>\n",
       "      <td>Weather Delay</td>\n",
       "      <td>TaxiIn</td>\n",
       "      <td>7.354317</td>\n",
       "    </tr>\n",
       "    <tr>\n",
       "      <th>14</th>\n",
       "      <td>Security Delay</td>\n",
       "      <td>TaxiIn</td>\n",
       "      <td>6.709486</td>\n",
       "    </tr>\n",
       "    <tr>\n",
       "      <th>15</th>\n",
       "      <td>Late Aircraft Delay</td>\n",
       "      <td>TaxiIn</td>\n",
       "      <td>7.178270</td>\n",
       "    </tr>\n",
       "    <tr>\n",
       "      <th>16</th>\n",
       "      <td>NAS Delay</td>\n",
       "      <td>TaxiIn</td>\n",
       "      <td>8.922029</td>\n",
       "    </tr>\n",
       "    <tr>\n",
       "      <th>17</th>\n",
       "      <td>No Delay</td>\n",
       "      <td>TaxiIn</td>\n",
       "      <td>6.511175</td>\n",
       "    </tr>\n",
       "    <tr>\n",
       "      <th>18</th>\n",
       "      <td>Carrier Delay</td>\n",
       "      <td>Arr</td>\n",
       "      <td>42.249455</td>\n",
       "    </tr>\n",
       "    <tr>\n",
       "      <th>19</th>\n",
       "      <td>Weather Delay</td>\n",
       "      <td>Arr</td>\n",
       "      <td>63.936571</td>\n",
       "    </tr>\n",
       "    <tr>\n",
       "      <th>20</th>\n",
       "      <td>Security Delay</td>\n",
       "      <td>Arr</td>\n",
       "      <td>40.168972</td>\n",
       "    </tr>\n",
       "    <tr>\n",
       "      <th>21</th>\n",
       "      <td>Late Aircraft Delay</td>\n",
       "      <td>Arr</td>\n",
       "      <td>43.115834</td>\n",
       "    </tr>\n",
       "    <tr>\n",
       "      <th>22</th>\n",
       "      <td>NAS Delay</td>\n",
       "      <td>Arr</td>\n",
       "      <td>50.149274</td>\n",
       "    </tr>\n",
       "    <tr>\n",
       "      <th>23</th>\n",
       "      <td>No Delay</td>\n",
       "      <td>Arr</td>\n",
       "      <td>-4.876161</td>\n",
       "    </tr>\n",
       "    <tr>\n",
       "      <th>24</th>\n",
       "      <td>Carrier Delay</td>\n",
       "      <td>TaxiOut</td>\n",
       "      <td>17.692317</td>\n",
       "    </tr>\n",
       "    <tr>\n",
       "      <th>25</th>\n",
       "      <td>Weather Delay</td>\n",
       "      <td>TaxiOut</td>\n",
       "      <td>24.305875</td>\n",
       "    </tr>\n",
       "    <tr>\n",
       "      <th>26</th>\n",
       "      <td>Security Delay</td>\n",
       "      <td>TaxiOut</td>\n",
       "      <td>17.599802</td>\n",
       "    </tr>\n",
       "    <tr>\n",
       "      <th>27</th>\n",
       "      <td>Late Aircraft Delay</td>\n",
       "      <td>TaxiOut</td>\n",
       "      <td>22.094245</td>\n",
       "    </tr>\n",
       "    <tr>\n",
       "      <th>28</th>\n",
       "      <td>NAS Delay</td>\n",
       "      <td>TaxiOut</td>\n",
       "      <td>16.403210</td>\n",
       "    </tr>\n",
       "    <tr>\n",
       "      <th>29</th>\n",
       "      <td>No Delay</td>\n",
       "      <td>TaxiOut</td>\n",
       "      <td>13.897129</td>\n",
       "    </tr>\n",
       "  </tbody>\n",
       "</table>\n",
       "</div>"
      ],
      "text/plain": [
       "            DelayReason variable      value\n",
       "6         Carrier Delay      Dep  39.888633\n",
       "7         Weather Delay      Dep  57.064988\n",
       "8        Security Delay      Dep  37.106719\n",
       "9   Late Aircraft Delay      Dep  35.809013\n",
       "10            NAS Delay      Dep  49.861432\n",
       "11             No Delay      Dep  -0.598460\n",
       "12        Carrier Delay   TaxiIn   6.707692\n",
       "13        Weather Delay   TaxiIn   7.354317\n",
       "14       Security Delay   TaxiIn   6.709486\n",
       "15  Late Aircraft Delay   TaxiIn   7.178270\n",
       "16            NAS Delay   TaxiIn   8.922029\n",
       "17             No Delay   TaxiIn   6.511175\n",
       "18        Carrier Delay      Arr  42.249455\n",
       "19        Weather Delay      Arr  63.936571\n",
       "20       Security Delay      Arr  40.168972\n",
       "21  Late Aircraft Delay      Arr  43.115834\n",
       "22            NAS Delay      Arr  50.149274\n",
       "23             No Delay      Arr  -4.876161\n",
       "24        Carrier Delay  TaxiOut  17.692317\n",
       "25        Weather Delay  TaxiOut  24.305875\n",
       "26       Security Delay  TaxiOut  17.599802\n",
       "27  Late Aircraft Delay  TaxiOut  22.094245\n",
       "28            NAS Delay  TaxiOut  16.403210\n",
       "29             No Delay  TaxiOut  13.897129"
      ]
     },
     "execution_count": 156,
     "metadata": {},
     "output_type": "execute_result"
    }
   ],
   "source": [
    "summ_mt"
   ]
  },
  {
   "cell_type": "code",
   "execution_count": 157,
   "metadata": {},
   "outputs": [
    {
     "data": {
      "image/png": "[encoded data removed]",
      "text/plain": [
       "<Figure size 960x400 with 1 Axes>"
      ]
     },
     "metadata": {},
     "output_type": "display_data"
    }
   ],
   "source": [
    "import seaborn as sns\n",
    "import matplotlib.pyplot as plt\n",
    "plt.figure(figsize=(12, 5), dpi=80)\n",
    "ax = sns.barplot(x=\"variable\", y=\"value\", hue=\"DelayReason\", data=summ_mt)\n",
    "plt.title('Departure Delay, Taxi-In Time, Arrival Delay, Taxi-Out Time')\n",
    "plt.xlabel('Time Mearues')\n",
    "plt.ylabel('Min')\n",
    "plt.show()"
   ]
  },
  {
   "cell_type": "code",
   "execution_count": null,
   "metadata": {},
   "outputs": [],
   "source": []
  },
  {
   "cell_type": "code",
   "execution_count": null,
   "metadata": {},
   "outputs": [],
   "source": []
  },
  {
   "cell_type": "code",
   "execution_count": null,
   "metadata": {},
   "outputs": [],
   "source": []
  }
 ],
 "metadata": {
  "kernelspec": {
   "display_name": "pySpark 4G 4e",
   "language": "python",
   "name": "pyspark2_4g"
  },
  "language_info": {
   "codemirror_mode": {
    "name": "ipython",
    "version": 3
   },
   "file_extension": ".py",
   "mimetype": "text/x-python",
   "name": "python",
   "nbconvert_exporter": "python",
   "pygments_lexer": "ipython3",
   "version": "3.6.8"
  }
 },
 "nbformat": 4,
 "nbformat_minor": 2
}
