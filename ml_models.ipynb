{
 "cells": [
  {
   "cell_type": "code",
   "execution_count": 1,
   "metadata": {},
   "outputs": [],
   "source": [
    "from pyspark.sql import SparkSession\n",
    "from pyspark.sql import functions as F\n",
    "\n",
    "import matplotlib.pyplot as plt\n",
    "%matplotlib inline"
   ]
  },
  {
   "cell_type": "code",
   "execution_count": 2,
   "metadata": {},
   "outputs": [
    {
     "data": {
      "text/plain": [
       "[('spark.eventLog.enabled', 'true'),\n",
       " ('spark.yarn.jars',\n",
       "  'local:/opt/cloudera/parcels/CDH-6.3.0-1.cdh6.3.0.p0.1279813/lib/spark/jars/*,local:/opt/cloudera/parcels/CDH-6.3.0-1.cdh6.3.0.p0.1279813/lib/spark/hive/*'),\n",
       " ('spark.yarn.appMasterEnv.MKL_NUM_THREADS', '1'),\n",
       " ('spark.sql.queryExecutionListeners',\n",
       "  'com.cloudera.spark.lineage.NavigatorQueryListener'),\n",
       " ('spark.driver.port', '37971'),\n",
       " ('spark.org.apache.hadoop.yarn.server.webproxy.amfilter.AmIpFilter.param.PROXY_HOSTS',\n",
       "  'md01.rcc.local,md02.rcc.local'),\n",
       " ('spark.lineage.log.dir', '/var/log/spark/lineage'),\n",
       " ('spark.serializer', 'org.apache.spark.serializer.KryoSerializer'),\n",
       " ('spark.executorEnv.PYTHONPATH',\n",
       "  '/opt/cloudera/parcels/CDH/lib/spark/python/lib/py4j-0.10.7-src.zip:/opt/cloudera/parcels/CDH/lib/spark/python/lib/pyspark.zip<CPS>/opt/cloudera/parcels/CDH-6.3.0-1.cdh6.3.0.p0.1279813/lib/spark/python/lib/py4j-0.10.7-src.zip<CPS>/opt/cloudera/parcels/CDH-6.3.0-1.cdh6.3.0.p0.1279813/lib/spark/python/lib/pyspark.zip'),\n",
       " ('spark.yarn.historyServer.address', 'http://hd01.rcc.local:18088'),\n",
       " ('spark.org.apache.hadoop.yarn.server.webproxy.amfilter.AmIpFilter.param.PROXY_URI_BASES',\n",
       "  'http://md01.rcc.local:8088/proxy/application_1634749823627_11774,http://md02.rcc.local:8088/proxy/application_1634749823627_11774'),\n",
       " ('spark.ui.filters',\n",
       "  'org.apache.hadoop.yarn.server.webproxy.amfilter.AmIpFilter'),\n",
       " ('spark.network.crypto.enabled', 'false'),\n",
       " ('spark.executorEnv.MKL_NUM_THREADS', '1'),\n",
       " ('spark.executor.memory', '4g'),\n",
       " ('spark.ui.enabled', 'true'),\n",
       " ('spark.executor.id', 'driver'),\n",
       " ('spark.executor.extraLibraryPath',\n",
       "  '/opt/cloudera/parcels/CDH-6.3.0-1.cdh6.3.0.p0.1279813/lib/hadoop/lib/native'),\n",
       " ('spark.dynamicAllocation.schedulerBacklogTimeout', '1'),\n",
       " ('spark.yarn.config.gatewayPath', '/opt/cloudera/parcels'),\n",
       " ('spark.extraListeners', 'com.cloudera.spark.lineage.NavigatorAppListener'),\n",
       " ('spark.port.maxRetries', '60'),\n",
       " ('spark.sql.warehouse.dir', '/user/hive/warehouse'),\n",
       " ('spark.app.name', 'Spark Updated Conf'),\n",
       " ('spark.sql.catalogImplementation', 'hive'),\n",
       " ('spark.driver.log.persistToDfs.enabled', 'true'),\n",
       " ('spark.app.id', 'application_1634749823627_11774'),\n",
       " ('spark.yarn.config.replacementPath', '{{HADOOP_COMMON_HOME}}/../../..'),\n",
       " ('spark.executorEnv.OPENBLAS_NUM_THREADS', '1'),\n",
       " ('spark.driver.extraLibraryPath',\n",
       "  '/opt/cloudera/parcels/CDH-6.3.0-1.cdh6.3.0.p0.1279813/lib/hadoop/lib/native'),\n",
       " ('spark.driver.appUIAddress', 'http://md01.rcc.local:4040'),\n",
       " ('spark.driver.memory', '4g'),\n",
       " ('spark.ui.killEnabled', 'true'),\n",
       " ('spark.cores.max', '4'),\n",
       " ('spark.eventLog.dir', 'hdfs://nameservice1/user/spark/applicationHistory'),\n",
       " ('spark.dynamicAllocation.executorIdleTimeout', '60'),\n",
       " ('spark.executor.cores', '4'),\n",
       " ('spark.io.encryption.enabled', 'false'),\n",
       " ('spark.authenticate', 'false'),\n",
       " ('spark.serializer.objectStreamReset', '100'),\n",
       " ('spark.submit.deployMode', 'client'),\n",
       " ('spark.org.apache.hadoop.yarn.server.webproxy.amfilter.AmIpFilter.param.RM_HA_URLS',\n",
       "  'md01.rcc.local:8088,md02.rcc.local:8088'),\n",
       " ('spark.shuffle.service.enabled', 'true'),\n",
       " ('spark.yarn.historyServer.allowTracking', 'true'),\n",
       " ('spark.yarn.appMasterEnv.OPENBLAS_NUM_THREADS', '1'),\n",
       " ('spark.shuffle.service.port', '7337'),\n",
       " ('spark.ui.proxyBase', '/proxy/application_1634749823627_11774'),\n",
       " ('spark.lineage.enabled', 'true'),\n",
       " ('spark.master', 'yarn'),\n",
       " ('spark.driver.host', 'md01.rcc.local'),\n",
       " ('spark.rdd.compress', 'True'),\n",
       " ('spark.yarn.am.extraLibraryPath',\n",
       "  '/opt/cloudera/parcels/CDH-6.3.0-1.cdh6.3.0.p0.1279813/lib/hadoop/lib/native'),\n",
       " ('spark.dynamicAllocation.minExecutors', '0'),\n",
       " ('spark.yarn.isPython', 'true'),\n",
       " ('spark.dynamicAllocation.enabled', 'true'),\n",
       " ('spark.ui.showConsoleProgress', 'true'),\n",
       " ('spark.driver.log.dfsDir', '/user/spark/driverLogs')]"
      ]
     },
     "execution_count": 2,
     "metadata": {},
     "output_type": "execute_result"
    }
   ],
   "source": [
    "spark = SparkSession.builder.appName('ChicagoFoodInspection').getOrCreate()\n",
    "\n",
    "#change configuration settings on Spark \n",
    "conf = spark.sparkContext._conf.setAll([('spark.executor.memory', '4g'), ('spark.app.name', 'Spark Updated Conf'), ('spark.executor.cores', '4'), ('spark.cores.max', '4'), ('spark.driver.memory','4g')])\n",
    "\n",
    "#print spark configuration settings\n",
    "spark.sparkContext.getConf().getAll()"
   ]
  },
  {
   "cell_type": "code",
   "execution_count": 3,
   "metadata": {},
   "outputs": [],
   "source": [
    "import pandas as pd\n",
    "pd.set_option('display.max_columns', None)"
   ]
  },
  {
   "cell_type": "markdown",
   "metadata": {},
   "source": [
    "## Data Exploration"
   ]
  },
  {
   "cell_type": "code",
   "execution_count": 4,
   "metadata": {},
   "outputs": [],
   "source": [
    "df = spark.read.csv(\"/user/junruiw/dta.csv\",inferSchema=True, header=True )"
   ]
  },
  {
   "cell_type": "code",
   "execution_count": 5,
   "metadata": {},
   "outputs": [
    {
     "data": {
      "text/plain": [
       "[('Year', 'int'),\n",
       " ('Month', 'int'),\n",
       " ('DayofMonth', 'int'),\n",
       " ('DayOfWeek', 'int'),\n",
       " ('DepTime', 'double'),\n",
       " ('CRSDepTime', 'int'),\n",
       " ('ArrTime', 'double'),\n",
       " ('CRSArrTime', 'int'),\n",
       " ('UniqueCarrier', 'string'),\n",
       " ('FlightNum', 'int'),\n",
       " ('TailNum', 'string'),\n",
       " ('ActualElapsedTime', 'double'),\n",
       " ('CRSElapsedTime', 'double'),\n",
       " ('AirTime', 'double'),\n",
       " ('ArrDelay', 'double'),\n",
       " ('DepDelay', 'string'),\n",
       " ('Origin', 'string'),\n",
       " ('Dest', 'string'),\n",
       " ('Distance', 'double'),\n",
       " ('TaxiIn', 'double'),\n",
       " ('TaxiOut', 'double'),\n",
       " ('Cancelled', 'double'),\n",
       " ('CancellationCode', 'string'),\n",
       " ('Diverted', 'double'),\n",
       " ('CarrierDelay', 'double'),\n",
       " ('WeatherDelay', 'double'),\n",
       " ('NASDelay', 'double'),\n",
       " ('SecurityDelay', 'double'),\n",
       " ('LateAircraftDelay', 'double')]"
      ]
     },
     "execution_count": 5,
     "metadata": {},
     "output_type": "execute_result"
    }
   ],
   "source": [
    "df.dtypes"
   ]
  },
  {
   "cell_type": "code",
   "execution_count": 6,
   "metadata": {},
   "outputs": [
    {
     "data": {
      "text/plain": [
       "103"
      ]
     },
     "execution_count": 6,
     "metadata": {},
     "output_type": "execute_result"
    }
   ],
   "source": [
    "#number of partitions\n",
    "df.rdd.getNumPartitions()"
   ]
  },
  {
   "cell_type": "code",
   "execution_count": 7,
   "metadata": {},
   "outputs": [
    {
     "name": "stdout",
     "output_type": "stream",
     "text": [
      "Dimension of the Dataframe is: (123534969, 29)\n",
      "Number of Rows are: 123534969\n",
      "Number of Columns are: 29\n"
     ]
    }
   ],
   "source": [
    "# extracting number of rows from the Dataframe\n",
    "row = df.count()\n",
    "   \n",
    "# extracting number of columns from the Dataframe\n",
    "col = len(df.columns)\n",
    "\n",
    "# printing\n",
    "print(f'Dimension of the Dataframe is: {(row,col)}')\n",
    "print(f'Number of Rows are: {row}')\n",
    "print(f'Number of Columns are: {col}')"
   ]
  },
  {
   "cell_type": "markdown",
   "metadata": {},
   "source": [
    "## filter rows which have non-empty origin and dest airport (no matter cancel or not)\n",
    "* df: the raw dataset\n",
    "* df3: the dataset with non-empty 'origin' and 'dest'"
   ]
  },
  {
   "cell_type": "code",
   "execution_count": 8,
   "metadata": {},
   "outputs": [],
   "source": [
    "df2=df.filter(F.col(\"Origin\").cast(\"int\").isNull())\n",
    "df3=df2.filter(F.col(\"Dest\").cast(\"int\").isNull())"
   ]
  },
  {
   "cell_type": "raw",
   "metadata": {},
   "source": [
    "# extracting number of rows from the Dataframe\n",
    "row = df3.count()\n",
    "   \n",
    "# extracting number of columns from the Dataframe\n",
    "col = len(df3.columns)\n",
    "\n",
    "# printing\n",
    "print(f'Dimension of the Dataframe is: {(row,col)}')\n",
    "print(f'Number of Rows are: {row}')\n",
    "print(f'Number of Columns are: {col}')"
   ]
  },
  {
   "cell_type": "code",
   "execution_count": 9,
   "metadata": {},
   "outputs": [
    {
     "data": {
      "text/plain": [
       "0.9906483807026333"
      ]
     },
     "execution_count": 9,
     "metadata": {},
     "output_type": "execute_result"
    }
   ],
   "source": [
    "122379717/123534969"
   ]
  },
  {
   "cell_type": "markdown",
   "metadata": {},
   "source": [
    "## check missing values of df 3"
   ]
  },
  {
   "cell_type": "markdown",
   "metadata": {},
   "source": [
    "* Find the number of missing values for each column"
   ]
  },
  {
   "cell_type": "code",
   "execution_count": 10,
   "metadata": {},
   "outputs": [
    {
     "name": "stdout",
     "output_type": "stream",
     "text": [
      "+----+-----+----------+---------+-------+----------+-------+----------+-------------+---------+--------+-----------------+--------------+--------+--------+--------+------+----+--------+--------+--------+---------+----------------+--------+------------+------------+--------+-------------+-----------------+\n",
      "|Year|Month|DayofMonth|DayOfWeek|DepTime|CRSDepTime|ArrTime|CRSArrTime|UniqueCarrier|FlightNum| TailNum|ActualElapsedTime|CRSElapsedTime| AirTime|ArrDelay|DepDelay|Origin|Dest|Distance|  TaxiIn| TaxiOut|Cancelled|CancellationCode|Diverted|CarrierDelay|WeatherDelay|NASDelay|SecurityDelay|LateAircraftDelay|\n",
      "+----+-----+----------+---------+-------+----------+-------+----------+-------------+---------+--------+-----------------+--------------+--------+--------+--------+------+----+--------+--------+--------+---------+----------------+--------+------------+------------+--------+-------------+-----------------+\n",
      "|   0|    0|         0|        0|2104357|         0|2384266|         0|            0|        0|37385420|          2387317|         26234|39066186| 2387317| 2104357|     0|   0|  202000|37397295|37382704|        0|       121645011|       0|    88174181|    88174181|88174181|     88174181|         88174181|\n",
      "+----+-----+----------+---------+-------+----------+-------+----------+-------------+---------+--------+-----------------+--------------+--------+--------+--------+------+----+--------+--------+--------+---------+----------------+--------+------------+------------+--------+-------------+-----------------+\n",
      "\n"
     ]
    }
   ],
   "source": [
    "from pyspark.sql.functions import isnan, when, count, col\n",
    "df3.select([count(when(df3[c].isNull(), c)).alias(c) for c in df3.columns]).show()\n"
   ]
  },
  {
   "cell_type": "markdown",
   "metadata": {},
   "source": [
    "* find the percentage of missing values"
   ]
  },
  {
   "cell_type": "code",
   "execution_count": 11,
   "metadata": {},
   "outputs": [],
   "source": [
    "# missing value percentage\n",
    "#from pyspark.sql.functions import *\n",
    "#df3_miss_perc = df3.select([(count(when(isnan(c) | col(c).isNull(), c))/count(lit(1))).alias(c) for c in df3.columns])\n",
    "#df3_miss_perc.toPandas()"
   ]
  },
  {
   "cell_type": "markdown",
   "metadata": {},
   "source": [
    "## drop useless columns"
   ]
  },
  {
   "cell_type": "markdown",
   "metadata": {},
   "source": [
    "* drop scheduled time cuz we have the actual time and time delay (actual - schedule = delay)"
   ]
  },
  {
   "cell_type": "code",
   "execution_count": 12,
   "metadata": {},
   "outputs": [],
   "source": [
    "df4 = df3.drop('CRSDepTime', 'CRSArrTime', 'CRSElapsedTime')"
   ]
  },
  {
   "cell_type": "markdown",
   "metadata": {},
   "source": [
    "* flight number has the same use as tailnum, then drop tailnum"
   ]
  },
  {
   "cell_type": "code",
   "execution_count": 13,
   "metadata": {},
   "outputs": [],
   "source": [
    "df5 = df4.drop('TailNum')"
   ]
  },
  {
   "cell_type": "markdown",
   "metadata": {},
   "source": [
    "* cancellation code has 99% missing values"
   ]
  },
  {
   "cell_type": "code",
   "execution_count": 14,
   "metadata": {},
   "outputs": [],
   "source": [
    "df6 = df5.drop('CancellationCode')"
   ]
  },
  {
   "cell_type": "code",
   "execution_count": 15,
   "metadata": {},
   "outputs": [],
   "source": [
    "#df6_miss_perc = df6.select([(count(when(isnan(c) | col(c).isNull(), c))/count(lit(1))).alias(c) for c in df6.columns])\n",
    "#df6_miss_perc.toPandas()"
   ]
  },
  {
   "cell_type": "markdown",
   "metadata": {},
   "source": [
    "# 1. check df w/ cancelled = 0"
   ]
  },
  {
   "cell_type": "code",
   "execution_count": 16,
   "metadata": {},
   "outputs": [],
   "source": [
    "# in our project, we mainly focus on cancellation and delay.\n"
   ]
  },
  {
   "cell_type": "code",
   "execution_count": 17,
   "metadata": {},
   "outputs": [
    {
     "name": "stdout",
     "output_type": "stream",
     "text": [
      "+---------+---------+\n",
      "|Cancelled|    count|\n",
      "+---------+---------+\n",
      "|      0.0|120274172|\n",
      "|      1.0|  2105545|\n",
      "+---------+---------+\n",
      "\n"
     ]
    }
   ],
   "source": [
    "df3.groupBy('Cancelled').count().show()"
   ]
  },
  {
   "cell_type": "code",
   "execution_count": 18,
   "metadata": {},
   "outputs": [
    {
     "data": {
      "text/plain": [
       "0.01720501608939004"
      ]
     },
     "execution_count": 18,
     "metadata": {},
     "output_type": "execute_result"
    }
   ],
   "source": [
    "2105545/122379717"
   ]
  },
  {
   "cell_type": "code",
   "execution_count": 19,
   "metadata": {},
   "outputs": [],
   "source": [
    "# check missing values when cancellation = 0\n",
    "df_no_cancel = df6.filter(\"Cancelled == '0.0'\")"
   ]
  },
  {
   "cell_type": "code",
   "execution_count": 20,
   "metadata": {},
   "outputs": [
    {
     "name": "stdout",
     "output_type": "stream",
     "text": [
      "Dimension of the Dataframe is: (120274172, 24)\n",
      "Number of Rows are: 120274172\n",
      "Number of Columns are: 24\n"
     ]
    }
   ],
   "source": [
    "# extracting number of rows from the Dataframe\n",
    "row = df_no_cancel.count()\n",
    "   \n",
    "# extracting number of columns from the Dataframe\n",
    "col = len(df_no_cancel.columns)\n",
    "\n",
    "# printing\n",
    "print(f'Dimension of the Dataframe is: {(row,col)}')\n",
    "print(f'Number of Rows are: {row}')\n",
    "print(f'Number of Columns are: {col}')"
   ]
  },
  {
   "cell_type": "code",
   "execution_count": 21,
   "metadata": {},
   "outputs": [
    {
     "name": "stdout",
     "output_type": "stream",
     "text": [
      "+----+-----+----------+---------+-------+-------+-------------+---------+-----------------+--------+--------+--------+------+----+--------+--------+--------+---------+--------+------------+------------+--------+-------------+-----------------+\n",
      "|Year|Month|DayofMonth|DayOfWeek|DepTime|ArrTime|UniqueCarrier|FlightNum|ActualElapsedTime| AirTime|ArrDelay|DepDelay|Origin|Dest|Distance|  TaxiIn| TaxiOut|Cancelled|Diverted|CarrierDelay|WeatherDelay|NASDelay|SecurityDelay|LateAircraftDelay|\n",
      "+----+-----+----------+---------+-------+-------+-------------+---------+-----------------+--------+--------+--------+------+----+--------+--------+--------+---------+--------+------------+------------+--------+-------------+-----------------+\n",
      "|   0|    0|         0|        0|      0| 278721|            0|        0|           281772|37012689|  281772|       0|     0|   0|  199960|36840464|36826249|        0|       0|    86665731|    86665731|86665731|     86665731|         86665731|\n",
      "+----+-----+----------+---------+-------+-------+-------------+---------+-----------------+--------+--------+--------+------+----+--------+--------+--------+---------+--------+------------+------------+--------+-------------+-----------------+\n",
      "\n"
     ]
    }
   ],
   "source": [
    "from pyspark.sql.functions import isnan, when, count, col\n",
    "df_no_cancel.select([count(when(col(c).isNull(), c)).alias(c) for c in df_no_cancel.columns]).show()"
   ]
  },
  {
   "cell_type": "markdown",
   "metadata": {},
   "source": [
    "### filter rows with cancelled = 0, but has missing values"
   ]
  },
  {
   "cell_type": "code",
   "execution_count": 22,
   "metadata": {},
   "outputs": [],
   "source": [
    "df_no_cancel = df_no_cancel.dropna(subset=('ArrTime','ActualElapsedTime','ActualElapsedTime','Distance'))"
   ]
  },
  {
   "cell_type": "code",
   "execution_count": 23,
   "metadata": {},
   "outputs": [
    {
     "data": {
      "text/html": [
       "<div>\n",
       "<style scoped>\n",
       "    .dataframe tbody tr th:only-of-type {\n",
       "        vertical-align: middle;\n",
       "    }\n",
       "\n",
       "    .dataframe tbody tr th {\n",
       "        vertical-align: top;\n",
       "    }\n",
       "\n",
       "    .dataframe thead th {\n",
       "        text-align: right;\n",
       "    }\n",
       "</style>\n",
       "<table border=\"1\" class=\"dataframe\">\n",
       "  <thead>\n",
       "    <tr style=\"text-align: right;\">\n",
       "      <th></th>\n",
       "      <th>Year</th>\n",
       "      <th>Month</th>\n",
       "      <th>DayofMonth</th>\n",
       "      <th>DayOfWeek</th>\n",
       "      <th>DepTime</th>\n",
       "      <th>ArrTime</th>\n",
       "      <th>UniqueCarrier</th>\n",
       "      <th>FlightNum</th>\n",
       "      <th>ActualElapsedTime</th>\n",
       "      <th>AirTime</th>\n",
       "      <th>ArrDelay</th>\n",
       "      <th>DepDelay</th>\n",
       "      <th>Origin</th>\n",
       "      <th>Dest</th>\n",
       "      <th>Distance</th>\n",
       "      <th>TaxiIn</th>\n",
       "      <th>TaxiOut</th>\n",
       "      <th>Cancelled</th>\n",
       "      <th>Diverted</th>\n",
       "      <th>CarrierDelay</th>\n",
       "      <th>WeatherDelay</th>\n",
       "      <th>NASDelay</th>\n",
       "      <th>SecurityDelay</th>\n",
       "      <th>LateAircraftDelay</th>\n",
       "    </tr>\n",
       "  </thead>\n",
       "  <tbody>\n",
       "    <tr>\n",
       "      <th>0</th>\n",
       "      <td>0</td>\n",
       "      <td>0</td>\n",
       "      <td>0</td>\n",
       "      <td>0</td>\n",
       "      <td>0</td>\n",
       "      <td>0</td>\n",
       "      <td>0</td>\n",
       "      <td>0</td>\n",
       "      <td>0</td>\n",
       "      <td>36537615</td>\n",
       "      <td>0</td>\n",
       "      <td>0</td>\n",
       "      <td>0</td>\n",
       "      <td>0</td>\n",
       "      <td>0</td>\n",
       "      <td>36537494</td>\n",
       "      <td>36537494</td>\n",
       "      <td>0</td>\n",
       "      <td>0</td>\n",
       "      <td>86252984</td>\n",
       "      <td>86252984</td>\n",
       "      <td>86252984</td>\n",
       "      <td>86252984</td>\n",
       "      <td>86252984</td>\n",
       "    </tr>\n",
       "  </tbody>\n",
       "</table>\n",
       "</div>"
      ],
      "text/plain": [
       "   Year  Month  DayofMonth  DayOfWeek  DepTime  ArrTime  UniqueCarrier  \\\n",
       "0     0      0           0          0        0        0              0   \n",
       "\n",
       "   FlightNum  ActualElapsedTime   AirTime  ArrDelay  DepDelay  Origin  Dest  \\\n",
       "0          0                  0  36537615         0         0       0     0   \n",
       "\n",
       "   Distance    TaxiIn   TaxiOut  Cancelled  Diverted  CarrierDelay  \\\n",
       "0         0  36537494  36537494          0         0      86252984   \n",
       "\n",
       "   WeatherDelay  NASDelay  SecurityDelay  LateAircraftDelay  \n",
       "0      86252984  86252984       86252984           86252984  "
      ]
     },
     "execution_count": 23,
     "metadata": {},
     "output_type": "execute_result"
    }
   ],
   "source": [
    "pdf = df_no_cancel.select([count(when(df_no_cancel[c].isNull(), c)).alias(c) for c in df_no_cancel.columns])\n",
    "pdf.toPandas()\n",
    "# df.cancelled = 0  is cleaned!"
   ]
  },
  {
   "cell_type": "code",
   "execution_count": 24,
   "metadata": {},
   "outputs": [
    {
     "data": {
      "text/plain": [
       "119793199"
      ]
     },
     "execution_count": 24,
     "metadata": {},
     "output_type": "execute_result"
    }
   ],
   "source": [
    "df_no_cancel.count()"
   ]
  },
  {
   "cell_type": "code",
   "execution_count": null,
   "metadata": {},
   "outputs": [],
   "source": []
  },
  {
   "cell_type": "code",
   "execution_count": 25,
   "metadata": {},
   "outputs": [],
   "source": [
    "#seems like there is little difference between Airtime and TaxiIn, make the amount of missing values equal\n",
    "#( as we know later, most of the missing values are before 1995)"
   ]
  },
  {
   "cell_type": "code",
   "execution_count": 26,
   "metadata": {},
   "outputs": [],
   "source": [
    "df_ncancel1 = df_no_cancel.filter(df_no_cancel.Year.cast(\"int\") <1995)"
   ]
  },
  {
   "cell_type": "code",
   "execution_count": 27,
   "metadata": {},
   "outputs": [],
   "source": [
    "df_ncancel2 = df_no_cancel.filter(df_no_cancel.Year.cast(\"int\") >=1995)"
   ]
  },
  {
   "cell_type": "code",
   "execution_count": 28,
   "metadata": {},
   "outputs": [
    {
     "data": {
      "text/html": [
       "<div>\n",
       "<style scoped>\n",
       "    .dataframe tbody tr th:only-of-type {\n",
       "        vertical-align: middle;\n",
       "    }\n",
       "\n",
       "    .dataframe tbody tr th {\n",
       "        vertical-align: top;\n",
       "    }\n",
       "\n",
       "    .dataframe thead th {\n",
       "        text-align: right;\n",
       "    }\n",
       "</style>\n",
       "<table border=\"1\" class=\"dataframe\">\n",
       "  <thead>\n",
       "    <tr style=\"text-align: right;\">\n",
       "      <th></th>\n",
       "      <th>Year</th>\n",
       "      <th>Month</th>\n",
       "      <th>DayofMonth</th>\n",
       "      <th>DayOfWeek</th>\n",
       "      <th>DepTime</th>\n",
       "      <th>ArrTime</th>\n",
       "      <th>UniqueCarrier</th>\n",
       "      <th>FlightNum</th>\n",
       "      <th>ActualElapsedTime</th>\n",
       "      <th>AirTime</th>\n",
       "      <th>ArrDelay</th>\n",
       "      <th>DepDelay</th>\n",
       "      <th>Origin</th>\n",
       "      <th>Dest</th>\n",
       "      <th>Distance</th>\n",
       "      <th>TaxiIn</th>\n",
       "      <th>TaxiOut</th>\n",
       "      <th>Cancelled</th>\n",
       "      <th>Diverted</th>\n",
       "      <th>CarrierDelay</th>\n",
       "      <th>WeatherDelay</th>\n",
       "      <th>NASDelay</th>\n",
       "      <th>SecurityDelay</th>\n",
       "      <th>LateAircraftDelay</th>\n",
       "    </tr>\n",
       "  </thead>\n",
       "  <tbody>\n",
       "    <tr>\n",
       "      <th>0</th>\n",
       "      <td>0</td>\n",
       "      <td>0</td>\n",
       "      <td>0</td>\n",
       "      <td>0</td>\n",
       "      <td>0</td>\n",
       "      <td>0</td>\n",
       "      <td>0</td>\n",
       "      <td>0</td>\n",
       "      <td>0</td>\n",
       "      <td>36537494</td>\n",
       "      <td>0</td>\n",
       "      <td>0</td>\n",
       "      <td>0</td>\n",
       "      <td>0</td>\n",
       "      <td>0</td>\n",
       "      <td>36537494</td>\n",
       "      <td>36537494</td>\n",
       "      <td>0</td>\n",
       "      <td>0</td>\n",
       "      <td>36537494</td>\n",
       "      <td>36537494</td>\n",
       "      <td>36537494</td>\n",
       "      <td>36537494</td>\n",
       "      <td>36537494</td>\n",
       "    </tr>\n",
       "  </tbody>\n",
       "</table>\n",
       "</div>"
      ],
      "text/plain": [
       "   Year  Month  DayofMonth  DayOfWeek  DepTime  ArrTime  UniqueCarrier  \\\n",
       "0     0      0           0          0        0        0              0   \n",
       "\n",
       "   FlightNum  ActualElapsedTime   AirTime  ArrDelay  DepDelay  Origin  Dest  \\\n",
       "0          0                  0  36537494         0         0       0     0   \n",
       "\n",
       "   Distance    TaxiIn   TaxiOut  Cancelled  Diverted  CarrierDelay  \\\n",
       "0         0  36537494  36537494          0         0      36537494   \n",
       "\n",
       "   WeatherDelay  NASDelay  SecurityDelay  LateAircraftDelay  \n",
       "0      36537494  36537494       36537494           36537494  "
      ]
     },
     "execution_count": 28,
     "metadata": {},
     "output_type": "execute_result"
    }
   ],
   "source": [
    "pdf = df_ncancel1.select([count(when(df_ncancel1[c].isNull(), c)).alias(c) for c in df_ncancel1.columns])\n",
    "pdf.toPandas()"
   ]
  },
  {
   "cell_type": "code",
   "execution_count": 29,
   "metadata": {},
   "outputs": [
    {
     "data": {
      "text/html": [
       "<div>\n",
       "<style scoped>\n",
       "    .dataframe tbody tr th:only-of-type {\n",
       "        vertical-align: middle;\n",
       "    }\n",
       "\n",
       "    .dataframe tbody tr th {\n",
       "        vertical-align: top;\n",
       "    }\n",
       "\n",
       "    .dataframe thead th {\n",
       "        text-align: right;\n",
       "    }\n",
       "</style>\n",
       "<table border=\"1\" class=\"dataframe\">\n",
       "  <thead>\n",
       "    <tr style=\"text-align: right;\">\n",
       "      <th></th>\n",
       "      <th>Year</th>\n",
       "      <th>Month</th>\n",
       "      <th>DayofMonth</th>\n",
       "      <th>DayOfWeek</th>\n",
       "      <th>DepTime</th>\n",
       "      <th>ArrTime</th>\n",
       "      <th>UniqueCarrier</th>\n",
       "      <th>FlightNum</th>\n",
       "      <th>ActualElapsedTime</th>\n",
       "      <th>AirTime</th>\n",
       "      <th>ArrDelay</th>\n",
       "      <th>DepDelay</th>\n",
       "      <th>Origin</th>\n",
       "      <th>Dest</th>\n",
       "      <th>Distance</th>\n",
       "      <th>TaxiIn</th>\n",
       "      <th>TaxiOut</th>\n",
       "      <th>Cancelled</th>\n",
       "      <th>Diverted</th>\n",
       "      <th>CarrierDelay</th>\n",
       "      <th>WeatherDelay</th>\n",
       "      <th>NASDelay</th>\n",
       "      <th>SecurityDelay</th>\n",
       "      <th>LateAircraftDelay</th>\n",
       "    </tr>\n",
       "  </thead>\n",
       "  <tbody>\n",
       "    <tr>\n",
       "      <th>0</th>\n",
       "      <td>0</td>\n",
       "      <td>0</td>\n",
       "      <td>0</td>\n",
       "      <td>0</td>\n",
       "      <td>0</td>\n",
       "      <td>0</td>\n",
       "      <td>0</td>\n",
       "      <td>0</td>\n",
       "      <td>0</td>\n",
       "      <td>121</td>\n",
       "      <td>0</td>\n",
       "      <td>0</td>\n",
       "      <td>0</td>\n",
       "      <td>0</td>\n",
       "      <td>0</td>\n",
       "      <td>0</td>\n",
       "      <td>0</td>\n",
       "      <td>0</td>\n",
       "      <td>0</td>\n",
       "      <td>49715490</td>\n",
       "      <td>49715490</td>\n",
       "      <td>49715490</td>\n",
       "      <td>49715490</td>\n",
       "      <td>49715490</td>\n",
       "    </tr>\n",
       "  </tbody>\n",
       "</table>\n",
       "</div>"
      ],
      "text/plain": [
       "   Year  Month  DayofMonth  DayOfWeek  DepTime  ArrTime  UniqueCarrier  \\\n",
       "0     0      0           0          0        0        0              0   \n",
       "\n",
       "   FlightNum  ActualElapsedTime  AirTime  ArrDelay  DepDelay  Origin  Dest  \\\n",
       "0          0                  0      121         0         0       0     0   \n",
       "\n",
       "   Distance  TaxiIn  TaxiOut  Cancelled  Diverted  CarrierDelay  WeatherDelay  \\\n",
       "0         0       0        0          0         0      49715490      49715490   \n",
       "\n",
       "   NASDelay  SecurityDelay  LateAircraftDelay  \n",
       "0  49715490       49715490           49715490  "
      ]
     },
     "execution_count": 29,
     "metadata": {},
     "output_type": "execute_result"
    }
   ],
   "source": [
    "pdf = df_ncancel2.select([count(when(df_ncancel2[c].isNull(), c)).alias(c) for c in df_ncancel2.columns])\n",
    "pdf.toPandas()"
   ]
  },
  {
   "cell_type": "code",
   "execution_count": 30,
   "metadata": {},
   "outputs": [],
   "source": [
    "df_ncancel2 = df_ncancel2.na.drop(subset=[\"AirTime\"])"
   ]
  },
  {
   "cell_type": "code",
   "execution_count": 31,
   "metadata": {},
   "outputs": [],
   "source": [
    "df_no_cancel2 = df_ncancel1.union(df_ncancel2)"
   ]
  },
  {
   "cell_type": "code",
   "execution_count": null,
   "metadata": {},
   "outputs": [],
   "source": []
  },
  {
   "cell_type": "markdown",
   "metadata": {},
   "source": [
    "# 2. check the dataset w/ cancelled = 1"
   ]
  },
  {
   "cell_type": "code",
   "execution_count": 32,
   "metadata": {},
   "outputs": [],
   "source": [
    "df_cancel = df6.filter(df6.Cancelled == '1.0')\n"
   ]
  },
  {
   "cell_type": "code",
   "execution_count": 33,
   "metadata": {},
   "outputs": [
    {
     "name": "stdout",
     "output_type": "stream",
     "text": [
      "Dimension of the Dataframe is: (2105545, 24)\n",
      "Number of Rows are: 2105545\n",
      "Number of Columns are: 24\n"
     ]
    }
   ],
   "source": [
    "# extracting number of rows from the Dataframe\n",
    "row = df_cancel.count()\n",
    "   \n",
    "# extracting number of columns from the Dataframe\n",
    "col = len(df_cancel.columns)\n",
    "\n",
    "# printing\n",
    "print(f'Dimension of the Dataframe is: {(row,col)}')\n",
    "print(f'Number of Rows are: {row}')\n",
    "print(f'Number of Columns are: {col}')"
   ]
  },
  {
   "cell_type": "code",
   "execution_count": 34,
   "metadata": {},
   "outputs": [
    {
     "data": {
      "text/html": [
       "<div>\n",
       "<style scoped>\n",
       "    .dataframe tbody tr th:only-of-type {\n",
       "        vertical-align: middle;\n",
       "    }\n",
       "\n",
       "    .dataframe tbody tr th {\n",
       "        vertical-align: top;\n",
       "    }\n",
       "\n",
       "    .dataframe thead th {\n",
       "        text-align: right;\n",
       "    }\n",
       "</style>\n",
       "<table border=\"1\" class=\"dataframe\">\n",
       "  <thead>\n",
       "    <tr style=\"text-align: right;\">\n",
       "      <th></th>\n",
       "      <th>Year</th>\n",
       "      <th>Month</th>\n",
       "      <th>DayofMonth</th>\n",
       "      <th>DayOfWeek</th>\n",
       "      <th>DepTime</th>\n",
       "      <th>ArrTime</th>\n",
       "      <th>UniqueCarrier</th>\n",
       "      <th>FlightNum</th>\n",
       "      <th>ActualElapsedTime</th>\n",
       "      <th>AirTime</th>\n",
       "      <th>ArrDelay</th>\n",
       "      <th>DepDelay</th>\n",
       "      <th>Origin</th>\n",
       "      <th>Dest</th>\n",
       "      <th>Distance</th>\n",
       "      <th>TaxiIn</th>\n",
       "      <th>TaxiOut</th>\n",
       "      <th>Cancelled</th>\n",
       "      <th>Diverted</th>\n",
       "      <th>CarrierDelay</th>\n",
       "      <th>WeatherDelay</th>\n",
       "      <th>NASDelay</th>\n",
       "      <th>SecurityDelay</th>\n",
       "      <th>LateAircraftDelay</th>\n",
       "    </tr>\n",
       "  </thead>\n",
       "  <tbody>\n",
       "    <tr>\n",
       "      <th>0</th>\n",
       "      <td>0</td>\n",
       "      <td>0</td>\n",
       "      <td>0</td>\n",
       "      <td>0</td>\n",
       "      <td>2104357</td>\n",
       "      <td>2105545</td>\n",
       "      <td>0</td>\n",
       "      <td>0</td>\n",
       "      <td>2105545</td>\n",
       "      <td>2053497</td>\n",
       "      <td>2105545</td>\n",
       "      <td>2104357</td>\n",
       "      <td>0</td>\n",
       "      <td>0</td>\n",
       "      <td>2040</td>\n",
       "      <td>556831</td>\n",
       "      <td>556455</td>\n",
       "      <td>0</td>\n",
       "      <td>0</td>\n",
       "      <td>1508450</td>\n",
       "      <td>1508450</td>\n",
       "      <td>1508450</td>\n",
       "      <td>1508450</td>\n",
       "      <td>1508450</td>\n",
       "    </tr>\n",
       "  </tbody>\n",
       "</table>\n",
       "</div>"
      ],
      "text/plain": [
       "   Year  Month  DayofMonth  DayOfWeek  DepTime  ArrTime  UniqueCarrier  \\\n",
       "0     0      0           0          0  2104357  2105545              0   \n",
       "\n",
       "   FlightNum  ActualElapsedTime  AirTime  ArrDelay  DepDelay  Origin  Dest  \\\n",
       "0          0            2105545  2053497   2105545   2104357       0     0   \n",
       "\n",
       "   Distance  TaxiIn  TaxiOut  Cancelled  Diverted  CarrierDelay  WeatherDelay  \\\n",
       "0      2040  556831   556455          0         0       1508450       1508450   \n",
       "\n",
       "   NASDelay  SecurityDelay  LateAircraftDelay  \n",
       "0   1508450        1508450            1508450  "
      ]
     },
     "execution_count": 34,
     "metadata": {},
     "output_type": "execute_result"
    }
   ],
   "source": [
    "pdf = df_cancel.select([count(when(df_cancel[c].isNull(), c)).alias(c) for c in df_cancel.columns])\n",
    "pdf.toPandas()\n",
    "# pdcancel.sort_values(by=['Year'])\n",
    "# df.cancelled = 0  is cleaned!"
   ]
  },
  {
   "cell_type": "markdown",
   "metadata": {},
   "source": [
    "normally speaking, when flight is cancelled, depart time, arrive time and air time should be Null.\n",
    "* airtime: 2053497\n",
    "* rows: 2105545"
   ]
  },
  {
   "cell_type": "markdown",
   "metadata": {},
   "source": [
    "### drop rows in the dataset w/ cancelled = 1"
   ]
  },
  {
   "cell_type": "markdown",
   "metadata": {},
   "source": [
    "* if flight is cancelled, there is no reason having airtime"
   ]
  },
  {
   "cell_type": "code",
   "execution_count": 35,
   "metadata": {},
   "outputs": [],
   "source": [
    "df_cancel2 = df_cancel.filter(df_cancel.AirTime.isNull())"
   ]
  },
  {
   "cell_type": "code",
   "execution_count": 36,
   "metadata": {},
   "outputs": [
    {
     "data": {
      "text/plain": [
       "2053497"
      ]
     },
     "execution_count": 36,
     "metadata": {},
     "output_type": "execute_result"
    }
   ],
   "source": [
    "df_cancel2.count()"
   ]
  },
  {
   "cell_type": "code",
   "execution_count": 37,
   "metadata": {},
   "outputs": [
    {
     "name": "stdout",
     "output_type": "stream",
     "text": [
      "+----+-----+----------+---------+-------+-------+-------------+---------+-----------------+-------+--------+--------+------+----+--------+------+-------+---------+--------+------------+------------+--------+-------------+-----------------+\n",
      "|Year|Month|DayofMonth|DayOfWeek|DepTime|ArrTime|UniqueCarrier|FlightNum|ActualElapsedTime|AirTime|ArrDelay|DepDelay|Origin|Dest|Distance|TaxiIn|TaxiOut|Cancelled|Diverted|CarrierDelay|WeatherDelay|NASDelay|SecurityDelay|LateAircraftDelay|\n",
      "+----+-----+----------+---------+-------+-------+-------------+---------+-----------------+-------+--------+--------+------+----+--------+------+-------+---------+--------+------------+------------+--------+-------------+-----------------+\n",
      "|   0|    0|         0|        0|2052309|2053497|            0|        0|          2053497|2053497| 2053497| 2052309|     0|   0|    2040|556831| 556455|        0|       0|     1456402|     1456402| 1456402|      1456402|          1456402|\n",
      "+----+-----+----------+---------+-------+-------+-------------+---------+-----------------+-------+--------+--------+------+----+--------+------+-------+---------+--------+------------+------------+--------+-------------+-----------------+\n",
      "\n"
     ]
    }
   ],
   "source": [
    "df_cancel2.select([count(when(df_cancel2[c].isNull(), c)).alias(c) for c in df_cancel2.columns]).show()"
   ]
  },
  {
   "cell_type": "markdown",
   "metadata": {},
   "source": [
    "still some non-missing value in Deptime and Depdelay\n",
    "* deptime: 2052309\n",
    "* rows: 2053497"
   ]
  },
  {
   "cell_type": "code",
   "execution_count": 38,
   "metadata": {},
   "outputs": [
    {
     "data": {
      "text/html": [
       "<div>\n",
       "<style scoped>\n",
       "    .dataframe tbody tr th:only-of-type {\n",
       "        vertical-align: middle;\n",
       "    }\n",
       "\n",
       "    .dataframe tbody tr th {\n",
       "        vertical-align: top;\n",
       "    }\n",
       "\n",
       "    .dataframe thead th {\n",
       "        text-align: right;\n",
       "    }\n",
       "</style>\n",
       "<table border=\"1\" class=\"dataframe\">\n",
       "  <thead>\n",
       "    <tr style=\"text-align: right;\">\n",
       "      <th></th>\n",
       "      <th>Year</th>\n",
       "      <th>Month</th>\n",
       "      <th>DayofMonth</th>\n",
       "      <th>DayOfWeek</th>\n",
       "      <th>DepTime</th>\n",
       "      <th>ArrTime</th>\n",
       "      <th>UniqueCarrier</th>\n",
       "      <th>FlightNum</th>\n",
       "      <th>ActualElapsedTime</th>\n",
       "      <th>AirTime</th>\n",
       "      <th>ArrDelay</th>\n",
       "      <th>DepDelay</th>\n",
       "      <th>Origin</th>\n",
       "      <th>Dest</th>\n",
       "      <th>Distance</th>\n",
       "      <th>TaxiIn</th>\n",
       "      <th>TaxiOut</th>\n",
       "      <th>Cancelled</th>\n",
       "      <th>Diverted</th>\n",
       "      <th>CarrierDelay</th>\n",
       "      <th>WeatherDelay</th>\n",
       "      <th>NASDelay</th>\n",
       "      <th>SecurityDelay</th>\n",
       "      <th>LateAircraftDelay</th>\n",
       "    </tr>\n",
       "  </thead>\n",
       "  <tbody>\n",
       "    <tr>\n",
       "      <th>0</th>\n",
       "      <td>0</td>\n",
       "      <td>0</td>\n",
       "      <td>0</td>\n",
       "      <td>0</td>\n",
       "      <td>2052309</td>\n",
       "      <td>2052309</td>\n",
       "      <td>0</td>\n",
       "      <td>0</td>\n",
       "      <td>2052309</td>\n",
       "      <td>2052309</td>\n",
       "      <td>2052309</td>\n",
       "      <td>2052309</td>\n",
       "      <td>0</td>\n",
       "      <td>0</td>\n",
       "      <td>2040</td>\n",
       "      <td>555643</td>\n",
       "      <td>555643</td>\n",
       "      <td>0</td>\n",
       "      <td>0</td>\n",
       "      <td>1455214</td>\n",
       "      <td>1455214</td>\n",
       "      <td>1455214</td>\n",
       "      <td>1455214</td>\n",
       "      <td>1455214</td>\n",
       "    </tr>\n",
       "  </tbody>\n",
       "</table>\n",
       "</div>"
      ],
      "text/plain": [
       "   Year  Month  DayofMonth  DayOfWeek  DepTime  ArrTime  UniqueCarrier  \\\n",
       "0     0      0           0          0  2052309  2052309              0   \n",
       "\n",
       "   FlightNum  ActualElapsedTime  AirTime  ArrDelay  DepDelay  Origin  Dest  \\\n",
       "0          0            2052309  2052309   2052309   2052309       0     0   \n",
       "\n",
       "   Distance  TaxiIn  TaxiOut  Cancelled  Diverted  CarrierDelay  WeatherDelay  \\\n",
       "0      2040  555643   555643          0         0       1455214       1455214   \n",
       "\n",
       "   NASDelay  SecurityDelay  LateAircraftDelay  \n",
       "0   1455214        1455214            1455214  "
      ]
     },
     "execution_count": 38,
     "metadata": {},
     "output_type": "execute_result"
    }
   ],
   "source": [
    "df_cancel3 = df_cancel2.filter(df_cancel2.DepTime.isNull())\n",
    "pdf = df_cancel3.select([count(when(df_cancel3[c].isNull(), c)).alias(c) for c in df_cancel3.columns])\n",
    "pdf.toPandas()"
   ]
  },
  {
   "cell_type": "code",
   "execution_count": 39,
   "metadata": {},
   "outputs": [],
   "source": [
    "df_cancel3 = df_cancel3.na.drop(subset=[\"Distance\"])"
   ]
  },
  {
   "cell_type": "code",
   "execution_count": 40,
   "metadata": {},
   "outputs": [
    {
     "data": {
      "text/html": [
       "<div>\n",
       "<style scoped>\n",
       "    .dataframe tbody tr th:only-of-type {\n",
       "        vertical-align: middle;\n",
       "    }\n",
       "\n",
       "    .dataframe tbody tr th {\n",
       "        vertical-align: top;\n",
       "    }\n",
       "\n",
       "    .dataframe thead th {\n",
       "        text-align: right;\n",
       "    }\n",
       "</style>\n",
       "<table border=\"1\" class=\"dataframe\">\n",
       "  <thead>\n",
       "    <tr style=\"text-align: right;\">\n",
       "      <th></th>\n",
       "      <th>Year</th>\n",
       "      <th>Month</th>\n",
       "      <th>DayofMonth</th>\n",
       "      <th>DayOfWeek</th>\n",
       "      <th>DepTime</th>\n",
       "      <th>ArrTime</th>\n",
       "      <th>UniqueCarrier</th>\n",
       "      <th>FlightNum</th>\n",
       "      <th>ActualElapsedTime</th>\n",
       "      <th>AirTime</th>\n",
       "      <th>ArrDelay</th>\n",
       "      <th>DepDelay</th>\n",
       "      <th>Origin</th>\n",
       "      <th>Dest</th>\n",
       "      <th>Distance</th>\n",
       "      <th>TaxiIn</th>\n",
       "      <th>TaxiOut</th>\n",
       "      <th>Cancelled</th>\n",
       "      <th>Diverted</th>\n",
       "      <th>CarrierDelay</th>\n",
       "      <th>WeatherDelay</th>\n",
       "      <th>NASDelay</th>\n",
       "      <th>SecurityDelay</th>\n",
       "      <th>LateAircraftDelay</th>\n",
       "    </tr>\n",
       "  </thead>\n",
       "  <tbody>\n",
       "    <tr>\n",
       "      <th>0</th>\n",
       "      <td>0</td>\n",
       "      <td>0</td>\n",
       "      <td>0</td>\n",
       "      <td>0</td>\n",
       "      <td>2050269</td>\n",
       "      <td>2050269</td>\n",
       "      <td>0</td>\n",
       "      <td>0</td>\n",
       "      <td>2050269</td>\n",
       "      <td>2050269</td>\n",
       "      <td>2050269</td>\n",
       "      <td>2050269</td>\n",
       "      <td>0</td>\n",
       "      <td>0</td>\n",
       "      <td>0</td>\n",
       "      <td>553679</td>\n",
       "      <td>553679</td>\n",
       "      <td>0</td>\n",
       "      <td>0</td>\n",
       "      <td>1453174</td>\n",
       "      <td>1453174</td>\n",
       "      <td>1453174</td>\n",
       "      <td>1453174</td>\n",
       "      <td>1453174</td>\n",
       "    </tr>\n",
       "  </tbody>\n",
       "</table>\n",
       "</div>"
      ],
      "text/plain": [
       "   Year  Month  DayofMonth  DayOfWeek  DepTime  ArrTime  UniqueCarrier  \\\n",
       "0     0      0           0          0  2050269  2050269              0   \n",
       "\n",
       "   FlightNum  ActualElapsedTime  AirTime  ArrDelay  DepDelay  Origin  Dest  \\\n",
       "0          0            2050269  2050269   2050269   2050269       0     0   \n",
       "\n",
       "   Distance  TaxiIn  TaxiOut  Cancelled  Diverted  CarrierDelay  WeatherDelay  \\\n",
       "0         0  553679   553679          0         0       1453174       1453174   \n",
       "\n",
       "   NASDelay  SecurityDelay  LateAircraftDelay  \n",
       "0   1453174        1453174            1453174  "
      ]
     },
     "execution_count": 40,
     "metadata": {},
     "output_type": "execute_result"
    }
   ],
   "source": [
    "pdf = df_cancel3.select([count(when(df_cancel3[c].isNull(), c)).alias(c) for c in df_cancel3.columns])\n",
    "pdf.toPandas()"
   ]
  },
  {
   "cell_type": "code",
   "execution_count": 41,
   "metadata": {},
   "outputs": [],
   "source": [
    "# now dataset with cancelled = 1 is cleaned. all rows with missing values = 2050269"
   ]
  },
  {
   "cell_type": "markdown",
   "metadata": {},
   "source": [
    "# 3. combine dataset with cancelled = 1 and  cancelled = 0"
   ]
  },
  {
   "cell_type": "code",
   "execution_count": 42,
   "metadata": {},
   "outputs": [],
   "source": [
    "df_clean = df_no_cancel2.union(df_cancel3)"
   ]
  },
  {
   "cell_type": "code",
   "execution_count": 43,
   "metadata": {},
   "outputs": [
    {
     "data": {
      "text/plain": [
       "121843347"
      ]
     },
     "execution_count": 43,
     "metadata": {},
     "output_type": "execute_result"
    }
   ],
   "source": [
    "df_clean.count()"
   ]
  },
  {
   "cell_type": "code",
   "execution_count": 44,
   "metadata": {},
   "outputs": [
    {
     "data": {
      "text/plain": [
       "121843347"
      ]
     },
     "execution_count": 44,
     "metadata": {},
     "output_type": "execute_result"
    }
   ],
   "source": [
    "2052309+119793199-121-2040 \n",
    "# 121 drop from the AirTime after 1995 when flight cancelled = 0\n",
    "# 2040 drop from the distance when flight cancelled = 1"
   ]
  },
  {
   "cell_type": "code",
   "execution_count": 45,
   "metadata": {},
   "outputs": [
    {
     "data": {
      "text/plain": [
       "[('Year', 'int'),\n",
       " ('Month', 'int'),\n",
       " ('DayofMonth', 'int'),\n",
       " ('DayOfWeek', 'int'),\n",
       " ('DepTime', 'double'),\n",
       " ('ArrTime', 'double'),\n",
       " ('UniqueCarrier', 'string'),\n",
       " ('FlightNum', 'int'),\n",
       " ('ActualElapsedTime', 'double'),\n",
       " ('AirTime', 'double'),\n",
       " ('ArrDelay', 'double'),\n",
       " ('DepDelay', 'string'),\n",
       " ('Origin', 'string'),\n",
       " ('Dest', 'string'),\n",
       " ('Distance', 'double'),\n",
       " ('TaxiIn', 'double'),\n",
       " ('TaxiOut', 'double'),\n",
       " ('Cancelled', 'double'),\n",
       " ('Diverted', 'double'),\n",
       " ('CarrierDelay', 'double'),\n",
       " ('WeatherDelay', 'double'),\n",
       " ('NASDelay', 'double'),\n",
       " ('SecurityDelay', 'double'),\n",
       " ('LateAircraftDelay', 'double')]"
      ]
     },
     "execution_count": 45,
     "metadata": {},
     "output_type": "execute_result"
    }
   ],
   "source": [
    "df_clean.dtypes"
   ]
  },
  {
   "cell_type": "markdown",
   "metadata": {},
   "source": [
    "## 1995 data (1995~2008 w/o Taxi_IN & Taxi_OUT missing values)"
   ]
  },
  {
   "cell_type": "code",
   "execution_count": 46,
   "metadata": {},
   "outputs": [],
   "source": [
    "df1995 = df_clean.filter(df_clean.Year.cast(\"int\") >=1995)"
   ]
  },
  {
   "cell_type": "code",
   "execution_count": 47,
   "metadata": {},
   "outputs": [
    {
     "data": {
      "text/plain": [
       "84888420"
      ]
     },
     "execution_count": 47,
     "metadata": {},
     "output_type": "execute_result"
    }
   ],
   "source": [
    "df1995.count()"
   ]
  },
  {
   "cell_type": "code",
   "execution_count": 48,
   "metadata": {},
   "outputs": [
    {
     "data": {
      "text/html": [
       "<div>\n",
       "<style scoped>\n",
       "    .dataframe tbody tr th:only-of-type {\n",
       "        vertical-align: middle;\n",
       "    }\n",
       "\n",
       "    .dataframe tbody tr th {\n",
       "        vertical-align: top;\n",
       "    }\n",
       "\n",
       "    .dataframe thead th {\n",
       "        text-align: right;\n",
       "    }\n",
       "</style>\n",
       "<table border=\"1\" class=\"dataframe\">\n",
       "  <thead>\n",
       "    <tr style=\"text-align: right;\">\n",
       "      <th></th>\n",
       "      <th>Year</th>\n",
       "      <th>Month</th>\n",
       "      <th>DayofMonth</th>\n",
       "      <th>DayOfWeek</th>\n",
       "      <th>DepTime</th>\n",
       "      <th>ArrTime</th>\n",
       "      <th>UniqueCarrier</th>\n",
       "      <th>FlightNum</th>\n",
       "      <th>ActualElapsedTime</th>\n",
       "      <th>AirTime</th>\n",
       "      <th>ArrDelay</th>\n",
       "      <th>DepDelay</th>\n",
       "      <th>Origin</th>\n",
       "      <th>Dest</th>\n",
       "      <th>Distance</th>\n",
       "      <th>TaxiIn</th>\n",
       "      <th>TaxiOut</th>\n",
       "      <th>Cancelled</th>\n",
       "      <th>Diverted</th>\n",
       "      <th>CarrierDelay</th>\n",
       "      <th>WeatherDelay</th>\n",
       "      <th>NASDelay</th>\n",
       "      <th>SecurityDelay</th>\n",
       "      <th>LateAircraftDelay</th>\n",
       "    </tr>\n",
       "  </thead>\n",
       "  <tbody>\n",
       "    <tr>\n",
       "      <th>0</th>\n",
       "      <td>0</td>\n",
       "      <td>0</td>\n",
       "      <td>0</td>\n",
       "      <td>0</td>\n",
       "      <td>1632836</td>\n",
       "      <td>1632836</td>\n",
       "      <td>0</td>\n",
       "      <td>0</td>\n",
       "      <td>1632836</td>\n",
       "      <td>1632836</td>\n",
       "      <td>1632836</td>\n",
       "      <td>1632836</td>\n",
       "      <td>0</td>\n",
       "      <td>0</td>\n",
       "      <td>0</td>\n",
       "      <td>136246</td>\n",
       "      <td>136246</td>\n",
       "      <td>0</td>\n",
       "      <td>0</td>\n",
       "      <td>50751110</td>\n",
       "      <td>50751110</td>\n",
       "      <td>50751110</td>\n",
       "      <td>50751110</td>\n",
       "      <td>50751110</td>\n",
       "    </tr>\n",
       "  </tbody>\n",
       "</table>\n",
       "</div>"
      ],
      "text/plain": [
       "   Year  Month  DayofMonth  DayOfWeek  DepTime  ArrTime  UniqueCarrier  \\\n",
       "0     0      0           0          0  1632836  1632836              0   \n",
       "\n",
       "   FlightNum  ActualElapsedTime  AirTime  ArrDelay  DepDelay  Origin  Dest  \\\n",
       "0          0            1632836  1632836   1632836   1632836       0     0   \n",
       "\n",
       "   Distance  TaxiIn  TaxiOut  Cancelled  Diverted  CarrierDelay  WeatherDelay  \\\n",
       "0         0  136246   136246          0         0      50751110      50751110   \n",
       "\n",
       "   NASDelay  SecurityDelay  LateAircraftDelay  \n",
       "0  50751110       50751110           50751110  "
      ]
     },
     "execution_count": 48,
     "metadata": {},
     "output_type": "execute_result"
    }
   ],
   "source": [
    "pdf = df1995.select([count(when(df1995[c].isNull(), c)).alias(c) for c in df1995.columns])\n",
    "pd1995 =pdf.toPandas()\n",
    "pd1995.sort_values(by=['Year'])"
   ]
  },
  {
   "cell_type": "code",
   "execution_count": 49,
   "metadata": {},
   "outputs": [],
   "source": [
    "#still has 136246 taxi_in and taxi_out"
   ]
  },
  {
   "cell_type": "code",
   "execution_count": 50,
   "metadata": {},
   "outputs": [
    {
     "data": {
      "text/plain": [
       "0.0016050010119165843"
      ]
     },
     "execution_count": 50,
     "metadata": {},
     "output_type": "execute_result"
    }
   ],
   "source": [
    "136246/84888420"
   ]
  },
  {
   "cell_type": "code",
   "execution_count": 51,
   "metadata": {},
   "outputs": [],
   "source": [
    "df1995 = df1995.na.drop(subset=[\"TaxiIn\"])"
   ]
  },
  {
   "cell_type": "code",
   "execution_count": 52,
   "metadata": {},
   "outputs": [
    {
     "data": {
      "text/html": [
       "<div>\n",
       "<style scoped>\n",
       "    .dataframe tbody tr th:only-of-type {\n",
       "        vertical-align: middle;\n",
       "    }\n",
       "\n",
       "    .dataframe tbody tr th {\n",
       "        vertical-align: top;\n",
       "    }\n",
       "\n",
       "    .dataframe thead th {\n",
       "        text-align: right;\n",
       "    }\n",
       "</style>\n",
       "<table border=\"1\" class=\"dataframe\">\n",
       "  <thead>\n",
       "    <tr style=\"text-align: right;\">\n",
       "      <th></th>\n",
       "      <th>Year</th>\n",
       "      <th>Month</th>\n",
       "      <th>DayofMonth</th>\n",
       "      <th>DayOfWeek</th>\n",
       "      <th>DepTime</th>\n",
       "      <th>ArrTime</th>\n",
       "      <th>UniqueCarrier</th>\n",
       "      <th>FlightNum</th>\n",
       "      <th>ActualElapsedTime</th>\n",
       "      <th>AirTime</th>\n",
       "      <th>ArrDelay</th>\n",
       "      <th>DepDelay</th>\n",
       "      <th>Origin</th>\n",
       "      <th>Dest</th>\n",
       "      <th>Distance</th>\n",
       "      <th>TaxiIn</th>\n",
       "      <th>TaxiOut</th>\n",
       "      <th>Cancelled</th>\n",
       "      <th>Diverted</th>\n",
       "      <th>CarrierDelay</th>\n",
       "      <th>WeatherDelay</th>\n",
       "      <th>NASDelay</th>\n",
       "      <th>SecurityDelay</th>\n",
       "      <th>LateAircraftDelay</th>\n",
       "    </tr>\n",
       "  </thead>\n",
       "  <tbody>\n",
       "    <tr>\n",
       "      <th>0</th>\n",
       "      <td>0</td>\n",
       "      <td>0</td>\n",
       "      <td>0</td>\n",
       "      <td>0</td>\n",
       "      <td>1496590</td>\n",
       "      <td>1496590</td>\n",
       "      <td>0</td>\n",
       "      <td>0</td>\n",
       "      <td>1496590</td>\n",
       "      <td>1496590</td>\n",
       "      <td>1496590</td>\n",
       "      <td>1496590</td>\n",
       "      <td>0</td>\n",
       "      <td>0</td>\n",
       "      <td>0</td>\n",
       "      <td>0</td>\n",
       "      <td>0</td>\n",
       "      <td>0</td>\n",
       "      <td>0</td>\n",
       "      <td>50614864</td>\n",
       "      <td>50614864</td>\n",
       "      <td>50614864</td>\n",
       "      <td>50614864</td>\n",
       "      <td>50614864</td>\n",
       "    </tr>\n",
       "  </tbody>\n",
       "</table>\n",
       "</div>"
      ],
      "text/plain": [
       "   Year  Month  DayofMonth  DayOfWeek  DepTime  ArrTime  UniqueCarrier  \\\n",
       "0     0      0           0          0  1496590  1496590              0   \n",
       "\n",
       "   FlightNum  ActualElapsedTime  AirTime  ArrDelay  DepDelay  Origin  Dest  \\\n",
       "0          0            1496590  1496590   1496590   1496590       0     0   \n",
       "\n",
       "   Distance  TaxiIn  TaxiOut  Cancelled  Diverted  CarrierDelay  WeatherDelay  \\\n",
       "0         0       0        0          0         0      50614864      50614864   \n",
       "\n",
       "   NASDelay  SecurityDelay  LateAircraftDelay  \n",
       "0  50614864       50614864           50614864  "
      ]
     },
     "execution_count": 52,
     "metadata": {},
     "output_type": "execute_result"
    }
   ],
   "source": [
    "pdf = df1995.select([count(when(df1995[c].isNull(), c)).alias(c) for c in df1995.columns])\n",
    "pd1995 =pdf.toPandas()\n",
    "pd1995.sort_values(by=['Year'])"
   ]
  },
  {
   "cell_type": "code",
   "execution_count": 53,
   "metadata": {},
   "outputs": [
    {
     "data": {
      "text/plain": [
       "0.0016912753813639013"
      ]
     },
     "execution_count": 53,
     "metadata": {},
     "output_type": "execute_result"
    }
   ],
   "source": [
    "#further study\n",
    "# if considering no deptime/arrtime null value\n",
    "1496590/884888420\n",
    "#it is reasonable to drop "
   ]
  },
  {
   "cell_type": "code",
   "execution_count": 54,
   "metadata": {},
   "outputs": [],
   "source": [
    "# df1995 = df1995.na.drop(subset=[\"DepTime\"])"
   ]
  },
  {
   "cell_type": "code",
   "execution_count": 55,
   "metadata": {},
   "outputs": [
    {
     "data": {
      "text/html": [
       "<div>\n",
       "<style scoped>\n",
       "    .dataframe tbody tr th:only-of-type {\n",
       "        vertical-align: middle;\n",
       "    }\n",
       "\n",
       "    .dataframe tbody tr th {\n",
       "        vertical-align: top;\n",
       "    }\n",
       "\n",
       "    .dataframe thead th {\n",
       "        text-align: right;\n",
       "    }\n",
       "</style>\n",
       "<table border=\"1\" class=\"dataframe\">\n",
       "  <thead>\n",
       "    <tr style=\"text-align: right;\">\n",
       "      <th></th>\n",
       "      <th>Year</th>\n",
       "      <th>Month</th>\n",
       "      <th>DayofMonth</th>\n",
       "      <th>DayOfWeek</th>\n",
       "      <th>DepTime</th>\n",
       "      <th>ArrTime</th>\n",
       "      <th>UniqueCarrier</th>\n",
       "      <th>FlightNum</th>\n",
       "      <th>ActualElapsedTime</th>\n",
       "      <th>AirTime</th>\n",
       "      <th>ArrDelay</th>\n",
       "      <th>DepDelay</th>\n",
       "      <th>Origin</th>\n",
       "      <th>Dest</th>\n",
       "      <th>Distance</th>\n",
       "      <th>TaxiIn</th>\n",
       "      <th>TaxiOut</th>\n",
       "      <th>Cancelled</th>\n",
       "      <th>Diverted</th>\n",
       "      <th>CarrierDelay</th>\n",
       "      <th>WeatherDelay</th>\n",
       "      <th>NASDelay</th>\n",
       "      <th>SecurityDelay</th>\n",
       "      <th>LateAircraftDelay</th>\n",
       "    </tr>\n",
       "  </thead>\n",
       "  <tbody>\n",
       "    <tr>\n",
       "      <th>0</th>\n",
       "      <td>0</td>\n",
       "      <td>0</td>\n",
       "      <td>0</td>\n",
       "      <td>0</td>\n",
       "      <td>1496590</td>\n",
       "      <td>1496590</td>\n",
       "      <td>0</td>\n",
       "      <td>0</td>\n",
       "      <td>1496590</td>\n",
       "      <td>1496590</td>\n",
       "      <td>1496590</td>\n",
       "      <td>1496590</td>\n",
       "      <td>0</td>\n",
       "      <td>0</td>\n",
       "      <td>0</td>\n",
       "      <td>0</td>\n",
       "      <td>0</td>\n",
       "      <td>0</td>\n",
       "      <td>0</td>\n",
       "      <td>50614864</td>\n",
       "      <td>50614864</td>\n",
       "      <td>50614864</td>\n",
       "      <td>50614864</td>\n",
       "      <td>50614864</td>\n",
       "    </tr>\n",
       "  </tbody>\n",
       "</table>\n",
       "</div>"
      ],
      "text/plain": [
       "   Year  Month  DayofMonth  DayOfWeek  DepTime  ArrTime  UniqueCarrier  \\\n",
       "0     0      0           0          0  1496590  1496590              0   \n",
       "\n",
       "   FlightNum  ActualElapsedTime  AirTime  ArrDelay  DepDelay  Origin  Dest  \\\n",
       "0          0            1496590  1496590   1496590   1496590       0     0   \n",
       "\n",
       "   Distance  TaxiIn  TaxiOut  Cancelled  Diverted  CarrierDelay  WeatherDelay  \\\n",
       "0         0       0        0          0         0      50614864      50614864   \n",
       "\n",
       "   NASDelay  SecurityDelay  LateAircraftDelay  \n",
       "0  50614864       50614864           50614864  "
      ]
     },
     "execution_count": 55,
     "metadata": {},
     "output_type": "execute_result"
    }
   ],
   "source": [
    "pdf = df1995.select([count(when(df1995[c].isNull(), c)).alias(c) for c in df1995.columns])\n",
    "pd1995 =pdf.toPandas()\n",
    "pd1995.sort_values(by=['Year'])"
   ]
  },
  {
   "cell_type": "code",
   "execution_count": 56,
   "metadata": {},
   "outputs": [],
   "source": [
    "# now df1995 is cleaned!!!!"
   ]
  },
  {
   "cell_type": "markdown",
   "metadata": {},
   "source": [
    "# 2004 data (2004~2007 delay dataset)"
   ]
  },
  {
   "cell_type": "code",
   "execution_count": 57,
   "metadata": {},
   "outputs": [],
   "source": [
    "df2004 = df_clean.filter((df_clean.Year.cast(\"int\") >=2004) & (df_clean.Year.cast(\"int\") <=2007) )"
   ]
  },
  {
   "cell_type": "code",
   "execution_count": 58,
   "metadata": {},
   "outputs": [
    {
     "data": {
      "text/plain": [
       "28803826"
      ]
     },
     "execution_count": 58,
     "metadata": {},
     "output_type": "execute_result"
    }
   ],
   "source": [
    "df2004.count()"
   ]
  },
  {
   "cell_type": "code",
   "execution_count": 59,
   "metadata": {},
   "outputs": [
    {
     "data": {
      "text/html": [
       "<div>\n",
       "<style scoped>\n",
       "    .dataframe tbody tr th:only-of-type {\n",
       "        vertical-align: middle;\n",
       "    }\n",
       "\n",
       "    .dataframe tbody tr th {\n",
       "        vertical-align: top;\n",
       "    }\n",
       "\n",
       "    .dataframe thead th {\n",
       "        text-align: right;\n",
       "    }\n",
       "</style>\n",
       "<table border=\"1\" class=\"dataframe\">\n",
       "  <thead>\n",
       "    <tr style=\"text-align: right;\">\n",
       "      <th></th>\n",
       "      <th>Year</th>\n",
       "      <th>Month</th>\n",
       "      <th>DayofMonth</th>\n",
       "      <th>DayOfWeek</th>\n",
       "      <th>DepTime</th>\n",
       "      <th>ArrTime</th>\n",
       "      <th>UniqueCarrier</th>\n",
       "      <th>FlightNum</th>\n",
       "      <th>ActualElapsedTime</th>\n",
       "      <th>AirTime</th>\n",
       "      <th>ArrDelay</th>\n",
       "      <th>DepDelay</th>\n",
       "      <th>Origin</th>\n",
       "      <th>Dest</th>\n",
       "      <th>Distance</th>\n",
       "      <th>TaxiIn</th>\n",
       "      <th>TaxiOut</th>\n",
       "      <th>Cancelled</th>\n",
       "      <th>Diverted</th>\n",
       "      <th>CarrierDelay</th>\n",
       "      <th>WeatherDelay</th>\n",
       "      <th>NASDelay</th>\n",
       "      <th>SecurityDelay</th>\n",
       "      <th>LateAircraftDelay</th>\n",
       "    </tr>\n",
       "  </thead>\n",
       "  <tbody>\n",
       "    <tr>\n",
       "      <th>0</th>\n",
       "      <td>0</td>\n",
       "      <td>0</td>\n",
       "      <td>0</td>\n",
       "      <td>0</td>\n",
       "      <td>544169</td>\n",
       "      <td>544169</td>\n",
       "      <td>0</td>\n",
       "      <td>0</td>\n",
       "      <td>544169</td>\n",
       "      <td>544169</td>\n",
       "      <td>544169</td>\n",
       "      <td>544169</td>\n",
       "      <td>0</td>\n",
       "      <td>0</td>\n",
       "      <td>0</td>\n",
       "      <td>0</td>\n",
       "      <td>0</td>\n",
       "      <td>0</td>\n",
       "      <td>0</td>\n",
       "      <td>0</td>\n",
       "      <td>0</td>\n",
       "      <td>0</td>\n",
       "      <td>0</td>\n",
       "      <td>0</td>\n",
       "    </tr>\n",
       "  </tbody>\n",
       "</table>\n",
       "</div>"
      ],
      "text/plain": [
       "   Year  Month  DayofMonth  DayOfWeek  DepTime  ArrTime  UniqueCarrier  \\\n",
       "0     0      0           0          0   544169   544169              0   \n",
       "\n",
       "   FlightNum  ActualElapsedTime  AirTime  ArrDelay  DepDelay  Origin  Dest  \\\n",
       "0          0             544169   544169    544169    544169       0     0   \n",
       "\n",
       "   Distance  TaxiIn  TaxiOut  Cancelled  Diverted  CarrierDelay  WeatherDelay  \\\n",
       "0         0       0        0          0         0             0             0   \n",
       "\n",
       "   NASDelay  SecurityDelay  LateAircraftDelay  \n",
       "0         0              0                  0  "
      ]
     },
     "execution_count": 59,
     "metadata": {},
     "output_type": "execute_result"
    }
   ],
   "source": [
    "pdf = df2004.select([count(when(df2004[c].isNull(), c)).alias(c) for c in df2004.columns])\n",
    "pd2004 =pdf.toPandas()\n",
    "pd2004.sort_values(by=['Year'])"
   ]
  },
  {
   "cell_type": "code",
   "execution_count": 60,
   "metadata": {},
   "outputs": [
    {
     "data": {
      "text/plain": [
       "0.018892247161887452"
      ]
     },
     "execution_count": 60,
     "metadata": {},
     "output_type": "execute_result"
    }
   ],
   "source": [
    "# the perc of missing values\n",
    "544169/28803826"
   ]
  },
  {
   "cell_type": "code",
   "execution_count": 61,
   "metadata": {},
   "outputs": [],
   "source": [
    "df2004 = df2004.na.drop(subset=[\"DepTime\"])"
   ]
  },
  {
   "cell_type": "code",
   "execution_count": 62,
   "metadata": {},
   "outputs": [
    {
     "data": {
      "text/html": [
       "<div>\n",
       "<style scoped>\n",
       "    .dataframe tbody tr th:only-of-type {\n",
       "        vertical-align: middle;\n",
       "    }\n",
       "\n",
       "    .dataframe tbody tr th {\n",
       "        vertical-align: top;\n",
       "    }\n",
       "\n",
       "    .dataframe thead th {\n",
       "        text-align: right;\n",
       "    }\n",
       "</style>\n",
       "<table border=\"1\" class=\"dataframe\">\n",
       "  <thead>\n",
       "    <tr style=\"text-align: right;\">\n",
       "      <th></th>\n",
       "      <th>Year</th>\n",
       "      <th>Month</th>\n",
       "      <th>DayofMonth</th>\n",
       "      <th>DayOfWeek</th>\n",
       "      <th>DepTime</th>\n",
       "      <th>ArrTime</th>\n",
       "      <th>UniqueCarrier</th>\n",
       "      <th>FlightNum</th>\n",
       "      <th>ActualElapsedTime</th>\n",
       "      <th>AirTime</th>\n",
       "      <th>ArrDelay</th>\n",
       "      <th>DepDelay</th>\n",
       "      <th>Origin</th>\n",
       "      <th>Dest</th>\n",
       "      <th>Distance</th>\n",
       "      <th>TaxiIn</th>\n",
       "      <th>TaxiOut</th>\n",
       "      <th>Cancelled</th>\n",
       "      <th>Diverted</th>\n",
       "      <th>CarrierDelay</th>\n",
       "      <th>WeatherDelay</th>\n",
       "      <th>NASDelay</th>\n",
       "      <th>SecurityDelay</th>\n",
       "      <th>LateAircraftDelay</th>\n",
       "    </tr>\n",
       "  </thead>\n",
       "  <tbody>\n",
       "    <tr>\n",
       "      <th>0</th>\n",
       "      <td>0</td>\n",
       "      <td>0</td>\n",
       "      <td>0</td>\n",
       "      <td>0</td>\n",
       "      <td>0</td>\n",
       "      <td>0</td>\n",
       "      <td>0</td>\n",
       "      <td>0</td>\n",
       "      <td>0</td>\n",
       "      <td>0</td>\n",
       "      <td>0</td>\n",
       "      <td>0</td>\n",
       "      <td>0</td>\n",
       "      <td>0</td>\n",
       "      <td>0</td>\n",
       "      <td>0</td>\n",
       "      <td>0</td>\n",
       "      <td>0</td>\n",
       "      <td>0</td>\n",
       "      <td>0</td>\n",
       "      <td>0</td>\n",
       "      <td>0</td>\n",
       "      <td>0</td>\n",
       "      <td>0</td>\n",
       "    </tr>\n",
       "  </tbody>\n",
       "</table>\n",
       "</div>"
      ],
      "text/plain": [
       "   Year  Month  DayofMonth  DayOfWeek  DepTime  ArrTime  UniqueCarrier  \\\n",
       "0     0      0           0          0        0        0              0   \n",
       "\n",
       "   FlightNum  ActualElapsedTime  AirTime  ArrDelay  DepDelay  Origin  Dest  \\\n",
       "0          0                  0        0         0         0       0     0   \n",
       "\n",
       "   Distance  TaxiIn  TaxiOut  Cancelled  Diverted  CarrierDelay  WeatherDelay  \\\n",
       "0         0       0        0          0         0             0             0   \n",
       "\n",
       "   NASDelay  SecurityDelay  LateAircraftDelay  \n",
       "0         0              0                  0  "
      ]
     },
     "execution_count": 62,
     "metadata": {},
     "output_type": "execute_result"
    }
   ],
   "source": [
    "pdf = df2004.select([count(when(df2004[c].isNull(), c)).alias(c) for c in df2004.columns])\n",
    "pd2004 =pdf.toPandas()\n",
    "pd2004.sort_values(by=['Year'])"
   ]
  },
  {
   "cell_type": "code",
   "execution_count": null,
   "metadata": {},
   "outputs": [],
   "source": []
  },
  {
   "cell_type": "code",
   "execution_count": 63,
   "metadata": {},
   "outputs": [],
   "source": [
    "#summary\n",
    "\n",
    "# we have 5 dataset\n",
    "# 1st: the raw dataset: df\n",
    "# 2nd: the dataset that has no 'Origin' & 'Dest' missing values:  df6\n",
    "# 3rd: the cleaned dataset: df_clean\n",
    "# 4th: the dataset that based on df_clean and has no 'taxi_in' and 'taxi_out' missing values: df 1995\n",
    "# 5th: the dataset that based on df_clean and used to do delay analysis: df2004"
   ]
  },
  {
   "cell_type": "markdown",
   "metadata": {},
   "source": [
    "# Model Building - Cancelled - 1995"
   ]
  },
  {
   "cell_type": "markdown",
   "metadata": {},
   "source": [
    "## One Hot Encoding"
   ]
  },
  {
   "cell_type": "code",
   "execution_count": 64,
   "metadata": {},
   "outputs": [
    {
     "name": "stdout",
     "output_type": "stream",
     "text": [
      "+----+-----+----------+---------+-------+-------+-------------+---------+-----------------+-------+--------+--------+------+----+--------+------+-------+---------+--------+------------+------------+--------+-------------+-----------------+----------------+---------+-------+----------------+---------------+----------------+\n",
      "|Year|Month|DayofMonth|DayOfWeek|DepTime|ArrTime|UniqueCarrier|FlightNum|ActualElapsedTime|AirTime|ArrDelay|DepDelay|Origin|Dest|Distance|TaxiIn|TaxiOut|Cancelled|Diverted|CarrierDelay|WeatherDelay|NASDelay|SecurityDelay|LateAircraftDelay|UniqueCarrierIdx|OriginIdx|DestIdx|UniqueCarrierVec|      OriginVec|         DestVec|\n",
      "+----+-----+----------+---------+-------+-------+-------------+---------+-----------------+-------+--------+--------+------+----+--------+------+-------+---------+--------+------------+------------+--------+-------------+-----------------+----------------+---------+-------+----------------+---------------+----------------+\n",
      "|1995|    1|         6|        5|  657.0|  952.0|           UA|      482|            115.0|   83.0|    15.0|    12.0|   ORD| PHL|   678.0|   7.0|   25.0|      0.0|     0.0|        null|        null|    null|         null|             null|             3.0|      0.0|   15.0|  (23,[3],[1.0])|(334,[0],[1.0])|(330,[15],[1.0])|\n",
      "|1995|    1|         7|        6|  648.0|  938.0|           UA|      482|            110.0|   88.0|     1.0|     3.0|   ORD| PHL|   678.0|   5.0|   17.0|      0.0|     0.0|        null|        null|    null|         null|             null|             3.0|      0.0|   15.0|  (23,[3],[1.0])|(334,[0],[1.0])|(330,[15],[1.0])|\n",
      "|1995|    1|         8|        7|  649.0|  932.0|           UA|      482|            103.0|   83.0|    -5.0|     4.0|   ORD| PHL|   678.0|   3.0|   17.0|      0.0|     0.0|        null|        null|    null|         null|             null|             3.0|      0.0|   15.0|  (23,[3],[1.0])|(334,[0],[1.0])|(330,[15],[1.0])|\n",
      "|1995|    1|         9|        1|  645.0|  928.0|           UA|      482|            103.0|   84.0|    -9.0|     0.0|   ORD| PHL|   678.0|   3.0|   16.0|      0.0|     0.0|        null|        null|    null|         null|             null|             3.0|      0.0|   15.0|  (23,[3],[1.0])|(334,[0],[1.0])|(330,[15],[1.0])|\n",
      "|1995|    1|        10|        2|  645.0|  931.0|           UA|      482|            106.0|   82.0|    -6.0|     0.0|   ORD| PHL|   678.0|   6.0|   18.0|      0.0|     0.0|        null|        null|    null|         null|             null|             3.0|      0.0|   15.0|  (23,[3],[1.0])|(334,[0],[1.0])|(330,[15],[1.0])|\n",
      "+----+-----+----------+---------+-------+-------+-------------+---------+-----------------+-------+--------+--------+------+----+--------+------+-------+---------+--------+------------+------------+--------+-------------+-----------------+----------------+---------+-------+----------------+---------------+----------------+\n",
      "only showing top 5 rows\n",
      "\n"
     ]
    }
   ],
   "source": [
    "from pyspark.ml.feature import VectorAssembler\n",
    "from pyspark.ml import Pipeline\n",
    "from pyspark.ml.feature import StringIndexer, OneHotEncoderEstimator\n",
    "indexer1 = StringIndexer(inputCol = \"UniqueCarrier\", outputCol = \"UniqueCarrierIdx\").setHandleInvalid(\"skip\")\n",
    "indexer2 = StringIndexer(inputCol = \"Origin\", outputCol = \"OriginIdx\").setHandleInvalid(\"skip\")\n",
    "indexer3 = StringIndexer(inputCol = \"Dest\", outputCol = \"DestIdx\").setHandleInvalid(\"skip\")\n",
    "inputs = [indexer1.getOutputCol(), indexer2.getOutputCol(), indexer3.getOutputCol()]\n",
    "encoder = OneHotEncoderEstimator(inputCols = inputs, outputCols = [\"UniqueCarrierVec\", \"OriginVec\", \"DestVec\"])\n",
    "pipeline = Pipeline(stages = [indexer1, indexer2, indexer3, encoder])\n",
    "encodedData1995 = pipeline.fit(df1995).transform(df1995)\n",
    "encodedData1995.show(5)"
   ]
  },
  {
   "cell_type": "code",
   "execution_count": 65,
   "metadata": {},
   "outputs": [],
   "source": [
    "assembler = VectorAssembler(inputCols = ['UniqueCarrierVec', 'OriginVec', 'DestVec', 'Year', 'Month', 'DayofMonth', \\\n",
    "                                         'DayOfWeek', 'Distance'], \\\n",
    "                            outputCol = 'features')\n",
    "encodedData1995 = assembler.transform(encodedData1995)"
   ]
  },
  {
   "cell_type": "code",
   "execution_count": 66,
   "metadata": {},
   "outputs": [
    {
     "name": "stdout",
     "output_type": "stream",
     "text": [
      "+----+-----+----------+---------+-------+-------+-------------+---------+-----------------+-------+--------+--------+------+----+--------+------+-------+---------+--------+------------+------------+--------+-------------+-----------------+----------------+---------+-------+----------------+---------------+----------------+--------------------+\n",
      "|Year|Month|DayofMonth|DayOfWeek|DepTime|ArrTime|UniqueCarrier|FlightNum|ActualElapsedTime|AirTime|ArrDelay|DepDelay|Origin|Dest|Distance|TaxiIn|TaxiOut|Cancelled|Diverted|CarrierDelay|WeatherDelay|NASDelay|SecurityDelay|LateAircraftDelay|UniqueCarrierIdx|OriginIdx|DestIdx|UniqueCarrierVec|      OriginVec|         DestVec|            features|\n",
      "+----+-----+----------+---------+-------+-------+-------------+---------+-----------------+-------+--------+--------+------+----+--------+------+-------+---------+--------+------------+------------+--------+-------------+-----------------+----------------+---------+-------+----------------+---------------+----------------+--------------------+\n",
      "|1995|    1|        10|        2|  645.0|  931.0|           UA|      482|            106.0|   82.0|    -6.0|     0.0|   ORD| PHL|   678.0|   6.0|   18.0|      0.0|     0.0|        null|        null|    null|         null|             null|             3.0|      0.0|   15.0|  (23,[3],[1.0])|(334,[0],[1.0])|(330,[15],[1.0])|(692,[3,23,372,68...|\n",
      "+----+-----+----------+---------+-------+-------+-------------+---------+-----------------+-------+--------+--------+------+----+--------+------+-------+---------+--------+------------+------------+--------+-------------+-----------------+----------------+---------+-------+----------------+---------------+----------------+--------------------+\n",
      "only showing top 1 row\n",
      "\n"
     ]
    }
   ],
   "source": [
    "encodedData1995 = encodedData1995.drop(\"_c0\")\n",
    "train_df1995 = encodedData1995.sampleBy(\"Cancelled\", fractions = {0: 0.8, 1: 0.8}, seed = 1)\n",
    "\n",
    "# Undersampling data with non-cancelled\n",
    "train_df1995_non_cancelled = train_df1995.filter(train_df1995.Cancelled == 0).sample(withReplacement = False, fraction = 0.02, \\\n",
    "                                                                                    seed = 1)\n",
    "train_df1995_cancelled = train_df1995.filter(train_df1995.Cancelled == 1)\n",
    "train_df1995 = train_df1995_non_cancelled.union(train_df1995_cancelled)\n",
    "\n",
    "test_df1995 = encodedData1995.subtract(train_df1995)\n",
    "train_df1995.show(1)"
   ]
  },
  {
   "cell_type": "markdown",
   "metadata": {},
   "source": [
    "## Logistic Regression"
   ]
  },
  {
   "cell_type": "code",
   "execution_count": 67,
   "metadata": {},
   "outputs": [
    {
     "name": "stdout",
     "output_type": "stream",
     "text": [
      "CPU times: user 21 ms, sys: 8.93 ms, total: 30 ms\n",
      "Wall time: 1min 24s\n"
     ]
    }
   ],
   "source": [
    "%%time\n",
    "from pyspark.ml.classification import LogisticRegression\n",
    "lgr = LogisticRegression(featuresCol = 'features', labelCol = 'Cancelled')\n",
    "lgrm = lgr.fit(train_df1995)\n",
    "predictions = lgrm.transform(test_df1995)"
   ]
  },
  {
   "cell_type": "code",
   "execution_count": 68,
   "metadata": {},
   "outputs": [
    {
     "name": "stdout",
     "output_type": "stream",
     "text": [
      "+----+-----+----------+---------+-------------+------+----+--------+---------+----------+\n",
      "|Year|Month|DayofMonth|DayOfWeek|UniqueCarrier|Origin|Dest|Distance|Cancelled|prediction|\n",
      "+----+-----+----------+---------+-------------+------+----+--------+---------+----------+\n",
      "|1995|    1|         1|        7|           CO|   CHS| ATL|   259.0|      0.0|       0.0|\n",
      "|1995|    1|         5|        4|           US|   PIT| BGM|   251.0|      0.0|       1.0|\n",
      "|1995|    1|         9|        1|           WN|   MCI| PHX|  1044.0|      0.0|       0.0|\n",
      "|1995|    1|        11|        3|           WN|   BHM| MSY|   321.0|      0.0|       0.0|\n",
      "|1995|    1|        15|        7|           AA|   ORD| LAX|  1745.0|      0.0|       0.0|\n",
      "|1995|    1|        18|        3|           DL|   RNO| FAT|   188.0|      0.0|       0.0|\n",
      "|1995|    1|        19|        4|           HP|   ONT| PHX|   325.0|      0.0|       1.0|\n",
      "|1995|    1|        26|        4|           US|   TPA| BOS|  1185.0|      0.0|       0.0|\n",
      "|1995|    1|        27|        5|           WN|   ABQ| LAX|   677.0|      0.0|       0.0|\n",
      "|1995|    1|        29|        7|           TW|   HOU| STL|   687.0|      0.0|       1.0|\n",
      "|1995|    1|        29|        7|           DL|   ANC| FAI|   261.0|      0.0|       0.0|\n",
      "|1995|    1|        30|        1|           AA|   DFW| PHX|   868.0|      0.0|       0.0|\n",
      "|1995|    2|         1|        3|           WN|   MDW| IND|   162.0|      0.0|       0.0|\n",
      "|1995|    2|         5|        7|           US|   CLT| JFK|   541.0|      0.0|       0.0|\n",
      "|1995|    2|         6|        1|           NW|   PHL| DTW|   453.0|      0.0|       1.0|\n",
      "|1995|    2|         6|        1|           AS|   ANC| OTZ|   549.0|      0.0|       1.0|\n",
      "|1995|    2|        11|        6|           UA|   OAK| LAX|   337.0|      0.0|       1.0|\n",
      "|1995|    2|        19|        7|           WN|   SDF| MDW|   271.0|      0.0|       0.0|\n",
      "|1995|    2|        20|        1|           NW|   SEA| MSP|  1399.0|      0.0|       0.0|\n",
      "|1995|    2|        20|        1|           DL|   BNA| CVG|   230.0|      0.0|       1.0|\n",
      "+----+-----+----------+---------+-------------+------+----+--------+---------+----------+\n",
      "only showing top 20 rows\n",
      "\n"
     ]
    }
   ],
   "source": [
    "predictions.select(\"Year\", \"Month\", \"DayofMonth\", \"DayOfWeek\", \"UniqueCarrier\", \"Origin\", \"Dest\", \"Distance\", \"Cancelled\", \\\n",
    "                   \"prediction\").show(20)"
   ]
  },
  {
   "cell_type": "code",
   "execution_count": 69,
   "metadata": {},
   "outputs": [
    {
     "name": "stdout",
     "output_type": "stream",
     "text": [
      "+----+-----+----------+---------+-------------+------+----+--------+---------+----------+\n",
      "|Year|Month|DayofMonth|DayOfWeek|UniqueCarrier|Origin|Dest|Distance|Cancelled|prediction|\n",
      "+----+-----+----------+---------+-------------+------+----+--------+---------+----------+\n",
      "|1997|    8|        17|        7|           UA|   DEN| SFO|   967.0|      1.0|       0.0|\n",
      "|2000|    7|        14|        5|           NW|   DTW| IND|   231.0|      1.0|       1.0|\n",
      "|2006|    2|        19|        7|           WN|   HOU| DAL|   239.0|      1.0|       1.0|\n",
      "|1996|    5|        16|        4|           UA|   ORD| LAX|  1745.0|      1.0|       1.0|\n",
      "|1998|   12|         9|        3|           WN|   ONT| PHX|   325.0|      1.0|       0.0|\n",
      "|1999|    1|        10|        7|           DL|   ATL| MCO|   403.0|      1.0|       0.0|\n",
      "|2000|    2|        28|        1|           AS|   SEA| PDX|   129.0|      1.0|       1.0|\n",
      "|2001|    6|        13|        3|           DL|   RDU| ATL|   356.0|      1.0|       1.0|\n",
      "|2003|    1|        10|        5|           HP|   LAS| BWI|  2106.0|      1.0|       0.0|\n",
      "|2003|    7|        30|        3|           AA|   ORD| LGA|   733.0|      1.0|       1.0|\n",
      "|2004|    5|        13|        4|           XE|   CRP| IAH|   201.0|      1.0|       0.0|\n",
      "|2004|   12|        27|        1|           DH|   CLE| IAD|   288.0|      1.0|       1.0|\n",
      "|1996|    1|         7|        7|           UA|   ORD| DAY|   240.0|      1.0|       1.0|\n",
      "|1996|    7|         3|        3|           NW|   MSP| PHX|  1276.0|      1.0|       0.0|\n",
      "|1999|    4|         3|        6|           US|   JAX| CLT|   329.0|      1.0|       0.0|\n",
      "|1999|    8|        23|        1|           UA|   SAN| IAD|  2253.0|      1.0|       0.0|\n",
      "|2000|   10|        14|        6|           UA|   LAX| DEN|   862.0|      1.0|       0.0|\n",
      "|2000|   12|         1|        5|           NW|   MSP| ORD|   334.0|      1.0|       1.0|\n",
      "|2002|    7|        16|        2|           US|   DCA| CLT|   331.0|      1.0|       1.0|\n",
      "|2002|    7|        28|        7|           US|   ROC| PHL|   257.0|      1.0|       1.0|\n",
      "+----+-----+----------+---------+-------------+------+----+--------+---------+----------+\n",
      "only showing top 20 rows\n",
      "\n"
     ]
    }
   ],
   "source": [
    "predictions.filter(predictions.Cancelled == 1).select(\"Year\", \"Month\", \"DayofMonth\", \"DayOfWeek\", \"UniqueCarrier\", \"Origin\", \\\n",
    "                                                      \"Dest\", \"Distance\", \"Cancelled\", \"prediction\") \\\n",
    ".show(20)"
   ]
  },
  {
   "cell_type": "code",
   "execution_count": 70,
   "metadata": {},
   "outputs": [
    {
     "name": "stdout",
     "output_type": "stream",
     "text": [
      "0.6634329367015867\n",
      "0.7942959877280834\n",
      "0.6250242205921233\n"
     ]
    }
   ],
   "source": [
    "from pyspark.ml.evaluation import MulticlassClassificationEvaluator, BinaryClassificationEvaluator\n",
    "evaluator = MulticlassClassificationEvaluator(labelCol = \"Cancelled\", predictionCol = \"prediction\")\n",
    "print(evaluator.evaluate(predictions, {evaluator.metricName: \"accuracy\"}))\n",
    "print(evaluator.evaluate(predictions, {evaluator.metricName: \"f1\"}))\n",
    "evaluator_auc = BinaryClassificationEvaluator(labelCol = \"Cancelled\", rawPredictionCol = \"prediction\", \\\n",
    "                                              metricName = \"areaUnderROC\")\n",
    "print(evaluator_auc.evaluate(predictions))"
   ]
  },
  {
   "cell_type": "markdown",
   "metadata": {},
   "source": [
    "## Random Forest"
   ]
  },
  {
   "cell_type": "code",
   "execution_count": 71,
   "metadata": {},
   "outputs": [
    {
     "name": "stdout",
     "output_type": "stream",
     "text": [
      "CPU times: user 47.1 ms, sys: 12.7 ms, total: 59.8 ms\n",
      "Wall time: 4min 43s\n"
     ]
    }
   ],
   "source": [
    "%%time\n",
    "from pyspark.ml.classification import RandomForestClassifier\n",
    "rfc = RandomForestClassifier(labelCol = \"Cancelled\", predictionCol = \"prediction\", seed = 1)\n",
    "rfcm = rfc.fit(train_df1995)\n",
    "predictions = rfcm.transform(test_df1995)"
   ]
  },
  {
   "cell_type": "code",
   "execution_count": 72,
   "metadata": {},
   "outputs": [
    {
     "name": "stdout",
     "output_type": "stream",
     "text": [
      "+----+-----+----------+---------+-------------+------+----+--------+---------+----------+\n",
      "|Year|Month|DayofMonth|DayOfWeek|UniqueCarrier|Origin|Dest|Distance|Cancelled|prediction|\n",
      "+----+-----+----------+---------+-------------+------+----+--------+---------+----------+\n",
      "|1995|    1|         2|        1|           WN|   SAN| SMF|   480.0|      0.0|       0.0|\n",
      "|1995|    1|         2|        1|           WN|   LIT| DAL|   296.0|      0.0|       0.0|\n",
      "|1995|    1|         5|        4|           DL|   ROC| ATL|   749.0|      0.0|       0.0|\n",
      "|1995|    1|         6|        5|           US|   GSO| PIT|   304.0|      0.0|       0.0|\n",
      "|1995|    1|        12|        4|           DL|   SHV| DFW|   190.0|      0.0|       0.0|\n",
      "|1995|    1|        13|        5|           UA|   DEN| PHX|   602.0|      0.0|       1.0|\n",
      "|1995|    1|        22|        7|           NW|   ATL| DTW|   594.0|      0.0|       1.0|\n",
      "|1995|    1|        25|        3|           DL|   PHX| CVG|  1569.0|      0.0|       0.0|\n",
      "|1995|    1|        26|        4|           DL|   ATL| GNV|   300.0|      0.0|       0.0|\n",
      "|1995|    2|         2|        4|           NW|   MSP| EWR|  1008.0|      0.0|       0.0|\n",
      "|1995|    2|         3|        5|           WN|   BWI| MDW|   611.0|      0.0|       0.0|\n",
      "|1995|    2|         5|        7|           DL|   ATL| RDU|   356.0|      0.0|       0.0|\n",
      "|1995|    2|        12|        7|           DL|   PHL| ATL|   665.0|      0.0|       1.0|\n",
      "|1995|    2|        22|        3|           US|   PHL| DEN|  1557.0|      0.0|       0.0|\n",
      "|1995|    2|        24|        5|           HP|   OMA| PHX|  1037.0|      0.0|       0.0|\n",
      "|1995|    2|        26|        7|           DL|   MGM| ATL|   147.0|      0.0|       0.0|\n",
      "|1995|    3|         7|        2|           DL|   OMA| ATL|   821.0|      0.0|       0.0|\n",
      "|1995|    3|        10|        5|           NW|   GFK| MSP|   284.0|      0.0|       0.0|\n",
      "|1995|    3|        12|        7|           NW|   LAS| DTW|  1750.0|      0.0|       0.0|\n",
      "|1995|    3|        13|        1|           AA|   HNL| SFO|  2398.0|      0.0|       0.0|\n",
      "+----+-----+----------+---------+-------------+------+----+--------+---------+----------+\n",
      "only showing top 20 rows\n",
      "\n"
     ]
    }
   ],
   "source": [
    "predictions.select(\"Year\", \"Month\", \"DayofMonth\", \"DayOfWeek\", \"UniqueCarrier\", \"Origin\", \"Dest\", \"Distance\", \"Cancelled\", \\\n",
    "                   \"prediction\").show(20)"
   ]
  },
  {
   "cell_type": "code",
   "execution_count": 73,
   "metadata": {},
   "outputs": [
    {
     "name": "stdout",
     "output_type": "stream",
     "text": [
      "+----+-----+----------+---------+-------------+------+----+--------+---------+----------+\n",
      "|Year|Month|DayofMonth|DayOfWeek|UniqueCarrier|Origin|Dest|Distance|Cancelled|prediction|\n",
      "+----+-----+----------+---------+-------------+------+----+--------+---------+----------+\n",
      "|1996|    8|        15|        4|           UA|   ORD| DAY|   240.0|      1.0|       1.0|\n",
      "|1998|    2|         3|        2|           HP|   LAX| LAS|   236.0|      1.0|       0.0|\n",
      "|2004|    8|        14|        6|           DL|   MCO| EWR|   938.0|      1.0|       0.0|\n",
      "|2005|    1|        17|        1|           WN|   HOU| HRL|   276.0|      1.0|       0.0|\n",
      "|2005|    9|         5|        1|           CO|   MSY| IAH|   305.0|      1.0|       0.0|\n",
      "|2006|   12|        14|        4|           EV|   ATL| OKC|   761.0|      1.0|       0.0|\n",
      "|1996|    7|        31|        3|           DL|   BOS| LGA|   185.0|      1.0|       1.0|\n",
      "|1998|    1|         2|        5|           US|   PIT| CRW|   164.0|      1.0|       0.0|\n",
      "|1999|    9|        18|        6|           UA|   SFO| LAX|   337.0|      1.0|       0.0|\n",
      "|2003|    8|        16|        6|           US|   CLT| IND|   428.0|      1.0|       0.0|\n",
      "|2006|    6|        22|        4|           MQ|   PIA| ORD|   130.0|      1.0|       1.0|\n",
      "|2007|    1|        15|        1|           MQ|   DFW| CLE|  1021.0|      1.0|       1.0|\n",
      "|2007|    2|        14|        3|           B6|   IAD| BOS|   413.0|      1.0|       1.0|\n",
      "|2007|    6|         8|        5|           UA|   MCI| DEN|   533.0|      1.0|       0.0|\n",
      "|2002|    9|        20|        5|           MQ|   MEM| ORD|   491.0|      1.0|       1.0|\n",
      "|2005|    7|         9|        6|           OO|   SJC| LAX|   308.0|      1.0|       0.0|\n",
      "|1996|    6|         1|        6|           AA|   LAX| DFW|  1235.0|      1.0|       0.0|\n",
      "|1998|    7|         7|        2|           UA|   MSP| ORD|   334.0|      1.0|       0.0|\n",
      "|1999|    1|        31|        7|           DL|   SJC| SLC|   585.0|      1.0|       0.0|\n",
      "|1999|    6|        17|        4|           DL|   MCO| IAD|   758.0|      1.0|       0.0|\n",
      "+----+-----+----------+---------+-------------+------+----+--------+---------+----------+\n",
      "only showing top 20 rows\n",
      "\n"
     ]
    }
   ],
   "source": [
    "predictions.filter(predictions.Cancelled == 1).select(\"Year\", \"Month\", \"DayofMonth\", \"DayOfWeek\", \"UniqueCarrier\", \"Origin\", \\\n",
    "                                                      \"Dest\", \"Distance\", \"Cancelled\", \"prediction\") \\\n",
    ".show(20)"
   ]
  },
  {
   "cell_type": "code",
   "execution_count": 74,
   "metadata": {},
   "outputs": [
    {
     "name": "stdout",
     "output_type": "stream",
     "text": [
      "0.8963414347898413\n",
      "0.9419079168613793\n",
      "0.5642038037400553\n"
     ]
    }
   ],
   "source": [
    "print(evaluator.evaluate(predictions, {evaluator.metricName: \"accuracy\"}))\n",
    "print(evaluator.evaluate(predictions, {evaluator.metricName: \"f1\"}))\n",
    "print(evaluator_auc.evaluate(predictions))"
   ]
  },
  {
   "cell_type": "markdown",
   "metadata": {},
   "source": [
    "# Model 1 Building - Delayed - 2004 (Without Delay Reason)"
   ]
  },
  {
   "cell_type": "code",
   "execution_count": 75,
   "metadata": {},
   "outputs": [],
   "source": [
    "from pyspark.sql.functions import expr\n",
    "df2004 = df2004.withColumn(\"dep_hour\", expr(\"substring(DepTime, 1, length(DepTime)-4)\"))\n",
    "df2004 = df2004.withColumn(\"arr_hour\", expr(\"substring(ArrTime, 1, length(ArrTime)-4)\"))"
   ]
  },
  {
   "cell_type": "code",
   "execution_count": 76,
   "metadata": {},
   "outputs": [],
   "source": [
    "df2004 = df2004.withColumn(\"dep_hour\", df2004.dep_hour.cast('int'))\n",
    "df2004 = df2004.withColumn(\"arr_hour\", df2004.arr_hour.cast('int'))\n",
    "df2004 = df2004.withColumn(\"DepDelay\", df2004.arr_hour.cast('int'))"
   ]
  },
  {
   "cell_type": "code",
   "execution_count": 77,
   "metadata": {},
   "outputs": [
    {
     "name": "stdout",
     "output_type": "stream",
     "text": [
      "+----+-----+----------+---------+-------+-------+-------------+---------+-----------------+-------+--------+--------+------+----+--------+------+-------+---------+--------+------------+------------+--------+-------------+-----------------+--------+--------+----------------+---------+-------+----------------+---------------+----------------+\n",
      "|Year|Month|DayofMonth|DayOfWeek|DepTime|ArrTime|UniqueCarrier|FlightNum|ActualElapsedTime|AirTime|ArrDelay|DepDelay|Origin|Dest|Distance|TaxiIn|TaxiOut|Cancelled|Diverted|CarrierDelay|WeatherDelay|NASDelay|SecurityDelay|LateAircraftDelay|dep_hour|arr_hour|UniqueCarrierIdx|OriginIdx|DestIdx|UniqueCarrierVec|      OriginVec|         DestVec|\n",
      "+----+-----+----------+---------+-------+-------+-------------+---------+-----------------+-------+--------+--------+------+----+--------+------+-------+---------+--------+------------+------------+--------+-------------+-----------------+--------+--------+----------------+---------+-------+----------------+---------------+----------------+\n",
      "|2004|    1|        12|        1|  623.0|  901.0|           UA|      462|             98.0|   80.0|   -14.0|       9|   ORD| CLT|   599.0|   7.0|   11.0|      0.0|     0.0|         0.0|         0.0|     0.0|          0.0|              0.0|       6|       9|             5.0|      1.0|   17.0|  (22,[5],[1.0])|(320,[1],[1.0])|(317,[17],[1.0])|\n",
      "|2004|    1|        13|        2|  621.0|  911.0|           UA|      462|            110.0|   78.0|    -4.0|       9|   ORD| CLT|   599.0|  16.0|   16.0|      0.0|     0.0|         0.0|         0.0|     0.0|          0.0|              0.0|       6|       9|             5.0|      1.0|   17.0|  (22,[5],[1.0])|(320,[1],[1.0])|(317,[17],[1.0])|\n",
      "|2004|    1|        14|        3|  633.0|  920.0|           UA|      462|            107.0|   88.0|     5.0|       9|   ORD| CLT|   599.0|   4.0|   15.0|      0.0|     0.0|         0.0|         0.0|     0.0|          0.0|              0.0|       6|       9|             5.0|      1.0|   17.0|  (22,[5],[1.0])|(320,[1],[1.0])|(317,[17],[1.0])|\n",
      "|2004|    1|        15|        4|  627.0|  859.0|           UA|      462|             92.0|   78.0|   -16.0|       8|   ORD| CLT|   599.0|   4.0|   10.0|      0.0|     0.0|         0.0|         0.0|     0.0|          0.0|              0.0|       6|       8|             5.0|      1.0|   17.0|  (22,[5],[1.0])|(320,[1],[1.0])|(317,[17],[1.0])|\n",
      "|2004|    1|        16|        5|  635.0|  918.0|           UA|      462|            103.0|   87.0|     3.0|       9|   ORD| CLT|   599.0|   3.0|   13.0|      0.0|     0.0|         0.0|         0.0|     0.0|          0.0|              0.0|       6|       9|             5.0|      1.0|   17.0|  (22,[5],[1.0])|(320,[1],[1.0])|(317,[17],[1.0])|\n",
      "+----+-----+----------+---------+-------+-------+-------------+---------+-----------------+-------+--------+--------+------+----+--------+------+-------+---------+--------+------------+------------+--------+-------------+-----------------+--------+--------+----------------+---------+-------+----------------+---------------+----------------+\n",
      "only showing top 5 rows\n",
      "\n"
     ]
    }
   ],
   "source": [
    "encodedData2004 = pipeline.fit(df2004).transform(df2004)\n",
    "encodedData2004.show(5)"
   ]
  },
  {
   "cell_type": "code",
   "execution_count": 78,
   "metadata": {
    "scrolled": true
   },
   "outputs": [],
   "source": [
    "assembler = VectorAssembler(inputCols = ['UniqueCarrierVec', 'OriginVec', 'DestVec', 'Year', 'Month', 'DayofMonth', \\\n",
    "                                         'DayOfWeek', 'dep_hour', 'arr_hour', 'DepDelay', 'Distance', 'Diverted'], \\\n",
    "                           outputCol = 'features')\n",
    "encodedData2004 = assembler.transform(encodedData2004)"
   ]
  },
  {
   "cell_type": "code",
   "execution_count": 79,
   "metadata": {},
   "outputs": [
    {
     "name": "stdout",
     "output_type": "stream",
     "text": [
      "+----+-----+----------+---------+-------+-------+-------------+---------+-----------------+-------+--------+--------+------+----+--------+------+-------+---------+--------+------------+------------+--------+-------------+-----------------+--------+--------+----------------+---------+-------+----------------+---------------+----------------+--------------------+\n",
      "|Year|Month|DayofMonth|DayOfWeek|DepTime|ArrTime|UniqueCarrier|FlightNum|ActualElapsedTime|AirTime|ArrDelay|DepDelay|Origin|Dest|Distance|TaxiIn|TaxiOut|Cancelled|Diverted|CarrierDelay|WeatherDelay|NASDelay|SecurityDelay|LateAircraftDelay|dep_hour|arr_hour|UniqueCarrierIdx|OriginIdx|DestIdx|UniqueCarrierVec|      OriginVec|         DestVec|            features|\n",
      "+----+-----+----------+---------+-------+-------+-------------+---------+-----------------+-------+--------+--------+------+----+--------+------+-------+---------+--------+------------+------------+--------+-------------+-----------------+--------+--------+----------------+---------+-------+----------------+---------------+----------------+--------------------+\n",
      "|2004|    1|        12|        1|  623.0|  901.0|           UA|      462|             98.0|   80.0|   -14.0|       9|   ORD| CLT|   599.0|   7.0|   11.0|      0.0|     0.0|         0.0|         0.0|     0.0|          0.0|              0.0|       6|       9|             5.0|      1.0|   17.0|  (22,[5],[1.0])|(320,[1],[1.0])|(317,[17],[1.0])|(668,[5,23,359,65...|\n",
      "+----+-----+----------+---------+-------+-------+-------------+---------+-----------------+-------+--------+--------+------+----+--------+------+-------+---------+--------+------------+------------+--------+-------------+-----------------+--------+--------+----------------+---------+-------+----------------+---------------+----------------+--------------------+\n",
      "only showing top 1 row\n",
      "\n"
     ]
    }
   ],
   "source": [
    "encodedData2004 = encodedData2004.drop(\"_c0\")\n",
    "train_df2004, test_df2004 = encodedData2004.randomSplit([0.8, 0.2], seed = 1)\n",
    "encodedData2004.show(1)"
   ]
  },
  {
   "cell_type": "markdown",
   "metadata": {},
   "source": [
    "## Linear Regression"
   ]
  },
  {
   "cell_type": "code",
   "execution_count": 80,
   "metadata": {},
   "outputs": [
    {
     "ename": "Py4JJavaError",
     "evalue": "An error occurred while calling o3157.fit.\n: org.apache.spark.SparkException: Job aborted due to stage failure: Task 59 in stage 503.0 failed 4 times, most recent failure: Lost task 59.3 in stage 503.0 (TID 141758, hd02.rcc.local, executor 243): org.apache.spark.SparkException: Failed to execute user defined function($anonfun$4: (struct<UniqueCarrierVec:struct<type:tinyint,size:int,indices:array<int>,values:array<double>>,OriginVec:struct<type:tinyint,size:int,indices:array<int>,values:array<double>>,DestVec:struct<type:tinyint,size:int,indices:array<int>,values:array<double>>,Year_double_VectorAssembler_5791872009df:double,Month_double_VectorAssembler_5791872009df:double,DayofMonth_double_VectorAssembler_5791872009df:double,DayOfWeek_double_VectorAssembler_5791872009df:double,dep_hour_double_VectorAssembler_5791872009df:double,arr_hour_double_VectorAssembler_5791872009df:double,DepDelay_double_VectorAssembler_5791872009df:double,Distance:double,Diverted:double>) => struct<type:tinyint,size:int,indices:array<int>,values:array<double>>)\n\tat org.apache.spark.sql.catalyst.expressions.GeneratedClass$GeneratedIteratorForCodegenStage4.sort_addToSorter_0$(Unknown Source)\n\tat org.apache.spark.sql.catalyst.expressions.GeneratedClass$GeneratedIteratorForCodegenStage4.processNext(Unknown Source)\n\tat org.apache.spark.sql.execution.BufferedRowIterator.hasNext(BufferedRowIterator.java:43)\n\tat org.apache.spark.sql.execution.WholeStageCodegenExec$$anonfun$11$$anon$1.hasNext(WholeStageCodegenExec.scala:624)\n\tat org.apache.spark.sql.execution.SparkPlan$$anonfun$2.apply(SparkPlan.scala:255)\n\tat org.apache.spark.sql.execution.SparkPlan$$anonfun$2.apply(SparkPlan.scala:247)\n\tat org.apache.spark.rdd.RDD$$anonfun$mapPartitionsInternal$1$$anonfun$apply$24.apply(RDD.scala:836)\n\tat org.apache.spark.rdd.RDD$$anonfun$mapPartitionsInternal$1$$anonfun$apply$24.apply(RDD.scala:836)\n\tat org.apache.spark.rdd.MapPartitionsRDD.compute(MapPartitionsRDD.scala:52)\n\tat org.apache.spark.rdd.RDD.computeOrReadCheckpoint(RDD.scala:324)\n\tat org.apache.spark.rdd.RDD.iterator(RDD.scala:288)\n\tat org.apache.spark.rdd.MapPartitionsRDD.compute(MapPartitionsRDD.scala:52)\n\tat org.apache.spark.rdd.RDD.computeOrReadCheckpoint(RDD.scala:324)\n\tat org.apache.spark.rdd.RDD.iterator(RDD.scala:288)\n\tat org.apache.spark.scheduler.ResultTask.runTask(ResultTask.scala:90)\n\tat org.apache.spark.scheduler.Task.run(Task.scala:121)\n\tat org.apache.spark.executor.Executor$TaskRunner$$anonfun$11.apply(Executor.scala:407)\n\tat org.apache.spark.util.Utils$.tryWithSafeFinally(Utils.scala:1408)\n\tat org.apache.spark.executor.Executor$TaskRunner.run(Executor.scala:413)\n\tat java.util.concurrent.ThreadPoolExecutor.runWorker(ThreadPoolExecutor.java:1149)\n\tat java.util.concurrent.ThreadPoolExecutor$Worker.run(ThreadPoolExecutor.java:624)\n\tat java.lang.Thread.run(Thread.java:748)\nCaused by: org.apache.spark.SparkException: Encountered null while assembling a row with handleInvalid = \"keep\". Consider\nremoving nulls from dataset or using handleInvalid = \"keep\" or \"skip\".\n\tat org.apache.spark.ml.feature.VectorAssembler$$anonfun$assemble$1.apply(VectorAssembler.scala:287)\n\tat org.apache.spark.ml.feature.VectorAssembler$$anonfun$assemble$1.apply(VectorAssembler.scala:255)\n\tat scala.collection.IndexedSeqOptimized$class.foreach(IndexedSeqOptimized.scala:33)\n\tat scala.collection.mutable.WrappedArray.foreach(WrappedArray.scala:35)\n\tat org.apache.spark.ml.feature.VectorAssembler$.assemble(VectorAssembler.scala:255)\n\tat org.apache.spark.ml.feature.VectorAssembler$$anonfun$4.apply(VectorAssembler.scala:144)\n\tat org.apache.spark.ml.feature.VectorAssembler$$anonfun$4.apply(VectorAssembler.scala:143)\n\t... 22 more\n\nDriver stacktrace:\n\tat org.apache.spark.scheduler.DAGScheduler.org$apache$spark$scheduler$DAGScheduler$$failJobAndIndependentStages(DAGScheduler.scala:1890)\n\tat org.apache.spark.scheduler.DAGScheduler$$anonfun$abortStage$1.apply(DAGScheduler.scala:1878)\n\tat org.apache.spark.scheduler.DAGScheduler$$anonfun$abortStage$1.apply(DAGScheduler.scala:1877)\n\tat scala.collection.mutable.ResizableArray$class.foreach(ResizableArray.scala:59)\n\tat scala.collection.mutable.ArrayBuffer.foreach(ArrayBuffer.scala:48)\n\tat org.apache.spark.scheduler.DAGScheduler.abortStage(DAGScheduler.scala:1877)\n\tat org.apache.spark.scheduler.DAGScheduler$$anonfun$handleTaskSetFailed$1.apply(DAGScheduler.scala:929)\n\tat org.apache.spark.scheduler.DAGScheduler$$anonfun$handleTaskSetFailed$1.apply(DAGScheduler.scala:929)\n\tat scala.Option.foreach(Option.scala:257)\n\tat org.apache.spark.scheduler.DAGScheduler.handleTaskSetFailed(DAGScheduler.scala:929)\n\tat org.apache.spark.scheduler.DAGSchedulerEventProcessLoop.doOnReceive(DAGScheduler.scala:2111)\n\tat org.apache.spark.scheduler.DAGSchedulerEventProcessLoop.onReceive(DAGScheduler.scala:2060)\n\tat org.apache.spark.scheduler.DAGSchedulerEventProcessLoop.onReceive(DAGScheduler.scala:2049)\n\tat org.apache.spark.util.EventLoop$$anon$1.run(EventLoop.scala:49)\n\tat org.apache.spark.scheduler.DAGScheduler.runJob(DAGScheduler.scala:740)\n\tat org.apache.spark.SparkContext.runJob(SparkContext.scala:2081)\n\tat org.apache.spark.SparkContext.runJob(SparkContext.scala:2102)\n\tat org.apache.spark.SparkContext.runJob(SparkContext.scala:2121)\n\tat org.apache.spark.sql.execution.SparkPlan.executeTake(SparkPlan.scala:365)\n\tat org.apache.spark.sql.execution.CollectLimitExec.executeCollect(limit.scala:38)\n\tat org.apache.spark.sql.Dataset.org$apache$spark$sql$Dataset$$collectFromPlan(Dataset.scala:3383)\n\tat org.apache.spark.sql.Dataset$$anonfun$head$1.apply(Dataset.scala:2544)\n\tat org.apache.spark.sql.Dataset$$anonfun$head$1.apply(Dataset.scala:2544)\n\tat org.apache.spark.sql.Dataset$$anonfun$53.apply(Dataset.scala:3364)\n\tat org.apache.spark.sql.execution.SQLExecution$$anonfun$withNewExecutionId$1.apply(SQLExecution.scala:78)\n\tat org.apache.spark.sql.execution.SQLExecution$.withSQLConfPropagated(SQLExecution.scala:125)\n\tat org.apache.spark.sql.execution.SQLExecution$.withNewExecutionId(SQLExecution.scala:73)\n\tat org.apache.spark.sql.Dataset.withAction(Dataset.scala:3363)\n\tat org.apache.spark.sql.Dataset.head(Dataset.scala:2544)\n\tat org.apache.spark.sql.Dataset.head(Dataset.scala:2551)\n\tat org.apache.spark.sql.Dataset.first(Dataset.scala:2558)\n\tat org.apache.spark.ml.regression.LinearRegression$$anonfun$train$1.apply(LinearRegression.scala:321)\n\tat org.apache.spark.ml.regression.LinearRegression$$anonfun$train$1.apply(LinearRegression.scala:319)\n\tat org.apache.spark.ml.util.Instrumentation$$anonfun$11.apply(Instrumentation.scala:183)\n\tat scala.util.Try$.apply(Try.scala:192)\n\tat org.apache.spark.ml.util.Instrumentation$.instrumented(Instrumentation.scala:183)\n\tat org.apache.spark.ml.regression.LinearRegression.train(LinearRegression.scala:319)\n\tat org.apache.spark.ml.regression.LinearRegression.train(LinearRegression.scala:176)\n\tat org.apache.spark.ml.Predictor.fit(Predictor.scala:118)\n\tat sun.reflect.NativeMethodAccessorImpl.invoke0(Native Method)\n\tat sun.reflect.NativeMethodAccessorImpl.invoke(NativeMethodAccessorImpl.java:62)\n\tat sun.reflect.DelegatingMethodAccessorImpl.invoke(DelegatingMethodAccessorImpl.java:43)\n\tat java.lang.reflect.Method.invoke(Method.java:498)\n\tat py4j.reflection.MethodInvoker.invoke(MethodInvoker.java:244)\n\tat py4j.reflection.ReflectionEngine.invoke(ReflectionEngine.java:357)\n\tat py4j.Gateway.invoke(Gateway.java:282)\n\tat py4j.commands.AbstractCommand.invokeMethod(AbstractCommand.java:132)\n\tat py4j.commands.CallCommand.execute(CallCommand.java:79)\n\tat py4j.GatewayConnection.run(GatewayConnection.java:238)\n\tat java.lang.Thread.run(Thread.java:748)\nCaused by: org.apache.spark.SparkException: Failed to execute user defined function($anonfun$4: (struct<UniqueCarrierVec:struct<type:tinyint,size:int,indices:array<int>,values:array<double>>,OriginVec:struct<type:tinyint,size:int,indices:array<int>,values:array<double>>,DestVec:struct<type:tinyint,size:int,indices:array<int>,values:array<double>>,Year_double_VectorAssembler_5791872009df:double,Month_double_VectorAssembler_5791872009df:double,DayofMonth_double_VectorAssembler_5791872009df:double,DayOfWeek_double_VectorAssembler_5791872009df:double,dep_hour_double_VectorAssembler_5791872009df:double,arr_hour_double_VectorAssembler_5791872009df:double,DepDelay_double_VectorAssembler_5791872009df:double,Distance:double,Diverted:double>) => struct<type:tinyint,size:int,indices:array<int>,values:array<double>>)\n\tat org.apache.spark.sql.catalyst.expressions.GeneratedClass$GeneratedIteratorForCodegenStage4.sort_addToSorter_0$(Unknown Source)\n\tat org.apache.spark.sql.catalyst.expressions.GeneratedClass$GeneratedIteratorForCodegenStage4.processNext(Unknown Source)\n\tat org.apache.spark.sql.execution.BufferedRowIterator.hasNext(BufferedRowIterator.java:43)\n\tat org.apache.spark.sql.execution.WholeStageCodegenExec$$anonfun$11$$anon$1.hasNext(WholeStageCodegenExec.scala:624)\n\tat org.apache.spark.sql.execution.SparkPlan$$anonfun$2.apply(SparkPlan.scala:255)\n\tat org.apache.spark.sql.execution.SparkPlan$$anonfun$2.apply(SparkPlan.scala:247)\n\tat org.apache.spark.rdd.RDD$$anonfun$mapPartitionsInternal$1$$anonfun$apply$24.apply(RDD.scala:836)\n\tat org.apache.spark.rdd.RDD$$anonfun$mapPartitionsInternal$1$$anonfun$apply$24.apply(RDD.scala:836)\n\tat org.apache.spark.rdd.MapPartitionsRDD.compute(MapPartitionsRDD.scala:52)\n\tat org.apache.spark.rdd.RDD.computeOrReadCheckpoint(RDD.scala:324)\n\tat org.apache.spark.rdd.RDD.iterator(RDD.scala:288)\n\tat org.apache.spark.rdd.MapPartitionsRDD.compute(MapPartitionsRDD.scala:52)\n\tat org.apache.spark.rdd.RDD.computeOrReadCheckpoint(RDD.scala:324)\n\tat org.apache.spark.rdd.RDD.iterator(RDD.scala:288)\n\tat org.apache.spark.scheduler.ResultTask.runTask(ResultTask.scala:90)\n\tat org.apache.spark.scheduler.Task.run(Task.scala:121)\n\tat org.apache.spark.executor.Executor$TaskRunner$$anonfun$11.apply(Executor.scala:407)\n\tat org.apache.spark.util.Utils$.tryWithSafeFinally(Utils.scala:1408)\n\tat org.apache.spark.executor.Executor$TaskRunner.run(Executor.scala:413)\n\tat java.util.concurrent.ThreadPoolExecutor.runWorker(ThreadPoolExecutor.java:1149)\n\tat java.util.concurrent.ThreadPoolExecutor$Worker.run(ThreadPoolExecutor.java:624)\n\t... 1 more\nCaused by: org.apache.spark.SparkException: Encountered null while assembling a row with handleInvalid = \"keep\". Consider\nremoving nulls from dataset or using handleInvalid = \"keep\" or \"skip\".\n\tat org.apache.spark.ml.feature.VectorAssembler$$anonfun$assemble$1.apply(VectorAssembler.scala:287)\n\tat org.apache.spark.ml.feature.VectorAssembler$$anonfun$assemble$1.apply(VectorAssembler.scala:255)\n\tat scala.collection.IndexedSeqOptimized$class.foreach(IndexedSeqOptimized.scala:33)\n\tat scala.collection.mutable.WrappedArray.foreach(WrappedArray.scala:35)\n\tat org.apache.spark.ml.feature.VectorAssembler$.assemble(VectorAssembler.scala:255)\n\tat org.apache.spark.ml.feature.VectorAssembler$$anonfun$4.apply(VectorAssembler.scala:144)\n\tat org.apache.spark.ml.feature.VectorAssembler$$anonfun$4.apply(VectorAssembler.scala:143)\n\t... 22 more\n",
     "output_type": "error",
     "traceback": [
      "\u001b[0;31m---------------------------------------------------------------------------\u001b[0m",
      "\u001b[0;31mPy4JJavaError\u001b[0m                             Traceback (most recent call last)",
      "\u001b[0;32m<timed exec>\u001b[0m in \u001b[0;36m<module>\u001b[0;34m()\u001b[0m\n",
      "\u001b[0;32m/opt/cloudera/parcels/CDH/lib/spark/python/lib/pyspark.zip/pyspark/ml/base.py\u001b[0m in \u001b[0;36mfit\u001b[0;34m(self, dataset, params)\u001b[0m\n\u001b[1;32m    130\u001b[0m                 \u001b[0;32mreturn\u001b[0m \u001b[0mself\u001b[0m\u001b[0;34m.\u001b[0m\u001b[0mcopy\u001b[0m\u001b[0;34m(\u001b[0m\u001b[0mparams\u001b[0m\u001b[0;34m)\u001b[0m\u001b[0;34m.\u001b[0m\u001b[0m_fit\u001b[0m\u001b[0;34m(\u001b[0m\u001b[0mdataset\u001b[0m\u001b[0;34m)\u001b[0m\u001b[0;34m\u001b[0m\u001b[0;34m\u001b[0m\u001b[0m\n\u001b[1;32m    131\u001b[0m             \u001b[0;32melse\u001b[0m\u001b[0;34m:\u001b[0m\u001b[0;34m\u001b[0m\u001b[0;34m\u001b[0m\u001b[0m\n\u001b[0;32m--> 132\u001b[0;31m                 \u001b[0;32mreturn\u001b[0m \u001b[0mself\u001b[0m\u001b[0;34m.\u001b[0m\u001b[0m_fit\u001b[0m\u001b[0;34m(\u001b[0m\u001b[0mdataset\u001b[0m\u001b[0;34m)\u001b[0m\u001b[0;34m\u001b[0m\u001b[0;34m\u001b[0m\u001b[0m\n\u001b[0m\u001b[1;32m    133\u001b[0m         \u001b[0;32melse\u001b[0m\u001b[0;34m:\u001b[0m\u001b[0;34m\u001b[0m\u001b[0;34m\u001b[0m\u001b[0m\n\u001b[1;32m    134\u001b[0m             raise ValueError(\"Params must be either a param map or a list/tuple of param maps, \"\n",
      "\u001b[0;32m/opt/cloudera/parcels/CDH/lib/spark/python/lib/pyspark.zip/pyspark/ml/wrapper.py\u001b[0m in \u001b[0;36m_fit\u001b[0;34m(self, dataset)\u001b[0m\n\u001b[1;32m    293\u001b[0m \u001b[0;34m\u001b[0m\u001b[0m\n\u001b[1;32m    294\u001b[0m     \u001b[0;32mdef\u001b[0m \u001b[0m_fit\u001b[0m\u001b[0;34m(\u001b[0m\u001b[0mself\u001b[0m\u001b[0;34m,\u001b[0m \u001b[0mdataset\u001b[0m\u001b[0;34m)\u001b[0m\u001b[0;34m:\u001b[0m\u001b[0;34m\u001b[0m\u001b[0;34m\u001b[0m\u001b[0m\n\u001b[0;32m--> 295\u001b[0;31m         \u001b[0mjava_model\u001b[0m \u001b[0;34m=\u001b[0m \u001b[0mself\u001b[0m\u001b[0;34m.\u001b[0m\u001b[0m_fit_java\u001b[0m\u001b[0;34m(\u001b[0m\u001b[0mdataset\u001b[0m\u001b[0;34m)\u001b[0m\u001b[0;34m\u001b[0m\u001b[0;34m\u001b[0m\u001b[0m\n\u001b[0m\u001b[1;32m    296\u001b[0m         \u001b[0mmodel\u001b[0m \u001b[0;34m=\u001b[0m \u001b[0mself\u001b[0m\u001b[0;34m.\u001b[0m\u001b[0m_create_model\u001b[0m\u001b[0;34m(\u001b[0m\u001b[0mjava_model\u001b[0m\u001b[0;34m)\u001b[0m\u001b[0;34m\u001b[0m\u001b[0;34m\u001b[0m\u001b[0m\n\u001b[1;32m    297\u001b[0m         \u001b[0;32mreturn\u001b[0m \u001b[0mself\u001b[0m\u001b[0;34m.\u001b[0m\u001b[0m_copyValues\u001b[0m\u001b[0;34m(\u001b[0m\u001b[0mmodel\u001b[0m\u001b[0;34m)\u001b[0m\u001b[0;34m\u001b[0m\u001b[0;34m\u001b[0m\u001b[0m\n",
      "\u001b[0;32m/opt/cloudera/parcels/CDH/lib/spark/python/lib/pyspark.zip/pyspark/ml/wrapper.py\u001b[0m in \u001b[0;36m_fit_java\u001b[0;34m(self, dataset)\u001b[0m\n\u001b[1;32m    290\u001b[0m         \"\"\"\n\u001b[1;32m    291\u001b[0m         \u001b[0mself\u001b[0m\u001b[0;34m.\u001b[0m\u001b[0m_transfer_params_to_java\u001b[0m\u001b[0;34m(\u001b[0m\u001b[0;34m)\u001b[0m\u001b[0;34m\u001b[0m\u001b[0;34m\u001b[0m\u001b[0m\n\u001b[0;32m--> 292\u001b[0;31m         \u001b[0;32mreturn\u001b[0m \u001b[0mself\u001b[0m\u001b[0;34m.\u001b[0m\u001b[0m_java_obj\u001b[0m\u001b[0;34m.\u001b[0m\u001b[0mfit\u001b[0m\u001b[0;34m(\u001b[0m\u001b[0mdataset\u001b[0m\u001b[0;34m.\u001b[0m\u001b[0m_jdf\u001b[0m\u001b[0;34m)\u001b[0m\u001b[0;34m\u001b[0m\u001b[0;34m\u001b[0m\u001b[0m\n\u001b[0m\u001b[1;32m    293\u001b[0m \u001b[0;34m\u001b[0m\u001b[0m\n\u001b[1;32m    294\u001b[0m     \u001b[0;32mdef\u001b[0m \u001b[0m_fit\u001b[0m\u001b[0;34m(\u001b[0m\u001b[0mself\u001b[0m\u001b[0;34m,\u001b[0m \u001b[0mdataset\u001b[0m\u001b[0;34m)\u001b[0m\u001b[0;34m:\u001b[0m\u001b[0;34m\u001b[0m\u001b[0;34m\u001b[0m\u001b[0m\n",
      "\u001b[0;32m/opt/cloudera/parcels/CDH/lib/spark/python/lib/py4j-0.10.7-src.zip/py4j/java_gateway.py\u001b[0m in \u001b[0;36m__call__\u001b[0;34m(self, *args)\u001b[0m\n\u001b[1;32m   1255\u001b[0m         \u001b[0manswer\u001b[0m \u001b[0;34m=\u001b[0m \u001b[0mself\u001b[0m\u001b[0;34m.\u001b[0m\u001b[0mgateway_client\u001b[0m\u001b[0;34m.\u001b[0m\u001b[0msend_command\u001b[0m\u001b[0;34m(\u001b[0m\u001b[0mcommand\u001b[0m\u001b[0;34m)\u001b[0m\u001b[0;34m\u001b[0m\u001b[0;34m\u001b[0m\u001b[0m\n\u001b[1;32m   1256\u001b[0m         return_value = get_return_value(\n\u001b[0;32m-> 1257\u001b[0;31m             answer, self.gateway_client, self.target_id, self.name)\n\u001b[0m\u001b[1;32m   1258\u001b[0m \u001b[0;34m\u001b[0m\u001b[0m\n\u001b[1;32m   1259\u001b[0m         \u001b[0;32mfor\u001b[0m \u001b[0mtemp_arg\u001b[0m \u001b[0;32min\u001b[0m \u001b[0mtemp_args\u001b[0m\u001b[0;34m:\u001b[0m\u001b[0;34m\u001b[0m\u001b[0;34m\u001b[0m\u001b[0m\n",
      "\u001b[0;32m/opt/cloudera/parcels/CDH/lib/spark/python/lib/pyspark.zip/pyspark/sql/utils.py\u001b[0m in \u001b[0;36mdeco\u001b[0;34m(*a, **kw)\u001b[0m\n\u001b[1;32m     61\u001b[0m     \u001b[0;32mdef\u001b[0m \u001b[0mdeco\u001b[0m\u001b[0;34m(\u001b[0m\u001b[0;34m*\u001b[0m\u001b[0ma\u001b[0m\u001b[0;34m,\u001b[0m \u001b[0;34m**\u001b[0m\u001b[0mkw\u001b[0m\u001b[0;34m)\u001b[0m\u001b[0;34m:\u001b[0m\u001b[0;34m\u001b[0m\u001b[0;34m\u001b[0m\u001b[0m\n\u001b[1;32m     62\u001b[0m         \u001b[0;32mtry\u001b[0m\u001b[0;34m:\u001b[0m\u001b[0;34m\u001b[0m\u001b[0;34m\u001b[0m\u001b[0m\n\u001b[0;32m---> 63\u001b[0;31m             \u001b[0;32mreturn\u001b[0m \u001b[0mf\u001b[0m\u001b[0;34m(\u001b[0m\u001b[0;34m*\u001b[0m\u001b[0ma\u001b[0m\u001b[0;34m,\u001b[0m \u001b[0;34m**\u001b[0m\u001b[0mkw\u001b[0m\u001b[0;34m)\u001b[0m\u001b[0;34m\u001b[0m\u001b[0;34m\u001b[0m\u001b[0m\n\u001b[0m\u001b[1;32m     64\u001b[0m         \u001b[0;32mexcept\u001b[0m \u001b[0mpy4j\u001b[0m\u001b[0;34m.\u001b[0m\u001b[0mprotocol\u001b[0m\u001b[0;34m.\u001b[0m\u001b[0mPy4JJavaError\u001b[0m \u001b[0;32mas\u001b[0m \u001b[0me\u001b[0m\u001b[0;34m:\u001b[0m\u001b[0;34m\u001b[0m\u001b[0;34m\u001b[0m\u001b[0m\n\u001b[1;32m     65\u001b[0m             \u001b[0ms\u001b[0m \u001b[0;34m=\u001b[0m \u001b[0me\u001b[0m\u001b[0;34m.\u001b[0m\u001b[0mjava_exception\u001b[0m\u001b[0;34m.\u001b[0m\u001b[0mtoString\u001b[0m\u001b[0;34m(\u001b[0m\u001b[0;34m)\u001b[0m\u001b[0;34m\u001b[0m\u001b[0;34m\u001b[0m\u001b[0m\n",
      "\u001b[0;32m/opt/cloudera/parcels/CDH/lib/spark/python/lib/py4j-0.10.7-src.zip/py4j/protocol.py\u001b[0m in \u001b[0;36mget_return_value\u001b[0;34m(answer, gateway_client, target_id, name)\u001b[0m\n\u001b[1;32m    326\u001b[0m                 raise Py4JJavaError(\n\u001b[1;32m    327\u001b[0m                     \u001b[0;34m\"An error occurred while calling {0}{1}{2}.\\n\"\u001b[0m\u001b[0;34m.\u001b[0m\u001b[0;34m\u001b[0m\u001b[0;34m\u001b[0m\u001b[0m\n\u001b[0;32m--> 328\u001b[0;31m                     format(target_id, \".\", name), value)\n\u001b[0m\u001b[1;32m    329\u001b[0m             \u001b[0;32melse\u001b[0m\u001b[0;34m:\u001b[0m\u001b[0;34m\u001b[0m\u001b[0;34m\u001b[0m\u001b[0m\n\u001b[1;32m    330\u001b[0m                 raise Py4JError(\n",
      "\u001b[0;31mPy4JJavaError\u001b[0m: An error occurred while calling o3157.fit.\n: org.apache.spark.SparkException: Job aborted due to stage failure: Task 59 in stage 503.0 failed 4 times, most recent failure: Lost task 59.3 in stage 503.0 (TID 141758, hd02.rcc.local, executor 243): org.apache.spark.SparkException: Failed to execute user defined function($anonfun$4: (struct<UniqueCarrierVec:struct<type:tinyint,size:int,indices:array<int>,values:array<double>>,OriginVec:struct<type:tinyint,size:int,indices:array<int>,values:array<double>>,DestVec:struct<type:tinyint,size:int,indices:array<int>,values:array<double>>,Year_double_VectorAssembler_5791872009df:double,Month_double_VectorAssembler_5791872009df:double,DayofMonth_double_VectorAssembler_5791872009df:double,DayOfWeek_double_VectorAssembler_5791872009df:double,dep_hour_double_VectorAssembler_5791872009df:double,arr_hour_double_VectorAssembler_5791872009df:double,DepDelay_double_VectorAssembler_5791872009df:double,Distance:double,Diverted:double>) => struct<type:tinyint,size:int,indices:array<int>,values:array<double>>)\n\tat org.apache.spark.sql.catalyst.expressions.GeneratedClass$GeneratedIteratorForCodegenStage4.sort_addToSorter_0$(Unknown Source)\n\tat org.apache.spark.sql.catalyst.expressions.GeneratedClass$GeneratedIteratorForCodegenStage4.processNext(Unknown Source)\n\tat org.apache.spark.sql.execution.BufferedRowIterator.hasNext(BufferedRowIterator.java:43)\n\tat org.apache.spark.sql.execution.WholeStageCodegenExec$$anonfun$11$$anon$1.hasNext(WholeStageCodegenExec.scala:624)\n\tat org.apache.spark.sql.execution.SparkPlan$$anonfun$2.apply(SparkPlan.scala:255)\n\tat org.apache.spark.sql.execution.SparkPlan$$anonfun$2.apply(SparkPlan.scala:247)\n\tat org.apache.spark.rdd.RDD$$anonfun$mapPartitionsInternal$1$$anonfun$apply$24.apply(RDD.scala:836)\n\tat org.apache.spark.rdd.RDD$$anonfun$mapPartitionsInternal$1$$anonfun$apply$24.apply(RDD.scala:836)\n\tat org.apache.spark.rdd.MapPartitionsRDD.compute(MapPartitionsRDD.scala:52)\n\tat org.apache.spark.rdd.RDD.computeOrReadCheckpoint(RDD.scala:324)\n\tat org.apache.spark.rdd.RDD.iterator(RDD.scala:288)\n\tat org.apache.spark.rdd.MapPartitionsRDD.compute(MapPartitionsRDD.scala:52)\n\tat org.apache.spark.rdd.RDD.computeOrReadCheckpoint(RDD.scala:324)\n\tat org.apache.spark.rdd.RDD.iterator(RDD.scala:288)\n\tat org.apache.spark.scheduler.ResultTask.runTask(ResultTask.scala:90)\n\tat org.apache.spark.scheduler.Task.run(Task.scala:121)\n\tat org.apache.spark.executor.Executor$TaskRunner$$anonfun$11.apply(Executor.scala:407)\n\tat org.apache.spark.util.Utils$.tryWithSafeFinally(Utils.scala:1408)\n\tat org.apache.spark.executor.Executor$TaskRunner.run(Executor.scala:413)\n\tat java.util.concurrent.ThreadPoolExecutor.runWorker(ThreadPoolExecutor.java:1149)\n\tat java.util.concurrent.ThreadPoolExecutor$Worker.run(ThreadPoolExecutor.java:624)\n\tat java.lang.Thread.run(Thread.java:748)\nCaused by: org.apache.spark.SparkException: Encountered null while assembling a row with handleInvalid = \"keep\". Consider\nremoving nulls from dataset or using handleInvalid = \"keep\" or \"skip\".\n\tat org.apache.spark.ml.feature.VectorAssembler$$anonfun$assemble$1.apply(VectorAssembler.scala:287)\n\tat org.apache.spark.ml.feature.VectorAssembler$$anonfun$assemble$1.apply(VectorAssembler.scala:255)\n\tat scala.collection.IndexedSeqOptimized$class.foreach(IndexedSeqOptimized.scala:33)\n\tat scala.collection.mutable.WrappedArray.foreach(WrappedArray.scala:35)\n\tat org.apache.spark.ml.feature.VectorAssembler$.assemble(VectorAssembler.scala:255)\n\tat org.apache.spark.ml.feature.VectorAssembler$$anonfun$4.apply(VectorAssembler.scala:144)\n\tat org.apache.spark.ml.feature.VectorAssembler$$anonfun$4.apply(VectorAssembler.scala:143)\n\t... 22 more\n\nDriver stacktrace:\n\tat org.apache.spark.scheduler.DAGScheduler.org$apache$spark$scheduler$DAGScheduler$$failJobAndIndependentStages(DAGScheduler.scala:1890)\n\tat org.apache.spark.scheduler.DAGScheduler$$anonfun$abortStage$1.apply(DAGScheduler.scala:1878)\n\tat org.apache.spark.scheduler.DAGScheduler$$anonfun$abortStage$1.apply(DAGScheduler.scala:1877)\n\tat scala.collection.mutable.ResizableArray$class.foreach(ResizableArray.scala:59)\n\tat scala.collection.mutable.ArrayBuffer.foreach(ArrayBuffer.scala:48)\n\tat org.apache.spark.scheduler.DAGScheduler.abortStage(DAGScheduler.scala:1877)\n\tat org.apache.spark.scheduler.DAGScheduler$$anonfun$handleTaskSetFailed$1.apply(DAGScheduler.scala:929)\n\tat org.apache.spark.scheduler.DAGScheduler$$anonfun$handleTaskSetFailed$1.apply(DAGScheduler.scala:929)\n\tat scala.Option.foreach(Option.scala:257)\n\tat org.apache.spark.scheduler.DAGScheduler.handleTaskSetFailed(DAGScheduler.scala:929)\n\tat org.apache.spark.scheduler.DAGSchedulerEventProcessLoop.doOnReceive(DAGScheduler.scala:2111)\n\tat org.apache.spark.scheduler.DAGSchedulerEventProcessLoop.onReceive(DAGScheduler.scala:2060)\n\tat org.apache.spark.scheduler.DAGSchedulerEventProcessLoop.onReceive(DAGScheduler.scala:2049)\n\tat org.apache.spark.util.EventLoop$$anon$1.run(EventLoop.scala:49)\n\tat org.apache.spark.scheduler.DAGScheduler.runJob(DAGScheduler.scala:740)\n\tat org.apache.spark.SparkContext.runJob(SparkContext.scala:2081)\n\tat org.apache.spark.SparkContext.runJob(SparkContext.scala:2102)\n\tat org.apache.spark.SparkContext.runJob(SparkContext.scala:2121)\n\tat org.apache.spark.sql.execution.SparkPlan.executeTake(SparkPlan.scala:365)\n\tat org.apache.spark.sql.execution.CollectLimitExec.executeCollect(limit.scala:38)\n\tat org.apache.spark.sql.Dataset.org$apache$spark$sql$Dataset$$collectFromPlan(Dataset.scala:3383)\n\tat org.apache.spark.sql.Dataset$$anonfun$head$1.apply(Dataset.scala:2544)\n\tat org.apache.spark.sql.Dataset$$anonfun$head$1.apply(Dataset.scala:2544)\n\tat org.apache.spark.sql.Dataset$$anonfun$53.apply(Dataset.scala:3364)\n\tat org.apache.spark.sql.execution.SQLExecution$$anonfun$withNewExecutionId$1.apply(SQLExecution.scala:78)\n\tat org.apache.spark.sql.execution.SQLExecution$.withSQLConfPropagated(SQLExecution.scala:125)\n\tat org.apache.spark.sql.execution.SQLExecution$.withNewExecutionId(SQLExecution.scala:73)\n\tat org.apache.spark.sql.Dataset.withAction(Dataset.scala:3363)\n\tat org.apache.spark.sql.Dataset.head(Dataset.scala:2544)\n\tat org.apache.spark.sql.Dataset.head(Dataset.scala:2551)\n\tat org.apache.spark.sql.Dataset.first(Dataset.scala:2558)\n\tat org.apache.spark.ml.regression.LinearRegression$$anonfun$train$1.apply(LinearRegression.scala:321)\n\tat org.apache.spark.ml.regression.LinearRegression$$anonfun$train$1.apply(LinearRegression.scala:319)\n\tat org.apache.spark.ml.util.Instrumentation$$anonfun$11.apply(Instrumentation.scala:183)\n\tat scala.util.Try$.apply(Try.scala:192)\n\tat org.apache.spark.ml.util.Instrumentation$.instrumented(Instrumentation.scala:183)\n\tat org.apache.spark.ml.regression.LinearRegression.train(LinearRegression.scala:319)\n\tat org.apache.spark.ml.regression.LinearRegression.train(LinearRegression.scala:176)\n\tat org.apache.spark.ml.Predictor.fit(Predictor.scala:118)\n\tat sun.reflect.NativeMethodAccessorImpl.invoke0(Native Method)\n\tat sun.reflect.NativeMethodAccessorImpl.invoke(NativeMethodAccessorImpl.java:62)\n\tat sun.reflect.DelegatingMethodAccessorImpl.invoke(DelegatingMethodAccessorImpl.java:43)\n\tat java.lang.reflect.Method.invoke(Method.java:498)\n\tat py4j.reflection.MethodInvoker.invoke(MethodInvoker.java:244)\n\tat py4j.reflection.ReflectionEngine.invoke(ReflectionEngine.java:357)\n\tat py4j.Gateway.invoke(Gateway.java:282)\n\tat py4j.commands.AbstractCommand.invokeMethod(AbstractCommand.java:132)\n\tat py4j.commands.CallCommand.execute(CallCommand.java:79)\n\tat py4j.GatewayConnection.run(GatewayConnection.java:238)\n\tat java.lang.Thread.run(Thread.java:748)\nCaused by: org.apache.spark.SparkException: Failed to execute user defined function($anonfun$4: (struct<UniqueCarrierVec:struct<type:tinyint,size:int,indices:array<int>,values:array<double>>,OriginVec:struct<type:tinyint,size:int,indices:array<int>,values:array<double>>,DestVec:struct<type:tinyint,size:int,indices:array<int>,values:array<double>>,Year_double_VectorAssembler_5791872009df:double,Month_double_VectorAssembler_5791872009df:double,DayofMonth_double_VectorAssembler_5791872009df:double,DayOfWeek_double_VectorAssembler_5791872009df:double,dep_hour_double_VectorAssembler_5791872009df:double,arr_hour_double_VectorAssembler_5791872009df:double,DepDelay_double_VectorAssembler_5791872009df:double,Distance:double,Diverted:double>) => struct<type:tinyint,size:int,indices:array<int>,values:array<double>>)\n\tat org.apache.spark.sql.catalyst.expressions.GeneratedClass$GeneratedIteratorForCodegenStage4.sort_addToSorter_0$(Unknown Source)\n\tat org.apache.spark.sql.catalyst.expressions.GeneratedClass$GeneratedIteratorForCodegenStage4.processNext(Unknown Source)\n\tat org.apache.spark.sql.execution.BufferedRowIterator.hasNext(BufferedRowIterator.java:43)\n\tat org.apache.spark.sql.execution.WholeStageCodegenExec$$anonfun$11$$anon$1.hasNext(WholeStageCodegenExec.scala:624)\n\tat org.apache.spark.sql.execution.SparkPlan$$anonfun$2.apply(SparkPlan.scala:255)\n\tat org.apache.spark.sql.execution.SparkPlan$$anonfun$2.apply(SparkPlan.scala:247)\n\tat org.apache.spark.rdd.RDD$$anonfun$mapPartitionsInternal$1$$anonfun$apply$24.apply(RDD.scala:836)\n\tat org.apache.spark.rdd.RDD$$anonfun$mapPartitionsInternal$1$$anonfun$apply$24.apply(RDD.scala:836)\n\tat org.apache.spark.rdd.MapPartitionsRDD.compute(MapPartitionsRDD.scala:52)\n\tat org.apache.spark.rdd.RDD.computeOrReadCheckpoint(RDD.scala:324)\n\tat org.apache.spark.rdd.RDD.iterator(RDD.scala:288)\n\tat org.apache.spark.rdd.MapPartitionsRDD.compute(MapPartitionsRDD.scala:52)\n\tat org.apache.spark.rdd.RDD.computeOrReadCheckpoint(RDD.scala:324)\n\tat org.apache.spark.rdd.RDD.iterator(RDD.scala:288)\n\tat org.apache.spark.scheduler.ResultTask.runTask(ResultTask.scala:90)\n\tat org.apache.spark.scheduler.Task.run(Task.scala:121)\n\tat org.apache.spark.executor.Executor$TaskRunner$$anonfun$11.apply(Executor.scala:407)\n\tat org.apache.spark.util.Utils$.tryWithSafeFinally(Utils.scala:1408)\n\tat org.apache.spark.executor.Executor$TaskRunner.run(Executor.scala:413)\n\tat java.util.concurrent.ThreadPoolExecutor.runWorker(ThreadPoolExecutor.java:1149)\n\tat java.util.concurrent.ThreadPoolExecutor$Worker.run(ThreadPoolExecutor.java:624)\n\t... 1 more\nCaused by: org.apache.spark.SparkException: Encountered null while assembling a row with handleInvalid = \"keep\". Consider\nremoving nulls from dataset or using handleInvalid = \"keep\" or \"skip\".\n\tat org.apache.spark.ml.feature.VectorAssembler$$anonfun$assemble$1.apply(VectorAssembler.scala:287)\n\tat org.apache.spark.ml.feature.VectorAssembler$$anonfun$assemble$1.apply(VectorAssembler.scala:255)\n\tat scala.collection.IndexedSeqOptimized$class.foreach(IndexedSeqOptimized.scala:33)\n\tat scala.collection.mutable.WrappedArray.foreach(WrappedArray.scala:35)\n\tat org.apache.spark.ml.feature.VectorAssembler$.assemble(VectorAssembler.scala:255)\n\tat org.apache.spark.ml.feature.VectorAssembler$$anonfun$4.apply(VectorAssembler.scala:144)\n\tat org.apache.spark.ml.feature.VectorAssembler$$anonfun$4.apply(VectorAssembler.scala:143)\n\t... 22 more\n"
     ]
    }
   ],
   "source": [
    "%%time\n",
    "from pyspark.ml.regression import LinearRegression\n",
    "lr = LinearRegression(featuresCol = 'features', labelCol = 'ArrDelay', regParam = 0.3, elasticNetParam = 0.8, maxIter = 10)\n",
    "lrm = lr.fit(train_df2004)\n",
    "predictions = lrm.transform(test_df2004)"
   ]
  },
  {
   "cell_type": "code",
   "execution_count": 81,
   "metadata": {},
   "outputs": [
    {
     "ename": "AnalysisException",
     "evalue": "\"cannot resolve '`dep_hour`' given input columns: [DepDelay, UniqueCarrier, Origin, DestVec, OriginIdx, features, Distance, prediction, rawPrediction, DepTime, DestIdx, UniqueCarrierIdx, Cancelled, Diverted, probability, Month, Dest, DayOfWeek, NASDelay, TaxiIn, UniqueCarrierVec, AirTime, FlightNum, ArrTime, SecurityDelay, TaxiOut, CarrierDelay, ActualElapsedTime, WeatherDelay, Year, OriginVec, ArrDelay, LateAircraftDelay, DayofMonth];;\\n'Project [Year#10, Month#11, DayofMonth#12, DayOfWeek#13, UniqueCarrier#18, 'dep_hour, 'arr_hour, DepDelay#25, Origin#26, Dest#27, Distance#28, Diverted#33, ArrDelay#24, prediction#7666]\\n+- Project [Year#10, Month#11, DayofMonth#12, DayOfWeek#13, DepTime#14, ArrTime#16, UniqueCarrier#18, FlightNum#19, ActualElapsedTime#21, AirTime#23, ArrDelay#24, DepDelay#25, Origin#26, Dest#27, Distance#28, TaxiIn#29, TaxiOut#30, Cancelled#31, Diverted#33, CarrierDelay#34, WeatherDelay#35, NASDelay#36, SecurityDelay#37, LateAircraftDelay#38, ... 10 more fields]\\n   +- Project [Year#10, Month#11, DayofMonth#12, DayOfWeek#13, DepTime#14, ArrTime#16, UniqueCarrier#18, FlightNum#19, ActualElapsedTime#21, AirTime#23, ArrDelay#24, DepDelay#25, Origin#26, Dest#27, Distance#28, TaxiIn#29, TaxiOut#30, Cancelled#31, Diverted#33, CarrierDelay#34, WeatherDelay#35, NASDelay#36, SecurityDelay#37, LateAircraftDelay#38, ... 9 more fields]\\n      +- Project [Year#10, Month#11, DayofMonth#12, DayOfWeek#13, DepTime#14, ArrTime#16, UniqueCarrier#18, FlightNum#19, ActualElapsedTime#21, AirTime#23, ArrDelay#24, DepDelay#25, Origin#26, Dest#27, Distance#28, TaxiIn#29, TaxiOut#30, Cancelled#31, Diverted#33, CarrierDelay#34, WeatherDelay#35, NASDelay#36, SecurityDelay#37, LateAircraftDelay#38, ... 8 more fields]\\n         +- Except false\\n            :- Project [Year#10, Month#11, DayofMonth#12, DayOfWeek#13, DepTime#14, ArrTime#16, UniqueCarrier#18, FlightNum#19, ActualElapsedTime#21, AirTime#23, ArrDelay#24, DepDelay#25, Origin#26, Dest#27, Distance#28, TaxiIn#29, TaxiOut#30, Cancelled#31, Diverted#33, CarrierDelay#34, WeatherDelay#35, NASDelay#36, SecurityDelay#37, LateAircraftDelay#38, ... 7 more fields]\\n            :  +- Project [Year#10, Month#11, DayofMonth#12, DayOfWeek#13, DepTime#14, ArrTime#16, UniqueCarrier#18, FlightNum#19, ActualElapsedTime#21, AirTime#23, ArrDelay#24, DepDelay#25, Origin#26, Dest#27, Distance#28, TaxiIn#29, TaxiOut#30, Cancelled#31, Diverted#33, CarrierDelay#34, WeatherDelay#35, NASDelay#36, SecurityDelay#37, LateAircraftDelay#38, ... 7 more fields]\\n            :     +- Project [Year#10, Month#11, DayofMonth#12, DayOfWeek#13, DepTime#14, ArrTime#16, UniqueCarrier#18, FlightNum#19, ActualElapsedTime#21, AirTime#23, ArrDelay#24, DepDelay#25, Origin#26, Dest#27, Distance#28, TaxiIn#29, TaxiOut#30, Cancelled#31, Diverted#33, CarrierDelay#34, WeatherDelay#35, NASDelay#36, SecurityDelay#37, LateAircraftDelay#38, ... 7 more fields]\\n            :        +- Project [Year#10, Month#11, DayofMonth#12, DayOfWeek#13, DepTime#14, ArrTime#16, UniqueCarrier#18, FlightNum#19, ActualElapsedTime#21, AirTime#23, ArrDelay#24, DepDelay#25, Origin#26, Dest#27, Distance#28, TaxiIn#29, TaxiOut#30, Cancelled#31, Diverted#33, CarrierDelay#34, WeatherDelay#35, NASDelay#36, SecurityDelay#37, LateAircraftDelay#38, ... 7 more fields]\\n            :           +- Project [Year#10, Month#11, DayofMonth#12, DayOfWeek#13, DepTime#14, ArrTime#16, UniqueCarrier#18, FlightNum#19, ActualElapsedTime#21, AirTime#23, ArrDelay#24, DepDelay#25, Origin#26, Dest#27, Distance#28, TaxiIn#29, TaxiOut#30, Cancelled#31, Diverted#33, CarrierDelay#34, WeatherDelay#35, NASDelay#36, SecurityDelay#37, LateAircraftDelay#38, ... 7 more fields]\\n            :              +- Project [Year#10, Month#11, DayofMonth#12, DayOfWeek#13, DepTime#14, ArrTime#16, UniqueCarrier#18, FlightNum#19, ActualElapsedTime#21, AirTime#23, ArrDelay#24, DepDelay#25, Origin#26, Dest#27, Distance#28, TaxiIn#29, TaxiOut#30, Cancelled#31, Diverted#33, CarrierDelay#34, WeatherDelay#35, NASDelay#36, SecurityDelay#37, LateAircraftDelay#38, ... 7 more fields]\\n            :                 +- Project [Year#10, Month#11, DayofMonth#12, DayOfWeek#13, DepTime#14, ArrTime#16, UniqueCarrier#18, FlightNum#19, ActualElapsedTime#21, AirTime#23, ArrDelay#24, DepDelay#25, Origin#26, Dest#27, Distance#28, TaxiIn#29, TaxiOut#30, Cancelled#31, Diverted#33, CarrierDelay#34, WeatherDelay#35, NASDelay#36, SecurityDelay#37, LateAircraftDelay#38, ... 6 more fields]\\n            :                    +- Project [Year#10, Month#11, DayofMonth#12, DayOfWeek#13, DepTime#14, ArrTime#16, UniqueCarrier#18, FlightNum#19, ActualElapsedTime#21, AirTime#23, ArrDelay#24, DepDelay#25, Origin#26, Dest#27, Distance#28, TaxiIn#29, TaxiOut#30, Cancelled#31, Diverted#33, CarrierDelay#34, WeatherDelay#35, NASDelay#36, SecurityDelay#37, LateAircraftDelay#38, ... 3 more fields]\\n            :                       +- Filter UDF(Dest#27)\\n            :                          +- Filter AtLeastNNulls(n, Dest#27)\\n            :                             +- Project [Year#10, Month#11, DayofMonth#12, DayOfWeek#13, DepTime#14, ArrTime#16, UniqueCarrier#18, FlightNum#19, ActualElapsedTime#21, AirTime#23, ArrDelay#24, DepDelay#25, Origin#26, Dest#27, Distance#28, TaxiIn#29, TaxiOut#30, Cancelled#31, Diverted#33, CarrierDelay#34, WeatherDelay#35, NASDelay#36, SecurityDelay#37, LateAircraftDelay#38, ... 2 more fields]\\n            :                                +- Filter UDF(Origin#26)\\n            :                                   +- Filter AtLeastNNulls(n, Origin#26)\\n            :                                      +- Project [Year#10, Month#11, DayofMonth#12, DayOfWeek#13, DepTime#14, ArrTime#16, UniqueCarrier#18, FlightNum#19, ActualElapsedTime#21, AirTime#23, ArrDelay#24, DepDelay#25, Origin#26, Dest#27, Distance#28, TaxiIn#29, TaxiOut#30, Cancelled#31, Diverted#33, CarrierDelay#34, WeatherDelay#35, NASDelay#36, SecurityDelay#37, LateAircraftDelay#38, UDF(cast(UniqueCarrier#18 as string)) AS UniqueCarrierIdx#3571]\\n            :                                         +- Filter UDF(UniqueCarrier#18)\\n            :                                            +- Filter AtLeastNNulls(n, UniqueCarrier#18)\\n            :                                               +- Filter AtLeastNNulls(n, TaxiIn#29)\\n            :                                                  +- Filter (cast(Year#10 as int) >= 1995)\\n            :                                                     +- Union\\n            :                                                        :- Filter (cast(Year#10 as int) < 1995)\\n            :                                                        :  +- Filter AtLeastNNulls(n, ArrTime#16,ActualElapsedTime#21,ActualElapsedTime#21,Distance#28)\\n            :                                                        :     +- Filter (Cancelled#31 = cast(0.0 as double))\\n            :                                                        :        +- Project [Year#10, Month#11, DayofMonth#12, DayOfWeek#13, DepTime#14, ArrTime#16, UniqueCarrier#18, FlightNum#19, ActualElapsedTime#21, AirTime#23, ArrDelay#24, DepDelay#25, Origin#26, Dest#27, Distance#28, TaxiIn#29, TaxiOut#30, Cancelled#31, Diverted#33, CarrierDelay#34, WeatherDelay#35, NASDelay#36, SecurityDelay#37, LateAircraftDelay#38]\\n            :                                                        :           +- Project [Year#10, Month#11, DayofMonth#12, DayOfWeek#13, DepTime#14, ArrTime#16, UniqueCarrier#18, FlightNum#19, ActualElapsedTime#21, AirTime#23, ArrDelay#24, DepDelay#25, Origin#26, Dest#27, Distance#28, TaxiIn#29, TaxiOut#30, Cancelled#31, CancellationCode#32, Diverted#33, CarrierDelay#34, WeatherDelay#35, NASDelay#36, SecurityDelay#37, LateAircraftDelay#38]\\n            :                                                        :              +- Project [Year#10, Month#11, DayofMonth#12, DayOfWeek#13, DepTime#14, ArrTime#16, UniqueCarrier#18, FlightNum#19, TailNum#20, ActualElapsedTime#21, AirTime#23, ArrDelay#24, DepDelay#25, Origin#26, Dest#27, Distance#28, TaxiIn#29, TaxiOut#30, Cancelled#31, CancellationCode#32, Diverted#33, CarrierDelay#34, WeatherDelay#35, NASDelay#36, ... 2 more fields]\\n            :                                                        :                 +- Filter isnull(cast(Dest#27 as int))\\n            :                                                        :                    +- Filter isnull(cast(Origin#26 as int))\\n            :                                                        :                       +- Relation[Year#10,Month#11,DayofMonth#12,DayOfWeek#13,DepTime#14,CRSDepTime#15,ArrTime#16,CRSArrTime#17,UniqueCarrier#18,FlightNum#19,TailNum#20,ActualElapsedTime#21,CRSElapsedTime#22,AirTime#23,ArrDelay#24,DepDelay#25,Origin#26,Dest#27,Distance#28,TaxiIn#29,TaxiOut#30,Cancelled#31,CancellationCode#32,Diverted#33,... 5 more fields] csv\\n            :                                                        :- Filter AtLeastNNulls(n, AirTime#23)\\n            :                                                        :  +- Filter (cast(Year#10 as int) >= 1995)\\n            :                                                        :     +- Filter AtLeastNNulls(n, ArrTime#16,ActualElapsedTime#21,ActualElapsedTime#21,Distance#28)\\n            :                                                        :        +- Filter (Cancelled#31 = cast(0.0 as double))\\n            :                                                        :           +- Project [Year#10, Month#11, DayofMonth#12, DayOfWeek#13, DepTime#14, ArrTime#16, UniqueCarrier#18, FlightNum#19, ActualElapsedTime#21, AirTime#23, ArrDelay#24, DepDelay#25, Origin#26, Dest#27, Distance#28, TaxiIn#29, TaxiOut#30, Cancelled#31, Diverted#33, CarrierDelay#34, WeatherDelay#35, NASDelay#36, SecurityDelay#37, LateAircraftDelay#38]\\n            :                                                        :              +- Project [Year#10, Month#11, DayofMonth#12, DayOfWeek#13, DepTime#14, ArrTime#16, UniqueCarrier#18, FlightNum#19, ActualElapsedTime#21, AirTime#23, ArrDelay#24, DepDelay#25, Origin#26, Dest#27, Distance#28, TaxiIn#29, TaxiOut#30, Cancelled#31, CancellationCode#32, Diverted#33, CarrierDelay#34, WeatherDelay#35, NASDelay#36, SecurityDelay#37, LateAircraftDelay#38]\\n            :                                                        :                 +- Project [Year#10, Month#11, DayofMonth#12, DayOfWeek#13, DepTime#14, ArrTime#16, UniqueCarrier#18, FlightNum#19, TailNum#20, ActualElapsedTime#21, AirTime#23, ArrDelay#24, DepDelay#25, Origin#26, Dest#27, Distance#28, TaxiIn#29, TaxiOut#30, Cancelled#31, CancellationCode#32, Diverted#33, CarrierDelay#34, WeatherDelay#35, NASDelay#36, ... 2 more fields]\\n            :                                                        :                    +- Filter isnull(cast(Dest#27 as int))\\n            :                                                        :                       +- Filter isnull(cast(Origin#26 as int))\\n            :                                                        :                          +- Relation[Year#10,Month#11,DayofMonth#12,DayOfWeek#13,DepTime#14,CRSDepTime#15,ArrTime#16,CRSArrTime#17,UniqueCarrier#18,FlightNum#19,TailNum#20,ActualElapsedTime#21,CRSElapsedTime#22,AirTime#23,ArrDelay#24,DepDelay#25,Origin#26,Dest#27,Distance#28,TaxiIn#29,TaxiOut#30,Cancelled#31,CancellationCode#32,Diverted#33,... 5 more fields] csv\\n            :                                                        +- Filter AtLeastNNulls(n, Distance#28)\\n            :                                                           +- Filter isnull(DepTime#14)\\n            :                                                              +- Filter isnull(AirTime#23)\\n            :                                                                 +- Filter (Cancelled#31 = cast(1.0 as double))\\n            :                                                                    +- Project [Year#10, Month#11, DayofMonth#12, DayOfWeek#13, DepTime#14, ArrTime#16, UniqueCarrier#18, FlightNum#19, ActualElapsedTime#21, AirTime#23, ArrDelay#24, DepDelay#25, Origin#26, Dest#27, Distance#28, TaxiIn#29, TaxiOut#30, Cancelled#31, Diverted#33, CarrierDelay#34, WeatherDelay#35, NASDelay#36, SecurityDelay#37, LateAircraftDelay#38]\\n            :                                                                       +- Project [Year#10, Month#11, DayofMonth#12, DayOfWeek#13, DepTime#14, ArrTime#16, UniqueCarrier#18, FlightNum#19, ActualElapsedTime#21, AirTime#23, ArrDelay#24, DepDelay#25, Origin#26, Dest#27, Distance#28, TaxiIn#29, TaxiOut#30, Cancelled#31, CancellationCode#32, Diverted#33, CarrierDelay#34, WeatherDelay#35, NASDelay#36, SecurityDelay#37, LateAircraftDelay#38]\\n            :                                                                          +- Project [Year#10, Month#11, DayofMonth#12, DayOfWeek#13, DepTime#14, ArrTime#16, UniqueCarrier#18, FlightNum#19, TailNum#20, ActualElapsedTime#21, AirTime#23, ArrDelay#24, DepDelay#25, Origin#26, Dest#27, Distance#28, TaxiIn#29, TaxiOut#30, Cancelled#31, CancellationCode#32, Diverted#33, CarrierDelay#34, WeatherDelay#35, NASDelay#36, ... 2 more fields]\\n            :                                                                             +- Filter isnull(cast(Dest#27 as int))\\n            :                                                                                +- Filter isnull(cast(Origin#26 as int))\\n            :                                                                                   +- Relation[Year#10,Month#11,DayofMonth#12,DayOfWeek#13,DepTime#14,CRSDepTime#15,ArrTime#16,CRSArrTime#17,UniqueCarrier#18,FlightNum#19,TailNum#20,ActualElapsedTime#21,CRSElapsedTime#22,AirTime#23,ArrDelay#24,DepDelay#25,Origin#26,Dest#27,Distance#28,TaxiIn#29,TaxiOut#30,Cancelled#31,CancellationCode#32,Diverted#33,... 5 more fields] csv\\n            +- Project [Year#4939, Month#4940, DayofMonth#4941, DayOfWeek#4942, DepTime#4943, ArrTime#4945, UniqueCarrier#4947, FlightNum#4948, ActualElapsedTime#4950, AirTime#4952, ArrDelay#4953, DepDelay#4954, Origin#4955, Dest#4956, Distance#4957, TaxiIn#4958, TaxiOut#4959, Cancelled#4960, Diverted#4962, CarrierDelay#4963, WeatherDelay#4964, NASDelay#4965, SecurityDelay#4966, LateAircraftDelay#4967, ... 7 more fields]\\n               +- Project [Year#4939, Month#4940, DayofMonth#4941, DayOfWeek#4942, DepTime#4943, ArrTime#4945, UniqueCarrier#4947, FlightNum#4948, ActualElapsedTime#4950, AirTime#4952, ArrDelay#4953, DepDelay#4954, Origin#4955, Dest#4956, Distance#4957, TaxiIn#4958, TaxiOut#4959, Cancelled#4960, Diverted#4962, CarrierDelay#4963, WeatherDelay#4964, NASDelay#4965, SecurityDelay#4966, LateAircraftDelay#4967, ... 7 more fields]\\n                  +- Project [Year#4939, Month#4940, DayofMonth#4941, DayOfWeek#4942, DepTime#4943, ArrTime#4945, UniqueCarrier#4947, FlightNum#4948, ActualElapsedTime#4950, AirTime#4952, ArrDelay#4953, DepDelay#4954, Origin#4955, Dest#4956, Distance#4957, TaxiIn#4958, TaxiOut#4959, Cancelled#4960, Diverted#4962, CarrierDelay#4963, WeatherDelay#4964, NASDelay#4965, SecurityDelay#4966, LateAircraftDelay#4967, ... 7 more fields]\\n                     +- Project [Year#4939, Month#4940, DayofMonth#4941, DayOfWeek#4942, DepTime#4943, ArrTime#4945, UniqueCarrier#4947, FlightNum#4948, ActualElapsedTime#4950, AirTime#4952, ArrDelay#4953, DepDelay#4954, Origin#4955, Dest#4956, Distance#4957, TaxiIn#4958, TaxiOut#4959, Cancelled#4960, Diverted#4962, CarrierDelay#4963, WeatherDelay#4964, NASDelay#4965, SecurityDelay#4966, LateAircraftDelay#4967, ... 7 more fields]\\n                        +- Project [Year#4939, Month#4940, DayofMonth#4941, DayOfWeek#4942, DepTime#4943, ArrTime#4945, UniqueCarrier#4947, FlightNum#4948, ActualElapsedTime#4950, AirTime#4952, ArrDelay#4953, DepDelay#4954, Origin#4955, Dest#4956, Distance#4957, TaxiIn#4958, TaxiOut#4959, Cancelled#4960, Diverted#4962, CarrierDelay#4963, WeatherDelay#4964, NASDelay#4965, SecurityDelay#4966, LateAircraftDelay#4967, ... 7 more fields]\\n                           +- Union\\n                              :- Sample 0.0, 0.02, false, 1\\n                              :  +- Filter (Cancelled#4960 = cast(0 as double))\\n                              :     +- Filter if (isnull(rand(1))) null else UDF(Cancelled#4960, rand(1))\\n                              :        +- Project [Year#4939, Month#4940, DayofMonth#4941, DayOfWeek#4942, DepTime#4943, ArrTime#4945, UniqueCarrier#4947, FlightNum#4948, ActualElapsedTime#4950, AirTime#4952, ArrDelay#4953, DepDelay#4954, Origin#4955, Dest#4956, Distance#4957, TaxiIn#4958, TaxiOut#4959, Cancelled#4960, Diverted#4962, CarrierDelay#4963, WeatherDelay#4964, NASDelay#4965, SecurityDelay#4966, LateAircraftDelay#4967, ... 7 more fields]\\n                              :           +- Project [Year#4939, Month#4940, DayofMonth#4941, DayOfWeek#4942, DepTime#4943, ArrTime#4945, UniqueCarrier#4947, FlightNum#4948, ActualElapsedTime#4950, AirTime#4952, ArrDelay#4953, DepDelay#4954, Origin#4955, Dest#4956, Distance#4957, TaxiIn#4958, TaxiOut#4959, Cancelled#4960, Diverted#4962, CarrierDelay#4963, WeatherDelay#4964, NASDelay#4965, SecurityDelay#4966, LateAircraftDelay#4967, ... 6 more fields]\\n                              :              +- Project [Year#4939, Month#4940, DayofMonth#4941, DayOfWeek#4942, DepTime#4943, ArrTime#4945, UniqueCarrier#4947, FlightNum#4948, ActualElapsedTime#4950, AirTime#4952, ArrDelay#4953, DepDelay#4954, Origin#4955, Dest#4956, Distance#4957, TaxiIn#4958, TaxiOut#4959, Cancelled#4960, Diverted#4962, CarrierDelay#4963, WeatherDelay#4964, NASDelay#4965, SecurityDelay#4966, LateAircraftDelay#4967, ... 3 more fields]\\n                              :                 +- Filter UDF(Dest#4956)\\n                              :                    +- Filter AtLeastNNulls(n, Dest#4956)\\n                              :                       +- Project [Year#4939, Month#4940, DayofMonth#4941, DayOfWeek#4942, DepTime#4943, ArrTime#4945, UniqueCarrier#4947, FlightNum#4948, ActualElapsedTime#4950, AirTime#4952, ArrDelay#4953, DepDelay#4954, Origin#4955, Dest#4956, Distance#4957, TaxiIn#4958, TaxiOut#4959, Cancelled#4960, Diverted#4962, CarrierDelay#4963, WeatherDelay#4964, NASDelay#4965, SecurityDelay#4966, LateAircraftDelay#4967, ... 2 more fields]\\n                              :                          +- Filter UDF(Origin#4955)\\n                              :                             +- Filter AtLeastNNulls(n, Origin#4955)\\n                              :                                +- Project [Year#4939, Month#4940, DayofMonth#4941, DayOfWeek#4942, DepTime#4943, ArrTime#4945, UniqueCarrier#4947, FlightNum#4948, ActualElapsedTime#4950, AirTime#4952, ArrDelay#4953, DepDelay#4954, Origin#4955, Dest#4956, Distance#4957, TaxiIn#4958, TaxiOut#4959, Cancelled#4960, Diverted#4962, CarrierDelay#4963, WeatherDelay#4964, NASDelay#4965, SecurityDelay#4966, LateAircraftDelay#4967, UDF(cast(UniqueCarrier#4947 as string)) AS UniqueCarrierIdx#4763]\\n                              :                                   +- Filter UDF(UniqueCarrier#4947)\\n                              :                                      +- Filter AtLeastNNulls(n, UniqueCarrier#4947)\\n                              :                                         +- Filter AtLeastNNulls(n, TaxiIn#4958)\\n                              :                                            +- Filter (cast(Year#4939 as int) >= 1995)\\n                              :                                               +- Union\\n                              :                                                  :- Filter (cast(Year#4939 as int) < 1995)\\n                              :                                                  :  +- Filter AtLeastNNulls(n, ArrTime#4945,ActualElapsedTime#4950,ActualElapsedTime#4950,Distance#4957)\\n                              :                                                  :     +- Filter (Cancelled#4960 = cast(0.0 as double))\\n                              :                                                  :        +- Project [Year#4939, Month#4940, DayofMonth#4941, DayOfWeek#4942, DepTime#4943, ArrTime#4945, UniqueCarrier#4947, FlightNum#4948, ActualElapsedTime#4950, AirTime#4952, ArrDelay#4953, DepDelay#4954, Origin#4955, Dest#4956, Distance#4957, TaxiIn#4958, TaxiOut#4959, Cancelled#4960, Diverted#4962, CarrierDelay#4963, WeatherDelay#4964, NASDelay#4965, SecurityDelay#4966, LateAircraftDelay#4967]\\n                              :                                                  :           +- Project [Year#4939, Month#4940, DayofMonth#4941, DayOfWeek#4942, DepTime#4943, ArrTime#4945, UniqueCarrier#4947, FlightNum#4948, ActualElapsedTime#4950, AirTime#4952, ArrDelay#4953, DepDelay#4954, Origin#4955, Dest#4956, Distance#4957, TaxiIn#4958, TaxiOut#4959, Cancelled#4960, CancellationCode#4961, Diverted#4962, CarrierDelay#4963, WeatherDelay#4964, NASDelay#4965, SecurityDelay#4966, LateAircraftDelay#4967]\\n                              :                                                  :              +- Project [Year#4939, Month#4940, DayofMonth#4941, DayOfWeek#4942, DepTime#4943, ArrTime#4945, UniqueCarrier#4947, FlightNum#4948, TailNum#4949, ActualElapsedTime#4950, AirTime#4952, ArrDelay#4953, DepDelay#4954, Origin#4955, Dest#4956, Distance#4957, TaxiIn#4958, TaxiOut#4959, Cancelled#4960, CancellationCode#4961, Diverted#4962, CarrierDelay#4963, WeatherDelay#4964, NASDelay#4965, ... 2 more fields]\\n                              :                                                  :                 +- Filter isnull(cast(Dest#4956 as int))\\n                              :                                                  :                    +- Filter isnull(cast(Origin#4955 as int))\\n                              :                                                  :                       +- Relation[Year#4939,Month#4940,DayofMonth#4941,DayOfWeek#4942,DepTime#4943,CRSDepTime#4944,ArrTime#4945,CRSArrTime#4946,UniqueCarrier#4947,FlightNum#4948,TailNum#4949,ActualElapsedTime#4950,CRSElapsedTime#4951,AirTime#4952,ArrDelay#4953,DepDelay#4954,Origin#4955,Dest#4956,Distance#4957,TaxiIn#4958,TaxiOut#4959,Cancelled#4960,CancellationCode#4961,Diverted#4962,... 5 more fields] csv\\n                              :                                                  :- Filter AtLeastNNulls(n, AirTime#4952)\\n                              :                                                  :  +- Filter (cast(Year#4939 as int) >= 1995)\\n                              :                                                  :     +- Filter AtLeastNNulls(n, ArrTime#4945,ActualElapsedTime#4950,ActualElapsedTime#4950,Distance#4957)\\n                              :                                                  :        +- Filter (Cancelled#4960 = cast(0.0 as double))\\n                              :                                                  :           +- Project [Year#4939, Month#4940, DayofMonth#4941, DayOfWeek#4942, DepTime#4943, ArrTime#4945, UniqueCarrier#4947, FlightNum#4948, ActualElapsedTime#4950, AirTime#4952, ArrDelay#4953, DepDelay#4954, Origin#4955, Dest#4956, Distance#4957, TaxiIn#4958, TaxiOut#4959, Cancelled#4960, Diverted#4962, CarrierDelay#4963, WeatherDelay#4964, NASDelay#4965, SecurityDelay#4966, LateAircraftDelay#4967]\\n                              :                                                  :              +- Project [Year#4939, Month#4940, DayofMonth#4941, DayOfWeek#4942, DepTime#4943, ArrTime#4945, UniqueCarrier#4947, FlightNum#4948, ActualElapsedTime#4950, AirTime#4952, ArrDelay#4953, DepDelay#4954, Origin#4955, Dest#4956, Distance#4957, TaxiIn#4958, TaxiOut#4959, Cancelled#4960, CancellationCode#4961, Diverted#4962, CarrierDelay#4963, WeatherDelay#4964, NASDelay#4965, SecurityDelay#4966, LateAircraftDelay#4967]\\n                              :                                                  :                 +- Project [Year#4939, Month#4940, DayofMonth#4941, DayOfWeek#4942, DepTime#4943, ArrTime#4945, UniqueCarrier#4947, FlightNum#4948, TailNum#4949, ActualElapsedTime#4950, AirTime#4952, ArrDelay#4953, DepDelay#4954, Origin#4955, Dest#4956, Distance#4957, TaxiIn#4958, TaxiOut#4959, Cancelled#4960, CancellationCode#4961, Diverted#4962, CarrierDelay#4963, WeatherDelay#4964, NASDelay#4965, ... 2 more fields]\\n                              :                                                  :                    +- Filter isnull(cast(Dest#4956 as int))\\n                              :                                                  :                       +- Filter isnull(cast(Origin#4955 as int))\\n                              :                                                  :                          +- Relation[Year#4939,Month#4940,DayofMonth#4941,DayOfWeek#4942,DepTime#4943,CRSDepTime#4944,ArrTime#4945,CRSArrTime#4946,UniqueCarrier#4947,FlightNum#4948,TailNum#4949,ActualElapsedTime#4950,CRSElapsedTime#4951,AirTime#4952,ArrDelay#4953,DepDelay#4954,Origin#4955,Dest#4956,Distance#4957,TaxiIn#4958,TaxiOut#4959,Cancelled#4960,CancellationCode#4961,Diverted#4962,... 5 more fields] csv\\n                              :                                                  +- Filter AtLeastNNulls(n, Distance#4957)\\n                              :                                                     +- Filter isnull(DepTime#4943)\\n                              :                                                        +- Filter isnull(AirTime#4952)\\n                              :                                                           +- Filter (Cancelled#4960 = cast(1.0 as double))\\n                              :                                                              +- Project [Year#4939, Month#4940, DayofMonth#4941, DayOfWeek#4942, DepTime#4943, ArrTime#4945, UniqueCarrier#4947, FlightNum#4948, ActualElapsedTime#4950, AirTime#4952, ArrDelay#4953, DepDelay#4954, Origin#4955, Dest#4956, Distance#4957, TaxiIn#4958, TaxiOut#4959, Cancelled#4960, Diverted#4962, CarrierDelay#4963, WeatherDelay#4964, NASDelay#4965, SecurityDelay#4966, LateAircraftDelay#4967]\\n                              :                                                                 +- Project [Year#4939, Month#4940, DayofMonth#4941, DayOfWeek#4942, DepTime#4943, ArrTime#4945, UniqueCarrier#4947, FlightNum#4948, ActualElapsedTime#4950, AirTime#4952, ArrDelay#4953, DepDelay#4954, Origin#4955, Dest#4956, Distance#4957, TaxiIn#4958, TaxiOut#4959, Cancelled#4960, CancellationCode#4961, Diverted#4962, CarrierDelay#4963, WeatherDelay#4964, NASDelay#4965, SecurityDelay#4966, LateAircraftDelay#4967]\\n                              :                                                                    +- Project [Year#4939, Month#4940, DayofMonth#4941, DayOfWeek#4942, DepTime#4943, ArrTime#4945, UniqueCarrier#4947, FlightNum#4948, TailNum#4949, ActualElapsedTime#4950, AirTime#4952, ArrDelay#4953, DepDelay#4954, Origin#4955, Dest#4956, Distance#4957, TaxiIn#4958, TaxiOut#4959, Cancelled#4960, CancellationCode#4961, Diverted#4962, CarrierDelay#4963, WeatherDelay#4964, NASDelay#4965, ... 2 more fields]\\n                              :                                                                       +- Filter isnull(cast(Dest#4956 as int))\\n                              :                                                                          +- Filter isnull(cast(Origin#4955 as int))\\n                              :                                                                             +- Relation[Year#4939,Month#4940,DayofMonth#4941,DayOfWeek#4942,DepTime#4943,CRSDepTime#4944,ArrTime#4945,CRSArrTime#4946,UniqueCarrier#4947,FlightNum#4948,TailNum#4949,ActualElapsedTime#4950,CRSElapsedTime#4951,AirTime#4952,ArrDelay#4953,DepDelay#4954,Origin#4955,Dest#4956,Distance#4957,TaxiIn#4958,TaxiOut#4959,Cancelled#4960,CancellationCode#4961,Diverted#4962,... 5 more fields] csv\\n                              +- Filter (Cancelled#4960 = cast(1 as double))\\n                                 +- Filter if (isnull(rand(1))) null else UDF(Cancelled#4960, rand(1))\\n                                    +- Project [Year#4939, Month#4940, DayofMonth#4941, DayOfWeek#4942, DepTime#4943, ArrTime#4945, UniqueCarrier#4947, FlightNum#4948, ActualElapsedTime#4950, AirTime#4952, ArrDelay#4953, DepDelay#4954, Origin#4955, Dest#4956, Distance#4957, TaxiIn#4958, TaxiOut#4959, Cancelled#4960, Diverted#4962, CarrierDelay#4963, WeatherDelay#4964, NASDelay#4965, SecurityDelay#4966, LateAircraftDelay#4967, ... 7 more fields]\\n                                       +- Project [Year#4939, Month#4940, DayofMonth#4941, DayOfWeek#4942, DepTime#4943, ArrTime#4945, UniqueCarrier#4947, FlightNum#4948, ActualElapsedTime#4950, AirTime#4952, ArrDelay#4953, DepDelay#4954, Origin#4955, Dest#4956, Distance#4957, TaxiIn#4958, TaxiOut#4959, Cancelled#4960, Diverted#4962, CarrierDelay#4963, WeatherDelay#4964, NASDelay#4965, SecurityDelay#4966, LateAircraftDelay#4967, ... 6 more fields]\\n                                          +- Project [Year#4939, Month#4940, DayofMonth#4941, DayOfWeek#4942, DepTime#4943, ArrTime#4945, UniqueCarrier#4947, FlightNum#4948, ActualElapsedTime#4950, AirTime#4952, ArrDelay#4953, DepDelay#4954, Origin#4955, Dest#4956, Distance#4957, TaxiIn#4958, TaxiOut#4959, Cancelled#4960, Diverted#4962, CarrierDelay#4963, WeatherDelay#4964, NASDelay#4965, SecurityDelay#4966, LateAircraftDelay#4967, ... 3 more fields]\\n                                             +- Filter UDF(Dest#4956)\\n                                                +- Filter AtLeastNNulls(n, Dest#4956)\\n                                                   +- Project [Year#4939, Month#4940, DayofMonth#4941, DayOfWeek#4942, DepTime#4943, ArrTime#4945, UniqueCarrier#4947, FlightNum#4948, ActualElapsedTime#4950, AirTime#4952, ArrDelay#4953, DepDelay#4954, Origin#4955, Dest#4956, Distance#4957, TaxiIn#4958, TaxiOut#4959, Cancelled#4960, Diverted#4962, CarrierDelay#4963, WeatherDelay#4964, NASDelay#4965, SecurityDelay#4966, LateAircraftDelay#4967, ... 2 more fields]\\n                                                      +- Filter UDF(Origin#4955)\\n                                                         +- Filter AtLeastNNulls(n, Origin#4955)\\n                                                            +- Project [Year#4939, Month#4940, DayofMonth#4941, DayOfWeek#4942, DepTime#4943, ArrTime#4945, UniqueCarrier#4947, FlightNum#4948, ActualElapsedTime#4950, AirTime#4952, ArrDelay#4953, DepDelay#4954, Origin#4955, Dest#4956, Distance#4957, TaxiIn#4958, TaxiOut#4959, Cancelled#4960, Diverted#4962, CarrierDelay#4963, WeatherDelay#4964, NASDelay#4965, SecurityDelay#4966, LateAircraftDelay#4967, UDF(cast(UniqueCarrier#4947 as string)) AS UniqueCarrierIdx#4763]\\n                                                               +- Filter UDF(UniqueCarrier#4947)\\n                                                                  +- Filter AtLeastNNulls(n, UniqueCarrier#4947)\\n                                                                     +- Filter AtLeastNNulls(n, TaxiIn#4958)\\n                                                                        +- Filter (cast(Year#4939 as int) >= 1995)\\n                                                                           +- Union\\n                                                                              :- Filter (cast(Year#4939 as int) < 1995)\\n                                                                              :  +- Filter AtLeastNNulls(n, ArrTime#4945,ActualElapsedTime#4950,ActualElapsedTime#4950,Distance#4957)\\n                                                                              :     +- Filter (Cancelled#4960 = cast(0.0 as double))\\n                                                                              :        +- Project [Year#4939, Month#4940, DayofMonth#4941, DayOfWeek#4942, DepTime#4943, ArrTime#4945, UniqueCarrier#4947, FlightNum#4948, ActualElapsedTime#4950, AirTime#4952, ArrDelay#4953, DepDelay#4954, Origin#4955, Dest#4956, Distance#4957, TaxiIn#4958, TaxiOut#4959, Cancelled#4960, Diverted#4962, CarrierDelay#4963, WeatherDelay#4964, NASDelay#4965, SecurityDelay#4966, LateAircraftDelay#4967]\\n                                                                              :           +- Project [Year#4939, Month#4940, DayofMonth#4941, DayOfWeek#4942, DepTime#4943, ArrTime#4945, UniqueCarrier#4947, FlightNum#4948, ActualElapsedTime#4950, AirTime#4952, ArrDelay#4953, DepDelay#4954, Origin#4955, Dest#4956, Distance#4957, TaxiIn#4958, TaxiOut#4959, Cancelled#4960, CancellationCode#4961, Diverted#4962, CarrierDelay#4963, WeatherDelay#4964, NASDelay#4965, SecurityDelay#4966, LateAircraftDelay#4967]\\n                                                                              :              +- Project [Year#4939, Month#4940, DayofMonth#4941, DayOfWeek#4942, DepTime#4943, ArrTime#4945, UniqueCarrier#4947, FlightNum#4948, TailNum#4949, ActualElapsedTime#4950, AirTime#4952, ArrDelay#4953, DepDelay#4954, Origin#4955, Dest#4956, Distance#4957, TaxiIn#4958, TaxiOut#4959, Cancelled#4960, CancellationCode#4961, Diverted#4962, CarrierDelay#4963, WeatherDelay#4964, NASDelay#4965, ... 2 more fields]\\n                                                                              :                 +- Filter isnull(cast(Dest#4956 as int))\\n                                                                              :                    +- Filter isnull(cast(Origin#4955 as int))\\n                                                                              :                       +- Relation[Year#4939,Month#4940,DayofMonth#4941,DayOfWeek#4942,DepTime#4943,CRSDepTime#4944,ArrTime#4945,CRSArrTime#4946,UniqueCarrier#4947,FlightNum#4948,TailNum#4949,ActualElapsedTime#4950,CRSElapsedTime#4951,AirTime#4952,ArrDelay#4953,DepDelay#4954,Origin#4955,Dest#4956,Distance#4957,TaxiIn#4958,TaxiOut#4959,Cancelled#4960,CancellationCode#4961,Diverted#4962,... 5 more fields] csv\\n                                                                              :- Filter AtLeastNNulls(n, AirTime#4952)\\n                                                                              :  +- Filter (cast(Year#4939 as int) >= 1995)\\n                                                                              :     +- Filter AtLeastNNulls(n, ArrTime#4945,ActualElapsedTime#4950,ActualElapsedTime#4950,Distance#4957)\\n                                                                              :        +- Filter (Cancelled#4960 = cast(0.0 as double))\\n                                                                              :           +- Project [Year#4939, Month#4940, DayofMonth#4941, DayOfWeek#4942, DepTime#4943, ArrTime#4945, UniqueCarrier#4947, FlightNum#4948, ActualElapsedTime#4950, AirTime#4952, ArrDelay#4953, DepDelay#4954, Origin#4955, Dest#4956, Distance#4957, TaxiIn#4958, TaxiOut#4959, Cancelled#4960, Diverted#4962, CarrierDelay#4963, WeatherDelay#4964, NASDelay#4965, SecurityDelay#4966, LateAircraftDelay#4967]\\n                                                                              :              +- Project [Year#4939, Month#4940, DayofMonth#4941, DayOfWeek#4942, DepTime#4943, ArrTime#4945, UniqueCarrier#4947, FlightNum#4948, ActualElapsedTime#4950, AirTime#4952, ArrDelay#4953, DepDelay#4954, Origin#4955, Dest#4956, Distance#4957, TaxiIn#4958, TaxiOut#4959, Cancelled#4960, CancellationCode#4961, Diverted#4962, CarrierDelay#4963, WeatherDelay#4964, NASDelay#4965, SecurityDelay#4966, LateAircraftDelay#4967]\\n                                                                              :                 +- Project [Year#4939, Month#4940, DayofMonth#4941, DayOfWeek#4942, DepTime#4943, ArrTime#4945, UniqueCarrier#4947, FlightNum#4948, TailNum#4949, ActualElapsedTime#4950, AirTime#4952, ArrDelay#4953, DepDelay#4954, Origin#4955, Dest#4956, Distance#4957, TaxiIn#4958, TaxiOut#4959, Cancelled#4960, CancellationCode#4961, Diverted#4962, CarrierDelay#4963, WeatherDelay#4964, NASDelay#4965, ... 2 more fields]\\n                                                                              :                    +- Filter isnull(cast(Dest#4956 as int))\\n                                                                              :                       +- Filter isnull(cast(Origin#4955 as int))\\n                                                                              :                          +- Relation[Year#4939,Month#4940,DayofMonth#4941,DayOfWeek#4942,DepTime#4943,CRSDepTime#4944,ArrTime#4945,CRSArrTime#4946,UniqueCarrier#4947,FlightNum#4948,TailNum#4949,ActualElapsedTime#4950,CRSElapsedTime#4951,AirTime#4952,ArrDelay#4953,DepDelay#4954,Origin#4955,Dest#4956,Distance#4957,TaxiIn#4958,TaxiOut#4959,Cancelled#4960,CancellationCode#4961,Diverted#4962,... 5 more fields] csv\\n                                                                              +- Filter AtLeastNNulls(n, Distance#4957)\\n                                                                                 +- Filter isnull(DepTime#4943)\\n                                                                                    +- Filter isnull(AirTime#4952)\\n                                                                                       +- Filter (Cancelled#4960 = cast(1.0 as double))\\n                                                                                          +- Project [Year#4939, Month#4940, DayofMonth#4941, DayOfWeek#4942, DepTime#4943, ArrTime#4945, UniqueCarrier#4947, FlightNum#4948, ActualElapsedTime#4950, AirTime#4952, ArrDelay#4953, DepDelay#4954, Origin#4955, Dest#4956, Distance#4957, TaxiIn#4958, TaxiOut#4959, Cancelled#4960, Diverted#4962, CarrierDelay#4963, WeatherDelay#4964, NASDelay#4965, SecurityDelay#4966, LateAircraftDelay#4967]\\n                                                                                             +- Project [Year#4939, Month#4940, DayofMonth#4941, DayOfWeek#4942, DepTime#4943, ArrTime#4945, UniqueCarrier#4947, FlightNum#4948, ActualElapsedTime#4950, AirTime#4952, ArrDelay#4953, DepDelay#4954, Origin#4955, Dest#4956, Distance#4957, TaxiIn#4958, TaxiOut#4959, Cancelled#4960, CancellationCode#4961, Diverted#4962, CarrierDelay#4963, WeatherDelay#4964, NASDelay#4965, SecurityDelay#4966, LateAircraftDelay#4967]\\n                                                                                                +- Project [Year#4939, Month#4940, DayofMonth#4941, DayOfWeek#4942, DepTime#4943, ArrTime#4945, UniqueCarrier#4947, FlightNum#4948, TailNum#4949, ActualElapsedTime#4950, AirTime#4952, ArrDelay#4953, DepDelay#4954, Origin#4955, Dest#4956, Distance#4957, TaxiIn#4958, TaxiOut#4959, Cancelled#4960, CancellationCode#4961, Diverted#4962, CarrierDelay#4963, WeatherDelay#4964, NASDelay#4965, ... 2 more fields]\\n                                                                                                   +- Filter isnull(cast(Dest#4956 as int))\\n                                                                                                      +- Filter isnull(cast(Origin#4955 as int))\\n                                                                                                         +- Relation[Year#4939,Month#4940,DayofMonth#4941,DayOfWeek#4942,DepTime#4943,CRSDepTime#4944,ArrTime#4945,CRSArrTime#4946,UniqueCarrier#4947,FlightNum#4948,TailNum#4949,ActualElapsedTime#4950,CRSElapsedTime#4951,AirTime#4952,ArrDelay#4953,DepDelay#4954,Origin#4955,Dest#4956,Distance#4957,TaxiIn#4958,TaxiOut#4959,Cancelled#4960,CancellationCode#4961,Diverted#4962,... 5 more fields] csv\\n\"",
     "output_type": "error",
     "traceback": [
      "\u001b[0;31m---------------------------------------------------------------------------\u001b[0m",
      "\u001b[0;31mPy4JJavaError\u001b[0m                             Traceback (most recent call last)",
      "\u001b[0;32m/opt/cloudera/parcels/CDH/lib/spark/python/lib/pyspark.zip/pyspark/sql/utils.py\u001b[0m in \u001b[0;36mdeco\u001b[0;34m(*a, **kw)\u001b[0m\n\u001b[1;32m     62\u001b[0m         \u001b[0;32mtry\u001b[0m\u001b[0;34m:\u001b[0m\u001b[0;34m\u001b[0m\u001b[0;34m\u001b[0m\u001b[0m\n\u001b[0;32m---> 63\u001b[0;31m             \u001b[0;32mreturn\u001b[0m \u001b[0mf\u001b[0m\u001b[0;34m(\u001b[0m\u001b[0;34m*\u001b[0m\u001b[0ma\u001b[0m\u001b[0;34m,\u001b[0m \u001b[0;34m**\u001b[0m\u001b[0mkw\u001b[0m\u001b[0;34m)\u001b[0m\u001b[0;34m\u001b[0m\u001b[0;34m\u001b[0m\u001b[0m\n\u001b[0m\u001b[1;32m     64\u001b[0m         \u001b[0;32mexcept\u001b[0m \u001b[0mpy4j\u001b[0m\u001b[0;34m.\u001b[0m\u001b[0mprotocol\u001b[0m\u001b[0;34m.\u001b[0m\u001b[0mPy4JJavaError\u001b[0m \u001b[0;32mas\u001b[0m \u001b[0me\u001b[0m\u001b[0;34m:\u001b[0m\u001b[0;34m\u001b[0m\u001b[0;34m\u001b[0m\u001b[0m\n",
      "\u001b[0;32m/opt/cloudera/parcels/CDH/lib/spark/python/lib/py4j-0.10.7-src.zip/py4j/protocol.py\u001b[0m in \u001b[0;36mget_return_value\u001b[0;34m(answer, gateway_client, target_id, name)\u001b[0m\n\u001b[1;32m    327\u001b[0m                     \u001b[0;34m\"An error occurred while calling {0}{1}{2}.\\n\"\u001b[0m\u001b[0;34m.\u001b[0m\u001b[0;34m\u001b[0m\u001b[0;34m\u001b[0m\u001b[0m\n\u001b[0;32m--> 328\u001b[0;31m                     format(target_id, \".\", name), value)\n\u001b[0m\u001b[1;32m    329\u001b[0m             \u001b[0;32melse\u001b[0m\u001b[0;34m:\u001b[0m\u001b[0;34m\u001b[0m\u001b[0;34m\u001b[0m\u001b[0m\n",
      "\u001b[0;31mPy4JJavaError\u001b[0m: An error occurred while calling o2771.select.\n: org.apache.spark.sql.AnalysisException: cannot resolve '`dep_hour`' given input columns: [DepDelay, UniqueCarrier, Origin, DestVec, OriginIdx, features, Distance, prediction, rawPrediction, DepTime, DestIdx, UniqueCarrierIdx, Cancelled, Diverted, probability, Month, Dest, DayOfWeek, NASDelay, TaxiIn, UniqueCarrierVec, AirTime, FlightNum, ArrTime, SecurityDelay, TaxiOut, CarrierDelay, ActualElapsedTime, WeatherDelay, Year, OriginVec, ArrDelay, LateAircraftDelay, DayofMonth];;\n'Project [Year#10, Month#11, DayofMonth#12, DayOfWeek#13, UniqueCarrier#18, 'dep_hour, 'arr_hour, DepDelay#25, Origin#26, Dest#27, Distance#28, Diverted#33, ArrDelay#24, prediction#7666]\n+- Project [Year#10, Month#11, DayofMonth#12, DayOfWeek#13, DepTime#14, ArrTime#16, UniqueCarrier#18, FlightNum#19, ActualElapsedTime#21, AirTime#23, ArrDelay#24, DepDelay#25, Origin#26, Dest#27, Distance#28, TaxiIn#29, TaxiOut#30, Cancelled#31, Diverted#33, CarrierDelay#34, WeatherDelay#35, NASDelay#36, SecurityDelay#37, LateAircraftDelay#38, ... 10 more fields]\n   +- Project [Year#10, Month#11, DayofMonth#12, DayOfWeek#13, DepTime#14, ArrTime#16, UniqueCarrier#18, FlightNum#19, ActualElapsedTime#21, AirTime#23, ArrDelay#24, DepDelay#25, Origin#26, Dest#27, Distance#28, TaxiIn#29, TaxiOut#30, Cancelled#31, Diverted#33, CarrierDelay#34, WeatherDelay#35, NASDelay#36, SecurityDelay#37, LateAircraftDelay#38, ... 9 more fields]\n      +- Project [Year#10, Month#11, DayofMonth#12, DayOfWeek#13, DepTime#14, ArrTime#16, UniqueCarrier#18, FlightNum#19, ActualElapsedTime#21, AirTime#23, ArrDelay#24, DepDelay#25, Origin#26, Dest#27, Distance#28, TaxiIn#29, TaxiOut#30, Cancelled#31, Diverted#33, CarrierDelay#34, WeatherDelay#35, NASDelay#36, SecurityDelay#37, LateAircraftDelay#38, ... 8 more fields]\n         +- Except false\n            :- Project [Year#10, Month#11, DayofMonth#12, DayOfWeek#13, DepTime#14, ArrTime#16, UniqueCarrier#18, FlightNum#19, ActualElapsedTime#21, AirTime#23, ArrDelay#24, DepDelay#25, Origin#26, Dest#27, Distance#28, TaxiIn#29, TaxiOut#30, Cancelled#31, Diverted#33, CarrierDelay#34, WeatherDelay#35, NASDelay#36, SecurityDelay#37, LateAircraftDelay#38, ... 7 more fields]\n            :  +- Project [Year#10, Month#11, DayofMonth#12, DayOfWeek#13, DepTime#14, ArrTime#16, UniqueCarrier#18, FlightNum#19, ActualElapsedTime#21, AirTime#23, ArrDelay#24, DepDelay#25, Origin#26, Dest#27, Distance#28, TaxiIn#29, TaxiOut#30, Cancelled#31, Diverted#33, CarrierDelay#34, WeatherDelay#35, NASDelay#36, SecurityDelay#37, LateAircraftDelay#38, ... 7 more fields]\n            :     +- Project [Year#10, Month#11, DayofMonth#12, DayOfWeek#13, DepTime#14, ArrTime#16, UniqueCarrier#18, FlightNum#19, ActualElapsedTime#21, AirTime#23, ArrDelay#24, DepDelay#25, Origin#26, Dest#27, Distance#28, TaxiIn#29, TaxiOut#30, Cancelled#31, Diverted#33, CarrierDelay#34, WeatherDelay#35, NASDelay#36, SecurityDelay#37, LateAircraftDelay#38, ... 7 more fields]\n            :        +- Project [Year#10, Month#11, DayofMonth#12, DayOfWeek#13, DepTime#14, ArrTime#16, UniqueCarrier#18, FlightNum#19, ActualElapsedTime#21, AirTime#23, ArrDelay#24, DepDelay#25, Origin#26, Dest#27, Distance#28, TaxiIn#29, TaxiOut#30, Cancelled#31, Diverted#33, CarrierDelay#34, WeatherDelay#35, NASDelay#36, SecurityDelay#37, LateAircraftDelay#38, ... 7 more fields]\n            :           +- Project [Year#10, Month#11, DayofMonth#12, DayOfWeek#13, DepTime#14, ArrTime#16, UniqueCarrier#18, FlightNum#19, ActualElapsedTime#21, AirTime#23, ArrDelay#24, DepDelay#25, Origin#26, Dest#27, Distance#28, TaxiIn#29, TaxiOut#30, Cancelled#31, Diverted#33, CarrierDelay#34, WeatherDelay#35, NASDelay#36, SecurityDelay#37, LateAircraftDelay#38, ... 7 more fields]\n            :              +- Project [Year#10, Month#11, DayofMonth#12, DayOfWeek#13, DepTime#14, ArrTime#16, UniqueCarrier#18, FlightNum#19, ActualElapsedTime#21, AirTime#23, ArrDelay#24, DepDelay#25, Origin#26, Dest#27, Distance#28, TaxiIn#29, TaxiOut#30, Cancelled#31, Diverted#33, CarrierDelay#34, WeatherDelay#35, NASDelay#36, SecurityDelay#37, LateAircraftDelay#38, ... 7 more fields]\n            :                 +- Project [Year#10, Month#11, DayofMonth#12, DayOfWeek#13, DepTime#14, ArrTime#16, UniqueCarrier#18, FlightNum#19, ActualElapsedTime#21, AirTime#23, ArrDelay#24, DepDelay#25, Origin#26, Dest#27, Distance#28, TaxiIn#29, TaxiOut#30, Cancelled#31, Diverted#33, CarrierDelay#34, WeatherDelay#35, NASDelay#36, SecurityDelay#37, LateAircraftDelay#38, ... 6 more fields]\n            :                    +- Project [Year#10, Month#11, DayofMonth#12, DayOfWeek#13, DepTime#14, ArrTime#16, UniqueCarrier#18, FlightNum#19, ActualElapsedTime#21, AirTime#23, ArrDelay#24, DepDelay#25, Origin#26, Dest#27, Distance#28, TaxiIn#29, TaxiOut#30, Cancelled#31, Diverted#33, CarrierDelay#34, WeatherDelay#35, NASDelay#36, SecurityDelay#37, LateAircraftDelay#38, ... 3 more fields]\n            :                       +- Filter UDF(Dest#27)\n            :                          +- Filter AtLeastNNulls(n, Dest#27)\n            :                             +- Project [Year#10, Month#11, DayofMonth#12, DayOfWeek#13, DepTime#14, ArrTime#16, UniqueCarrier#18, FlightNum#19, ActualElapsedTime#21, AirTime#23, ArrDelay#24, DepDelay#25, Origin#26, Dest#27, Distance#28, TaxiIn#29, TaxiOut#30, Cancelled#31, Diverted#33, CarrierDelay#34, WeatherDelay#35, NASDelay#36, SecurityDelay#37, LateAircraftDelay#38, ... 2 more fields]\n            :                                +- Filter UDF(Origin#26)\n            :                                   +- Filter AtLeastNNulls(n, Origin#26)\n            :                                      +- Project [Year#10, Month#11, DayofMonth#12, DayOfWeek#13, DepTime#14, ArrTime#16, UniqueCarrier#18, FlightNum#19, ActualElapsedTime#21, AirTime#23, ArrDelay#24, DepDelay#25, Origin#26, Dest#27, Distance#28, TaxiIn#29, TaxiOut#30, Cancelled#31, Diverted#33, CarrierDelay#34, WeatherDelay#35, NASDelay#36, SecurityDelay#37, LateAircraftDelay#38, UDF(cast(UniqueCarrier#18 as string)) AS UniqueCarrierIdx#3571]\n            :                                         +- Filter UDF(UniqueCarrier#18)\n            :                                            +- Filter AtLeastNNulls(n, UniqueCarrier#18)\n            :                                               +- Filter AtLeastNNulls(n, TaxiIn#29)\n            :                                                  +- Filter (cast(Year#10 as int) >= 1995)\n            :                                                     +- Union\n            :                                                        :- Filter (cast(Year#10 as int) < 1995)\n            :                                                        :  +- Filter AtLeastNNulls(n, ArrTime#16,ActualElapsedTime#21,ActualElapsedTime#21,Distance#28)\n            :                                                        :     +- Filter (Cancelled#31 = cast(0.0 as double))\n            :                                                        :        +- Project [Year#10, Month#11, DayofMonth#12, DayOfWeek#13, DepTime#14, ArrTime#16, UniqueCarrier#18, FlightNum#19, ActualElapsedTime#21, AirTime#23, ArrDelay#24, DepDelay#25, Origin#26, Dest#27, Distance#28, TaxiIn#29, TaxiOut#30, Cancelled#31, Diverted#33, CarrierDelay#34, WeatherDelay#35, NASDelay#36, SecurityDelay#37, LateAircraftDelay#38]\n            :                                                        :           +- Project [Year#10, Month#11, DayofMonth#12, DayOfWeek#13, DepTime#14, ArrTime#16, UniqueCarrier#18, FlightNum#19, ActualElapsedTime#21, AirTime#23, ArrDelay#24, DepDelay#25, Origin#26, Dest#27, Distance#28, TaxiIn#29, TaxiOut#30, Cancelled#31, CancellationCode#32, Diverted#33, CarrierDelay#34, WeatherDelay#35, NASDelay#36, SecurityDelay#37, LateAircraftDelay#38]\n            :                                                        :              +- Project [Year#10, Month#11, DayofMonth#12, DayOfWeek#13, DepTime#14, ArrTime#16, UniqueCarrier#18, FlightNum#19, TailNum#20, ActualElapsedTime#21, AirTime#23, ArrDelay#24, DepDelay#25, Origin#26, Dest#27, Distance#28, TaxiIn#29, TaxiOut#30, Cancelled#31, CancellationCode#32, Diverted#33, CarrierDelay#34, WeatherDelay#35, NASDelay#36, ... 2 more fields]\n            :                                                        :                 +- Filter isnull(cast(Dest#27 as int))\n            :                                                        :                    +- Filter isnull(cast(Origin#26 as int))\n            :                                                        :                       +- Relation[Year#10,Month#11,DayofMonth#12,DayOfWeek#13,DepTime#14,CRSDepTime#15,ArrTime#16,CRSArrTime#17,UniqueCarrier#18,FlightNum#19,TailNum#20,ActualElapsedTime#21,CRSElapsedTime#22,AirTime#23,ArrDelay#24,DepDelay#25,Origin#26,Dest#27,Distance#28,TaxiIn#29,TaxiOut#30,Cancelled#31,CancellationCode#32,Diverted#33,... 5 more fields] csv\n            :                                                        :- Filter AtLeastNNulls(n, AirTime#23)\n            :                                                        :  +- Filter (cast(Year#10 as int) >= 1995)\n            :                                                        :     +- Filter AtLeastNNulls(n, ArrTime#16,ActualElapsedTime#21,ActualElapsedTime#21,Distance#28)\n            :                                                        :        +- Filter (Cancelled#31 = cast(0.0 as double))\n            :                                                        :           +- Project [Year#10, Month#11, DayofMonth#12, DayOfWeek#13, DepTime#14, ArrTime#16, UniqueCarrier#18, FlightNum#19, ActualElapsedTime#21, AirTime#23, ArrDelay#24, DepDelay#25, Origin#26, Dest#27, Distance#28, TaxiIn#29, TaxiOut#30, Cancelled#31, Diverted#33, CarrierDelay#34, WeatherDelay#35, NASDelay#36, SecurityDelay#37, LateAircraftDelay#38]\n            :                                                        :              +- Project [Year#10, Month#11, DayofMonth#12, DayOfWeek#13, DepTime#14, ArrTime#16, UniqueCarrier#18, FlightNum#19, ActualElapsedTime#21, AirTime#23, ArrDelay#24, DepDelay#25, Origin#26, Dest#27, Distance#28, TaxiIn#29, TaxiOut#30, Cancelled#31, CancellationCode#32, Diverted#33, CarrierDelay#34, WeatherDelay#35, NASDelay#36, SecurityDelay#37, LateAircraftDelay#38]\n            :                                                        :                 +- Project [Year#10, Month#11, DayofMonth#12, DayOfWeek#13, DepTime#14, ArrTime#16, UniqueCarrier#18, FlightNum#19, TailNum#20, ActualElapsedTime#21, AirTime#23, ArrDelay#24, DepDelay#25, Origin#26, Dest#27, Distance#28, TaxiIn#29, TaxiOut#30, Cancelled#31, CancellationCode#32, Diverted#33, CarrierDelay#34, WeatherDelay#35, NASDelay#36, ... 2 more fields]\n            :                                                        :                    +- Filter isnull(cast(Dest#27 as int))\n            :                                                        :                       +- Filter isnull(cast(Origin#26 as int))\n            :                                                        :                          +- Relation[Year#10,Month#11,DayofMonth#12,DayOfWeek#13,DepTime#14,CRSDepTime#15,ArrTime#16,CRSArrTime#17,UniqueCarrier#18,FlightNum#19,TailNum#20,ActualElapsedTime#21,CRSElapsedTime#22,AirTime#23,ArrDelay#24,DepDelay#25,Origin#26,Dest#27,Distance#28,TaxiIn#29,TaxiOut#30,Cancelled#31,CancellationCode#32,Diverted#33,... 5 more fields] csv\n            :                                                        +- Filter AtLeastNNulls(n, Distance#28)\n            :                                                           +- Filter isnull(DepTime#14)\n            :                                                              +- Filter isnull(AirTime#23)\n            :                                                                 +- Filter (Cancelled#31 = cast(1.0 as double))\n            :                                                                    +- Project [Year#10, Month#11, DayofMonth#12, DayOfWeek#13, DepTime#14, ArrTime#16, UniqueCarrier#18, FlightNum#19, ActualElapsedTime#21, AirTime#23, ArrDelay#24, DepDelay#25, Origin#26, Dest#27, Distance#28, TaxiIn#29, TaxiOut#30, Cancelled#31, Diverted#33, CarrierDelay#34, WeatherDelay#35, NASDelay#36, SecurityDelay#37, LateAircraftDelay#38]\n            :                                                                       +- Project [Year#10, Month#11, DayofMonth#12, DayOfWeek#13, DepTime#14, ArrTime#16, UniqueCarrier#18, FlightNum#19, ActualElapsedTime#21, AirTime#23, ArrDelay#24, DepDelay#25, Origin#26, Dest#27, Distance#28, TaxiIn#29, TaxiOut#30, Cancelled#31, CancellationCode#32, Diverted#33, CarrierDelay#34, WeatherDelay#35, NASDelay#36, SecurityDelay#37, LateAircraftDelay#38]\n            :                                                                          +- Project [Year#10, Month#11, DayofMonth#12, DayOfWeek#13, DepTime#14, ArrTime#16, UniqueCarrier#18, FlightNum#19, TailNum#20, ActualElapsedTime#21, AirTime#23, ArrDelay#24, DepDelay#25, Origin#26, Dest#27, Distance#28, TaxiIn#29, TaxiOut#30, Cancelled#31, CancellationCode#32, Diverted#33, CarrierDelay#34, WeatherDelay#35, NASDelay#36, ... 2 more fields]\n            :                                                                             +- Filter isnull(cast(Dest#27 as int))\n            :                                                                                +- Filter isnull(cast(Origin#26 as int))\n            :                                                                                   +- Relation[Year#10,Month#11,DayofMonth#12,DayOfWeek#13,DepTime#14,CRSDepTime#15,ArrTime#16,CRSArrTime#17,UniqueCarrier#18,FlightNum#19,TailNum#20,ActualElapsedTime#21,CRSElapsedTime#22,AirTime#23,ArrDelay#24,DepDelay#25,Origin#26,Dest#27,Distance#28,TaxiIn#29,TaxiOut#30,Cancelled#31,CancellationCode#32,Diverted#33,... 5 more fields] csv\n            +- Project [Year#4939, Month#4940, DayofMonth#4941, DayOfWeek#4942, DepTime#4943, ArrTime#4945, UniqueCarrier#4947, FlightNum#4948, ActualElapsedTime#4950, AirTime#4952, ArrDelay#4953, DepDelay#4954, Origin#4955, Dest#4956, Distance#4957, TaxiIn#4958, TaxiOut#4959, Cancelled#4960, Diverted#4962, CarrierDelay#4963, WeatherDelay#4964, NASDelay#4965, SecurityDelay#4966, LateAircraftDelay#4967, ... 7 more fields]\n               +- Project [Year#4939, Month#4940, DayofMonth#4941, DayOfWeek#4942, DepTime#4943, ArrTime#4945, UniqueCarrier#4947, FlightNum#4948, ActualElapsedTime#4950, AirTime#4952, ArrDelay#4953, DepDelay#4954, Origin#4955, Dest#4956, Distance#4957, TaxiIn#4958, TaxiOut#4959, Cancelled#4960, Diverted#4962, CarrierDelay#4963, WeatherDelay#4964, NASDelay#4965, SecurityDelay#4966, LateAircraftDelay#4967, ... 7 more fields]\n                  +- Project [Year#4939, Month#4940, DayofMonth#4941, DayOfWeek#4942, DepTime#4943, ArrTime#4945, UniqueCarrier#4947, FlightNum#4948, ActualElapsedTime#4950, AirTime#4952, ArrDelay#4953, DepDelay#4954, Origin#4955, Dest#4956, Distance#4957, TaxiIn#4958, TaxiOut#4959, Cancelled#4960, Diverted#4962, CarrierDelay#4963, WeatherDelay#4964, NASDelay#4965, SecurityDelay#4966, LateAircraftDelay#4967, ... 7 more fields]\n                     +- Project [Year#4939, Month#4940, DayofMonth#4941, DayOfWeek#4942, DepTime#4943, ArrTime#4945, UniqueCarrier#4947, FlightNum#4948, ActualElapsedTime#4950, AirTime#4952, ArrDelay#4953, DepDelay#4954, Origin#4955, Dest#4956, Distance#4957, TaxiIn#4958, TaxiOut#4959, Cancelled#4960, Diverted#4962, CarrierDelay#4963, WeatherDelay#4964, NASDelay#4965, SecurityDelay#4966, LateAircraftDelay#4967, ... 7 more fields]\n                        +- Project [Year#4939, Month#4940, DayofMonth#4941, DayOfWeek#4942, DepTime#4943, ArrTime#4945, UniqueCarrier#4947, FlightNum#4948, ActualElapsedTime#4950, AirTime#4952, ArrDelay#4953, DepDelay#4954, Origin#4955, Dest#4956, Distance#4957, TaxiIn#4958, TaxiOut#4959, Cancelled#4960, Diverted#4962, CarrierDelay#4963, WeatherDelay#4964, NASDelay#4965, SecurityDelay#4966, LateAircraftDelay#4967, ... 7 more fields]\n                           +- Union\n                              :- Sample 0.0, 0.02, false, 1\n                              :  +- Filter (Cancelled#4960 = cast(0 as double))\n                              :     +- Filter if (isnull(rand(1))) null else UDF(Cancelled#4960, rand(1))\n                              :        +- Project [Year#4939, Month#4940, DayofMonth#4941, DayOfWeek#4942, DepTime#4943, ArrTime#4945, UniqueCarrier#4947, FlightNum#4948, ActualElapsedTime#4950, AirTime#4952, ArrDelay#4953, DepDelay#4954, Origin#4955, Dest#4956, Distance#4957, TaxiIn#4958, TaxiOut#4959, Cancelled#4960, Diverted#4962, CarrierDelay#4963, WeatherDelay#4964, NASDelay#4965, SecurityDelay#4966, LateAircraftDelay#4967, ... 7 more fields]\n                              :           +- Project [Year#4939, Month#4940, DayofMonth#4941, DayOfWeek#4942, DepTime#4943, ArrTime#4945, UniqueCarrier#4947, FlightNum#4948, ActualElapsedTime#4950, AirTime#4952, ArrDelay#4953, DepDelay#4954, Origin#4955, Dest#4956, Distance#4957, TaxiIn#4958, TaxiOut#4959, Cancelled#4960, Diverted#4962, CarrierDelay#4963, WeatherDelay#4964, NASDelay#4965, SecurityDelay#4966, LateAircraftDelay#4967, ... 6 more fields]\n                              :              +- Project [Year#4939, Month#4940, DayofMonth#4941, DayOfWeek#4942, DepTime#4943, ArrTime#4945, UniqueCarrier#4947, FlightNum#4948, ActualElapsedTime#4950, AirTime#4952, ArrDelay#4953, DepDelay#4954, Origin#4955, Dest#4956, Distance#4957, TaxiIn#4958, TaxiOut#4959, Cancelled#4960, Diverted#4962, CarrierDelay#4963, WeatherDelay#4964, NASDelay#4965, SecurityDelay#4966, LateAircraftDelay#4967, ... 3 more fields]\n                              :                 +- Filter UDF(Dest#4956)\n                              :                    +- Filter AtLeastNNulls(n, Dest#4956)\n                              :                       +- Project [Year#4939, Month#4940, DayofMonth#4941, DayOfWeek#4942, DepTime#4943, ArrTime#4945, UniqueCarrier#4947, FlightNum#4948, ActualElapsedTime#4950, AirTime#4952, ArrDelay#4953, DepDelay#4954, Origin#4955, Dest#4956, Distance#4957, TaxiIn#4958, TaxiOut#4959, Cancelled#4960, Diverted#4962, CarrierDelay#4963, WeatherDelay#4964, NASDelay#4965, SecurityDelay#4966, LateAircraftDelay#4967, ... 2 more fields]\n                              :                          +- Filter UDF(Origin#4955)\n                              :                             +- Filter AtLeastNNulls(n, Origin#4955)\n                              :                                +- Project [Year#4939, Month#4940, DayofMonth#4941, DayOfWeek#4942, DepTime#4943, ArrTime#4945, UniqueCarrier#4947, FlightNum#4948, ActualElapsedTime#4950, AirTime#4952, ArrDelay#4953, DepDelay#4954, Origin#4955, Dest#4956, Distance#4957, TaxiIn#4958, TaxiOut#4959, Cancelled#4960, Diverted#4962, CarrierDelay#4963, WeatherDelay#4964, NASDelay#4965, SecurityDelay#4966, LateAircraftDelay#4967, UDF(cast(UniqueCarrier#4947 as string)) AS UniqueCarrierIdx#4763]\n                              :                                   +- Filter UDF(UniqueCarrier#4947)\n                              :                                      +- Filter AtLeastNNulls(n, UniqueCarrier#4947)\n                              :                                         +- Filter AtLeastNNulls(n, TaxiIn#4958)\n                              :                                            +- Filter (cast(Year#4939 as int) >= 1995)\n                              :                                               +- Union\n                              :                                                  :- Filter (cast(Year#4939 as int) < 1995)\n                              :                                                  :  +- Filter AtLeastNNulls(n, ArrTime#4945,ActualElapsedTime#4950,ActualElapsedTime#4950,Distance#4957)\n                              :                                                  :     +- Filter (Cancelled#4960 = cast(0.0 as double))\n                              :                                                  :        +- Project [Year#4939, Month#4940, DayofMonth#4941, DayOfWeek#4942, DepTime#4943, ArrTime#4945, UniqueCarrier#4947, FlightNum#4948, ActualElapsedTime#4950, AirTime#4952, ArrDelay#4953, DepDelay#4954, Origin#4955, Dest#4956, Distance#4957, TaxiIn#4958, TaxiOut#4959, Cancelled#4960, Diverted#4962, CarrierDelay#4963, WeatherDelay#4964, NASDelay#4965, SecurityDelay#4966, LateAircraftDelay#4967]\n                              :                                                  :           +- Project [Year#4939, Month#4940, DayofMonth#4941, DayOfWeek#4942, DepTime#4943, ArrTime#4945, UniqueCarrier#4947, FlightNum#4948, ActualElapsedTime#4950, AirTime#4952, ArrDelay#4953, DepDelay#4954, Origin#4955, Dest#4956, Distance#4957, TaxiIn#4958, TaxiOut#4959, Cancelled#4960, CancellationCode#4961, Diverted#4962, CarrierDelay#4963, WeatherDelay#4964, NASDelay#4965, SecurityDelay#4966, LateAircraftDelay#4967]\n                              :                                                  :              +- Project [Year#4939, Month#4940, DayofMonth#4941, DayOfWeek#4942, DepTime#4943, ArrTime#4945, UniqueCarrier#4947, FlightNum#4948, TailNum#4949, ActualElapsedTime#4950, AirTime#4952, ArrDelay#4953, DepDelay#4954, Origin#4955, Dest#4956, Distance#4957, TaxiIn#4958, TaxiOut#4959, Cancelled#4960, CancellationCode#4961, Diverted#4962, CarrierDelay#4963, WeatherDelay#4964, NASDelay#4965, ... 2 more fields]\n                              :                                                  :                 +- Filter isnull(cast(Dest#4956 as int))\n                              :                                                  :                    +- Filter isnull(cast(Origin#4955 as int))\n                              :                                                  :                       +- Relation[Year#4939,Month#4940,DayofMonth#4941,DayOfWeek#4942,DepTime#4943,CRSDepTime#4944,ArrTime#4945,CRSArrTime#4946,UniqueCarrier#4947,FlightNum#4948,TailNum#4949,ActualElapsedTime#4950,CRSElapsedTime#4951,AirTime#4952,ArrDelay#4953,DepDelay#4954,Origin#4955,Dest#4956,Distance#4957,TaxiIn#4958,TaxiOut#4959,Cancelled#4960,CancellationCode#4961,Diverted#4962,... 5 more fields] csv\n                              :                                                  :- Filter AtLeastNNulls(n, AirTime#4952)\n                              :                                                  :  +- Filter (cast(Year#4939 as int) >= 1995)\n                              :                                                  :     +- Filter AtLeastNNulls(n, ArrTime#4945,ActualElapsedTime#4950,ActualElapsedTime#4950,Distance#4957)\n                              :                                                  :        +- Filter (Cancelled#4960 = cast(0.0 as double))\n                              :                                                  :           +- Project [Year#4939, Month#4940, DayofMonth#4941, DayOfWeek#4942, DepTime#4943, ArrTime#4945, UniqueCarrier#4947, FlightNum#4948, ActualElapsedTime#4950, AirTime#4952, ArrDelay#4953, DepDelay#4954, Origin#4955, Dest#4956, Distance#4957, TaxiIn#4958, TaxiOut#4959, Cancelled#4960, Diverted#4962, CarrierDelay#4963, WeatherDelay#4964, NASDelay#4965, SecurityDelay#4966, LateAircraftDelay#4967]\n                              :                                                  :              +- Project [Year#4939, Month#4940, DayofMonth#4941, DayOfWeek#4942, DepTime#4943, ArrTime#4945, UniqueCarrier#4947, FlightNum#4948, ActualElapsedTime#4950, AirTime#4952, ArrDelay#4953, DepDelay#4954, Origin#4955, Dest#4956, Distance#4957, TaxiIn#4958, TaxiOut#4959, Cancelled#4960, CancellationCode#4961, Diverted#4962, CarrierDelay#4963, WeatherDelay#4964, NASDelay#4965, SecurityDelay#4966, LateAircraftDelay#4967]\n                              :                                                  :                 +- Project [Year#4939, Month#4940, DayofMonth#4941, DayOfWeek#4942, DepTime#4943, ArrTime#4945, UniqueCarrier#4947, FlightNum#4948, TailNum#4949, ActualElapsedTime#4950, AirTime#4952, ArrDelay#4953, DepDelay#4954, Origin#4955, Dest#4956, Distance#4957, TaxiIn#4958, TaxiOut#4959, Cancelled#4960, CancellationCode#4961, Diverted#4962, CarrierDelay#4963, WeatherDelay#4964, NASDelay#4965, ... 2 more fields]\n                              :                                                  :                    +- Filter isnull(cast(Dest#4956 as int))\n                              :                                                  :                       +- Filter isnull(cast(Origin#4955 as int))\n                              :                                                  :                          +- Relation[Year#4939,Month#4940,DayofMonth#4941,DayOfWeek#4942,DepTime#4943,CRSDepTime#4944,ArrTime#4945,CRSArrTime#4946,UniqueCarrier#4947,FlightNum#4948,TailNum#4949,ActualElapsedTime#4950,CRSElapsedTime#4951,AirTime#4952,ArrDelay#4953,DepDelay#4954,Origin#4955,Dest#4956,Distance#4957,TaxiIn#4958,TaxiOut#4959,Cancelled#4960,CancellationCode#4961,Diverted#4962,... 5 more fields] csv\n                              :                                                  +- Filter AtLeastNNulls(n, Distance#4957)\n                              :                                                     +- Filter isnull(DepTime#4943)\n                              :                                                        +- Filter isnull(AirTime#4952)\n                              :                                                           +- Filter (Cancelled#4960 = cast(1.0 as double))\n                              :                                                              +- Project [Year#4939, Month#4940, DayofMonth#4941, DayOfWeek#4942, DepTime#4943, ArrTime#4945, UniqueCarrier#4947, FlightNum#4948, ActualElapsedTime#4950, AirTime#4952, ArrDelay#4953, DepDelay#4954, Origin#4955, Dest#4956, Distance#4957, TaxiIn#4958, TaxiOut#4959, Cancelled#4960, Diverted#4962, CarrierDelay#4963, WeatherDelay#4964, NASDelay#4965, SecurityDelay#4966, LateAircraftDelay#4967]\n                              :                                                                 +- Project [Year#4939, Month#4940, DayofMonth#4941, DayOfWeek#4942, DepTime#4943, ArrTime#4945, UniqueCarrier#4947, FlightNum#4948, ActualElapsedTime#4950, AirTime#4952, ArrDelay#4953, DepDelay#4954, Origin#4955, Dest#4956, Distance#4957, TaxiIn#4958, TaxiOut#4959, Cancelled#4960, CancellationCode#4961, Diverted#4962, CarrierDelay#4963, WeatherDelay#4964, NASDelay#4965, SecurityDelay#4966, LateAircraftDelay#4967]\n                              :                                                                    +- Project [Year#4939, Month#4940, DayofMonth#4941, DayOfWeek#4942, DepTime#4943, ArrTime#4945, UniqueCarrier#4947, FlightNum#4948, TailNum#4949, ActualElapsedTime#4950, AirTime#4952, ArrDelay#4953, DepDelay#4954, Origin#4955, Dest#4956, Distance#4957, TaxiIn#4958, TaxiOut#4959, Cancelled#4960, CancellationCode#4961, Diverted#4962, CarrierDelay#4963, WeatherDelay#4964, NASDelay#4965, ... 2 more fields]\n                              :                                                                       +- Filter isnull(cast(Dest#4956 as int))\n                              :                                                                          +- Filter isnull(cast(Origin#4955 as int))\n                              :                                                                             +- Relation[Year#4939,Month#4940,DayofMonth#4941,DayOfWeek#4942,DepTime#4943,CRSDepTime#4944,ArrTime#4945,CRSArrTime#4946,UniqueCarrier#4947,FlightNum#4948,TailNum#4949,ActualElapsedTime#4950,CRSElapsedTime#4951,AirTime#4952,ArrDelay#4953,DepDelay#4954,Origin#4955,Dest#4956,Distance#4957,TaxiIn#4958,TaxiOut#4959,Cancelled#4960,CancellationCode#4961,Diverted#4962,... 5 more fields] csv\n                              +- Filter (Cancelled#4960 = cast(1 as double))\n                                 +- Filter if (isnull(rand(1))) null else UDF(Cancelled#4960, rand(1))\n                                    +- Project [Year#4939, Month#4940, DayofMonth#4941, DayOfWeek#4942, DepTime#4943, ArrTime#4945, UniqueCarrier#4947, FlightNum#4948, ActualElapsedTime#4950, AirTime#4952, ArrDelay#4953, DepDelay#4954, Origin#4955, Dest#4956, Distance#4957, TaxiIn#4958, TaxiOut#4959, Cancelled#4960, Diverted#4962, CarrierDelay#4963, WeatherDelay#4964, NASDelay#4965, SecurityDelay#4966, LateAircraftDelay#4967, ... 7 more fields]\n                                       +- Project [Year#4939, Month#4940, DayofMonth#4941, DayOfWeek#4942, DepTime#4943, ArrTime#4945, UniqueCarrier#4947, FlightNum#4948, ActualElapsedTime#4950, AirTime#4952, ArrDelay#4953, DepDelay#4954, Origin#4955, Dest#4956, Distance#4957, TaxiIn#4958, TaxiOut#4959, Cancelled#4960, Diverted#4962, CarrierDelay#4963, WeatherDelay#4964, NASDelay#4965, SecurityDelay#4966, LateAircraftDelay#4967, ... 6 more fields]\n                                          +- Project [Year#4939, Month#4940, DayofMonth#4941, DayOfWeek#4942, DepTime#4943, ArrTime#4945, UniqueCarrier#4947, FlightNum#4948, ActualElapsedTime#4950, AirTime#4952, ArrDelay#4953, DepDelay#4954, Origin#4955, Dest#4956, Distance#4957, TaxiIn#4958, TaxiOut#4959, Cancelled#4960, Diverted#4962, CarrierDelay#4963, WeatherDelay#4964, NASDelay#4965, SecurityDelay#4966, LateAircraftDelay#4967, ... 3 more fields]\n                                             +- Filter UDF(Dest#4956)\n                                                +- Filter AtLeastNNulls(n, Dest#4956)\n                                                   +- Project [Year#4939, Month#4940, DayofMonth#4941, DayOfWeek#4942, DepTime#4943, ArrTime#4945, UniqueCarrier#4947, FlightNum#4948, ActualElapsedTime#4950, AirTime#4952, ArrDelay#4953, DepDelay#4954, Origin#4955, Dest#4956, Distance#4957, TaxiIn#4958, TaxiOut#4959, Cancelled#4960, Diverted#4962, CarrierDelay#4963, WeatherDelay#4964, NASDelay#4965, SecurityDelay#4966, LateAircraftDelay#4967, ... 2 more fields]\n                                                      +- Filter UDF(Origin#4955)\n                                                         +- Filter AtLeastNNulls(n, Origin#4955)\n                                                            +- Project [Year#4939, Month#4940, DayofMonth#4941, DayOfWeek#4942, DepTime#4943, ArrTime#4945, UniqueCarrier#4947, FlightNum#4948, ActualElapsedTime#4950, AirTime#4952, ArrDelay#4953, DepDelay#4954, Origin#4955, Dest#4956, Distance#4957, TaxiIn#4958, TaxiOut#4959, Cancelled#4960, Diverted#4962, CarrierDelay#4963, WeatherDelay#4964, NASDelay#4965, SecurityDelay#4966, LateAircraftDelay#4967, UDF(cast(UniqueCarrier#4947 as string)) AS UniqueCarrierIdx#4763]\n                                                               +- Filter UDF(UniqueCarrier#4947)\n                                                                  +- Filter AtLeastNNulls(n, UniqueCarrier#4947)\n                                                                     +- Filter AtLeastNNulls(n, TaxiIn#4958)\n                                                                        +- Filter (cast(Year#4939 as int) >= 1995)\n                                                                           +- Union\n                                                                              :- Filter (cast(Year#4939 as int) < 1995)\n                                                                              :  +- Filter AtLeastNNulls(n, ArrTime#4945,ActualElapsedTime#4950,ActualElapsedTime#4950,Distance#4957)\n                                                                              :     +- Filter (Cancelled#4960 = cast(0.0 as double))\n                                                                              :        +- Project [Year#4939, Month#4940, DayofMonth#4941, DayOfWeek#4942, DepTime#4943, ArrTime#4945, UniqueCarrier#4947, FlightNum#4948, ActualElapsedTime#4950, AirTime#4952, ArrDelay#4953, DepDelay#4954, Origin#4955, Dest#4956, Distance#4957, TaxiIn#4958, TaxiOut#4959, Cancelled#4960, Diverted#4962, CarrierDelay#4963, WeatherDelay#4964, NASDelay#4965, SecurityDelay#4966, LateAircraftDelay#4967]\n                                                                              :           +- Project [Year#4939, Month#4940, DayofMonth#4941, DayOfWeek#4942, DepTime#4943, ArrTime#4945, UniqueCarrier#4947, FlightNum#4948, ActualElapsedTime#4950, AirTime#4952, ArrDelay#4953, DepDelay#4954, Origin#4955, Dest#4956, Distance#4957, TaxiIn#4958, TaxiOut#4959, Cancelled#4960, CancellationCode#4961, Diverted#4962, CarrierDelay#4963, WeatherDelay#4964, NASDelay#4965, SecurityDelay#4966, LateAircraftDelay#4967]\n                                                                              :              +- Project [Year#4939, Month#4940, DayofMonth#4941, DayOfWeek#4942, DepTime#4943, ArrTime#4945, UniqueCarrier#4947, FlightNum#4948, TailNum#4949, ActualElapsedTime#4950, AirTime#4952, ArrDelay#4953, DepDelay#4954, Origin#4955, Dest#4956, Distance#4957, TaxiIn#4958, TaxiOut#4959, Cancelled#4960, CancellationCode#4961, Diverted#4962, CarrierDelay#4963, WeatherDelay#4964, NASDelay#4965, ... 2 more fields]\n                                                                              :                 +- Filter isnull(cast(Dest#4956 as int))\n                                                                              :                    +- Filter isnull(cast(Origin#4955 as int))\n                                                                              :                       +- Relation[Year#4939,Month#4940,DayofMonth#4941,DayOfWeek#4942,DepTime#4943,CRSDepTime#4944,ArrTime#4945,CRSArrTime#4946,UniqueCarrier#4947,FlightNum#4948,TailNum#4949,ActualElapsedTime#4950,CRSElapsedTime#4951,AirTime#4952,ArrDelay#4953,DepDelay#4954,Origin#4955,Dest#4956,Distance#4957,TaxiIn#4958,TaxiOut#4959,Cancelled#4960,CancellationCode#4961,Diverted#4962,... 5 more fields] csv\n                                                                              :- Filter AtLeastNNulls(n, AirTime#4952)\n                                                                              :  +- Filter (cast(Year#4939 as int) >= 1995)\n                                                                              :     +- Filter AtLeastNNulls(n, ArrTime#4945,ActualElapsedTime#4950,ActualElapsedTime#4950,Distance#4957)\n                                                                              :        +- Filter (Cancelled#4960 = cast(0.0 as double))\n                                                                              :           +- Project [Year#4939, Month#4940, DayofMonth#4941, DayOfWeek#4942, DepTime#4943, ArrTime#4945, UniqueCarrier#4947, FlightNum#4948, ActualElapsedTime#4950, AirTime#4952, ArrDelay#4953, DepDelay#4954, Origin#4955, Dest#4956, Distance#4957, TaxiIn#4958, TaxiOut#4959, Cancelled#4960, Diverted#4962, CarrierDelay#4963, WeatherDelay#4964, NASDelay#4965, SecurityDelay#4966, LateAircraftDelay#4967]\n                                                                              :              +- Project [Year#4939, Month#4940, DayofMonth#4941, DayOfWeek#4942, DepTime#4943, ArrTime#4945, UniqueCarrier#4947, FlightNum#4948, ActualElapsedTime#4950, AirTime#4952, ArrDelay#4953, DepDelay#4954, Origin#4955, Dest#4956, Distance#4957, TaxiIn#4958, TaxiOut#4959, Cancelled#4960, CancellationCode#4961, Diverted#4962, CarrierDelay#4963, WeatherDelay#4964, NASDelay#4965, SecurityDelay#4966, LateAircraftDelay#4967]\n                                                                              :                 +- Project [Year#4939, Month#4940, DayofMonth#4941, DayOfWeek#4942, DepTime#4943, ArrTime#4945, UniqueCarrier#4947, FlightNum#4948, TailNum#4949, ActualElapsedTime#4950, AirTime#4952, ArrDelay#4953, DepDelay#4954, Origin#4955, Dest#4956, Distance#4957, TaxiIn#4958, TaxiOut#4959, Cancelled#4960, CancellationCode#4961, Diverted#4962, CarrierDelay#4963, WeatherDelay#4964, NASDelay#4965, ... 2 more fields]\n                                                                              :                    +- Filter isnull(cast(Dest#4956 as int))\n                                                                              :                       +- Filter isnull(cast(Origin#4955 as int))\n                                                                              :                          +- Relation[Year#4939,Month#4940,DayofMonth#4941,DayOfWeek#4942,DepTime#4943,CRSDepTime#4944,ArrTime#4945,CRSArrTime#4946,UniqueCarrier#4947,FlightNum#4948,TailNum#4949,ActualElapsedTime#4950,CRSElapsedTime#4951,AirTime#4952,ArrDelay#4953,DepDelay#4954,Origin#4955,Dest#4956,Distance#4957,TaxiIn#4958,TaxiOut#4959,Cancelled#4960,CancellationCode#4961,Diverted#4962,... 5 more fields] csv\n                                                                              +- Filter AtLeastNNulls(n, Distance#4957)\n                                                                                 +- Filter isnull(DepTime#4943)\n                                                                                    +- Filter isnull(AirTime#4952)\n                                                                                       +- Filter (Cancelled#4960 = cast(1.0 as double))\n                                                                                          +- Project [Year#4939, Month#4940, DayofMonth#4941, DayOfWeek#4942, DepTime#4943, ArrTime#4945, UniqueCarrier#4947, FlightNum#4948, ActualElapsedTime#4950, AirTime#4952, ArrDelay#4953, DepDelay#4954, Origin#4955, Dest#4956, Distance#4957, TaxiIn#4958, TaxiOut#4959, Cancelled#4960, Diverted#4962, CarrierDelay#4963, WeatherDelay#4964, NASDelay#4965, SecurityDelay#4966, LateAircraftDelay#4967]\n                                                                                             +- Project [Year#4939, Month#4940, DayofMonth#4941, DayOfWeek#4942, DepTime#4943, ArrTime#4945, UniqueCarrier#4947, FlightNum#4948, ActualElapsedTime#4950, AirTime#4952, ArrDelay#4953, DepDelay#4954, Origin#4955, Dest#4956, Distance#4957, TaxiIn#4958, TaxiOut#4959, Cancelled#4960, CancellationCode#4961, Diverted#4962, CarrierDelay#4963, WeatherDelay#4964, NASDelay#4965, SecurityDelay#4966, LateAircraftDelay#4967]\n                                                                                                +- Project [Year#4939, Month#4940, DayofMonth#4941, DayOfWeek#4942, DepTime#4943, ArrTime#4945, UniqueCarrier#4947, FlightNum#4948, TailNum#4949, ActualElapsedTime#4950, AirTime#4952, ArrDelay#4953, DepDelay#4954, Origin#4955, Dest#4956, Distance#4957, TaxiIn#4958, TaxiOut#4959, Cancelled#4960, CancellationCode#4961, Diverted#4962, CarrierDelay#4963, WeatherDelay#4964, NASDelay#4965, ... 2 more fields]\n                                                                                                   +- Filter isnull(cast(Dest#4956 as int))\n                                                                                                      +- Filter isnull(cast(Origin#4955 as int))\n                                                                                                         +- Relation[Year#4939,Month#4940,DayofMonth#4941,DayOfWeek#4942,DepTime#4943,CRSDepTime#4944,ArrTime#4945,CRSArrTime#4946,UniqueCarrier#4947,FlightNum#4948,TailNum#4949,ActualElapsedTime#4950,CRSElapsedTime#4951,AirTime#4952,ArrDelay#4953,DepDelay#4954,Origin#4955,Dest#4956,Distance#4957,TaxiIn#4958,TaxiOut#4959,Cancelled#4960,CancellationCode#4961,Diverted#4962,... 5 more fields] csv\n\n\tat org.apache.spark.sql.catalyst.analysis.package$AnalysisErrorAt.failAnalysis(package.scala:42)\n\tat org.apache.spark.sql.catalyst.analysis.CheckAnalysis$$anonfun$checkAnalysis$1$$anonfun$apply$3.applyOrElse(CheckAnalysis.scala:110)\n\tat org.apache.spark.sql.catalyst.analysis.CheckAnalysis$$anonfun$checkAnalysis$1$$anonfun$apply$3.applyOrElse(CheckAnalysis.scala:107)\n\tat org.apache.spark.sql.catalyst.trees.TreeNode$$anonfun$transformUp$1.apply(TreeNode.scala:278)\n\tat org.apache.spark.sql.catalyst.trees.TreeNode$$anonfun$transformUp$1.apply(TreeNode.scala:278)\n\tat org.apache.spark.sql.catalyst.trees.CurrentOrigin$.withOrigin(TreeNode.scala:70)\n\tat org.apache.spark.sql.catalyst.trees.TreeNode.transformUp(TreeNode.scala:277)\n\tat org.apache.spark.sql.catalyst.plans.QueryPlan$$anonfun$transformExpressionsUp$1.apply(QueryPlan.scala:93)\n\tat org.apache.spark.sql.catalyst.plans.QueryPlan$$anonfun$transformExpressionsUp$1.apply(QueryPlan.scala:93)\n\tat org.apache.spark.sql.catalyst.plans.QueryPlan$$anonfun$1.apply(QueryPlan.scala:105)\n\tat org.apache.spark.sql.catalyst.plans.QueryPlan$$anonfun$1.apply(QueryPlan.scala:105)\n\tat org.apache.spark.sql.catalyst.trees.CurrentOrigin$.withOrigin(TreeNode.scala:70)\n\tat org.apache.spark.sql.catalyst.plans.QueryPlan.transformExpression$1(QueryPlan.scala:104)\n\tat org.apache.spark.sql.catalyst.plans.QueryPlan.org$apache$spark$sql$catalyst$plans$QueryPlan$$recursiveTransform$1(QueryPlan.scala:116)\n\tat org.apache.spark.sql.catalyst.plans.QueryPlan$$anonfun$org$apache$spark$sql$catalyst$plans$QueryPlan$$recursiveTransform$1$2.apply(QueryPlan.scala:121)\n\tat scala.collection.TraversableLike$$anonfun$map$1.apply(TraversableLike.scala:234)\n\tat scala.collection.TraversableLike$$anonfun$map$1.apply(TraversableLike.scala:234)\n\tat scala.collection.mutable.ResizableArray$class.foreach(ResizableArray.scala:59)\n\tat scala.collection.mutable.ArrayBuffer.foreach(ArrayBuffer.scala:48)\n\tat scala.collection.TraversableLike$class.map(TraversableLike.scala:234)\n\tat scala.collection.AbstractTraversable.map(Traversable.scala:104)\n\tat org.apache.spark.sql.catalyst.plans.QueryPlan.org$apache$spark$sql$catalyst$plans$QueryPlan$$recursiveTransform$1(QueryPlan.scala:121)\n\tat org.apache.spark.sql.catalyst.plans.QueryPlan$$anonfun$2.apply(QueryPlan.scala:126)\n\tat org.apache.spark.sql.catalyst.trees.TreeNode.mapProductIterator(TreeNode.scala:187)\n\tat org.apache.spark.sql.catalyst.plans.QueryPlan.mapExpressions(QueryPlan.scala:126)\n\tat org.apache.spark.sql.catalyst.plans.QueryPlan.transformExpressionsUp(QueryPlan.scala:93)\n\tat org.apache.spark.sql.catalyst.analysis.CheckAnalysis$$anonfun$checkAnalysis$1.apply(CheckAnalysis.scala:107)\n\tat org.apache.spark.sql.catalyst.analysis.CheckAnalysis$$anonfun$checkAnalysis$1.apply(CheckAnalysis.scala:85)\n\tat org.apache.spark.sql.catalyst.trees.TreeNode.foreachUp(TreeNode.scala:127)\n\tat org.apache.spark.sql.catalyst.analysis.CheckAnalysis$class.checkAnalysis(CheckAnalysis.scala:85)\n\tat org.apache.spark.sql.catalyst.analysis.Analyzer.checkAnalysis(Analyzer.scala:95)\n\tat org.apache.spark.sql.catalyst.analysis.Analyzer$$anonfun$executeAndCheck$1.apply(Analyzer.scala:108)\n\tat org.apache.spark.sql.catalyst.analysis.Analyzer$$anonfun$executeAndCheck$1.apply(Analyzer.scala:105)\n\tat org.apache.spark.sql.catalyst.plans.logical.AnalysisHelper$.markInAnalyzer(AnalysisHelper.scala:201)\n\tat org.apache.spark.sql.catalyst.analysis.Analyzer.executeAndCheck(Analyzer.scala:105)\n\tat org.apache.spark.sql.execution.QueryExecution.analyzed$lzycompute(QueryExecution.scala:57)\n\tat org.apache.spark.sql.execution.QueryExecution.analyzed(QueryExecution.scala:55)\n\tat org.apache.spark.sql.execution.QueryExecution.assertAnalyzed(QueryExecution.scala:47)\n\tat org.apache.spark.sql.Dataset$.ofRows(Dataset.scala:78)\n\tat org.apache.spark.sql.Dataset.org$apache$spark$sql$Dataset$$withPlan(Dataset.scala:3406)\n\tat org.apache.spark.sql.Dataset.select(Dataset.scala:1334)\n\tat sun.reflect.GeneratedMethodAccessor87.invoke(Unknown Source)\n\tat sun.reflect.DelegatingMethodAccessorImpl.invoke(DelegatingMethodAccessorImpl.java:43)\n\tat java.lang.reflect.Method.invoke(Method.java:498)\n\tat py4j.reflection.MethodInvoker.invoke(MethodInvoker.java:244)\n\tat py4j.reflection.ReflectionEngine.invoke(ReflectionEngine.java:357)\n\tat py4j.Gateway.invoke(Gateway.java:282)\n\tat py4j.commands.AbstractCommand.invokeMethod(AbstractCommand.java:132)\n\tat py4j.commands.CallCommand.execute(CallCommand.java:79)\n\tat py4j.GatewayConnection.run(GatewayConnection.java:238)\n\tat java.lang.Thread.run(Thread.java:748)\n",
      "\nDuring handling of the above exception, another exception occurred:\n",
      "\u001b[0;31mAnalysisException\u001b[0m                         Traceback (most recent call last)",
      "\u001b[0;32m<ipython-input-81-7cb87f41ac36>\u001b[0m in \u001b[0;36m<module>\u001b[0;34m()\u001b[0m\n\u001b[0;32m----> 1\u001b[0;31m \u001b[0mpredictions\u001b[0m\u001b[0;34m.\u001b[0m\u001b[0mselect\u001b[0m\u001b[0;34m(\u001b[0m\u001b[0;34m\"Year\"\u001b[0m\u001b[0;34m,\u001b[0m \u001b[0;34m\"Month\"\u001b[0m\u001b[0;34m,\u001b[0m \u001b[0;34m\"DayofMonth\"\u001b[0m\u001b[0;34m,\u001b[0m \u001b[0;34m\"DayOfWeek\"\u001b[0m\u001b[0;34m,\u001b[0m \u001b[0;34m\"UniqueCarrier\"\u001b[0m\u001b[0;34m,\u001b[0m \u001b[0;34m\"dep_hour\"\u001b[0m\u001b[0;34m,\u001b[0m \u001b[0;34m\"arr_hour\"\u001b[0m\u001b[0;34m,\u001b[0m \u001b[0;34m\"DepDelay\"\u001b[0m\u001b[0;34m,\u001b[0m                    \u001b[0;34m\"Origin\"\u001b[0m\u001b[0;34m,\u001b[0m \u001b[0;34m\"Dest\"\u001b[0m\u001b[0;34m,\u001b[0m \u001b[0;34m\"Distance\"\u001b[0m\u001b[0;34m,\u001b[0m \u001b[0;34m\"Diverted\"\u001b[0m\u001b[0;34m,\u001b[0m \u001b[0;34m\"ArrDelay\"\u001b[0m\u001b[0;34m,\u001b[0m \u001b[0;34m\"prediction\"\u001b[0m\u001b[0;34m)\u001b[0m\u001b[0;34m.\u001b[0m\u001b[0mshow\u001b[0m\u001b[0;34m(\u001b[0m\u001b[0;36m20\u001b[0m\u001b[0;34m)\u001b[0m\u001b[0;34m\u001b[0m\u001b[0;34m\u001b[0m\u001b[0m\n\u001b[0m",
      "\u001b[0;32m/opt/cloudera/parcels/CDH/lib/spark/python/lib/pyspark.zip/pyspark/sql/dataframe.py\u001b[0m in \u001b[0;36mselect\u001b[0;34m(self, *cols)\u001b[0m\n\u001b[1;32m   1318\u001b[0m         \u001b[0;34m[\u001b[0m\u001b[0mRow\u001b[0m\u001b[0;34m(\u001b[0m\u001b[0mname\u001b[0m\u001b[0;34m=\u001b[0m\u001b[0;34mu'Alice'\u001b[0m\u001b[0;34m,\u001b[0m \u001b[0mage\u001b[0m\u001b[0;34m=\u001b[0m\u001b[0;36m12\u001b[0m\u001b[0;34m)\u001b[0m\u001b[0;34m,\u001b[0m \u001b[0mRow\u001b[0m\u001b[0;34m(\u001b[0m\u001b[0mname\u001b[0m\u001b[0;34m=\u001b[0m\u001b[0;34mu'Bob'\u001b[0m\u001b[0;34m,\u001b[0m \u001b[0mage\u001b[0m\u001b[0;34m=\u001b[0m\u001b[0;36m15\u001b[0m\u001b[0;34m)\u001b[0m\u001b[0;34m]\u001b[0m\u001b[0;34m\u001b[0m\u001b[0;34m\u001b[0m\u001b[0m\n\u001b[1;32m   1319\u001b[0m         \"\"\"\n\u001b[0;32m-> 1320\u001b[0;31m         \u001b[0mjdf\u001b[0m \u001b[0;34m=\u001b[0m \u001b[0mself\u001b[0m\u001b[0;34m.\u001b[0m\u001b[0m_jdf\u001b[0m\u001b[0;34m.\u001b[0m\u001b[0mselect\u001b[0m\u001b[0;34m(\u001b[0m\u001b[0mself\u001b[0m\u001b[0;34m.\u001b[0m\u001b[0m_jcols\u001b[0m\u001b[0;34m(\u001b[0m\u001b[0;34m*\u001b[0m\u001b[0mcols\u001b[0m\u001b[0;34m)\u001b[0m\u001b[0;34m)\u001b[0m\u001b[0;34m\u001b[0m\u001b[0;34m\u001b[0m\u001b[0m\n\u001b[0m\u001b[1;32m   1321\u001b[0m         \u001b[0;32mreturn\u001b[0m \u001b[0mDataFrame\u001b[0m\u001b[0;34m(\u001b[0m\u001b[0mjdf\u001b[0m\u001b[0;34m,\u001b[0m \u001b[0mself\u001b[0m\u001b[0;34m.\u001b[0m\u001b[0msql_ctx\u001b[0m\u001b[0;34m)\u001b[0m\u001b[0;34m\u001b[0m\u001b[0;34m\u001b[0m\u001b[0m\n\u001b[1;32m   1322\u001b[0m \u001b[0;34m\u001b[0m\u001b[0m\n",
      "\u001b[0;32m/opt/cloudera/parcels/CDH/lib/spark/python/lib/py4j-0.10.7-src.zip/py4j/java_gateway.py\u001b[0m in \u001b[0;36m__call__\u001b[0;34m(self, *args)\u001b[0m\n\u001b[1;32m   1255\u001b[0m         \u001b[0manswer\u001b[0m \u001b[0;34m=\u001b[0m \u001b[0mself\u001b[0m\u001b[0;34m.\u001b[0m\u001b[0mgateway_client\u001b[0m\u001b[0;34m.\u001b[0m\u001b[0msend_command\u001b[0m\u001b[0;34m(\u001b[0m\u001b[0mcommand\u001b[0m\u001b[0;34m)\u001b[0m\u001b[0;34m\u001b[0m\u001b[0;34m\u001b[0m\u001b[0m\n\u001b[1;32m   1256\u001b[0m         return_value = get_return_value(\n\u001b[0;32m-> 1257\u001b[0;31m             answer, self.gateway_client, self.target_id, self.name)\n\u001b[0m\u001b[1;32m   1258\u001b[0m \u001b[0;34m\u001b[0m\u001b[0m\n\u001b[1;32m   1259\u001b[0m         \u001b[0;32mfor\u001b[0m \u001b[0mtemp_arg\u001b[0m \u001b[0;32min\u001b[0m \u001b[0mtemp_args\u001b[0m\u001b[0;34m:\u001b[0m\u001b[0;34m\u001b[0m\u001b[0;34m\u001b[0m\u001b[0m\n",
      "\u001b[0;32m/opt/cloudera/parcels/CDH/lib/spark/python/lib/pyspark.zip/pyspark/sql/utils.py\u001b[0m in \u001b[0;36mdeco\u001b[0;34m(*a, **kw)\u001b[0m\n\u001b[1;32m     67\u001b[0m                                              e.java_exception.getStackTrace()))\n\u001b[1;32m     68\u001b[0m             \u001b[0;32mif\u001b[0m \u001b[0ms\u001b[0m\u001b[0;34m.\u001b[0m\u001b[0mstartswith\u001b[0m\u001b[0;34m(\u001b[0m\u001b[0;34m'org.apache.spark.sql.AnalysisException: '\u001b[0m\u001b[0;34m)\u001b[0m\u001b[0;34m:\u001b[0m\u001b[0;34m\u001b[0m\u001b[0;34m\u001b[0m\u001b[0m\n\u001b[0;32m---> 69\u001b[0;31m                 \u001b[0;32mraise\u001b[0m \u001b[0mAnalysisException\u001b[0m\u001b[0;34m(\u001b[0m\u001b[0ms\u001b[0m\u001b[0;34m.\u001b[0m\u001b[0msplit\u001b[0m\u001b[0;34m(\u001b[0m\u001b[0;34m': '\u001b[0m\u001b[0;34m,\u001b[0m \u001b[0;36m1\u001b[0m\u001b[0;34m)\u001b[0m\u001b[0;34m[\u001b[0m\u001b[0;36m1\u001b[0m\u001b[0;34m]\u001b[0m\u001b[0;34m,\u001b[0m \u001b[0mstackTrace\u001b[0m\u001b[0;34m)\u001b[0m\u001b[0;34m\u001b[0m\u001b[0;34m\u001b[0m\u001b[0m\n\u001b[0m\u001b[1;32m     70\u001b[0m             \u001b[0;32mif\u001b[0m \u001b[0ms\u001b[0m\u001b[0;34m.\u001b[0m\u001b[0mstartswith\u001b[0m\u001b[0;34m(\u001b[0m\u001b[0;34m'org.apache.spark.sql.catalyst.analysis'\u001b[0m\u001b[0;34m)\u001b[0m\u001b[0;34m:\u001b[0m\u001b[0;34m\u001b[0m\u001b[0;34m\u001b[0m\u001b[0m\n\u001b[1;32m     71\u001b[0m                 \u001b[0;32mraise\u001b[0m \u001b[0mAnalysisException\u001b[0m\u001b[0;34m(\u001b[0m\u001b[0ms\u001b[0m\u001b[0;34m.\u001b[0m\u001b[0msplit\u001b[0m\u001b[0;34m(\u001b[0m\u001b[0;34m': '\u001b[0m\u001b[0;34m,\u001b[0m \u001b[0;36m1\u001b[0m\u001b[0;34m)\u001b[0m\u001b[0;34m[\u001b[0m\u001b[0;36m1\u001b[0m\u001b[0;34m]\u001b[0m\u001b[0;34m,\u001b[0m \u001b[0mstackTrace\u001b[0m\u001b[0;34m)\u001b[0m\u001b[0;34m\u001b[0m\u001b[0;34m\u001b[0m\u001b[0m\n",
      "\u001b[0;31mAnalysisException\u001b[0m: \"cannot resolve '`dep_hour`' given input columns: [DepDelay, UniqueCarrier, Origin, DestVec, OriginIdx, features, Distance, prediction, rawPrediction, DepTime, DestIdx, UniqueCarrierIdx, Cancelled, Diverted, probability, Month, Dest, DayOfWeek, NASDelay, TaxiIn, UniqueCarrierVec, AirTime, FlightNum, ArrTime, SecurityDelay, TaxiOut, CarrierDelay, ActualElapsedTime, WeatherDelay, Year, OriginVec, ArrDelay, LateAircraftDelay, DayofMonth];;\\n'Project [Year#10, Month#11, DayofMonth#12, DayOfWeek#13, UniqueCarrier#18, 'dep_hour, 'arr_hour, DepDelay#25, Origin#26, Dest#27, Distance#28, Diverted#33, ArrDelay#24, prediction#7666]\\n+- Project [Year#10, Month#11, DayofMonth#12, DayOfWeek#13, DepTime#14, ArrTime#16, UniqueCarrier#18, FlightNum#19, ActualElapsedTime#21, AirTime#23, ArrDelay#24, DepDelay#25, Origin#26, Dest#27, Distance#28, TaxiIn#29, TaxiOut#30, Cancelled#31, Diverted#33, CarrierDelay#34, WeatherDelay#35, NASDelay#36, SecurityDelay#37, LateAircraftDelay#38, ... 10 more fields]\\n   +- Project [Year#10, Month#11, DayofMonth#12, DayOfWeek#13, DepTime#14, ArrTime#16, UniqueCarrier#18, FlightNum#19, ActualElapsedTime#21, AirTime#23, ArrDelay#24, DepDelay#25, Origin#26, Dest#27, Distance#28, TaxiIn#29, TaxiOut#30, Cancelled#31, Diverted#33, CarrierDelay#34, WeatherDelay#35, NASDelay#36, SecurityDelay#37, LateAircraftDelay#38, ... 9 more fields]\\n      +- Project [Year#10, Month#11, DayofMonth#12, DayOfWeek#13, DepTime#14, ArrTime#16, UniqueCarrier#18, FlightNum#19, ActualElapsedTime#21, AirTime#23, ArrDelay#24, DepDelay#25, Origin#26, Dest#27, Distance#28, TaxiIn#29, TaxiOut#30, Cancelled#31, Diverted#33, CarrierDelay#34, WeatherDelay#35, NASDelay#36, SecurityDelay#37, LateAircraftDelay#38, ... 8 more fields]\\n         +- Except false\\n            :- Project [Year#10, Month#11, DayofMonth#12, DayOfWeek#13, DepTime#14, ArrTime#16, UniqueCarrier#18, FlightNum#19, ActualElapsedTime#21, AirTime#23, ArrDelay#24, DepDelay#25, Origin#26, Dest#27, Distance#28, TaxiIn#29, TaxiOut#30, Cancelled#31, Diverted#33, CarrierDelay#34, WeatherDelay#35, NASDelay#36, SecurityDelay#37, LateAircraftDelay#38, ... 7 more fields]\\n            :  +- Project [Year#10, Month#11, DayofMonth#12, DayOfWeek#13, DepTime#14, ArrTime#16, UniqueCarrier#18, FlightNum#19, ActualElapsedTime#21, AirTime#23, ArrDelay#24, DepDelay#25, Origin#26, Dest#27, Distance#28, TaxiIn#29, TaxiOut#30, Cancelled#31, Diverted#33, CarrierDelay#34, WeatherDelay#35, NASDelay#36, SecurityDelay#37, LateAircraftDelay#38, ... 7 more fields]\\n            :     +- Project [Year#10, Month#11, DayofMonth#12, DayOfWeek#13, DepTime#14, ArrTime#16, UniqueCarrier#18, FlightNum#19, ActualElapsedTime#21, AirTime#23, ArrDelay#24, DepDelay#25, Origin#26, Dest#27, Distance#28, TaxiIn#29, TaxiOut#30, Cancelled#31, Diverted#33, CarrierDelay#34, WeatherDelay#35, NASDelay#36, SecurityDelay#37, LateAircraftDelay#38, ... 7 more fields]\\n            :        +- Project [Year#10, Month#11, DayofMonth#12, DayOfWeek#13, DepTime#14, ArrTime#16, UniqueCarrier#18, FlightNum#19, ActualElapsedTime#21, AirTime#23, ArrDelay#24, DepDelay#25, Origin#26, Dest#27, Distance#28, TaxiIn#29, TaxiOut#30, Cancelled#31, Diverted#33, CarrierDelay#34, WeatherDelay#35, NASDelay#36, SecurityDelay#37, LateAircraftDelay#38, ... 7 more fields]\\n            :           +- Project [Year#10, Month#11, DayofMonth#12, DayOfWeek#13, DepTime#14, ArrTime#16, UniqueCarrier#18, FlightNum#19, ActualElapsedTime#21, AirTime#23, ArrDelay#24, DepDelay#25, Origin#26, Dest#27, Distance#28, TaxiIn#29, TaxiOut#30, Cancelled#31, Diverted#33, CarrierDelay#34, WeatherDelay#35, NASDelay#36, SecurityDelay#37, LateAircraftDelay#38, ... 7 more fields]\\n            :              +- Project [Year#10, Month#11, DayofMonth#12, DayOfWeek#13, DepTime#14, ArrTime#16, UniqueCarrier#18, FlightNum#19, ActualElapsedTime#21, AirTime#23, ArrDelay#24, DepDelay#25, Origin#26, Dest#27, Distance#28, TaxiIn#29, TaxiOut#30, Cancelled#31, Diverted#33, CarrierDelay#34, WeatherDelay#35, NASDelay#36, SecurityDelay#37, LateAircraftDelay#38, ... 7 more fields]\\n            :                 +- Project [Year#10, Month#11, DayofMonth#12, DayOfWeek#13, DepTime#14, ArrTime#16, UniqueCarrier#18, FlightNum#19, ActualElapsedTime#21, AirTime#23, ArrDelay#24, DepDelay#25, Origin#26, Dest#27, Distance#28, TaxiIn#29, TaxiOut#30, Cancelled#31, Diverted#33, CarrierDelay#34, WeatherDelay#35, NASDelay#36, SecurityDelay#37, LateAircraftDelay#38, ... 6 more fields]\\n            :                    +- Project [Year#10, Month#11, DayofMonth#12, DayOfWeek#13, DepTime#14, ArrTime#16, UniqueCarrier#18, FlightNum#19, ActualElapsedTime#21, AirTime#23, ArrDelay#24, DepDelay#25, Origin#26, Dest#27, Distance#28, TaxiIn#29, TaxiOut#30, Cancelled#31, Diverted#33, CarrierDelay#34, WeatherDelay#35, NASDelay#36, SecurityDelay#37, LateAircraftDelay#38, ... 3 more fields]\\n            :                       +- Filter UDF(Dest#27)\\n            :                          +- Filter AtLeastNNulls(n, Dest#27)\\n            :                             +- Project [Year#10, Month#11, DayofMonth#12, DayOfWeek#13, DepTime#14, ArrTime#16, UniqueCarrier#18, FlightNum#19, ActualElapsedTime#21, AirTime#23, ArrDelay#24, DepDelay#25, Origin#26, Dest#27, Distance#28, TaxiIn#29, TaxiOut#30, Cancelled#31, Diverted#33, CarrierDelay#34, WeatherDelay#35, NASDelay#36, SecurityDelay#37, LateAircraftDelay#38, ... 2 more fields]\\n            :                                +- Filter UDF(Origin#26)\\n            :                                   +- Filter AtLeastNNulls(n, Origin#26)\\n            :                                      +- Project [Year#10, Month#11, DayofMonth#12, DayOfWeek#13, DepTime#14, ArrTime#16, UniqueCarrier#18, FlightNum#19, ActualElapsedTime#21, AirTime#23, ArrDelay#24, DepDelay#25, Origin#26, Dest#27, Distance#28, TaxiIn#29, TaxiOut#30, Cancelled#31, Diverted#33, CarrierDelay#34, WeatherDelay#35, NASDelay#36, SecurityDelay#37, LateAircraftDelay#38, UDF(cast(UniqueCarrier#18 as string)) AS UniqueCarrierIdx#3571]\\n            :                                         +- Filter UDF(UniqueCarrier#18)\\n            :                                            +- Filter AtLeastNNulls(n, UniqueCarrier#18)\\n            :                                               +- Filter AtLeastNNulls(n, TaxiIn#29)\\n            :                                                  +- Filter (cast(Year#10 as int) >= 1995)\\n            :                                                     +- Union\\n            :                                                        :- Filter (cast(Year#10 as int) < 1995)\\n            :                                                        :  +- Filter AtLeastNNulls(n, ArrTime#16,ActualElapsedTime#21,ActualElapsedTime#21,Distance#28)\\n            :                                                        :     +- Filter (Cancelled#31 = cast(0.0 as double))\\n            :                                                        :        +- Project [Year#10, Month#11, DayofMonth#12, DayOfWeek#13, DepTime#14, ArrTime#16, UniqueCarrier#18, FlightNum#19, ActualElapsedTime#21, AirTime#23, ArrDelay#24, DepDelay#25, Origin#26, Dest#27, Distance#28, TaxiIn#29, TaxiOut#30, Cancelled#31, Diverted#33, CarrierDelay#34, WeatherDelay#35, NASDelay#36, SecurityDelay#37, LateAircraftDelay#38]\\n            :                                                        :           +- Project [Year#10, Month#11, DayofMonth#12, DayOfWeek#13, DepTime#14, ArrTime#16, UniqueCarrier#18, FlightNum#19, ActualElapsedTime#21, AirTime#23, ArrDelay#24, DepDelay#25, Origin#26, Dest#27, Distance#28, TaxiIn#29, TaxiOut#30, Cancelled#31, CancellationCode#32, Diverted#33, CarrierDelay#34, WeatherDelay#35, NASDelay#36, SecurityDelay#37, LateAircraftDelay#38]\\n            :                                                        :              +- Project [Year#10, Month#11, DayofMonth#12, DayOfWeek#13, DepTime#14, ArrTime#16, UniqueCarrier#18, FlightNum#19, TailNum#20, ActualElapsedTime#21, AirTime#23, ArrDelay#24, DepDelay#25, Origin#26, Dest#27, Distance#28, TaxiIn#29, TaxiOut#30, Cancelled#31, CancellationCode#32, Diverted#33, CarrierDelay#34, WeatherDelay#35, NASDelay#36, ... 2 more fields]\\n            :                                                        :                 +- Filter isnull(cast(Dest#27 as int))\\n            :                                                        :                    +- Filter isnull(cast(Origin#26 as int))\\n            :                                                        :                       +- Relation[Year#10,Month#11,DayofMonth#12,DayOfWeek#13,DepTime#14,CRSDepTime#15,ArrTime#16,CRSArrTime#17,UniqueCarrier#18,FlightNum#19,TailNum#20,ActualElapsedTime#21,CRSElapsedTime#22,AirTime#23,ArrDelay#24,DepDelay#25,Origin#26,Dest#27,Distance#28,TaxiIn#29,TaxiOut#30,Cancelled#31,CancellationCode#32,Diverted#33,... 5 more fields] csv\\n            :                                                        :- Filter AtLeastNNulls(n, AirTime#23)\\n            :                                                        :  +- Filter (cast(Year#10 as int) >= 1995)\\n            :                                                        :     +- Filter AtLeastNNulls(n, ArrTime#16,ActualElapsedTime#21,ActualElapsedTime#21,Distance#28)\\n            :                                                        :        +- Filter (Cancelled#31 = cast(0.0 as double))\\n            :                                                        :           +- Project [Year#10, Month#11, DayofMonth#12, DayOfWeek#13, DepTime#14, ArrTime#16, UniqueCarrier#18, FlightNum#19, ActualElapsedTime#21, AirTime#23, ArrDelay#24, DepDelay#25, Origin#26, Dest#27, Distance#28, TaxiIn#29, TaxiOut#30, Cancelled#31, Diverted#33, CarrierDelay#34, WeatherDelay#35, NASDelay#36, SecurityDelay#37, LateAircraftDelay#38]\\n            :                                                        :              +- Project [Year#10, Month#11, DayofMonth#12, DayOfWeek#13, DepTime#14, ArrTime#16, UniqueCarrier#18, FlightNum#19, ActualElapsedTime#21, AirTime#23, ArrDelay#24, DepDelay#25, Origin#26, Dest#27, Distance#28, TaxiIn#29, TaxiOut#30, Cancelled#31, CancellationCode#32, Diverted#33, CarrierDelay#34, WeatherDelay#35, NASDelay#36, SecurityDelay#37, LateAircraftDelay#38]\\n            :                                                        :                 +- Project [Year#10, Month#11, DayofMonth#12, DayOfWeek#13, DepTime#14, ArrTime#16, UniqueCarrier#18, FlightNum#19, TailNum#20, ActualElapsedTime#21, AirTime#23, ArrDelay#24, DepDelay#25, Origin#26, Dest#27, Distance#28, TaxiIn#29, TaxiOut#30, Cancelled#31, CancellationCode#32, Diverted#33, CarrierDelay#34, WeatherDelay#35, NASDelay#36, ... 2 more fields]\\n            :                                                        :                    +- Filter isnull(cast(Dest#27 as int))\\n            :                                                        :                       +- Filter isnull(cast(Origin#26 as int))\\n            :                                                        :                          +- Relation[Year#10,Month#11,DayofMonth#12,DayOfWeek#13,DepTime#14,CRSDepTime#15,ArrTime#16,CRSArrTime#17,UniqueCarrier#18,FlightNum#19,TailNum#20,ActualElapsedTime#21,CRSElapsedTime#22,AirTime#23,ArrDelay#24,DepDelay#25,Origin#26,Dest#27,Distance#28,TaxiIn#29,TaxiOut#30,Cancelled#31,CancellationCode#32,Diverted#33,... 5 more fields] csv\\n            :                                                        +- Filter AtLeastNNulls(n, Distance#28)\\n            :                                                           +- Filter isnull(DepTime#14)\\n            :                                                              +- Filter isnull(AirTime#23)\\n            :                                                                 +- Filter (Cancelled#31 = cast(1.0 as double))\\n            :                                                                    +- Project [Year#10, Month#11, DayofMonth#12, DayOfWeek#13, DepTime#14, ArrTime#16, UniqueCarrier#18, FlightNum#19, ActualElapsedTime#21, AirTime#23, ArrDelay#24, DepDelay#25, Origin#26, Dest#27, Distance#28, TaxiIn#29, TaxiOut#30, Cancelled#31, Diverted#33, CarrierDelay#34, WeatherDelay#35, NASDelay#36, SecurityDelay#37, LateAircraftDelay#38]\\n            :                                                                       +- Project [Year#10, Month#11, DayofMonth#12, DayOfWeek#13, DepTime#14, ArrTime#16, UniqueCarrier#18, FlightNum#19, ActualElapsedTime#21, AirTime#23, ArrDelay#24, DepDelay#25, Origin#26, Dest#27, Distance#28, TaxiIn#29, TaxiOut#30, Cancelled#31, CancellationCode#32, Diverted#33, CarrierDelay#34, WeatherDelay#35, NASDelay#36, SecurityDelay#37, LateAircraftDelay#38]\\n            :                                                                          +- Project [Year#10, Month#11, DayofMonth#12, DayOfWeek#13, DepTime#14, ArrTime#16, UniqueCarrier#18, FlightNum#19, TailNum#20, ActualElapsedTime#21, AirTime#23, ArrDelay#24, DepDelay#25, Origin#26, Dest#27, Distance#28, TaxiIn#29, TaxiOut#30, Cancelled#31, CancellationCode#32, Diverted#33, CarrierDelay#34, WeatherDelay#35, NASDelay#36, ... 2 more fields]\\n            :                                                                             +- Filter isnull(cast(Dest#27 as int))\\n            :                                                                                +- Filter isnull(cast(Origin#26 as int))\\n            :                                                                                   +- Relation[Year#10,Month#11,DayofMonth#12,DayOfWeek#13,DepTime#14,CRSDepTime#15,ArrTime#16,CRSArrTime#17,UniqueCarrier#18,FlightNum#19,TailNum#20,ActualElapsedTime#21,CRSElapsedTime#22,AirTime#23,ArrDelay#24,DepDelay#25,Origin#26,Dest#27,Distance#28,TaxiIn#29,TaxiOut#30,Cancelled#31,CancellationCode#32,Diverted#33,... 5 more fields] csv\\n            +- Project [Year#4939, Month#4940, DayofMonth#4941, DayOfWeek#4942, DepTime#4943, ArrTime#4945, UniqueCarrier#4947, FlightNum#4948, ActualElapsedTime#4950, AirTime#4952, ArrDelay#4953, DepDelay#4954, Origin#4955, Dest#4956, Distance#4957, TaxiIn#4958, TaxiOut#4959, Cancelled#4960, Diverted#4962, CarrierDelay#4963, WeatherDelay#4964, NASDelay#4965, SecurityDelay#4966, LateAircraftDelay#4967, ... 7 more fields]\\n               +- Project [Year#4939, Month#4940, DayofMonth#4941, DayOfWeek#4942, DepTime#4943, ArrTime#4945, UniqueCarrier#4947, FlightNum#4948, ActualElapsedTime#4950, AirTime#4952, ArrDelay#4953, DepDelay#4954, Origin#4955, Dest#4956, Distance#4957, TaxiIn#4958, TaxiOut#4959, Cancelled#4960, Diverted#4962, CarrierDelay#4963, WeatherDelay#4964, NASDelay#4965, SecurityDelay#4966, LateAircraftDelay#4967, ... 7 more fields]\\n                  +- Project [Year#4939, Month#4940, DayofMonth#4941, DayOfWeek#4942, DepTime#4943, ArrTime#4945, UniqueCarrier#4947, FlightNum#4948, ActualElapsedTime#4950, AirTime#4952, ArrDelay#4953, DepDelay#4954, Origin#4955, Dest#4956, Distance#4957, TaxiIn#4958, TaxiOut#4959, Cancelled#4960, Diverted#4962, CarrierDelay#4963, WeatherDelay#4964, NASDelay#4965, SecurityDelay#4966, LateAircraftDelay#4967, ... 7 more fields]\\n                     +- Project [Year#4939, Month#4940, DayofMonth#4941, DayOfWeek#4942, DepTime#4943, ArrTime#4945, UniqueCarrier#4947, FlightNum#4948, ActualElapsedTime#4950, AirTime#4952, ArrDelay#4953, DepDelay#4954, Origin#4955, Dest#4956, Distance#4957, TaxiIn#4958, TaxiOut#4959, Cancelled#4960, Diverted#4962, CarrierDelay#4963, WeatherDelay#4964, NASDelay#4965, SecurityDelay#4966, LateAircraftDelay#4967, ... 7 more fields]\\n                        +- Project [Year#4939, Month#4940, DayofMonth#4941, DayOfWeek#4942, DepTime#4943, ArrTime#4945, UniqueCarrier#4947, FlightNum#4948, ActualElapsedTime#4950, AirTime#4952, ArrDelay#4953, DepDelay#4954, Origin#4955, Dest#4956, Distance#4957, TaxiIn#4958, TaxiOut#4959, Cancelled#4960, Diverted#4962, CarrierDelay#4963, WeatherDelay#4964, NASDelay#4965, SecurityDelay#4966, LateAircraftDelay#4967, ... 7 more fields]\\n                           +- Union\\n                              :- Sample 0.0, 0.02, false, 1\\n                              :  +- Filter (Cancelled#4960 = cast(0 as double))\\n                              :     +- Filter if (isnull(rand(1))) null else UDF(Cancelled#4960, rand(1))\\n                              :        +- Project [Year#4939, Month#4940, DayofMonth#4941, DayOfWeek#4942, DepTime#4943, ArrTime#4945, UniqueCarrier#4947, FlightNum#4948, ActualElapsedTime#4950, AirTime#4952, ArrDelay#4953, DepDelay#4954, Origin#4955, Dest#4956, Distance#4957, TaxiIn#4958, TaxiOut#4959, Cancelled#4960, Diverted#4962, CarrierDelay#4963, WeatherDelay#4964, NASDelay#4965, SecurityDelay#4966, LateAircraftDelay#4967, ... 7 more fields]\\n                              :           +- Project [Year#4939, Month#4940, DayofMonth#4941, DayOfWeek#4942, DepTime#4943, ArrTime#4945, UniqueCarrier#4947, FlightNum#4948, ActualElapsedTime#4950, AirTime#4952, ArrDelay#4953, DepDelay#4954, Origin#4955, Dest#4956, Distance#4957, TaxiIn#4958, TaxiOut#4959, Cancelled#4960, Diverted#4962, CarrierDelay#4963, WeatherDelay#4964, NASDelay#4965, SecurityDelay#4966, LateAircraftDelay#4967, ... 6 more fields]\\n                              :              +- Project [Year#4939, Month#4940, DayofMonth#4941, DayOfWeek#4942, DepTime#4943, ArrTime#4945, UniqueCarrier#4947, FlightNum#4948, ActualElapsedTime#4950, AirTime#4952, ArrDelay#4953, DepDelay#4954, Origin#4955, Dest#4956, Distance#4957, TaxiIn#4958, TaxiOut#4959, Cancelled#4960, Diverted#4962, CarrierDelay#4963, WeatherDelay#4964, NASDelay#4965, SecurityDelay#4966, LateAircraftDelay#4967, ... 3 more fields]\\n                              :                 +- Filter UDF(Dest#4956)\\n                              :                    +- Filter AtLeastNNulls(n, Dest#4956)\\n                              :                       +- Project [Year#4939, Month#4940, DayofMonth#4941, DayOfWeek#4942, DepTime#4943, ArrTime#4945, UniqueCarrier#4947, FlightNum#4948, ActualElapsedTime#4950, AirTime#4952, ArrDelay#4953, DepDelay#4954, Origin#4955, Dest#4956, Distance#4957, TaxiIn#4958, TaxiOut#4959, Cancelled#4960, Diverted#4962, CarrierDelay#4963, WeatherDelay#4964, NASDelay#4965, SecurityDelay#4966, LateAircraftDelay#4967, ... 2 more fields]\\n                              :                          +- Filter UDF(Origin#4955)\\n                              :                             +- Filter AtLeastNNulls(n, Origin#4955)\\n                              :                                +- Project [Year#4939, Month#4940, DayofMonth#4941, DayOfWeek#4942, DepTime#4943, ArrTime#4945, UniqueCarrier#4947, FlightNum#4948, ActualElapsedTime#4950, AirTime#4952, ArrDelay#4953, DepDelay#4954, Origin#4955, Dest#4956, Distance#4957, TaxiIn#4958, TaxiOut#4959, Cancelled#4960, Diverted#4962, CarrierDelay#4963, WeatherDelay#4964, NASDelay#4965, SecurityDelay#4966, LateAircraftDelay#4967, UDF(cast(UniqueCarrier#4947 as string)) AS UniqueCarrierIdx#4763]\\n                              :                                   +- Filter UDF(UniqueCarrier#4947)\\n                              :                                      +- Filter AtLeastNNulls(n, UniqueCarrier#4947)\\n                              :                                         +- Filter AtLeastNNulls(n, TaxiIn#4958)\\n                              :                                            +- Filter (cast(Year#4939 as int) >= 1995)\\n                              :                                               +- Union\\n                              :                                                  :- Filter (cast(Year#4939 as int) < 1995)\\n                              :                                                  :  +- Filter AtLeastNNulls(n, ArrTime#4945,ActualElapsedTime#4950,ActualElapsedTime#4950,Distance#4957)\\n                              :                                                  :     +- Filter (Cancelled#4960 = cast(0.0 as double))\\n                              :                                                  :        +- Project [Year#4939, Month#4940, DayofMonth#4941, DayOfWeek#4942, DepTime#4943, ArrTime#4945, UniqueCarrier#4947, FlightNum#4948, ActualElapsedTime#4950, AirTime#4952, ArrDelay#4953, DepDelay#4954, Origin#4955, Dest#4956, Distance#4957, TaxiIn#4958, TaxiOut#4959, Cancelled#4960, Diverted#4962, CarrierDelay#4963, WeatherDelay#4964, NASDelay#4965, SecurityDelay#4966, LateAircraftDelay#4967]\\n                              :                                                  :           +- Project [Year#4939, Month#4940, DayofMonth#4941, DayOfWeek#4942, DepTime#4943, ArrTime#4945, UniqueCarrier#4947, FlightNum#4948, ActualElapsedTime#4950, AirTime#4952, ArrDelay#4953, DepDelay#4954, Origin#4955, Dest#4956, Distance#4957, TaxiIn#4958, TaxiOut#4959, Cancelled#4960, CancellationCode#4961, Diverted#4962, CarrierDelay#4963, WeatherDelay#4964, NASDelay#4965, SecurityDelay#4966, LateAircraftDelay#4967]\\n                              :                                                  :              +- Project [Year#4939, Month#4940, DayofMonth#4941, DayOfWeek#4942, DepTime#4943, ArrTime#4945, UniqueCarrier#4947, FlightNum#4948, TailNum#4949, ActualElapsedTime#4950, AirTime#4952, ArrDelay#4953, DepDelay#4954, Origin#4955, Dest#4956, Distance#4957, TaxiIn#4958, TaxiOut#4959, Cancelled#4960, CancellationCode#4961, Diverted#4962, CarrierDelay#4963, WeatherDelay#4964, NASDelay#4965, ... 2 more fields]\\n                              :                                                  :                 +- Filter isnull(cast(Dest#4956 as int))\\n                              :                                                  :                    +- Filter isnull(cast(Origin#4955 as int))\\n                              :                                                  :                       +- Relation[Year#4939,Month#4940,DayofMonth#4941,DayOfWeek#4942,DepTime#4943,CRSDepTime#4944,ArrTime#4945,CRSArrTime#4946,UniqueCarrier#4947,FlightNum#4948,TailNum#4949,ActualElapsedTime#4950,CRSElapsedTime#4951,AirTime#4952,ArrDelay#4953,DepDelay#4954,Origin#4955,Dest#4956,Distance#4957,TaxiIn#4958,TaxiOut#4959,Cancelled#4960,CancellationCode#4961,Diverted#4962,... 5 more fields] csv\\n                              :                                                  :- Filter AtLeastNNulls(n, AirTime#4952)\\n                              :                                                  :  +- Filter (cast(Year#4939 as int) >= 1995)\\n                              :                                                  :     +- Filter AtLeastNNulls(n, ArrTime#4945,ActualElapsedTime#4950,ActualElapsedTime#4950,Distance#4957)\\n                              :                                                  :        +- Filter (Cancelled#4960 = cast(0.0 as double))\\n                              :                                                  :           +- Project [Year#4939, Month#4940, DayofMonth#4941, DayOfWeek#4942, DepTime#4943, ArrTime#4945, UniqueCarrier#4947, FlightNum#4948, ActualElapsedTime#4950, AirTime#4952, ArrDelay#4953, DepDelay#4954, Origin#4955, Dest#4956, Distance#4957, TaxiIn#4958, TaxiOut#4959, Cancelled#4960, Diverted#4962, CarrierDelay#4963, WeatherDelay#4964, NASDelay#4965, SecurityDelay#4966, LateAircraftDelay#4967]\\n                              :                                                  :              +- Project [Year#4939, Month#4940, DayofMonth#4941, DayOfWeek#4942, DepTime#4943, ArrTime#4945, UniqueCarrier#4947, FlightNum#4948, ActualElapsedTime#4950, AirTime#4952, ArrDelay#4953, DepDelay#4954, Origin#4955, Dest#4956, Distance#4957, TaxiIn#4958, TaxiOut#4959, Cancelled#4960, CancellationCode#4961, Diverted#4962, CarrierDelay#4963, WeatherDelay#4964, NASDelay#4965, SecurityDelay#4966, LateAircraftDelay#4967]\\n                              :                                                  :                 +- Project [Year#4939, Month#4940, DayofMonth#4941, DayOfWeek#4942, DepTime#4943, ArrTime#4945, UniqueCarrier#4947, FlightNum#4948, TailNum#4949, ActualElapsedTime#4950, AirTime#4952, ArrDelay#4953, DepDelay#4954, Origin#4955, Dest#4956, Distance#4957, TaxiIn#4958, TaxiOut#4959, Cancelled#4960, CancellationCode#4961, Diverted#4962, CarrierDelay#4963, WeatherDelay#4964, NASDelay#4965, ... 2 more fields]\\n                              :                                                  :                    +- Filter isnull(cast(Dest#4956 as int))\\n                              :                                                  :                       +- Filter isnull(cast(Origin#4955 as int))\\n                              :                                                  :                          +- Relation[Year#4939,Month#4940,DayofMonth#4941,DayOfWeek#4942,DepTime#4943,CRSDepTime#4944,ArrTime#4945,CRSArrTime#4946,UniqueCarrier#4947,FlightNum#4948,TailNum#4949,ActualElapsedTime#4950,CRSElapsedTime#4951,AirTime#4952,ArrDelay#4953,DepDelay#4954,Origin#4955,Dest#4956,Distance#4957,TaxiIn#4958,TaxiOut#4959,Cancelled#4960,CancellationCode#4961,Diverted#4962,... 5 more fields] csv\\n                              :                                                  +- Filter AtLeastNNulls(n, Distance#4957)\\n                              :                                                     +- Filter isnull(DepTime#4943)\\n                              :                                                        +- Filter isnull(AirTime#4952)\\n                              :                                                           +- Filter (Cancelled#4960 = cast(1.0 as double))\\n                              :                                                              +- Project [Year#4939, Month#4940, DayofMonth#4941, DayOfWeek#4942, DepTime#4943, ArrTime#4945, UniqueCarrier#4947, FlightNum#4948, ActualElapsedTime#4950, AirTime#4952, ArrDelay#4953, DepDelay#4954, Origin#4955, Dest#4956, Distance#4957, TaxiIn#4958, TaxiOut#4959, Cancelled#4960, Diverted#4962, CarrierDelay#4963, WeatherDelay#4964, NASDelay#4965, SecurityDelay#4966, LateAircraftDelay#4967]\\n                              :                                                                 +- Project [Year#4939, Month#4940, DayofMonth#4941, DayOfWeek#4942, DepTime#4943, ArrTime#4945, UniqueCarrier#4947, FlightNum#4948, ActualElapsedTime#4950, AirTime#4952, ArrDelay#4953, DepDelay#4954, Origin#4955, Dest#4956, Distance#4957, TaxiIn#4958, TaxiOut#4959, Cancelled#4960, CancellationCode#4961, Diverted#4962, CarrierDelay#4963, WeatherDelay#4964, NASDelay#4965, SecurityDelay#4966, LateAircraftDelay#4967]\\n                              :                                                                    +- Project [Year#4939, Month#4940, DayofMonth#4941, DayOfWeek#4942, DepTime#4943, ArrTime#4945, UniqueCarrier#4947, FlightNum#4948, TailNum#4949, ActualElapsedTime#4950, AirTime#4952, ArrDelay#4953, DepDelay#4954, Origin#4955, Dest#4956, Distance#4957, TaxiIn#4958, TaxiOut#4959, Cancelled#4960, CancellationCode#4961, Diverted#4962, CarrierDelay#4963, WeatherDelay#4964, NASDelay#4965, ... 2 more fields]\\n                              :                                                                       +- Filter isnull(cast(Dest#4956 as int))\\n                              :                                                                          +- Filter isnull(cast(Origin#4955 as int))\\n                              :                                                                             +- Relation[Year#4939,Month#4940,DayofMonth#4941,DayOfWeek#4942,DepTime#4943,CRSDepTime#4944,ArrTime#4945,CRSArrTime#4946,UniqueCarrier#4947,FlightNum#4948,TailNum#4949,ActualElapsedTime#4950,CRSElapsedTime#4951,AirTime#4952,ArrDelay#4953,DepDelay#4954,Origin#4955,Dest#4956,Distance#4957,TaxiIn#4958,TaxiOut#4959,Cancelled#4960,CancellationCode#4961,Diverted#4962,... 5 more fields] csv\\n                              +- Filter (Cancelled#4960 = cast(1 as double))\\n                                 +- Filter if (isnull(rand(1))) null else UDF(Cancelled#4960, rand(1))\\n                                    +- Project [Year#4939, Month#4940, DayofMonth#4941, DayOfWeek#4942, DepTime#4943, ArrTime#4945, UniqueCarrier#4947, FlightNum#4948, ActualElapsedTime#4950, AirTime#4952, ArrDelay#4953, DepDelay#4954, Origin#4955, Dest#4956, Distance#4957, TaxiIn#4958, TaxiOut#4959, Cancelled#4960, Diverted#4962, CarrierDelay#4963, WeatherDelay#4964, NASDelay#4965, SecurityDelay#4966, LateAircraftDelay#4967, ... 7 more fields]\\n                                       +- Project [Year#4939, Month#4940, DayofMonth#4941, DayOfWeek#4942, DepTime#4943, ArrTime#4945, UniqueCarrier#4947, FlightNum#4948, ActualElapsedTime#4950, AirTime#4952, ArrDelay#4953, DepDelay#4954, Origin#4955, Dest#4956, Distance#4957, TaxiIn#4958, TaxiOut#4959, Cancelled#4960, Diverted#4962, CarrierDelay#4963, WeatherDelay#4964, NASDelay#4965, SecurityDelay#4966, LateAircraftDelay#4967, ... 6 more fields]\\n                                          +- Project [Year#4939, Month#4940, DayofMonth#4941, DayOfWeek#4942, DepTime#4943, ArrTime#4945, UniqueCarrier#4947, FlightNum#4948, ActualElapsedTime#4950, AirTime#4952, ArrDelay#4953, DepDelay#4954, Origin#4955, Dest#4956, Distance#4957, TaxiIn#4958, TaxiOut#4959, Cancelled#4960, Diverted#4962, CarrierDelay#4963, WeatherDelay#4964, NASDelay#4965, SecurityDelay#4966, LateAircraftDelay#4967, ... 3 more fields]\\n                                             +- Filter UDF(Dest#4956)\\n                                                +- Filter AtLeastNNulls(n, Dest#4956)\\n                                                   +- Project [Year#4939, Month#4940, DayofMonth#4941, DayOfWeek#4942, DepTime#4943, ArrTime#4945, UniqueCarrier#4947, FlightNum#4948, ActualElapsedTime#4950, AirTime#4952, ArrDelay#4953, DepDelay#4954, Origin#4955, Dest#4956, Distance#4957, TaxiIn#4958, TaxiOut#4959, Cancelled#4960, Diverted#4962, CarrierDelay#4963, WeatherDelay#4964, NASDelay#4965, SecurityDelay#4966, LateAircraftDelay#4967, ... 2 more fields]\\n                                                      +- Filter UDF(Origin#4955)\\n                                                         +- Filter AtLeastNNulls(n, Origin#4955)\\n                                                            +- Project [Year#4939, Month#4940, DayofMonth#4941, DayOfWeek#4942, DepTime#4943, ArrTime#4945, UniqueCarrier#4947, FlightNum#4948, ActualElapsedTime#4950, AirTime#4952, ArrDelay#4953, DepDelay#4954, Origin#4955, Dest#4956, Distance#4957, TaxiIn#4958, TaxiOut#4959, Cancelled#4960, Diverted#4962, CarrierDelay#4963, WeatherDelay#4964, NASDelay#4965, SecurityDelay#4966, LateAircraftDelay#4967, UDF(cast(UniqueCarrier#4947 as string)) AS UniqueCarrierIdx#4763]\\n                                                               +- Filter UDF(UniqueCarrier#4947)\\n                                                                  +- Filter AtLeastNNulls(n, UniqueCarrier#4947)\\n                                                                     +- Filter AtLeastNNulls(n, TaxiIn#4958)\\n                                                                        +- Filter (cast(Year#4939 as int) >= 1995)\\n                                                                           +- Union\\n                                                                              :- Filter (cast(Year#4939 as int) < 1995)\\n                                                                              :  +- Filter AtLeastNNulls(n, ArrTime#4945,ActualElapsedTime#4950,ActualElapsedTime#4950,Distance#4957)\\n                                                                              :     +- Filter (Cancelled#4960 = cast(0.0 as double))\\n                                                                              :        +- Project [Year#4939, Month#4940, DayofMonth#4941, DayOfWeek#4942, DepTime#4943, ArrTime#4945, UniqueCarrier#4947, FlightNum#4948, ActualElapsedTime#4950, AirTime#4952, ArrDelay#4953, DepDelay#4954, Origin#4955, Dest#4956, Distance#4957, TaxiIn#4958, TaxiOut#4959, Cancelled#4960, Diverted#4962, CarrierDelay#4963, WeatherDelay#4964, NASDelay#4965, SecurityDelay#4966, LateAircraftDelay#4967]\\n                                                                              :           +- Project [Year#4939, Month#4940, DayofMonth#4941, DayOfWeek#4942, DepTime#4943, ArrTime#4945, UniqueCarrier#4947, FlightNum#4948, ActualElapsedTime#4950, AirTime#4952, ArrDelay#4953, DepDelay#4954, Origin#4955, Dest#4956, Distance#4957, TaxiIn#4958, TaxiOut#4959, Cancelled#4960, CancellationCode#4961, Diverted#4962, CarrierDelay#4963, WeatherDelay#4964, NASDelay#4965, SecurityDelay#4966, LateAircraftDelay#4967]\\n                                                                              :              +- Project [Year#4939, Month#4940, DayofMonth#4941, DayOfWeek#4942, DepTime#4943, ArrTime#4945, UniqueCarrier#4947, FlightNum#4948, TailNum#4949, ActualElapsedTime#4950, AirTime#4952, ArrDelay#4953, DepDelay#4954, Origin#4955, Dest#4956, Distance#4957, TaxiIn#4958, TaxiOut#4959, Cancelled#4960, CancellationCode#4961, Diverted#4962, CarrierDelay#4963, WeatherDelay#4964, NASDelay#4965, ... 2 more fields]\\n                                                                              :                 +- Filter isnull(cast(Dest#4956 as int))\\n                                                                              :                    +- Filter isnull(cast(Origin#4955 as int))\\n                                                                              :                       +- Relation[Year#4939,Month#4940,DayofMonth#4941,DayOfWeek#4942,DepTime#4943,CRSDepTime#4944,ArrTime#4945,CRSArrTime#4946,UniqueCarrier#4947,FlightNum#4948,TailNum#4949,ActualElapsedTime#4950,CRSElapsedTime#4951,AirTime#4952,ArrDelay#4953,DepDelay#4954,Origin#4955,Dest#4956,Distance#4957,TaxiIn#4958,TaxiOut#4959,Cancelled#4960,CancellationCode#4961,Diverted#4962,... 5 more fields] csv\\n                                                                              :- Filter AtLeastNNulls(n, AirTime#4952)\\n                                                                              :  +- Filter (cast(Year#4939 as int) >= 1995)\\n                                                                              :     +- Filter AtLeastNNulls(n, ArrTime#4945,ActualElapsedTime#4950,ActualElapsedTime#4950,Distance#4957)\\n                                                                              :        +- Filter (Cancelled#4960 = cast(0.0 as double))\\n                                                                              :           +- Project [Year#4939, Month#4940, DayofMonth#4941, DayOfWeek#4942, DepTime#4943, ArrTime#4945, UniqueCarrier#4947, FlightNum#4948, ActualElapsedTime#4950, AirTime#4952, ArrDelay#4953, DepDelay#4954, Origin#4955, Dest#4956, Distance#4957, TaxiIn#4958, TaxiOut#4959, Cancelled#4960, Diverted#4962, CarrierDelay#4963, WeatherDelay#4964, NASDelay#4965, SecurityDelay#4966, LateAircraftDelay#4967]\\n                                                                              :              +- Project [Year#4939, Month#4940, DayofMonth#4941, DayOfWeek#4942, DepTime#4943, ArrTime#4945, UniqueCarrier#4947, FlightNum#4948, ActualElapsedTime#4950, AirTime#4952, ArrDelay#4953, DepDelay#4954, Origin#4955, Dest#4956, Distance#4957, TaxiIn#4958, TaxiOut#4959, Cancelled#4960, CancellationCode#4961, Diverted#4962, CarrierDelay#4963, WeatherDelay#4964, NASDelay#4965, SecurityDelay#4966, LateAircraftDelay#4967]\\n                                                                              :                 +- Project [Year#4939, Month#4940, DayofMonth#4941, DayOfWeek#4942, DepTime#4943, ArrTime#4945, UniqueCarrier#4947, FlightNum#4948, TailNum#4949, ActualElapsedTime#4950, AirTime#4952, ArrDelay#4953, DepDelay#4954, Origin#4955, Dest#4956, Distance#4957, TaxiIn#4958, TaxiOut#4959, Cancelled#4960, CancellationCode#4961, Diverted#4962, CarrierDelay#4963, WeatherDelay#4964, NASDelay#4965, ... 2 more fields]\\n                                                                              :                    +- Filter isnull(cast(Dest#4956 as int))\\n                                                                              :                       +- Filter isnull(cast(Origin#4955 as int))\\n                                                                              :                          +- Relation[Year#4939,Month#4940,DayofMonth#4941,DayOfWeek#4942,DepTime#4943,CRSDepTime#4944,ArrTime#4945,CRSArrTime#4946,UniqueCarrier#4947,FlightNum#4948,TailNum#4949,ActualElapsedTime#4950,CRSElapsedTime#4951,AirTime#4952,ArrDelay#4953,DepDelay#4954,Origin#4955,Dest#4956,Distance#4957,TaxiIn#4958,TaxiOut#4959,Cancelled#4960,CancellationCode#4961,Diverted#4962,... 5 more fields] csv\\n                                                                              +- Filter AtLeastNNulls(n, Distance#4957)\\n                                                                                 +- Filter isnull(DepTime#4943)\\n                                                                                    +- Filter isnull(AirTime#4952)\\n                                                                                       +- Filter (Cancelled#4960 = cast(1.0 as double))\\n                                                                                          +- Project [Year#4939, Month#4940, DayofMonth#4941, DayOfWeek#4942, DepTime#4943, ArrTime#4945, UniqueCarrier#4947, FlightNum#4948, ActualElapsedTime#4950, AirTime#4952, ArrDelay#4953, DepDelay#4954, Origin#4955, Dest#4956, Distance#4957, TaxiIn#4958, TaxiOut#4959, Cancelled#4960, Diverted#4962, CarrierDelay#4963, WeatherDelay#4964, NASDelay#4965, SecurityDelay#4966, LateAircraftDelay#4967]\\n                                                                                             +- Project [Year#4939, Month#4940, DayofMonth#4941, DayOfWeek#4942, DepTime#4943, ArrTime#4945, UniqueCarrier#4947, FlightNum#4948, ActualElapsedTime#4950, AirTime#4952, ArrDelay#4953, DepDelay#4954, Origin#4955, Dest#4956, Distance#4957, TaxiIn#4958, TaxiOut#4959, Cancelled#4960, CancellationCode#4961, Diverted#4962, CarrierDelay#4963, WeatherDelay#4964, NASDelay#4965, SecurityDelay#4966, LateAircraftDelay#4967]\\n                                                                                                +- Project [Year#4939, Month#4940, DayofMonth#4941, DayOfWeek#4942, DepTime#4943, ArrTime#4945, UniqueCarrier#4947, FlightNum#4948, TailNum#4949, ActualElapsedTime#4950, AirTime#4952, ArrDelay#4953, DepDelay#4954, Origin#4955, Dest#4956, Distance#4957, TaxiIn#4958, TaxiOut#4959, Cancelled#4960, CancellationCode#4961, Diverted#4962, CarrierDelay#4963, WeatherDelay#4964, NASDelay#4965, ... 2 more fields]\\n                                                                                                   +- Filter isnull(cast(Dest#4956 as int))\\n                                                                                                      +- Filter isnull(cast(Origin#4955 as int))\\n                                                                                                         +- Relation[Year#4939,Month#4940,DayofMonth#4941,DayOfWeek#4942,DepTime#4943,CRSDepTime#4944,ArrTime#4945,CRSArrTime#4946,UniqueCarrier#4947,FlightNum#4948,TailNum#4949,ActualElapsedTime#4950,CRSElapsedTime#4951,AirTime#4952,ArrDelay#4953,DepDelay#4954,Origin#4955,Dest#4956,Distance#4957,TaxiIn#4958,TaxiOut#4959,Cancelled#4960,CancellationCode#4961,Diverted#4962,... 5 more fields] csv\\n\""
     ]
    }
   ],
   "source": [
    "predictions.select(\"Year\", \"Month\", \"DayofMonth\", \"DayOfWeek\", \"UniqueCarrier\", \"dep_hour\", \"arr_hour\", \"DepDelay\", \\\n",
    "                   \"Origin\", \"Dest\", \"Distance\", \"Diverted\", \"ArrDelay\", \"prediction\").show(20)"
   ]
  },
  {
   "cell_type": "code",
   "execution_count": null,
   "metadata": {},
   "outputs": [],
   "source": [
    "from pyspark.ml.evaluation import RegressionEvaluator\n",
    "eval = RegressionEvaluator(labelCol = \"ArrDelay\", predictionCol = \"prediction\", metricName = \"rmse\")\n",
    "rmse = eval.evaluate(predictions)\n",
    "print(\"RMSE: %.3f\" % rmse)\n",
    "mse = eval.evaluate(predictions, {eval.metricName: \"mse\"})\n",
    "print(\"MSE: %.3f\" % mse)\n",
    "mae = eval.evaluate(predictions, {eval.metricName: \"mae\"})\n",
    "print(\"MAE: %.3f\" % mae)\n",
    "r2 = eval.evaluate(predictions, {eval.metricName: \"r2\"})\n",
    "print(\"r2: %.3f\" % r2)"
   ]
  },
  {
   "cell_type": "markdown",
   "metadata": {},
   "source": [
    "## Random Forest"
   ]
  },
  {
   "cell_type": "code",
   "execution_count": null,
   "metadata": {},
   "outputs": [],
   "source": [
    "%%time\n",
    "from pyspark.ml.regression import RandomForestRegressor\n",
    "rfr = RandomForestRegressor(maxDepth = 5, numTrees = 15, impurity = \"gini\", labelCol = \"ArrDelay\", predictionCol = \"prediction\")\n",
    "rfrm = rfr.fit(train_df2004)\n",
    "predictions = rfrm.transform(test_df2004)"
   ]
  },
  {
   "cell_type": "code",
   "execution_count": null,
   "metadata": {},
   "outputs": [],
   "source": [
    "predictions.select(\"Year\", \"Month\", \"DayofMonth\", \"DayOfWeek\", \"UniqueCarrier\", \"dep_hour\", \"arr_hour\", \"DepDelay\", \\\n",
    "                   \"Origin\", \"Dest\", \"Distance\", \"Diverted\", \"ArrDelay\", \"prediction\").show(20)"
   ]
  },
  {
   "cell_type": "code",
   "execution_count": null,
   "metadata": {},
   "outputs": [],
   "source": [
    "rmse = eval.evaluate(predictions)\n",
    "print(\"RMSE: %.3f\" % rmse)\n",
    "mse = eval.evaluate(predictions, {eval.metricName: \"mse\"})\n",
    "print(\"MSE: %.3f\" % mse)\n",
    "mae = eval.evaluate(predictions, {eval.metricName: \"mae\"})\n",
    "print(\"MAE: %.3f\" % mae)\n",
    "r2 = eval.evaluate(predictions, {eval.metricName: \"r2\"})\n",
    "print(\"r2: %.3f\" % r2)"
   ]
  },
  {
   "cell_type": "markdown",
   "metadata": {},
   "source": [
    "# Model Building - Delayed - 2004 (With Delay Reason)"
   ]
  },
  {
   "cell_type": "code",
   "execution_count": null,
   "metadata": {},
   "outputs": [],
   "source": [
    "df2004 = df2004.withColumn(\"isWeather\", when(df2004.WeatherDelay <= 0, 0).otherwise(1))\n",
    "df2004 = df2004.withColumn(\"isSecurity\", when(df2004.SecurityDelay <= 0, 0).otherwise(1))\n",
    "df2004 = df2004.withColumn(\"isNAS\", when(df2004.NASDelay <= 0, 0).otherwise(1))\n",
    "df2004 = df2004.withColumn(\"isLate\", when(df2004.LateAircraftDelay <= 0, 0).otherwise(1))\n",
    "df2004 = df2004.withColumn(\"isCarrier\", when(df2004.CarrierDelay <= 0, 0).otherwise(1))"
   ]
  },
  {
   "cell_type": "code",
   "execution_count": null,
   "metadata": {},
   "outputs": [],
   "source": [
    "encodedData2004 = pipeline.fit(df2004).transform(df2004)\n",
    "encodedData2004.show(5)"
   ]
  },
  {
   "cell_type": "code",
   "execution_count": null,
   "metadata": {},
   "outputs": [],
   "source": [
    "assembler = VectorAssembler(inputCols = ['UniqueCarrierVec', 'OriginVec', 'DestVec', 'Year', 'Month', 'DayofMonth', \\\n",
    "                                         'DayOfWeek', 'dep_hour', 'arr_hour', 'DepDelay', 'Distance', 'Diverted', \\\n",
    "                                         'isWeather', 'isSecurity', 'isNAS', 'isLate', 'isCarrier'], \\\n",
    "                           outputCol = 'features')\n",
    "encodedData2004 = assembler.transform(encodedData2004)"
   ]
  },
  {
   "cell_type": "code",
   "execution_count": null,
   "metadata": {},
   "outputs": [],
   "source": [
    "encodedData2004 = encodedData2004.drop(\"_c0\")\n",
    "train_df2004, test_df2004 = encodedData2004.randomSplit([0.8, 0.2], seed = 1)\n",
    "encodedData2004.show(1)"
   ]
  },
  {
   "cell_type": "code",
   "execution_count": null,
   "metadata": {},
   "outputs": [],
   "source": []
  },
  {
   "cell_type": "markdown",
   "metadata": {},
   "source": [
    "## Linear Regression"
   ]
  },
  {
   "cell_type": "code",
   "execution_count": null,
   "metadata": {},
   "outputs": [],
   "source": [
    "%%time\n",
    "from pyspark.ml.regression import LinearRegression\n",
    "lr = LinearRegression(featuresCol = 'features', labelCol = 'ArrDelay', regParam = 0.3, elasticNetParam = 0.8, maxIter = 10)\n",
    "lrm = lr.fit(train_df2004)\n",
    "predictions = lrm.transform(test_df2004)"
   ]
  },
  {
   "cell_type": "code",
   "execution_count": null,
   "metadata": {},
   "outputs": [],
   "source": [
    "predictions.select(\"Year\", \"Month\", \"DayofMonth\", \"DayOfWeek\", \"UniqueCarrier\", \"dep_hour\", \"arr_hour\", \"DepDelay\", \\\n",
    "                   \"Origin\", \"Dest\", \"Distance\", \"Diverted\", \"isWeather\", \"isSecurity\", \"isNAS\", \"isLate\", \"isCarrier\", \\\n",
    "                   \"ArrDelay\", \"prediction\").show(20)"
   ]
  },
  {
   "cell_type": "code",
   "execution_count": null,
   "metadata": {},
   "outputs": [],
   "source": [
    "from pyspark.ml.evaluation import RegressionEvaluator\n",
    "eval = RegressionEvaluator(labelCol = \"ArrDelay\", predictionCol = \"prediction\", metricName = \"rmse\")\n",
    "rmse = eval.evaluate(predictions)\n",
    "print(\"RMSE: %.3f\" % rmse)\n",
    "mse = eval.evaluate(predictions, {eval.metricName: \"mse\"})\n",
    "print(\"MSE: %.3f\" % mse)\n",
    "mae = eval.evaluate(predictions, {eval.metricName: \"mae\"})\n",
    "print(\"MAE: %.3f\" % mae)\n",
    "r2 = eval.evaluate(predictions, {eval.metricName: \"r2\"})\n",
    "print(\"r2: %.3f\" % r2)"
   ]
  },
  {
   "cell_type": "markdown",
   "metadata": {},
   "source": [
    "## Random Forest"
   ]
  },
  {
   "cell_type": "code",
   "execution_count": null,
   "metadata": {},
   "outputs": [],
   "source": [
    "%%time\n",
    "from pyspark.ml.regression import RandomForestRegressor\n",
    "rfr = RandomForestRegressor(maxDepth = 5, numTrees = 15, impurity = \"gini\", labelCol = \"ArrDelay\", predictionCol = \"prediction\")\n",
    "rfrm = rfr.fit(train_df2004)\n",
    "predictions = rfrm.transform(test_df2004)"
   ]
  },
  {
   "cell_type": "code",
   "execution_count": null,
   "metadata": {},
   "outputs": [],
   "source": [
    "predictions.select(\"Year\", \"Month\", \"DayofMonth\", \"DayOfWeek\", \"UniqueCarrier\", \"dep_hour\", \"arr_hour\", \"DepDelay\", \\\n",
    "                   \"Origin\", \"Dest\", \"Distance\", \"Diverted\", \"isWeather\", \"isSecurity\", \"isNAS\", \"isLate\", \"isCarrier\", \\\n",
    "                   \"ArrDelay\", \"prediction\").show(20)"
   ]
  },
  {
   "cell_type": "code",
   "execution_count": null,
   "metadata": {},
   "outputs": [],
   "source": [
    "rmse = eval.evaluate(predictions)\n",
    "print(\"RMSE: %.3f\" % rmse)\n",
    "mse = eval.evaluate(predictions, {eval.metricName: \"mse\"})\n",
    "print(\"MSE: %.3f\" % mse)\n",
    "mae = eval.evaluate(predictions, {eval.metricName: \"mae\"})\n",
    "print(\"MAE: %.3f\" % mae)\n",
    "r2 = eval.evaluate(predictions, {eval.metricName: \"r2\"})\n",
    "print(\"r2: %.3f\" % r2)"
   ]
  },
  {
   "cell_type": "code",
   "execution_count": null,
   "metadata": {},
   "outputs": [],
   "source": []
  }
 ],
 "metadata": {
  "kernelspec": {
   "display_name": "pySpark",
   "language": "python",
   "name": "pyspark"
  }
 },
 "nbformat": 4,
 "nbformat_minor": 2
}
